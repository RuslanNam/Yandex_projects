{
 "cells": [
  {
   "cell_type": "markdown",
   "id": "fa799658",
   "metadata": {},
   "source": [
    "<font color='blue' size=5><b>Комментарий ревьюера</b></font>\n",
    "\n",
    "<font color='blue'>Привет! Меня зовут Никита Бережнов, и я буду проверять твой проект. Спасибо за проделанную работу! Предлагаю общаться на «ты». Моя основная цель поделиться своим опытом и помочь тебе стать профессионалом в IT сфере.</font>\n",
    "\n",
    "<font color='blue'>Я буду использовать различные цвета, чтобы было удобнее воспринимать мои комментарии:</font>\n",
    "\n",
    "\n",
    "---\n",
    "\n",
    "<div class=\"alert alert-block alert-success\">\n",
    "<b>✔️ Комментарий ревьюера: </b> Все отлично\n",
    "</div>\n",
    "\n",
    "<div class=\"alert alert-block alert-warning\">\n",
    "<b>⚠️ Комментарий ревьюера: </b> Сделано все правильно, однако есть рекомендации, на что стоит обратить внимание\n",
    "</div>\n",
    "\n",
    "<div class=\"alert alert-block alert-danger\">\n",
    "<b>❌ Комментарий ревьюера: </b> Есть недочеты, без их отработки проект не будет принят\n",
    "</div>\n",
    "\n",
    "---\n",
    "\n",
    "<font color='blue'>Пожалуйста, не удаляй мои комментарии в случае возврата работы, так будет проще разобраться, какие были недочеты, а также сразу увидеть исправленное. </font>\n",
    "\n",
    "<font color='blue'>Давай работать над проектом в диалоге: если ты что-то меняешь в проекте или отвечаешь на мои комментарии - пиши об этом. Мне будет легче отследить изменения, если ты выделишь свои комментарии:</font>\n",
    "\n",
    "<div class=\"alert alert-block alert-info\">\n",
    "<b>Комментарий студента:</b> Например, вот так.\n",
    "</div>\n",
    "\n",
    "<font color='blue'><b>Давай смотреть, что получилось!</b></font>"
   ]
  },
  {
   "cell_type": "markdown",
   "id": "4901e110",
   "metadata": {},
   "source": [
    "<div class=\"alert alert-block alert-success\">\n",
    "<b>✔️ Комментарий ревьюера: </b> Отличная работа. Удачно подобраны визуализации. Использованы различные модели машинного обучения и проведено их сравнение. Увидел выводы к каждому этапу работы. Но есть маленькие недочёты. Их нужно исправить. \n",
    "Осталось совсем чуть-чуть. Всегда готов ответить на твои вопросы.\n",
    "</div>"
   ]
  },
  {
   "cell_type": "markdown",
   "id": "4541e377",
   "metadata": {},
   "source": [
    "<div class=\"alert alert-block alert-success\">\n",
    "<b>✔️ Комментарий ревьюера v2: </b> Спасибо за интерес к проекту. Принято. Желаю дальнейших успехов в учёбе и на работе\n",
    "</div>"
   ]
  },
  {
   "cell_type": "markdown",
   "id": "51c9fe97",
   "metadata": {},
   "source": [
    "# Проект: Отток клиентов\n",
    "## Описание проекта\n",
    "Из «Бета-Банка» стали уходить клиенты. Каждый месяц. Немного, но заметно. Банковские маркетологи посчитали: сохранять текущих клиентов дешевле, чем привлекать новых.\n",
    "\n",
    "Нужно спрогнозировать, уйдёт клиент из банка в ближайшее время или нет. Вам предоставлены исторические данные о поведении клиентов и расторжении договоров с банком.\n",
    "\n",
    "Постройте модель с предельно большим значением F1-меры. Чтобы сдать проект успешно, нужно довести метрику до 0.59. Нужно проверить F1-меру на тестовой выборке самостоятельно.\n",
    "\n",
    "Дополнительно измеряйте AUC-ROC, сравнивайте её значение с F1-мерой.\n",
    "\n",
    "## План проекта\n",
    "1. Загрузить и подготовить данные. Пояснить порядок действий.\n",
    "2. Исследовать баланс классов, обучить модель без учёта дисбаланса. Кратко описать выводы.\n",
    "3. Улучшить качество модели, учитывая дисбаланс классов. Обучить разные модели и найти лучшую. Кратко описать выводы.\n",
    "4. Провести финальное тестирование.\n",
    "\n",
    "## Признаки\n",
    "* RowNumber — индекс строки в данных\n",
    "* CustomerId — уникальный идентификатор клиента\n",
    "* Surname — фамилия\n",
    "* CreditScore — кредитный рейтинг\n",
    "* Geography — страна проживания\n",
    "* Gender — пол\n",
    "* Age — возраст\n",
    "* Tenure — сколько лет человек является клиентом банка\n",
    "* Balance — баланс на счёте\n",
    "* NumOfProducts — количество продуктов банка, используемых клиентом\n",
    "* HasCrCard — наличие кредитной карты\n",
    "* IsActiveMember — активность клиента\n",
    "* EstimatedSalary — предполагаемая зарплата\n",
    "\n",
    "## Целевой признак\n",
    "* Exited — факт ухода клиента"
   ]
  },
  {
   "cell_type": "markdown",
   "id": "3300d819",
   "metadata": {},
   "source": [
    "<div class=\"alert alert-block alert-success\">\n",
    "<b>✔️ Комментарий ревьюера:</b> Хорошее введение. Понятна цель работы\n",
    "</div>"
   ]
  },
  {
   "cell_type": "markdown",
   "id": "33091445",
   "metadata": {},
   "source": [
    "## 1. Загрузить и подготовить данные. Пояснить порядок действий."
   ]
  },
  {
   "cell_type": "code",
   "execution_count": 1,
   "id": "13bbb9bd",
   "metadata": {
    "scrolled": true
   },
   "outputs": [
    {
     "data": {
      "text/html": [
       "<div>\n",
       "<style scoped>\n",
       "    .dataframe tbody tr th:only-of-type {\n",
       "        vertical-align: middle;\n",
       "    }\n",
       "\n",
       "    .dataframe tbody tr th {\n",
       "        vertical-align: top;\n",
       "    }\n",
       "\n",
       "    .dataframe thead th {\n",
       "        text-align: right;\n",
       "    }\n",
       "</style>\n",
       "<table border=\"1\" class=\"dataframe\">\n",
       "  <thead>\n",
       "    <tr style=\"text-align: right;\">\n",
       "      <th></th>\n",
       "      <th>RowNumber</th>\n",
       "      <th>CustomerId</th>\n",
       "      <th>Surname</th>\n",
       "      <th>CreditScore</th>\n",
       "      <th>Geography</th>\n",
       "      <th>Gender</th>\n",
       "      <th>Age</th>\n",
       "      <th>Tenure</th>\n",
       "      <th>Balance</th>\n",
       "      <th>NumOfProducts</th>\n",
       "      <th>HasCrCard</th>\n",
       "      <th>IsActiveMember</th>\n",
       "      <th>EstimatedSalary</th>\n",
       "      <th>Exited</th>\n",
       "    </tr>\n",
       "  </thead>\n",
       "  <tbody>\n",
       "    <tr>\n",
       "      <th>0</th>\n",
       "      <td>1</td>\n",
       "      <td>15634602</td>\n",
       "      <td>Hargrave</td>\n",
       "      <td>619</td>\n",
       "      <td>France</td>\n",
       "      <td>Female</td>\n",
       "      <td>42</td>\n",
       "      <td>2.0</td>\n",
       "      <td>0.00</td>\n",
       "      <td>1</td>\n",
       "      <td>1</td>\n",
       "      <td>1</td>\n",
       "      <td>101348.88</td>\n",
       "      <td>1</td>\n",
       "    </tr>\n",
       "    <tr>\n",
       "      <th>1</th>\n",
       "      <td>2</td>\n",
       "      <td>15647311</td>\n",
       "      <td>Hill</td>\n",
       "      <td>608</td>\n",
       "      <td>Spain</td>\n",
       "      <td>Female</td>\n",
       "      <td>41</td>\n",
       "      <td>1.0</td>\n",
       "      <td>83807.86</td>\n",
       "      <td>1</td>\n",
       "      <td>0</td>\n",
       "      <td>1</td>\n",
       "      <td>112542.58</td>\n",
       "      <td>0</td>\n",
       "    </tr>\n",
       "    <tr>\n",
       "      <th>2</th>\n",
       "      <td>3</td>\n",
       "      <td>15619304</td>\n",
       "      <td>Onio</td>\n",
       "      <td>502</td>\n",
       "      <td>France</td>\n",
       "      <td>Female</td>\n",
       "      <td>42</td>\n",
       "      <td>8.0</td>\n",
       "      <td>159660.80</td>\n",
       "      <td>3</td>\n",
       "      <td>1</td>\n",
       "      <td>0</td>\n",
       "      <td>113931.57</td>\n",
       "      <td>1</td>\n",
       "    </tr>\n",
       "    <tr>\n",
       "      <th>3</th>\n",
       "      <td>4</td>\n",
       "      <td>15701354</td>\n",
       "      <td>Boni</td>\n",
       "      <td>699</td>\n",
       "      <td>France</td>\n",
       "      <td>Female</td>\n",
       "      <td>39</td>\n",
       "      <td>1.0</td>\n",
       "      <td>0.00</td>\n",
       "      <td>2</td>\n",
       "      <td>0</td>\n",
       "      <td>0</td>\n",
       "      <td>93826.63</td>\n",
       "      <td>0</td>\n",
       "    </tr>\n",
       "    <tr>\n",
       "      <th>4</th>\n",
       "      <td>5</td>\n",
       "      <td>15737888</td>\n",
       "      <td>Mitchell</td>\n",
       "      <td>850</td>\n",
       "      <td>Spain</td>\n",
       "      <td>Female</td>\n",
       "      <td>43</td>\n",
       "      <td>2.0</td>\n",
       "      <td>125510.82</td>\n",
       "      <td>1</td>\n",
       "      <td>1</td>\n",
       "      <td>1</td>\n",
       "      <td>79084.10</td>\n",
       "      <td>0</td>\n",
       "    </tr>\n",
       "  </tbody>\n",
       "</table>\n",
       "</div>"
      ],
      "text/plain": [
       "   RowNumber  CustomerId   Surname  CreditScore Geography  Gender  Age  \\\n",
       "0          1    15634602  Hargrave          619    France  Female   42   \n",
       "1          2    15647311      Hill          608     Spain  Female   41   \n",
       "2          3    15619304      Onio          502    France  Female   42   \n",
       "3          4    15701354      Boni          699    France  Female   39   \n",
       "4          5    15737888  Mitchell          850     Spain  Female   43   \n",
       "\n",
       "   Tenure    Balance  NumOfProducts  HasCrCard  IsActiveMember  \\\n",
       "0     2.0       0.00              1          1               1   \n",
       "1     1.0   83807.86              1          0               1   \n",
       "2     8.0  159660.80              3          1               0   \n",
       "3     1.0       0.00              2          0               0   \n",
       "4     2.0  125510.82              1          1               1   \n",
       "\n",
       "   EstimatedSalary  Exited  \n",
       "0        101348.88       1  \n",
       "1        112542.58       0  \n",
       "2        113931.57       1  \n",
       "3         93826.63       0  \n",
       "4         79084.10       0  "
      ]
     },
     "execution_count": 1,
     "metadata": {},
     "output_type": "execute_result"
    }
   ],
   "source": [
    "import pandas as pd \n",
    "import numpy as np\n",
    "from sklearn.model_selection import train_test_split\n",
    "from sklearn.ensemble import RandomForestClassifier\n",
    "from sklearn.tree import DecisionTreeClassifier\n",
    "from sklearn.linear_model import LogisticRegression\n",
    "from joblib import dump\n",
    "from sklearn.metrics import accuracy_score\n",
    "from sklearn.metrics import recall_score\n",
    "from sklearn.metrics import precision_score\n",
    "from sklearn.metrics import f1_score\n",
    "from sklearn.metrics import mean_squared_error\n",
    "from sklearn.preprocessing import OrdinalEncoder\n",
    "from sklearn.preprocessing import StandardScaler\n",
    "from sklearn.utils import shuffle\n",
    "from sklearn.metrics import roc_auc_score\n",
    "from sklearn.metrics import roc_curve\n",
    "import matplotlib.pyplot as plt\n",
    "import random\n",
    "\n",
    "try:\n",
    "    data = pd.read_csv('Churn.csv')\n",
    "except:\n",
    "    data = pd.read_csv('/datasets/Churn.csv')\n",
    "    \n",
    "data[:5]"
   ]
  },
  {
   "cell_type": "markdown",
   "id": "78912971",
   "metadata": {},
   "source": [
    "### Предподготовка данных\n",
    "**Можно сразу привести все названия столбцов к нижнему регистру**"
   ]
  },
  {
   "cell_type": "code",
   "execution_count": 2,
   "id": "aeb51414",
   "metadata": {},
   "outputs": [
    {
     "data": {
      "text/html": [
       "<div>\n",
       "<style scoped>\n",
       "    .dataframe tbody tr th:only-of-type {\n",
       "        vertical-align: middle;\n",
       "    }\n",
       "\n",
       "    .dataframe tbody tr th {\n",
       "        vertical-align: top;\n",
       "    }\n",
       "\n",
       "    .dataframe thead th {\n",
       "        text-align: right;\n",
       "    }\n",
       "</style>\n",
       "<table border=\"1\" class=\"dataframe\">\n",
       "  <thead>\n",
       "    <tr style=\"text-align: right;\">\n",
       "      <th></th>\n",
       "      <th>rownumber</th>\n",
       "      <th>customerid</th>\n",
       "      <th>surname</th>\n",
       "      <th>creditscore</th>\n",
       "      <th>geography</th>\n",
       "      <th>gender</th>\n",
       "      <th>age</th>\n",
       "      <th>tenure</th>\n",
       "      <th>balance</th>\n",
       "      <th>numofproducts</th>\n",
       "      <th>hascrcard</th>\n",
       "      <th>isactivemember</th>\n",
       "      <th>estimatedsalary</th>\n",
       "      <th>exited</th>\n",
       "    </tr>\n",
       "  </thead>\n",
       "  <tbody>\n",
       "    <tr>\n",
       "      <th>0</th>\n",
       "      <td>1</td>\n",
       "      <td>15634602</td>\n",
       "      <td>Hargrave</td>\n",
       "      <td>619</td>\n",
       "      <td>France</td>\n",
       "      <td>Female</td>\n",
       "      <td>42</td>\n",
       "      <td>2.0</td>\n",
       "      <td>0.00</td>\n",
       "      <td>1</td>\n",
       "      <td>1</td>\n",
       "      <td>1</td>\n",
       "      <td>101348.88</td>\n",
       "      <td>1</td>\n",
       "    </tr>\n",
       "    <tr>\n",
       "      <th>1</th>\n",
       "      <td>2</td>\n",
       "      <td>15647311</td>\n",
       "      <td>Hill</td>\n",
       "      <td>608</td>\n",
       "      <td>Spain</td>\n",
       "      <td>Female</td>\n",
       "      <td>41</td>\n",
       "      <td>1.0</td>\n",
       "      <td>83807.86</td>\n",
       "      <td>1</td>\n",
       "      <td>0</td>\n",
       "      <td>1</td>\n",
       "      <td>112542.58</td>\n",
       "      <td>0</td>\n",
       "    </tr>\n",
       "    <tr>\n",
       "      <th>2</th>\n",
       "      <td>3</td>\n",
       "      <td>15619304</td>\n",
       "      <td>Onio</td>\n",
       "      <td>502</td>\n",
       "      <td>France</td>\n",
       "      <td>Female</td>\n",
       "      <td>42</td>\n",
       "      <td>8.0</td>\n",
       "      <td>159660.80</td>\n",
       "      <td>3</td>\n",
       "      <td>1</td>\n",
       "      <td>0</td>\n",
       "      <td>113931.57</td>\n",
       "      <td>1</td>\n",
       "    </tr>\n",
       "    <tr>\n",
       "      <th>3</th>\n",
       "      <td>4</td>\n",
       "      <td>15701354</td>\n",
       "      <td>Boni</td>\n",
       "      <td>699</td>\n",
       "      <td>France</td>\n",
       "      <td>Female</td>\n",
       "      <td>39</td>\n",
       "      <td>1.0</td>\n",
       "      <td>0.00</td>\n",
       "      <td>2</td>\n",
       "      <td>0</td>\n",
       "      <td>0</td>\n",
       "      <td>93826.63</td>\n",
       "      <td>0</td>\n",
       "    </tr>\n",
       "    <tr>\n",
       "      <th>4</th>\n",
       "      <td>5</td>\n",
       "      <td>15737888</td>\n",
       "      <td>Mitchell</td>\n",
       "      <td>850</td>\n",
       "      <td>Spain</td>\n",
       "      <td>Female</td>\n",
       "      <td>43</td>\n",
       "      <td>2.0</td>\n",
       "      <td>125510.82</td>\n",
       "      <td>1</td>\n",
       "      <td>1</td>\n",
       "      <td>1</td>\n",
       "      <td>79084.10</td>\n",
       "      <td>0</td>\n",
       "    </tr>\n",
       "  </tbody>\n",
       "</table>\n",
       "</div>"
      ],
      "text/plain": [
       "   rownumber  customerid   surname  creditscore geography  gender  age  \\\n",
       "0          1    15634602  Hargrave          619    France  Female   42   \n",
       "1          2    15647311      Hill          608     Spain  Female   41   \n",
       "2          3    15619304      Onio          502    France  Female   42   \n",
       "3          4    15701354      Boni          699    France  Female   39   \n",
       "4          5    15737888  Mitchell          850     Spain  Female   43   \n",
       "\n",
       "   tenure    balance  numofproducts  hascrcard  isactivemember  \\\n",
       "0     2.0       0.00              1          1               1   \n",
       "1     1.0   83807.86              1          0               1   \n",
       "2     8.0  159660.80              3          1               0   \n",
       "3     1.0       0.00              2          0               0   \n",
       "4     2.0  125510.82              1          1               1   \n",
       "\n",
       "   estimatedsalary  exited  \n",
       "0        101348.88       1  \n",
       "1        112542.58       0  \n",
       "2        113931.57       1  \n",
       "3         93826.63       0  \n",
       "4         79084.10       0  "
      ]
     },
     "execution_count": 2,
     "metadata": {},
     "output_type": "execute_result"
    }
   ],
   "source": [
    "data.columns = [x.lower() for x in data.columns]\n",
    "data[:5]"
   ]
  },
  {
   "cell_type": "code",
   "execution_count": 3,
   "id": "c2b85f51",
   "metadata": {},
   "outputs": [
    {
     "name": "stdout",
     "output_type": "stream",
     "text": [
      "<class 'pandas.core.frame.DataFrame'>\n",
      "RangeIndex: 10000 entries, 0 to 9999\n",
      "Data columns (total 14 columns):\n",
      " #   Column           Non-Null Count  Dtype  \n",
      "---  ------           --------------  -----  \n",
      " 0   rownumber        10000 non-null  int64  \n",
      " 1   customerid       10000 non-null  int64  \n",
      " 2   surname          10000 non-null  object \n",
      " 3   creditscore      10000 non-null  int64  \n",
      " 4   geography        10000 non-null  object \n",
      " 5   gender           10000 non-null  object \n",
      " 6   age              10000 non-null  int64  \n",
      " 7   tenure           9091 non-null   float64\n",
      " 8   balance          10000 non-null  float64\n",
      " 9   numofproducts    10000 non-null  int64  \n",
      " 10  hascrcard        10000 non-null  int64  \n",
      " 11  isactivemember   10000 non-null  int64  \n",
      " 12  estimatedsalary  10000 non-null  float64\n",
      " 13  exited           10000 non-null  int64  \n",
      "dtypes: float64(3), int64(8), object(3)\n",
      "memory usage: 1.1+ MB\n"
     ]
    }
   ],
   "source": [
    "data.info()"
   ]
  },
  {
   "cell_type": "code",
   "execution_count": 4,
   "id": "f5f8ed16",
   "metadata": {},
   "outputs": [
    {
     "data": {
      "text/html": [
       "<div>\n",
       "<style scoped>\n",
       "    .dataframe tbody tr th:only-of-type {\n",
       "        vertical-align: middle;\n",
       "    }\n",
       "\n",
       "    .dataframe tbody tr th {\n",
       "        vertical-align: top;\n",
       "    }\n",
       "\n",
       "    .dataframe thead th {\n",
       "        text-align: right;\n",
       "    }\n",
       "</style>\n",
       "<table border=\"1\" class=\"dataframe\">\n",
       "  <thead>\n",
       "    <tr style=\"text-align: right;\">\n",
       "      <th></th>\n",
       "      <th>rownumber</th>\n",
       "      <th>customerid</th>\n",
       "      <th>creditscore</th>\n",
       "      <th>age</th>\n",
       "      <th>tenure</th>\n",
       "      <th>balance</th>\n",
       "      <th>numofproducts</th>\n",
       "      <th>hascrcard</th>\n",
       "      <th>isactivemember</th>\n",
       "      <th>estimatedsalary</th>\n",
       "      <th>exited</th>\n",
       "    </tr>\n",
       "  </thead>\n",
       "  <tbody>\n",
       "    <tr>\n",
       "      <th>count</th>\n",
       "      <td>10000.00000</td>\n",
       "      <td>1.000000e+04</td>\n",
       "      <td>10000.000000</td>\n",
       "      <td>10000.000000</td>\n",
       "      <td>9091.000000</td>\n",
       "      <td>10000.000000</td>\n",
       "      <td>10000.000000</td>\n",
       "      <td>10000.00000</td>\n",
       "      <td>10000.000000</td>\n",
       "      <td>10000.000000</td>\n",
       "      <td>10000.000000</td>\n",
       "    </tr>\n",
       "    <tr>\n",
       "      <th>mean</th>\n",
       "      <td>5000.50000</td>\n",
       "      <td>1.569094e+07</td>\n",
       "      <td>650.528800</td>\n",
       "      <td>38.921800</td>\n",
       "      <td>4.997690</td>\n",
       "      <td>76485.889288</td>\n",
       "      <td>1.530200</td>\n",
       "      <td>0.70550</td>\n",
       "      <td>0.515100</td>\n",
       "      <td>100090.239881</td>\n",
       "      <td>0.203700</td>\n",
       "    </tr>\n",
       "    <tr>\n",
       "      <th>std</th>\n",
       "      <td>2886.89568</td>\n",
       "      <td>7.193619e+04</td>\n",
       "      <td>96.653299</td>\n",
       "      <td>10.487806</td>\n",
       "      <td>2.894723</td>\n",
       "      <td>62397.405202</td>\n",
       "      <td>0.581654</td>\n",
       "      <td>0.45584</td>\n",
       "      <td>0.499797</td>\n",
       "      <td>57510.492818</td>\n",
       "      <td>0.402769</td>\n",
       "    </tr>\n",
       "    <tr>\n",
       "      <th>min</th>\n",
       "      <td>1.00000</td>\n",
       "      <td>1.556570e+07</td>\n",
       "      <td>350.000000</td>\n",
       "      <td>18.000000</td>\n",
       "      <td>0.000000</td>\n",
       "      <td>0.000000</td>\n",
       "      <td>1.000000</td>\n",
       "      <td>0.00000</td>\n",
       "      <td>0.000000</td>\n",
       "      <td>11.580000</td>\n",
       "      <td>0.000000</td>\n",
       "    </tr>\n",
       "    <tr>\n",
       "      <th>25%</th>\n",
       "      <td>2500.75000</td>\n",
       "      <td>1.562853e+07</td>\n",
       "      <td>584.000000</td>\n",
       "      <td>32.000000</td>\n",
       "      <td>2.000000</td>\n",
       "      <td>0.000000</td>\n",
       "      <td>1.000000</td>\n",
       "      <td>0.00000</td>\n",
       "      <td>0.000000</td>\n",
       "      <td>51002.110000</td>\n",
       "      <td>0.000000</td>\n",
       "    </tr>\n",
       "    <tr>\n",
       "      <th>50%</th>\n",
       "      <td>5000.50000</td>\n",
       "      <td>1.569074e+07</td>\n",
       "      <td>652.000000</td>\n",
       "      <td>37.000000</td>\n",
       "      <td>5.000000</td>\n",
       "      <td>97198.540000</td>\n",
       "      <td>1.000000</td>\n",
       "      <td>1.00000</td>\n",
       "      <td>1.000000</td>\n",
       "      <td>100193.915000</td>\n",
       "      <td>0.000000</td>\n",
       "    </tr>\n",
       "    <tr>\n",
       "      <th>75%</th>\n",
       "      <td>7500.25000</td>\n",
       "      <td>1.575323e+07</td>\n",
       "      <td>718.000000</td>\n",
       "      <td>44.000000</td>\n",
       "      <td>7.000000</td>\n",
       "      <td>127644.240000</td>\n",
       "      <td>2.000000</td>\n",
       "      <td>1.00000</td>\n",
       "      <td>1.000000</td>\n",
       "      <td>149388.247500</td>\n",
       "      <td>0.000000</td>\n",
       "    </tr>\n",
       "    <tr>\n",
       "      <th>max</th>\n",
       "      <td>10000.00000</td>\n",
       "      <td>1.581569e+07</td>\n",
       "      <td>850.000000</td>\n",
       "      <td>92.000000</td>\n",
       "      <td>10.000000</td>\n",
       "      <td>250898.090000</td>\n",
       "      <td>4.000000</td>\n",
       "      <td>1.00000</td>\n",
       "      <td>1.000000</td>\n",
       "      <td>199992.480000</td>\n",
       "      <td>1.000000</td>\n",
       "    </tr>\n",
       "  </tbody>\n",
       "</table>\n",
       "</div>"
      ],
      "text/plain": [
       "         rownumber    customerid   creditscore           age       tenure  \\\n",
       "count  10000.00000  1.000000e+04  10000.000000  10000.000000  9091.000000   \n",
       "mean    5000.50000  1.569094e+07    650.528800     38.921800     4.997690   \n",
       "std     2886.89568  7.193619e+04     96.653299     10.487806     2.894723   \n",
       "min        1.00000  1.556570e+07    350.000000     18.000000     0.000000   \n",
       "25%     2500.75000  1.562853e+07    584.000000     32.000000     2.000000   \n",
       "50%     5000.50000  1.569074e+07    652.000000     37.000000     5.000000   \n",
       "75%     7500.25000  1.575323e+07    718.000000     44.000000     7.000000   \n",
       "max    10000.00000  1.581569e+07    850.000000     92.000000    10.000000   \n",
       "\n",
       "             balance  numofproducts    hascrcard  isactivemember  \\\n",
       "count   10000.000000   10000.000000  10000.00000    10000.000000   \n",
       "mean    76485.889288       1.530200      0.70550        0.515100   \n",
       "std     62397.405202       0.581654      0.45584        0.499797   \n",
       "min         0.000000       1.000000      0.00000        0.000000   \n",
       "25%         0.000000       1.000000      0.00000        0.000000   \n",
       "50%     97198.540000       1.000000      1.00000        1.000000   \n",
       "75%    127644.240000       2.000000      1.00000        1.000000   \n",
       "max    250898.090000       4.000000      1.00000        1.000000   \n",
       "\n",
       "       estimatedsalary        exited  \n",
       "count     10000.000000  10000.000000  \n",
       "mean     100090.239881      0.203700  \n",
       "std       57510.492818      0.402769  \n",
       "min          11.580000      0.000000  \n",
       "25%       51002.110000      0.000000  \n",
       "50%      100193.915000      0.000000  \n",
       "75%      149388.247500      0.000000  \n",
       "max      199992.480000      1.000000  "
      ]
     },
     "execution_count": 4,
     "metadata": {},
     "output_type": "execute_result"
    }
   ],
   "source": [
    "data.describe()"
   ]
  },
  {
   "cell_type": "markdown",
   "id": "92b5c9f1",
   "metadata": {},
   "source": [
    "**Видим, что единственным признаком с NaN-значениями является `tenure`. Пропуски занимают 9%, и удалять такое количество строк не хорошая затея.**\n",
    "\n",
    "**`tenure` принимает значения от 0 до 10 => заполним пропуски рандомными значениями от 0 до 10**"
   ]
  },
  {
   "cell_type": "code",
   "execution_count": 5,
   "id": "4598419b",
   "metadata": {
    "scrolled": false
   },
   "outputs": [
    {
     "data": {
      "text/html": [
       "<div>\n",
       "<style scoped>\n",
       "    .dataframe tbody tr th:only-of-type {\n",
       "        vertical-align: middle;\n",
       "    }\n",
       "\n",
       "    .dataframe tbody tr th {\n",
       "        vertical-align: top;\n",
       "    }\n",
       "\n",
       "    .dataframe thead th {\n",
       "        text-align: right;\n",
       "    }\n",
       "</style>\n",
       "<table border=\"1\" class=\"dataframe\">\n",
       "  <thead>\n",
       "    <tr style=\"text-align: right;\">\n",
       "      <th></th>\n",
       "      <th>rownumber</th>\n",
       "      <th>customerid</th>\n",
       "      <th>surname</th>\n",
       "      <th>creditscore</th>\n",
       "      <th>geography</th>\n",
       "      <th>gender</th>\n",
       "      <th>age</th>\n",
       "      <th>tenure</th>\n",
       "      <th>balance</th>\n",
       "      <th>numofproducts</th>\n",
       "      <th>hascrcard</th>\n",
       "      <th>isactivemember</th>\n",
       "      <th>estimatedsalary</th>\n",
       "      <th>exited</th>\n",
       "    </tr>\n",
       "  </thead>\n",
       "  <tbody>\n",
       "    <tr>\n",
       "      <th>30</th>\n",
       "      <td>31</td>\n",
       "      <td>15589475</td>\n",
       "      <td>Azikiwe</td>\n",
       "      <td>591</td>\n",
       "      <td>Spain</td>\n",
       "      <td>Female</td>\n",
       "      <td>39</td>\n",
       "      <td>NaN</td>\n",
       "      <td>0.00</td>\n",
       "      <td>3</td>\n",
       "      <td>1</td>\n",
       "      <td>0</td>\n",
       "      <td>140469.38</td>\n",
       "      <td>1</td>\n",
       "    </tr>\n",
       "    <tr>\n",
       "      <th>48</th>\n",
       "      <td>49</td>\n",
       "      <td>15766205</td>\n",
       "      <td>Yin</td>\n",
       "      <td>550</td>\n",
       "      <td>Germany</td>\n",
       "      <td>Male</td>\n",
       "      <td>38</td>\n",
       "      <td>NaN</td>\n",
       "      <td>103391.38</td>\n",
       "      <td>1</td>\n",
       "      <td>0</td>\n",
       "      <td>1</td>\n",
       "      <td>90878.13</td>\n",
       "      <td>0</td>\n",
       "    </tr>\n",
       "    <tr>\n",
       "      <th>51</th>\n",
       "      <td>52</td>\n",
       "      <td>15768193</td>\n",
       "      <td>Trevisani</td>\n",
       "      <td>585</td>\n",
       "      <td>Germany</td>\n",
       "      <td>Male</td>\n",
       "      <td>36</td>\n",
       "      <td>NaN</td>\n",
       "      <td>146050.97</td>\n",
       "      <td>2</td>\n",
       "      <td>0</td>\n",
       "      <td>0</td>\n",
       "      <td>86424.57</td>\n",
       "      <td>0</td>\n",
       "    </tr>\n",
       "    <tr>\n",
       "      <th>53</th>\n",
       "      <td>54</td>\n",
       "      <td>15702298</td>\n",
       "      <td>Parkhill</td>\n",
       "      <td>655</td>\n",
       "      <td>Germany</td>\n",
       "      <td>Male</td>\n",
       "      <td>41</td>\n",
       "      <td>NaN</td>\n",
       "      <td>125561.97</td>\n",
       "      <td>1</td>\n",
       "      <td>0</td>\n",
       "      <td>0</td>\n",
       "      <td>164040.94</td>\n",
       "      <td>1</td>\n",
       "    </tr>\n",
       "    <tr>\n",
       "      <th>60</th>\n",
       "      <td>61</td>\n",
       "      <td>15651280</td>\n",
       "      <td>Hunter</td>\n",
       "      <td>742</td>\n",
       "      <td>Germany</td>\n",
       "      <td>Male</td>\n",
       "      <td>35</td>\n",
       "      <td>NaN</td>\n",
       "      <td>136857.00</td>\n",
       "      <td>1</td>\n",
       "      <td>0</td>\n",
       "      <td>0</td>\n",
       "      <td>84509.57</td>\n",
       "      <td>0</td>\n",
       "    </tr>\n",
       "    <tr>\n",
       "      <th>...</th>\n",
       "      <td>...</td>\n",
       "      <td>...</td>\n",
       "      <td>...</td>\n",
       "      <td>...</td>\n",
       "      <td>...</td>\n",
       "      <td>...</td>\n",
       "      <td>...</td>\n",
       "      <td>...</td>\n",
       "      <td>...</td>\n",
       "      <td>...</td>\n",
       "      <td>...</td>\n",
       "      <td>...</td>\n",
       "      <td>...</td>\n",
       "      <td>...</td>\n",
       "    </tr>\n",
       "    <tr>\n",
       "      <th>9944</th>\n",
       "      <td>9945</td>\n",
       "      <td>15703923</td>\n",
       "      <td>Cameron</td>\n",
       "      <td>744</td>\n",
       "      <td>Germany</td>\n",
       "      <td>Male</td>\n",
       "      <td>41</td>\n",
       "      <td>NaN</td>\n",
       "      <td>190409.34</td>\n",
       "      <td>2</td>\n",
       "      <td>1</td>\n",
       "      <td>1</td>\n",
       "      <td>138361.48</td>\n",
       "      <td>0</td>\n",
       "    </tr>\n",
       "    <tr>\n",
       "      <th>9956</th>\n",
       "      <td>9957</td>\n",
       "      <td>15707861</td>\n",
       "      <td>Nucci</td>\n",
       "      <td>520</td>\n",
       "      <td>France</td>\n",
       "      <td>Female</td>\n",
       "      <td>46</td>\n",
       "      <td>NaN</td>\n",
       "      <td>85216.61</td>\n",
       "      <td>1</td>\n",
       "      <td>1</td>\n",
       "      <td>0</td>\n",
       "      <td>117369.52</td>\n",
       "      <td>1</td>\n",
       "    </tr>\n",
       "    <tr>\n",
       "      <th>9964</th>\n",
       "      <td>9965</td>\n",
       "      <td>15642785</td>\n",
       "      <td>Douglas</td>\n",
       "      <td>479</td>\n",
       "      <td>France</td>\n",
       "      <td>Male</td>\n",
       "      <td>34</td>\n",
       "      <td>NaN</td>\n",
       "      <td>117593.48</td>\n",
       "      <td>2</td>\n",
       "      <td>0</td>\n",
       "      <td>0</td>\n",
       "      <td>113308.29</td>\n",
       "      <td>0</td>\n",
       "    </tr>\n",
       "    <tr>\n",
       "      <th>9985</th>\n",
       "      <td>9986</td>\n",
       "      <td>15586914</td>\n",
       "      <td>Nepean</td>\n",
       "      <td>659</td>\n",
       "      <td>France</td>\n",
       "      <td>Male</td>\n",
       "      <td>36</td>\n",
       "      <td>NaN</td>\n",
       "      <td>123841.49</td>\n",
       "      <td>2</td>\n",
       "      <td>1</td>\n",
       "      <td>0</td>\n",
       "      <td>96833.00</td>\n",
       "      <td>0</td>\n",
       "    </tr>\n",
       "    <tr>\n",
       "      <th>9999</th>\n",
       "      <td>10000</td>\n",
       "      <td>15628319</td>\n",
       "      <td>Walker</td>\n",
       "      <td>792</td>\n",
       "      <td>France</td>\n",
       "      <td>Female</td>\n",
       "      <td>28</td>\n",
       "      <td>NaN</td>\n",
       "      <td>130142.79</td>\n",
       "      <td>1</td>\n",
       "      <td>1</td>\n",
       "      <td>0</td>\n",
       "      <td>38190.78</td>\n",
       "      <td>0</td>\n",
       "    </tr>\n",
       "  </tbody>\n",
       "</table>\n",
       "<p>909 rows × 14 columns</p>\n",
       "</div>"
      ],
      "text/plain": [
       "      rownumber  customerid    surname  creditscore geography  gender  age  \\\n",
       "30           31    15589475    Azikiwe          591     Spain  Female   39   \n",
       "48           49    15766205        Yin          550   Germany    Male   38   \n",
       "51           52    15768193  Trevisani          585   Germany    Male   36   \n",
       "53           54    15702298   Parkhill          655   Germany    Male   41   \n",
       "60           61    15651280     Hunter          742   Germany    Male   35   \n",
       "...         ...         ...        ...          ...       ...     ...  ...   \n",
       "9944       9945    15703923    Cameron          744   Germany    Male   41   \n",
       "9956       9957    15707861      Nucci          520    France  Female   46   \n",
       "9964       9965    15642785    Douglas          479    France    Male   34   \n",
       "9985       9986    15586914     Nepean          659    France    Male   36   \n",
       "9999      10000    15628319     Walker          792    France  Female   28   \n",
       "\n",
       "      tenure    balance  numofproducts  hascrcard  isactivemember  \\\n",
       "30       NaN       0.00              3          1               0   \n",
       "48       NaN  103391.38              1          0               1   \n",
       "51       NaN  146050.97              2          0               0   \n",
       "53       NaN  125561.97              1          0               0   \n",
       "60       NaN  136857.00              1          0               0   \n",
       "...      ...        ...            ...        ...             ...   \n",
       "9944     NaN  190409.34              2          1               1   \n",
       "9956     NaN   85216.61              1          1               0   \n",
       "9964     NaN  117593.48              2          0               0   \n",
       "9985     NaN  123841.49              2          1               0   \n",
       "9999     NaN  130142.79              1          1               0   \n",
       "\n",
       "      estimatedsalary  exited  \n",
       "30          140469.38       1  \n",
       "48           90878.13       0  \n",
       "51           86424.57       0  \n",
       "53          164040.94       1  \n",
       "60           84509.57       0  \n",
       "...               ...     ...  \n",
       "9944        138361.48       0  \n",
       "9956        117369.52       1  \n",
       "9964        113308.29       0  \n",
       "9985         96833.00       0  \n",
       "9999         38190.78       0  \n",
       "\n",
       "[909 rows x 14 columns]"
      ]
     },
     "execution_count": 5,
     "metadata": {},
     "output_type": "execute_result"
    }
   ],
   "source": [
    "data[pd.isna(data['tenure'])==True]"
   ]
  },
  {
   "cell_type": "code",
   "execution_count": 6,
   "id": "f6dc644b",
   "metadata": {},
   "outputs": [
    {
     "data": {
      "text/plain": [
       "array([ 2.,  1.,  8.,  7.,  4.,  6.,  3., 10.,  5.,  9.,  0., nan])"
      ]
     },
     "execution_count": 6,
     "metadata": {},
     "output_type": "execute_result"
    }
   ],
   "source": [
    "data['tenure'].unique()"
   ]
  },
  {
   "cell_type": "code",
   "execution_count": 7,
   "id": "95c4c89d",
   "metadata": {},
   "outputs": [
    {
     "name": "stdout",
     "output_type": "stream",
     "text": [
      "<class 'pandas.core.frame.DataFrame'>\n",
      "RangeIndex: 10000 entries, 0 to 9999\n",
      "Data columns (total 14 columns):\n",
      " #   Column           Non-Null Count  Dtype  \n",
      "---  ------           --------------  -----  \n",
      " 0   rownumber        10000 non-null  int64  \n",
      " 1   customerid       10000 non-null  int64  \n",
      " 2   surname          10000 non-null  object \n",
      " 3   creditscore      10000 non-null  int64  \n",
      " 4   geography        10000 non-null  object \n",
      " 5   gender           10000 non-null  object \n",
      " 6   age              10000 non-null  int64  \n",
      " 7   tenure           10000 non-null  float64\n",
      " 8   balance          10000 non-null  float64\n",
      " 9   numofproducts    10000 non-null  int64  \n",
      " 10  hascrcard        10000 non-null  int64  \n",
      " 11  isactivemember   10000 non-null  int64  \n",
      " 12  estimatedsalary  10000 non-null  float64\n",
      " 13  exited           10000 non-null  int64  \n",
      "dtypes: float64(3), int64(8), object(3)\n",
      "memory usage: 1.1+ MB\n"
     ]
    }
   ],
   "source": [
    "data = data.applymap(lambda l: l if not pd.isna(l) else random.randint(0, 11))\n",
    "data.info()"
   ]
  },
  {
   "cell_type": "markdown",
   "id": "ebb70d9b",
   "metadata": {},
   "source": [
    "<div class=\"alert alert-block alert-warning\">\n",
    "<b>⚠️ Комментарий ревьюера: </b>  Хорошо, но я бы заменил рандомом, так как непонятна природа самих пропусков. Кидаю статью про минусы и плюсы заполнения пропусков твоим подходом:\n",
    "\n",
    "https://loginom.ru/blog/missing\n",
    "</div>\n",
    "\n",
    "<div class=\"alert alert-block alert-info\">\n",
    "<b>Комментарий студента:</b> Спасибо!\n",
    "</div>"
   ]
  },
  {
   "cell_type": "markdown",
   "id": "30c54317",
   "metadata": {},
   "source": [
    "<div class=\"alert alert-block alert-success\">\n",
    "<b>✔️ Комментарий ревьюера v2: </b> 👍\n",
    "</div>"
   ]
  },
  {
   "cell_type": "markdown",
   "id": "c687a5c8",
   "metadata": {},
   "source": [
    "**Заметим также по признакам, что есть некоторые из них (`rownumber, customerid, surname`), которые точно не влияют на решение клиента отказаться от услуг банка. Поэтому удалим данные признаки**"
   ]
  },
  {
   "cell_type": "code",
   "execution_count": 8,
   "id": "64a97dfe",
   "metadata": {
    "scrolled": true
   },
   "outputs": [
    {
     "data": {
      "text/html": [
       "<div>\n",
       "<style scoped>\n",
       "    .dataframe tbody tr th:only-of-type {\n",
       "        vertical-align: middle;\n",
       "    }\n",
       "\n",
       "    .dataframe tbody tr th {\n",
       "        vertical-align: top;\n",
       "    }\n",
       "\n",
       "    .dataframe thead th {\n",
       "        text-align: right;\n",
       "    }\n",
       "</style>\n",
       "<table border=\"1\" class=\"dataframe\">\n",
       "  <thead>\n",
       "    <tr style=\"text-align: right;\">\n",
       "      <th></th>\n",
       "      <th>creditscore</th>\n",
       "      <th>geography</th>\n",
       "      <th>gender</th>\n",
       "      <th>age</th>\n",
       "      <th>tenure</th>\n",
       "      <th>balance</th>\n",
       "      <th>numofproducts</th>\n",
       "      <th>hascrcard</th>\n",
       "      <th>isactivemember</th>\n",
       "      <th>estimatedsalary</th>\n",
       "      <th>exited</th>\n",
       "    </tr>\n",
       "  </thead>\n",
       "  <tbody>\n",
       "    <tr>\n",
       "      <th>0</th>\n",
       "      <td>619</td>\n",
       "      <td>France</td>\n",
       "      <td>Female</td>\n",
       "      <td>42</td>\n",
       "      <td>2.0</td>\n",
       "      <td>0.00</td>\n",
       "      <td>1</td>\n",
       "      <td>1</td>\n",
       "      <td>1</td>\n",
       "      <td>101348.88</td>\n",
       "      <td>1</td>\n",
       "    </tr>\n",
       "    <tr>\n",
       "      <th>1</th>\n",
       "      <td>608</td>\n",
       "      <td>Spain</td>\n",
       "      <td>Female</td>\n",
       "      <td>41</td>\n",
       "      <td>1.0</td>\n",
       "      <td>83807.86</td>\n",
       "      <td>1</td>\n",
       "      <td>0</td>\n",
       "      <td>1</td>\n",
       "      <td>112542.58</td>\n",
       "      <td>0</td>\n",
       "    </tr>\n",
       "    <tr>\n",
       "      <th>2</th>\n",
       "      <td>502</td>\n",
       "      <td>France</td>\n",
       "      <td>Female</td>\n",
       "      <td>42</td>\n",
       "      <td>8.0</td>\n",
       "      <td>159660.80</td>\n",
       "      <td>3</td>\n",
       "      <td>1</td>\n",
       "      <td>0</td>\n",
       "      <td>113931.57</td>\n",
       "      <td>1</td>\n",
       "    </tr>\n",
       "    <tr>\n",
       "      <th>3</th>\n",
       "      <td>699</td>\n",
       "      <td>France</td>\n",
       "      <td>Female</td>\n",
       "      <td>39</td>\n",
       "      <td>1.0</td>\n",
       "      <td>0.00</td>\n",
       "      <td>2</td>\n",
       "      <td>0</td>\n",
       "      <td>0</td>\n",
       "      <td>93826.63</td>\n",
       "      <td>0</td>\n",
       "    </tr>\n",
       "    <tr>\n",
       "      <th>4</th>\n",
       "      <td>850</td>\n",
       "      <td>Spain</td>\n",
       "      <td>Female</td>\n",
       "      <td>43</td>\n",
       "      <td>2.0</td>\n",
       "      <td>125510.82</td>\n",
       "      <td>1</td>\n",
       "      <td>1</td>\n",
       "      <td>1</td>\n",
       "      <td>79084.10</td>\n",
       "      <td>0</td>\n",
       "    </tr>\n",
       "    <tr>\n",
       "      <th>...</th>\n",
       "      <td>...</td>\n",
       "      <td>...</td>\n",
       "      <td>...</td>\n",
       "      <td>...</td>\n",
       "      <td>...</td>\n",
       "      <td>...</td>\n",
       "      <td>...</td>\n",
       "      <td>...</td>\n",
       "      <td>...</td>\n",
       "      <td>...</td>\n",
       "      <td>...</td>\n",
       "    </tr>\n",
       "    <tr>\n",
       "      <th>9995</th>\n",
       "      <td>771</td>\n",
       "      <td>France</td>\n",
       "      <td>Male</td>\n",
       "      <td>39</td>\n",
       "      <td>5.0</td>\n",
       "      <td>0.00</td>\n",
       "      <td>2</td>\n",
       "      <td>1</td>\n",
       "      <td>0</td>\n",
       "      <td>96270.64</td>\n",
       "      <td>0</td>\n",
       "    </tr>\n",
       "    <tr>\n",
       "      <th>9996</th>\n",
       "      <td>516</td>\n",
       "      <td>France</td>\n",
       "      <td>Male</td>\n",
       "      <td>35</td>\n",
       "      <td>10.0</td>\n",
       "      <td>57369.61</td>\n",
       "      <td>1</td>\n",
       "      <td>1</td>\n",
       "      <td>1</td>\n",
       "      <td>101699.77</td>\n",
       "      <td>0</td>\n",
       "    </tr>\n",
       "    <tr>\n",
       "      <th>9997</th>\n",
       "      <td>709</td>\n",
       "      <td>France</td>\n",
       "      <td>Female</td>\n",
       "      <td>36</td>\n",
       "      <td>7.0</td>\n",
       "      <td>0.00</td>\n",
       "      <td>1</td>\n",
       "      <td>0</td>\n",
       "      <td>1</td>\n",
       "      <td>42085.58</td>\n",
       "      <td>1</td>\n",
       "    </tr>\n",
       "    <tr>\n",
       "      <th>9998</th>\n",
       "      <td>772</td>\n",
       "      <td>Germany</td>\n",
       "      <td>Male</td>\n",
       "      <td>42</td>\n",
       "      <td>3.0</td>\n",
       "      <td>75075.31</td>\n",
       "      <td>2</td>\n",
       "      <td>1</td>\n",
       "      <td>0</td>\n",
       "      <td>92888.52</td>\n",
       "      <td>1</td>\n",
       "    </tr>\n",
       "    <tr>\n",
       "      <th>9999</th>\n",
       "      <td>792</td>\n",
       "      <td>France</td>\n",
       "      <td>Female</td>\n",
       "      <td>28</td>\n",
       "      <td>2.0</td>\n",
       "      <td>130142.79</td>\n",
       "      <td>1</td>\n",
       "      <td>1</td>\n",
       "      <td>0</td>\n",
       "      <td>38190.78</td>\n",
       "      <td>0</td>\n",
       "    </tr>\n",
       "  </tbody>\n",
       "</table>\n",
       "<p>10000 rows × 11 columns</p>\n",
       "</div>"
      ],
      "text/plain": [
       "      creditscore geography  gender  age  tenure    balance  numofproducts  \\\n",
       "0             619    France  Female   42     2.0       0.00              1   \n",
       "1             608     Spain  Female   41     1.0   83807.86              1   \n",
       "2             502    France  Female   42     8.0  159660.80              3   \n",
       "3             699    France  Female   39     1.0       0.00              2   \n",
       "4             850     Spain  Female   43     2.0  125510.82              1   \n",
       "...           ...       ...     ...  ...     ...        ...            ...   \n",
       "9995          771    France    Male   39     5.0       0.00              2   \n",
       "9996          516    France    Male   35    10.0   57369.61              1   \n",
       "9997          709    France  Female   36     7.0       0.00              1   \n",
       "9998          772   Germany    Male   42     3.0   75075.31              2   \n",
       "9999          792    France  Female   28     2.0  130142.79              1   \n",
       "\n",
       "      hascrcard  isactivemember  estimatedsalary  exited  \n",
       "0             1               1        101348.88       1  \n",
       "1             0               1        112542.58       0  \n",
       "2             1               0        113931.57       1  \n",
       "3             0               0         93826.63       0  \n",
       "4             1               1         79084.10       0  \n",
       "...         ...             ...              ...     ...  \n",
       "9995          1               0         96270.64       0  \n",
       "9996          1               1        101699.77       0  \n",
       "9997          0               1         42085.58       1  \n",
       "9998          1               0         92888.52       1  \n",
       "9999          1               0         38190.78       0  \n",
       "\n",
       "[10000 rows x 11 columns]"
      ]
     },
     "execution_count": 8,
     "metadata": {},
     "output_type": "execute_result"
    }
   ],
   "source": [
    "data = data.drop(['rownumber','customerid','surname'], axis=1)\n",
    "data"
   ]
  },
  {
   "cell_type": "markdown",
   "id": "1d96675b",
   "metadata": {},
   "source": [
    "<div class=\"alert alert-block alert-success\">\n",
    "<b>✔️ Комментарий ревьюера: </b> Да, можно удалить. Проверить корректность удаления можно с помощью корреляционного анализа\n",
    "</div>"
   ]
  },
  {
   "cell_type": "markdown",
   "id": "9d9de6a3",
   "metadata": {},
   "source": [
    "### Подготовка признаков к обучению.\n",
    "Итак, в данном проекте стоит задача классификации.\n",
    "\n",
    "Обратим внимание на то, что у нас 2 категориальных признака: `geography` и `gender`. Последний, очевидно, принимает два значения: Female и Male. Признак `geography` принимает 3 значения: France, Spain, Germany. "
   ]
  },
  {
   "cell_type": "code",
   "execution_count": 9,
   "id": "aa905a7f",
   "metadata": {
    "scrolled": true
   },
   "outputs": [
    {
     "data": {
      "text/plain": [
       "array(['France', 'Spain', 'Germany'], dtype=object)"
      ]
     },
     "execution_count": 9,
     "metadata": {},
     "output_type": "execute_result"
    }
   ],
   "source": [
    "data['geography'].unique()"
   ]
  },
  {
   "cell_type": "markdown",
   "id": "a29771d6",
   "metadata": {},
   "source": [
    "Признаки можно преобразовать, используя дамми-переменные, при этом исключив дамми-ловушку путем удаления по одному из столбцов у каждого преобразованного признака.\n",
    "\n",
    "**Преобразовать категориальные признаки поможет прямое кодирование (OHE).**"
   ]
  },
  {
   "cell_type": "code",
   "execution_count": 10,
   "id": "02723b50",
   "metadata": {
    "scrolled": true
   },
   "outputs": [
    {
     "data": {
      "text/html": [
       "<div>\n",
       "<style scoped>\n",
       "    .dataframe tbody tr th:only-of-type {\n",
       "        vertical-align: middle;\n",
       "    }\n",
       "\n",
       "    .dataframe tbody tr th {\n",
       "        vertical-align: top;\n",
       "    }\n",
       "\n",
       "    .dataframe thead th {\n",
       "        text-align: right;\n",
       "    }\n",
       "</style>\n",
       "<table border=\"1\" class=\"dataframe\">\n",
       "  <thead>\n",
       "    <tr style=\"text-align: right;\">\n",
       "      <th></th>\n",
       "      <th>creditscore</th>\n",
       "      <th>age</th>\n",
       "      <th>tenure</th>\n",
       "      <th>balance</th>\n",
       "      <th>numofproducts</th>\n",
       "      <th>hascrcard</th>\n",
       "      <th>isactivemember</th>\n",
       "      <th>estimatedsalary</th>\n",
       "      <th>exited</th>\n",
       "      <th>geography_Germany</th>\n",
       "      <th>geography_Spain</th>\n",
       "      <th>gender_Male</th>\n",
       "    </tr>\n",
       "  </thead>\n",
       "  <tbody>\n",
       "    <tr>\n",
       "      <th>0</th>\n",
       "      <td>619</td>\n",
       "      <td>42</td>\n",
       "      <td>2.0</td>\n",
       "      <td>0.00</td>\n",
       "      <td>1</td>\n",
       "      <td>1</td>\n",
       "      <td>1</td>\n",
       "      <td>101348.88</td>\n",
       "      <td>1</td>\n",
       "      <td>0</td>\n",
       "      <td>0</td>\n",
       "      <td>0</td>\n",
       "    </tr>\n",
       "    <tr>\n",
       "      <th>1</th>\n",
       "      <td>608</td>\n",
       "      <td>41</td>\n",
       "      <td>1.0</td>\n",
       "      <td>83807.86</td>\n",
       "      <td>1</td>\n",
       "      <td>0</td>\n",
       "      <td>1</td>\n",
       "      <td>112542.58</td>\n",
       "      <td>0</td>\n",
       "      <td>0</td>\n",
       "      <td>1</td>\n",
       "      <td>0</td>\n",
       "    </tr>\n",
       "    <tr>\n",
       "      <th>2</th>\n",
       "      <td>502</td>\n",
       "      <td>42</td>\n",
       "      <td>8.0</td>\n",
       "      <td>159660.80</td>\n",
       "      <td>3</td>\n",
       "      <td>1</td>\n",
       "      <td>0</td>\n",
       "      <td>113931.57</td>\n",
       "      <td>1</td>\n",
       "      <td>0</td>\n",
       "      <td>0</td>\n",
       "      <td>0</td>\n",
       "    </tr>\n",
       "    <tr>\n",
       "      <th>3</th>\n",
       "      <td>699</td>\n",
       "      <td>39</td>\n",
       "      <td>1.0</td>\n",
       "      <td>0.00</td>\n",
       "      <td>2</td>\n",
       "      <td>0</td>\n",
       "      <td>0</td>\n",
       "      <td>93826.63</td>\n",
       "      <td>0</td>\n",
       "      <td>0</td>\n",
       "      <td>0</td>\n",
       "      <td>0</td>\n",
       "    </tr>\n",
       "    <tr>\n",
       "      <th>4</th>\n",
       "      <td>850</td>\n",
       "      <td>43</td>\n",
       "      <td>2.0</td>\n",
       "      <td>125510.82</td>\n",
       "      <td>1</td>\n",
       "      <td>1</td>\n",
       "      <td>1</td>\n",
       "      <td>79084.10</td>\n",
       "      <td>0</td>\n",
       "      <td>0</td>\n",
       "      <td>1</td>\n",
       "      <td>0</td>\n",
       "    </tr>\n",
       "    <tr>\n",
       "      <th>...</th>\n",
       "      <td>...</td>\n",
       "      <td>...</td>\n",
       "      <td>...</td>\n",
       "      <td>...</td>\n",
       "      <td>...</td>\n",
       "      <td>...</td>\n",
       "      <td>...</td>\n",
       "      <td>...</td>\n",
       "      <td>...</td>\n",
       "      <td>...</td>\n",
       "      <td>...</td>\n",
       "      <td>...</td>\n",
       "    </tr>\n",
       "    <tr>\n",
       "      <th>9995</th>\n",
       "      <td>771</td>\n",
       "      <td>39</td>\n",
       "      <td>5.0</td>\n",
       "      <td>0.00</td>\n",
       "      <td>2</td>\n",
       "      <td>1</td>\n",
       "      <td>0</td>\n",
       "      <td>96270.64</td>\n",
       "      <td>0</td>\n",
       "      <td>0</td>\n",
       "      <td>0</td>\n",
       "      <td>1</td>\n",
       "    </tr>\n",
       "    <tr>\n",
       "      <th>9996</th>\n",
       "      <td>516</td>\n",
       "      <td>35</td>\n",
       "      <td>10.0</td>\n",
       "      <td>57369.61</td>\n",
       "      <td>1</td>\n",
       "      <td>1</td>\n",
       "      <td>1</td>\n",
       "      <td>101699.77</td>\n",
       "      <td>0</td>\n",
       "      <td>0</td>\n",
       "      <td>0</td>\n",
       "      <td>1</td>\n",
       "    </tr>\n",
       "    <tr>\n",
       "      <th>9997</th>\n",
       "      <td>709</td>\n",
       "      <td>36</td>\n",
       "      <td>7.0</td>\n",
       "      <td>0.00</td>\n",
       "      <td>1</td>\n",
       "      <td>0</td>\n",
       "      <td>1</td>\n",
       "      <td>42085.58</td>\n",
       "      <td>1</td>\n",
       "      <td>0</td>\n",
       "      <td>0</td>\n",
       "      <td>0</td>\n",
       "    </tr>\n",
       "    <tr>\n",
       "      <th>9998</th>\n",
       "      <td>772</td>\n",
       "      <td>42</td>\n",
       "      <td>3.0</td>\n",
       "      <td>75075.31</td>\n",
       "      <td>2</td>\n",
       "      <td>1</td>\n",
       "      <td>0</td>\n",
       "      <td>92888.52</td>\n",
       "      <td>1</td>\n",
       "      <td>1</td>\n",
       "      <td>0</td>\n",
       "      <td>1</td>\n",
       "    </tr>\n",
       "    <tr>\n",
       "      <th>9999</th>\n",
       "      <td>792</td>\n",
       "      <td>28</td>\n",
       "      <td>2.0</td>\n",
       "      <td>130142.79</td>\n",
       "      <td>1</td>\n",
       "      <td>1</td>\n",
       "      <td>0</td>\n",
       "      <td>38190.78</td>\n",
       "      <td>0</td>\n",
       "      <td>0</td>\n",
       "      <td>0</td>\n",
       "      <td>0</td>\n",
       "    </tr>\n",
       "  </tbody>\n",
       "</table>\n",
       "<p>10000 rows × 12 columns</p>\n",
       "</div>"
      ],
      "text/plain": [
       "      creditscore  age  tenure    balance  numofproducts  hascrcard  \\\n",
       "0             619   42     2.0       0.00              1          1   \n",
       "1             608   41     1.0   83807.86              1          0   \n",
       "2             502   42     8.0  159660.80              3          1   \n",
       "3             699   39     1.0       0.00              2          0   \n",
       "4             850   43     2.0  125510.82              1          1   \n",
       "...           ...  ...     ...        ...            ...        ...   \n",
       "9995          771   39     5.0       0.00              2          1   \n",
       "9996          516   35    10.0   57369.61              1          1   \n",
       "9997          709   36     7.0       0.00              1          0   \n",
       "9998          772   42     3.0   75075.31              2          1   \n",
       "9999          792   28     2.0  130142.79              1          1   \n",
       "\n",
       "      isactivemember  estimatedsalary  exited  geography_Germany  \\\n",
       "0                  1        101348.88       1                  0   \n",
       "1                  1        112542.58       0                  0   \n",
       "2                  0        113931.57       1                  0   \n",
       "3                  0         93826.63       0                  0   \n",
       "4                  1         79084.10       0                  0   \n",
       "...              ...              ...     ...                ...   \n",
       "9995               0         96270.64       0                  0   \n",
       "9996               1        101699.77       0                  0   \n",
       "9997               1         42085.58       1                  0   \n",
       "9998               0         92888.52       1                  1   \n",
       "9999               0         38190.78       0                  0   \n",
       "\n",
       "      geography_Spain  gender_Male  \n",
       "0                   0            0  \n",
       "1                   1            0  \n",
       "2                   0            0  \n",
       "3                   0            0  \n",
       "4                   1            0  \n",
       "...               ...          ...  \n",
       "9995                0            1  \n",
       "9996                0            1  \n",
       "9997                0            0  \n",
       "9998                0            1  \n",
       "9999                0            0  \n",
       "\n",
       "[10000 rows x 12 columns]"
      ]
     },
     "execution_count": 10,
     "metadata": {},
     "output_type": "execute_result"
    }
   ],
   "source": [
    "data_ohe = pd.get_dummies(data, drop_first=True)\n",
    "data_ohe"
   ]
  },
  {
   "cell_type": "markdown",
   "id": "5aacbb08",
   "metadata": {},
   "source": [
    "**На данном этапе можно провести разделение данных на выборки по data_ohe:**"
   ]
  },
  {
   "cell_type": "code",
   "execution_count": 11,
   "id": "bad6d2bf",
   "metadata": {
    "scrolled": true
   },
   "outputs": [],
   "source": [
    "# выделим признаки и  целевой признак\n",
    "target_ohe = data_ohe['exited']\n",
    "features_ohe = data_ohe.drop('exited', axis=1)\n",
    "\n",
    "# разделим данные на обучающую, валидационную и тестируемую выборки:\n",
    "# сначала выделим обучающую, затем valid и test\n",
    "features_train_ohe, features_valid_test_ohe, target_train_ohe, target_valid_test_ohe = train_test_split(features_ohe, target_ohe, test_size=0.4, random_state=100)\n",
    "features_valid_ohe, features_test_ohe, target_valid_ohe, target_test_ohe = train_test_split(features_valid_test_ohe, target_valid_test_ohe, test_size=0.5, random_state=100)"
   ]
  },
  {
   "cell_type": "markdown",
   "id": "3c7a102d",
   "metadata": {},
   "source": [
    "**Заметим также, что у признаков разный масштаб - следует их стандартизировать**"
   ]
  },
  {
   "cell_type": "code",
   "execution_count": 12,
   "id": "ea3c9993",
   "metadata": {},
   "outputs": [
    {
     "data": {
      "text/html": [
       "<div>\n",
       "<style scoped>\n",
       "    .dataframe tbody tr th:only-of-type {\n",
       "        vertical-align: middle;\n",
       "    }\n",
       "\n",
       "    .dataframe tbody tr th {\n",
       "        vertical-align: top;\n",
       "    }\n",
       "\n",
       "    .dataframe thead th {\n",
       "        text-align: right;\n",
       "    }\n",
       "</style>\n",
       "<table border=\"1\" class=\"dataframe\">\n",
       "  <thead>\n",
       "    <tr style=\"text-align: right;\">\n",
       "      <th></th>\n",
       "      <th>creditscore</th>\n",
       "      <th>age</th>\n",
       "      <th>tenure</th>\n",
       "      <th>balance</th>\n",
       "      <th>numofproducts</th>\n",
       "      <th>hascrcard</th>\n",
       "      <th>isactivemember</th>\n",
       "      <th>estimatedsalary</th>\n",
       "      <th>geography_Germany</th>\n",
       "      <th>geography_Spain</th>\n",
       "      <th>gender_Male</th>\n",
       "    </tr>\n",
       "  </thead>\n",
       "  <tbody>\n",
       "    <tr>\n",
       "      <th>1666</th>\n",
       "      <td>-0.406870</td>\n",
       "      <td>0.678427</td>\n",
       "      <td>-0.005286</td>\n",
       "      <td>-1.232120</td>\n",
       "      <td>1</td>\n",
       "      <td>1</td>\n",
       "      <td>0</td>\n",
       "      <td>-0.394545</td>\n",
       "      <td>0</td>\n",
       "      <td>0</td>\n",
       "      <td>0</td>\n",
       "    </tr>\n",
       "    <tr>\n",
       "      <th>8055</th>\n",
       "      <td>0.073541</td>\n",
       "      <td>0.203427</td>\n",
       "      <td>1.006834</td>\n",
       "      <td>0.524779</td>\n",
       "      <td>1</td>\n",
       "      <td>1</td>\n",
       "      <td>1</td>\n",
       "      <td>-0.590870</td>\n",
       "      <td>0</td>\n",
       "      <td>1</td>\n",
       "      <td>1</td>\n",
       "    </tr>\n",
       "    <tr>\n",
       "      <th>2739</th>\n",
       "      <td>-0.260658</td>\n",
       "      <td>0.583427</td>\n",
       "      <td>0.669461</td>\n",
       "      <td>0.976896</td>\n",
       "      <td>1</td>\n",
       "      <td>0</td>\n",
       "      <td>0</td>\n",
       "      <td>0.427107</td>\n",
       "      <td>0</td>\n",
       "      <td>0</td>\n",
       "      <td>1</td>\n",
       "    </tr>\n",
       "    <tr>\n",
       "      <th>570</th>\n",
       "      <td>-0.511307</td>\n",
       "      <td>0.488427</td>\n",
       "      <td>-0.342659</td>\n",
       "      <td>0.381597</td>\n",
       "      <td>2</td>\n",
       "      <td>1</td>\n",
       "      <td>1</td>\n",
       "      <td>-0.657139</td>\n",
       "      <td>0</td>\n",
       "      <td>0</td>\n",
       "      <td>1</td>\n",
       "    </tr>\n",
       "    <tr>\n",
       "      <th>8349</th>\n",
       "      <td>0.553952</td>\n",
       "      <td>0.013427</td>\n",
       "      <td>-1.354778</td>\n",
       "      <td>1.041197</td>\n",
       "      <td>1</td>\n",
       "      <td>1</td>\n",
       "      <td>1</td>\n",
       "      <td>-1.207260</td>\n",
       "      <td>1</td>\n",
       "      <td>0</td>\n",
       "      <td>1</td>\n",
       "    </tr>\n",
       "    <tr>\n",
       "      <th>...</th>\n",
       "      <td>...</td>\n",
       "      <td>...</td>\n",
       "      <td>...</td>\n",
       "      <td>...</td>\n",
       "      <td>...</td>\n",
       "      <td>...</td>\n",
       "      <td>...</td>\n",
       "      <td>...</td>\n",
       "      <td>...</td>\n",
       "      <td>...</td>\n",
       "      <td>...</td>\n",
       "    </tr>\n",
       "    <tr>\n",
       "      <th>595</th>\n",
       "      <td>-0.406870</td>\n",
       "      <td>0.203427</td>\n",
       "      <td>-1.017405</td>\n",
       "      <td>0.601938</td>\n",
       "      <td>1</td>\n",
       "      <td>1</td>\n",
       "      <td>0</td>\n",
       "      <td>1.117860</td>\n",
       "      <td>1</td>\n",
       "      <td>0</td>\n",
       "      <td>0</td>\n",
       "    </tr>\n",
       "    <tr>\n",
       "      <th>6529</th>\n",
       "      <td>1.942966</td>\n",
       "      <td>-0.176573</td>\n",
       "      <td>0.332088</td>\n",
       "      <td>-1.232120</td>\n",
       "      <td>2</td>\n",
       "      <td>1</td>\n",
       "      <td>0</td>\n",
       "      <td>0.194545</td>\n",
       "      <td>0</td>\n",
       "      <td>1</td>\n",
       "      <td>0</td>\n",
       "    </tr>\n",
       "    <tr>\n",
       "      <th>5227</th>\n",
       "      <td>0.533065</td>\n",
       "      <td>-1.506573</td>\n",
       "      <td>-0.680032</td>\n",
       "      <td>-1.232120</td>\n",
       "      <td>2</td>\n",
       "      <td>1</td>\n",
       "      <td>0</td>\n",
       "      <td>-1.072389</td>\n",
       "      <td>0</td>\n",
       "      <td>0</td>\n",
       "      <td>1</td>\n",
       "    </tr>\n",
       "    <tr>\n",
       "      <th>6356</th>\n",
       "      <td>-0.030896</td>\n",
       "      <td>0.393427</td>\n",
       "      <td>1.344207</td>\n",
       "      <td>-1.232120</td>\n",
       "      <td>2</td>\n",
       "      <td>1</td>\n",
       "      <td>1</td>\n",
       "      <td>-0.380342</td>\n",
       "      <td>0</td>\n",
       "      <td>0</td>\n",
       "      <td>1</td>\n",
       "    </tr>\n",
       "    <tr>\n",
       "      <th>8741</th>\n",
       "      <td>-0.291989</td>\n",
       "      <td>-1.506573</td>\n",
       "      <td>1.006834</td>\n",
       "      <td>-1.232120</td>\n",
       "      <td>2</td>\n",
       "      <td>1</td>\n",
       "      <td>1</td>\n",
       "      <td>0.545840</td>\n",
       "      <td>0</td>\n",
       "      <td>1</td>\n",
       "      <td>0</td>\n",
       "    </tr>\n",
       "  </tbody>\n",
       "</table>\n",
       "<p>2000 rows × 11 columns</p>\n",
       "</div>"
      ],
      "text/plain": [
       "      creditscore       age    tenure   balance  numofproducts  hascrcard  \\\n",
       "1666    -0.406870  0.678427 -0.005286 -1.232120              1          1   \n",
       "8055     0.073541  0.203427  1.006834  0.524779              1          1   \n",
       "2739    -0.260658  0.583427  0.669461  0.976896              1          0   \n",
       "570     -0.511307  0.488427 -0.342659  0.381597              2          1   \n",
       "8349     0.553952  0.013427 -1.354778  1.041197              1          1   \n",
       "...           ...       ...       ...       ...            ...        ...   \n",
       "595     -0.406870  0.203427 -1.017405  0.601938              1          1   \n",
       "6529     1.942966 -0.176573  0.332088 -1.232120              2          1   \n",
       "5227     0.533065 -1.506573 -0.680032 -1.232120              2          1   \n",
       "6356    -0.030896  0.393427  1.344207 -1.232120              2          1   \n",
       "8741    -0.291989 -1.506573  1.006834 -1.232120              2          1   \n",
       "\n",
       "      isactivemember  estimatedsalary  geography_Germany  geography_Spain  \\\n",
       "1666               0        -0.394545                  0                0   \n",
       "8055               1        -0.590870                  0                1   \n",
       "2739               0         0.427107                  0                0   \n",
       "570                1        -0.657139                  0                0   \n",
       "8349               1        -1.207260                  1                0   \n",
       "...              ...              ...                ...              ...   \n",
       "595                0         1.117860                  1                0   \n",
       "6529               0         0.194545                  0                1   \n",
       "5227               0        -1.072389                  0                0   \n",
       "6356               1        -0.380342                  0                0   \n",
       "8741               1         0.545840                  0                1   \n",
       "\n",
       "      gender_Male  \n",
       "1666            0  \n",
       "8055            1  \n",
       "2739            1  \n",
       "570             1  \n",
       "8349            1  \n",
       "...           ...  \n",
       "595             0  \n",
       "6529            0  \n",
       "5227            1  \n",
       "6356            1  \n",
       "8741            0  \n",
       "\n",
       "[2000 rows x 11 columns]"
      ]
     },
     "execution_count": 12,
     "metadata": {},
     "output_type": "execute_result"
    }
   ],
   "source": [
    "pd.options.mode.chained_assignment = None\n",
    "\n",
    "numeric = ['creditscore','age','tenure','balance','estimatedsalary']\n",
    "\n",
    "scaler = StandardScaler()\n",
    "scaler.fit(features_train_ohe[numeric])\n",
    "\n",
    "features_train_ohe[numeric] = scaler.transform(features_train_ohe[numeric])\n",
    "features_valid_ohe[numeric] = scaler.transform(features_valid_ohe[numeric])\n",
    "features_test_ohe[numeric] = scaler.transform(features_test_ohe[numeric])\n",
    "\n",
    "features_test_ohe"
   ]
  },
  {
   "cell_type": "markdown",
   "id": "fa60f39e",
   "metadata": {},
   "source": [
    "<div class=\"alert alert-block alert-success\">\n",
    "<b>✔️ Комментарий ревьюера️:</b> Да, так. Правильно, что fit только на трейне. pd.options.mode.chained_assignment = None предлагаю вынести в самый верх, чтобы убрать warning\n",
    "</div>"
   ]
  },
  {
   "cell_type": "markdown",
   "id": "d21b4ecd",
   "metadata": {},
   "source": [
    "**Теперь исходные данные готовы к первому обучению**"
   ]
  },
  {
   "cell_type": "markdown",
   "id": "1570a359",
   "metadata": {},
   "source": [
    "## 2. Исследовать баланс классов, обучить модель без учёта дисбаланса. Кратко описать выводы."
   ]
  },
  {
   "cell_type": "markdown",
   "id": "b691277b",
   "metadata": {},
   "source": [
    "**Проверим целевой признак на баланс:**"
   ]
  },
  {
   "cell_type": "code",
   "execution_count": 13,
   "id": "af7b7c5d",
   "metadata": {},
   "outputs": [
    {
     "data": {
      "image/png": "[encoded data removed]",
      "text/plain": [
       "<Figure size 432x288 with 1 Axes>"
      ]
     },
     "metadata": {
      "needs_background": "light"
     },
     "output_type": "display_data"
    }
   ],
   "source": [
    "data['exited'].value_counts(normalize=True).plot(kind='bar', color='green');"
   ]
  },
  {
   "cell_type": "markdown",
   "id": "a9fc1a04",
   "metadata": {},
   "source": [
    "<div class=\"alert alert-block alert-warning\">\n",
    "<b>⚠️ Комментарий ревьюера: </b>\n",
    "Для того, чтобы не показывать вспомогательные выводы python типа AxesSubplot:, можно в конце строки добавить точку с запятой или plt.show()\n",
    "</div>\n",
    "\n",
    "<div class=\"alert alert-block alert-info\">\n",
    "<b>Комментарий студента:</b> Круто, спасибо!\n",
    "</div>"
   ]
  },
  {
   "cell_type": "markdown",
   "id": "8ed34dc9",
   "metadata": {},
   "source": [
    "**80% принимают значение 0 и 20% принимают значение 1. Данные несбалансированные**\n",
    "\n",
    "**Тем не менее попробуем обучить модель без учета дисбаланса классов**"
   ]
  },
  {
   "cell_type": "markdown",
   "id": "4ad228b5",
   "metadata": {},
   "source": [
    "### LogisticRegression\n"
   ]
  },
  {
   "cell_type": "code",
   "execution_count": 14,
   "id": "dc55413e",
   "metadata": {
    "scrolled": true
   },
   "outputs": [
    {
     "name": "stdout",
     "output_type": "stream",
     "text": [
      "accuracy_score 0.818\n",
      "precision_score 0.6106870229007634\n",
      "recall_score 0.2035623409669211\n",
      "f1_score 0.3053435114503817\n",
      "--------------------\n",
      "const accuracy_score 0.8035\n"
     ]
    }
   ],
   "source": [
    "lr_model = LogisticRegression(random_state=100, solver='liblinear')\n",
    "lr_model.fit(features_train_ohe,target_train_ohe)\n",
    "lr_predictions = lr_model.predict(features_valid_ohe)\n",
    "print('accuracy_score', accuracy_score(target_valid_ohe, lr_predictions))\n",
    "print('precision_score',precision_score(target_valid_ohe, lr_predictions))\n",
    "print('recall_score', recall_score(target_valid_ohe, lr_predictions))\n",
    "print('f1_score', f1_score(target_valid_ohe, lr_predictions))\n",
    "\n",
    "# сравним метрику accuracy с константной моделью:\n",
    "pred_constant = pd.Series([0]*len(target_valid_ohe))\n",
    "print('--------------------')\n",
    "print('const accuracy_score', accuracy_score(target_valid_ohe, pred_constant))"
   ]
  },
  {
   "cell_type": "markdown",
   "id": "cdca7b52",
   "metadata": {},
   "source": [
    "### DecisionTreeClassifier"
   ]
  },
  {
   "cell_type": "code",
   "execution_count": 15,
   "id": "7b268fb8",
   "metadata": {
    "scrolled": true
   },
   "outputs": [
    {
     "name": "stdout",
     "output_type": "stream",
     "text": [
      "max_depth = 2 : ==> accuracy = 0.8465 ; precision = 0.6706349206349206 ; recall = 0.4300254452926209 ; f1 = 0.5240310077519379\n",
      "max_depth = 3 : ==> accuracy = 0.8515 ; precision = 0.6804511278195489 ; recall = 0.46055979643765904 ; f1 = 0.5493171471927162\n",
      "max_depth = 4 : ==> accuracy = 0.863 ; precision = 0.8051282051282052 ; recall = 0.3994910941475827 ; f1 = 0.5340136054421769\n",
      "max_depth = 5 : ==> accuracy = 0.8655 ; precision = 0.7792792792792793 ; recall = 0.4402035623409669 ; f1 = 0.5626016260162602\n",
      "max_depth = 6 : ==> accuracy = 0.8625 ; precision = 0.8072916666666666 ; recall = 0.3944020356234097 ; f1 = 0.5299145299145299\n",
      "max_depth = 7 : ==> accuracy = 0.8625 ; precision = 0.7234848484848485 ; recall = 0.4860050890585242 ; f1 = 0.5814307458143074\n",
      "max_depth = 8 : ==> accuracy = 0.8565 ; precision = 0.7137096774193549 ; recall = 0.45038167938931295 ; f1 = 0.5522620904836193\n",
      "max_depth = 9 : ==> accuracy = 0.852 ; precision = 0.6872586872586872 ; recall = 0.4529262086513995 ; f1 = 0.5460122699386503\n",
      "-------------------------------------------------\n",
      "F1 наилучшей модели на валидационной выборке: 0.5814307458143074\n",
      "Max_depth:  7\n"
     ]
    }
   ],
   "source": [
    "# тренируем на обучающей выборке\n",
    "# предсказываем на валидационной и с помощью цикла выявим max_depth \n",
    "\n",
    "dt_best_model = None\n",
    "dt_best_f1 = 0\n",
    "dt_best_max_depth = 0\n",
    "\n",
    "for depth in range(2, 10):\n",
    "    dt_model = DecisionTreeClassifier(max_depth=depth,random_state=100)\n",
    "    dt_model.fit(features_train_ohe,target_train_ohe)\n",
    "    dt_predictions = dt_model.predict(features_valid_ohe)\n",
    "    dt_accuracy = accuracy_score(target_valid_ohe, dt_predictions)\n",
    "    dt_precision = precision_score(target_valid_ohe, dt_predictions)\n",
    "    dt_recall = recall_score(target_valid_ohe, dt_predictions)\n",
    "    dt_f1 = f1_score(target_valid_ohe, dt_predictions)\n",
    "    print(\"max_depth =\", depth, \": \", end='==> ')\n",
    "    print('accuracy =',dt_accuracy, '; precision =', dt_precision, '; recall =', dt_recall, '; f1 =', dt_f1)\n",
    "    if dt_f1 > dt_best_f1:\n",
    "        dt_best_model = dt_model\n",
    "        dt_best_f1 = dt_f1\n",
    "        dt_best_max_depth = depth\n",
    "        \n",
    "print('-------------------------------------------------')\n",
    "print(\"F1 наилучшей модели на валидационной выборке:\", dt_best_f1)\n",
    "print('Max_depth: ', dt_best_max_depth)"
   ]
  },
  {
   "cell_type": "markdown",
   "id": "730eff5a",
   "metadata": {},
   "source": [
    "<div class=\"alert alert-block alert-success\">\n",
    "<b>✔️ Комментарий ревьюера:</b> Отлично. Перебор параметров лучше осуществлять через GridSearchCV в библиотеке sklearn.\n",
    "\n",
    "https://vc.ru/ml/147132-kak-avtomaticheski-podobrat-parametry-dlya-modeli-mashinnogo-obucheniya-ispolzuem-gridsearchcv\n",
    "</div>"
   ]
  },
  {
   "cell_type": "markdown",
   "id": "9710f395",
   "metadata": {},
   "source": [
    "### RandomForestClassifier\n"
   ]
  },
  {
   "cell_type": "code",
   "execution_count": 16,
   "id": "78d32061",
   "metadata": {
    "scrolled": true
   },
   "outputs": [
    {
     "name": "stdout",
     "output_type": "stream",
     "text": [
      "n_estimators = 100 ==> accuracy = 0.822; precision = 0.950; recall = 0.097; f1 = 0.176\n",
      "n_estimators = 100 ==> accuracy = 0.827; precision = 0.859; recall = 0.140; f1 = 0.241\n",
      "n_estimators = 100 ==> accuracy = 0.845; precision = 0.842; recall = 0.257; f1 = 0.394\n",
      "n_estimators = 100 ==> accuracy = 0.861; precision = 0.824; recall = 0.369; f1 = 0.510\n",
      "n_estimators = 100 ==> accuracy = 0.864; precision = 0.834; recall = 0.384; f1 = 0.526\n",
      "n_estimators = 100 ==> accuracy = 0.868; precision = 0.818; recall = 0.422; f1 = 0.557\n",
      "n_estimators = 200 ==> accuracy = 0.819; precision = 0.970; recall = 0.081; f1 = 0.150\n",
      "n_estimators = 200 ==> accuracy = 0.828; precision = 0.900; recall = 0.137; f1 = 0.238\n",
      "n_estimators = 200 ==> accuracy = 0.844; precision = 0.840; recall = 0.254; f1 = 0.391\n",
      "n_estimators = 200 ==> accuracy = 0.859; precision = 0.836; recall = 0.351; f1 = 0.495\n",
      "n_estimators = 200 ==> accuracy = 0.865; precision = 0.840; recall = 0.387; f1 = 0.530\n",
      "n_estimators = 200 ==> accuracy = 0.867; precision = 0.812; recall = 0.417; f1 = 0.551\n",
      "n_estimators = 300 ==> accuracy = 0.820; precision = 0.971; recall = 0.084; f1 = 0.155\n",
      "n_estimators = 300 ==> accuracy = 0.827; precision = 0.911; recall = 0.130; f1 = 0.227\n",
      "n_estimators = 300 ==> accuracy = 0.842; precision = 0.847; recall = 0.239; f1 = 0.373\n",
      "n_estimators = 300 ==> accuracy = 0.858; precision = 0.842; recall = 0.338; f1 = 0.483\n",
      "n_estimators = 300 ==> accuracy = 0.863; precision = 0.836; recall = 0.377; f1 = 0.519\n",
      "n_estimators = 300 ==> accuracy = 0.866; precision = 0.817; recall = 0.410; f1 = 0.546\n",
      "n_estimators = 400 ==> accuracy = 0.820; precision = 0.971; recall = 0.087; f1 = 0.159\n",
      "n_estimators = 400 ==> accuracy = 0.826; precision = 0.895; recall = 0.130; f1 = 0.227\n",
      "n_estimators = 400 ==> accuracy = 0.843; precision = 0.855; recall = 0.239; f1 = 0.374\n",
      "n_estimators = 400 ==> accuracy = 0.857; precision = 0.844; recall = 0.331; f1 = 0.475\n",
      "n_estimators = 400 ==> accuracy = 0.866; precision = 0.861; recall = 0.379; f1 = 0.527\n",
      "n_estimators = 400 ==> accuracy = 0.866; precision = 0.824; recall = 0.405; f1 = 0.543\n",
      "n_estimators = 500 ==> accuracy = 0.820; precision = 0.971; recall = 0.087; f1 = 0.159\n",
      "n_estimators = 500 ==> accuracy = 0.826; precision = 0.881; recall = 0.132; f1 = 0.230\n",
      "n_estimators = 500 ==> accuracy = 0.842; precision = 0.841; recall = 0.242; f1 = 0.375\n",
      "n_estimators = 500 ==> accuracy = 0.857; precision = 0.836; recall = 0.338; f1 = 0.482\n",
      "n_estimators = 500 ==> accuracy = 0.866; precision = 0.856; recall = 0.379; f1 = 0.526\n",
      "n_estimators = 500 ==> accuracy = 0.866; precision = 0.827; recall = 0.402; f1 = 0.541\n",
      "n_estimators = 600 ==> accuracy = 0.819; precision = 1.000; recall = 0.079; f1 = 0.146\n",
      "n_estimators = 600 ==> accuracy = 0.826; precision = 0.895; recall = 0.130; f1 = 0.227\n",
      "n_estimators = 600 ==> accuracy = 0.843; precision = 0.842; recall = 0.244; f1 = 0.379\n",
      "n_estimators = 600 ==> accuracy = 0.858; precision = 0.843; recall = 0.341; f1 = 0.486\n",
      "n_estimators = 600 ==> accuracy = 0.865; precision = 0.855; recall = 0.377; f1 = 0.523\n",
      "n_estimators = 600 ==> accuracy = 0.866; precision = 0.823; recall = 0.402; f1 = 0.540\n",
      "n_estimators = 700 ==> accuracy = 0.819; precision = 0.970; recall = 0.081; f1 = 0.150\n",
      "n_estimators = 700 ==> accuracy = 0.826; precision = 0.895; recall = 0.130; f1 = 0.227\n",
      "n_estimators = 700 ==> accuracy = 0.843; precision = 0.848; recall = 0.242; f1 = 0.376\n",
      "n_estimators = 700 ==> accuracy = 0.859; precision = 0.844; recall = 0.344; f1 = 0.488\n",
      "n_estimators = 700 ==> accuracy = 0.865; precision = 0.855; recall = 0.374; f1 = 0.520\n",
      "n_estimators = 700 ==> accuracy = 0.866; precision = 0.821; recall = 0.407; f1 = 0.544\n",
      "-------------------------------------------------\n",
      "F1 наилучшей модели на валидационной выборке: 0.5570469798657718\n",
      "Количество деревьев =  100\n",
      "Глубина деревьев:  7\n"
     ]
    }
   ],
   "source": [
    "# тренируем на обучающей выборке\n",
    "# считаем качество модели на валидационной выборке \n",
    "# и с помощью цикла выявим оптимальное количество деревьев и глубину дерева\n",
    "\n",
    "rf_best_model = None\n",
    "rf_best_f1 = 0\n",
    "rf_best_est = 0\n",
    "rf_max_depth = 0\n",
    "\n",
    "for est in range(100, 800, 100):\n",
    "    for depth in range(2,8):\n",
    "        rf_model = RandomForestClassifier(random_state=100, n_estimators=est, max_depth=depth)\n",
    "        rf_model.fit(features_train_ohe,target_train_ohe) \n",
    "        rf_predictions = rf_model.predict(features_valid_ohe)\n",
    "        rf_accuracy = accuracy_score(target_valid_ohe, rf_predictions)\n",
    "        rf_precision = precision_score(target_valid_ohe, rf_predictions)\n",
    "        rf_recall = recall_score(target_valid_ohe, rf_predictions)\n",
    "        rf_f1 = f1_score(target_valid_ohe, rf_predictions)\n",
    "        print('n_estimators = {:.0f} ==> accuracy = {:.3f}; precision = {:.3f}; recall = {:.3f}; f1 = {:.3f}'.format(est,rf_accuracy,rf_precision,rf_recall,rf_f1))\n",
    "        if rf_f1 > rf_best_f1:\n",
    "            rf_best_model = rf_model \n",
    "            rf_best_f1 = rf_f1\n",
    "            rf_best_est = est\n",
    "            rf_max_depth = depth\n",
    "print('-------------------------------------------------')\n",
    "print(\"F1 наилучшей модели на валидационной выборке:\", rf_best_f1)\n",
    "print('Количество деревьев = ', rf_best_est)\n",
    "print('Глубина деревьев: ', rf_max_depth)"
   ]
  },
  {
   "cell_type": "markdown",
   "id": "128306d6",
   "metadata": {},
   "source": [
    "**Вывод:** Лучшие F1 у RandomForestClassifier и DecisionTreeClassifier близки, в то время как у LogisticRegression F1 очень низкий. При этом требуемого значения метрики F1 = 0.59 достичь не удалось. Следовательно модели следует улучшить."
   ]
  },
  {
   "cell_type": "markdown",
   "id": "dffb9846",
   "metadata": {},
   "source": [
    "<div class=\"alert alert-block alert-success\">\n",
    "<b>✔️ Комментарий ревьюера️:</b> Правильно, что делаешь вывод\n",
    "</div>"
   ]
  },
  {
   "cell_type": "markdown",
   "id": "bebb9664",
   "metadata": {},
   "source": [
    "## 3. Улучшить качество модели, учитывая дисбаланс классов. Обучить разные модели и найти лучшую. Кратко описать выводы."
   ]
  },
  {
   "cell_type": "markdown",
   "id": "4b65c4cd",
   "metadata": {},
   "source": [
    "### LogisticRegression"
   ]
  },
  {
   "cell_type": "markdown",
   "id": "1522e1dc",
   "metadata": {},
   "source": [
    "1. Решим проблему дисбаланса через **Взвешивание классов** и обучим модели вновь"
   ]
  },
  {
   "cell_type": "code",
   "execution_count": 17,
   "id": "c105d9f7",
   "metadata": {
    "scrolled": true
   },
   "outputs": [
    {
     "name": "stdout",
     "output_type": "stream",
     "text": [
      "accuracy_score 0.725\n",
      "precision_score 0.39261285909712723\n",
      "recall_score 0.7302798982188295\n",
      "f1_score 0.5106761565836299\n",
      "---------предыдущие значения---------\n",
      "accuracy_score 0.818\n",
      "precision_score 0.6106870229007634\n",
      "recall_score 0.2035623409669211\n",
      "f1_score 0.3053435114503817\n"
     ]
    }
   ],
   "source": [
    "lr_model1 = LogisticRegression(random_state=100, solver='liblinear',class_weight='balanced')\n",
    "lr_model1.fit(features_train_ohe,target_train_ohe)\n",
    "lr_predictions1 = lr_model1.predict(features_valid_ohe)\n",
    "print('accuracy_score', accuracy_score(target_valid_ohe, lr_predictions1))\n",
    "print('precision_score',precision_score(target_valid_ohe, lr_predictions1))\n",
    "print('recall_score', recall_score(target_valid_ohe, lr_predictions1))\n",
    "print('f1_score', f1_score(target_valid_ohe, lr_predictions1))\n",
    "\n",
    "# сравним метриками качества предыдущей модели (без учета дисбаланса):\n",
    "print('---------предыдущие значения---------')\n",
    "print('accuracy_score', accuracy_score(target_valid_ohe, lr_predictions))\n",
    "print('precision_score',precision_score(target_valid_ohe, lr_predictions))\n",
    "print('recall_score', recall_score(target_valid_ohe, lr_predictions))\n",
    "print('f1_score', f1_score(target_valid_ohe, lr_predictions))"
   ]
  },
  {
   "cell_type": "markdown",
   "id": "9a167d4c",
   "metadata": {},
   "source": [
    "F1 модели явно улучшилось, но этого не достаточно. \n",
    "\n",
    "2. Попробуем улучшить качество модели через **увеличение выборки**"
   ]
  },
  {
   "cell_type": "code",
   "execution_count": 18,
   "id": "1ab8695f",
   "metadata": {},
   "outputs": [
    {
     "name": "stdout",
     "output_type": "stream",
     "text": [
      "F1: 0.5097001763668431 требуемое значение f1 НЕ достигнуто\n"
     ]
    }
   ],
   "source": [
    "# функция upsample()\n",
    "def upsample(features, target, repeat):\n",
    "    features_zeros = features[target == 0]\n",
    "    features_ones = features[target == 1]\n",
    "    target_zeros = target[target == 0]\n",
    "    target_ones = target[target == 1]\n",
    "\n",
    "    features_upsampled = pd.concat([features_zeros] + [features_ones] * repeat)\n",
    "    target_upsampled = pd.concat([target_zeros] + [target_ones] * repeat)\n",
    "    \n",
    "    features_upsampled, target_upsampled = shuffle(\n",
    "        features_upsampled, target_upsampled, random_state=100)\n",
    "    \n",
    "    return features_upsampled, target_upsampled\n",
    "\n",
    "features_upsampled, target_upsampled = upsample(features_train_ohe, target_train_ohe, 4)\n",
    "\n",
    "lr_model2 = LogisticRegression(solver='liblinear', random_state=100)\n",
    "lr_model2.fit(features_upsampled, target_upsampled)\n",
    "lr_predictions2 = lr_model2.predict(features_valid_ohe)\n",
    "\n",
    "if f1_score(target_valid_ohe, lr_predictions2) >= 0.59:\n",
    "    print(\"F1:\", f1_score(target_valid_ohe, lr_predictions2), 'требуемое значение f1 достигнуто')\n",
    "else:\n",
    "    print(\"F1:\", f1_score(target_valid_ohe, lr_predictions2), 'требуемое значение f1 НЕ достигнуто')"
   ]
  },
  {
   "cell_type": "markdown",
   "id": "50e14dec",
   "metadata": {},
   "source": [
    "Не помогло.\n",
    "\n",
    "3. Теперь попробуем перебрать **порог классификации**, взяв за основу lr_model1 с **взвешенными классами**"
   ]
  },
  {
   "cell_type": "code",
   "execution_count": 20,
   "id": "57e907bf",
   "metadata": {
    "scrolled": true
   },
   "outputs": [
    {
     "name": "stdout",
     "output_type": "stream",
     "text": [
      "Порог = 0.30 | Точность = 0.272, Полнота = 0.929, F1 = 0.421\n",
      "Порог = 0.32 | Точность = 0.279, Полнота = 0.911, F1 = 0.428\n",
      "Порог = 0.34 | Точность = 0.290, Полнота = 0.896, F1 = 0.439\n",
      "Порог = 0.36 | Точность = 0.299, Полнота = 0.878, F1 = 0.446\n",
      "Порог = 0.38 | Точность = 0.310, Полнота = 0.858, F1 = 0.455\n",
      "Порог = 0.40 | Точность = 0.326, Полнота = 0.845, F1 = 0.471\n",
      "Порог = 0.42 | Точность = 0.340, Полнота = 0.840, F1 = 0.484\n",
      "Порог = 0.44 | Точность = 0.351, Полнота = 0.822, F1 = 0.492\n",
      "Порог = 0.46 | Точность = 0.366, Полнота = 0.794, F1 = 0.501\n",
      "Порог = 0.48 | Точность = 0.379, Полнота = 0.758, F1 = 0.506\n",
      "Порог = 0.50 | Точность = 0.393, Полнота = 0.730, F1 = 0.511\n",
      "Порог = 0.52 | Точность = 0.403, Полнота = 0.700, F1 = 0.511\n",
      "Порог = 0.54 | Точность = 0.412, Полнота = 0.669, F1 = 0.510\n",
      "Порог = 0.56 | Точность = 0.427, Полнота = 0.628, F1 = 0.509\n",
      "Порог = 0.58 | Точность = 0.446, Полнота = 0.598, F1 = 0.511\n",
      "Порог = 0.60 | Точность = 0.452, Полнота = 0.567, F1 = 0.503\n",
      "Порог = 0.62 | Точность = 0.462, Полнота = 0.522, F1 = 0.490\n",
      "Порог = 0.64 | Точность = 0.479, Полнота = 0.496, F1 = 0.488\n",
      "Порог = 0.66 | Точность = 0.491, Полнота = 0.463, F1 = 0.476\n",
      "Порог = 0.68 | Точность = 0.503, Полнота = 0.430, F1 = 0.464\n",
      "Порог = 0.70 | Точность = 0.508, Полнота = 0.394, F1 = 0.444\n",
      "Порог = 0.72 | Точность = 0.519, Полнота = 0.346, F1 = 0.415\n",
      "Порог = 0.74 | Точность = 0.542, Полнота = 0.313, F1 = 0.397\n",
      "Порог = 0.76 | Точность = 0.541, Полнота = 0.267, F1 = 0.358\n",
      "Порог = 0.78 | Точность = 0.552, Полнота = 0.229, F1 = 0.324\n",
      "---------------------лучшие значения----------------------\n",
      "Порог = 0.52, best F1 = 0.511 => требуемое значение f1 НЕ достигнуто\n",
      "--------------значение с порогом по умолчанию--------------\n",
      "F1 = 0.511\n"
     ]
    }
   ],
   "source": [
    "lr_probabilities_valid = lr_model1.predict_proba(features_valid_ohe)\n",
    "lr_probabilities_one_valid = lr_probabilities_valid[:, 1]\n",
    "lr_best_f1 = 0\n",
    "lr_best_threshold = 0\n",
    "for threshold in np.arange(0.3, 0.8, 0.02):\n",
    "    lr_predictions3 = lr_probabilities_one_valid > threshold \n",
    "    lr_precision3 = precision_score(target_valid_ohe,lr_predictions3)\n",
    "    lr_recall3 = recall_score(target_valid_ohe,lr_predictions3)\n",
    "    lr_f1_3 = f1_score(target_valid_ohe,lr_predictions3)\n",
    "    print(\"Порог = {:.2f} | Точность = {:.3f}, Полнота = {:.3f}, F1 = {:.3f}\".format(threshold, lr_precision3, lr_recall3, lr_f1_3))\n",
    "    if lr_f1_3 > lr_best_f1:\n",
    "        lr_best_f1 = lr_f1_3\n",
    "        lr_best_threshold = threshold\n",
    "\n",
    "print('---------------------лучшие значения----------------------')\n",
    "if lr_best_f1 >= 0.59:\n",
    "    print('Порог = {:.2f}, best F1 = {:.3f} => требуемое значение f1 достигнуто'.format(lr_best_threshold, lr_best_f1))\n",
    "else:\n",
    "    print('Порог = {:.2f}, best F1 = {:.3f} => требуемое значение f1 НЕ достигнуто'.format(lr_best_threshold, lr_best_f1))\n",
    "print('--------------значение с порогом по умолчанию--------------')\n",
    "print('F1 = {:.3f}'.format(f1_score(target_valid_ohe, lr_predictions1)))"
   ]
  },
  {
   "cell_type": "markdown",
   "id": "2bc59272",
   "metadata": {},
   "source": [
    "**Наилучшее значение F1 у Логистической регрессии = 0.511 => значение в 0,59 не достигнуто**\n",
    "\n",
    "Посмотрим, как сильно наилучшая модель отличается от случайной + посчитаем площадь под ROC-кривой — **AUC-ROC** "
   ]
  },
  {
   "cell_type": "code",
   "execution_count": 21,
   "id": "e72d03db",
   "metadata": {
    "scrolled": true
   },
   "outputs": [
    {
     "data": {
      "image/png": "[encoded data removed]",
      "text/plain": [
       "<Figure size 432x288 with 1 Axes>"
      ]
     },
     "metadata": {
      "needs_background": "light"
     },
     "output_type": "display_data"
    },
    {
     "name": "stdout",
     "output_type": "stream",
     "text": [
      "0.7885048080044209\n"
     ]
    }
   ],
   "source": [
    "fpr, tpr, thresholds = roc_curve(target_valid_ohe, lr_probabilities_one_valid)\n",
    "\n",
    "plt.figure()\n",
    "# ROC-кривая случайной модели\n",
    "plt.plot([0, 1], [0, 1], linestyle='--')\n",
    "# ROC-кривая по модели\n",
    "plt.plot(fpr, tpr)\n",
    "plt.xlim([0.0, 1.0])\n",
    "plt.ylim([0.0, 1.0])\n",
    "plt.xlabel('False Positive Rate')\n",
    "plt.ylabel('True Positive Rate')\n",
    "plt.title('ROC-кривая')\n",
    "plt.show() \n",
    "lr_auc_roc = roc_auc_score(target_valid_ohe, lr_probabilities_one_valid)\n",
    "print(lr_auc_roc)"
   ]
  },
  {
   "cell_type": "markdown",
   "id": "ceb38a8c",
   "metadata": {},
   "source": [
    "**Модель далека от случайной модели, но и далека от идеала, о чем можно посудить по площади под кривой**"
   ]
  },
  {
   "cell_type": "markdown",
   "id": "11ae243d",
   "metadata": {},
   "source": [
    "<div class=\"alert alert-block alert-success\">\n",
    "<b>✔️ Комментарий ревьюера️:</b> Да, согласен\n",
    "</div>"
   ]
  },
  {
   "cell_type": "markdown",
   "id": "f48dbf9e",
   "metadata": {},
   "source": [
    "### DecisionTreeClassifier\n"
   ]
  },
  {
   "cell_type": "markdown",
   "id": "1f535dbd",
   "metadata": {},
   "source": [
    "**Порядок действий такой же, как и с Logisitic regression:**\n",
    "\n",
    "1. Попытка улучшить модель с помощью взвешенных классов"
   ]
  },
  {
   "cell_type": "code",
   "execution_count": 22,
   "id": "48bc6260",
   "metadata": {
    "scrolled": true
   },
   "outputs": [
    {
     "name": "stdout",
     "output_type": "stream",
     "text": [
      "max_depth = 1 : ==> accuracy = 0.732 ; precision = 0.3866877971473851 ; recall = 0.6208651399491094 ; f1 = 0.47656249999999994\n",
      "max_depth = 2 : ==> accuracy = 0.735 ; precision = 0.3960546282245827 ; recall = 0.6641221374045801 ; f1 = 0.4961977186311787\n",
      "max_depth = 3 : ==> accuracy = 0.735 ; precision = 0.3960546282245827 ; recall = 0.6641221374045801 ; f1 = 0.4961977186311787\n",
      "max_depth = 4 : ==> accuracy = 0.762 ; precision = 0.43888070692194403 ; recall = 0.7582697201017812 ; f1 = 0.5559701492537313\n",
      "max_depth = 5 : ==> accuracy = 0.752 ; precision = 0.4289655172413793 ; recall = 0.7913486005089059 ; f1 = 0.556350626118068\n",
      "max_depth = 6 : ==> accuracy = 0.7695 ; precision = 0.44925373134328356 ; recall = 0.7659033078880407 ; f1 = 0.5663217309501412\n",
      "max_depth = 7 : ==> accuracy = 0.7745 ; precision = 0.45396825396825397 ; recall = 0.727735368956743 ; f1 = 0.5591397849462365\n",
      "max_depth = 8 : ==> accuracy = 0.815 ; precision = 0.5234215885947047 ; recall = 0.6539440203562341 ; f1 = 0.5814479638009049\n",
      "max_depth = 9 : ==> accuracy = 0.8025 ; precision = 0.49818181818181817 ; recall = 0.6972010178117048 ; f1 = 0.5811240721102863\n",
      "-------------------------------------------------\n",
      "F1 наилучшей модели на валидационной выборке: 0.5814479638009049\n",
      "Max_depth:  8\n",
      "----------сравнение с моделью без учета дибаланса----------\n",
      "F1 наилучшей модели на валидационной выборке: 0.5814307458143074\n",
      "Max_depth:  7\n"
     ]
    }
   ],
   "source": [
    "dt_best_model1 = None\n",
    "dt_best_f11 = 0\n",
    "dt_best_max_depth1 = 0\n",
    "\n",
    "for depth in range(1, 10):\n",
    "    dt_model1 = DecisionTreeClassifier(max_depth=depth,random_state=100, class_weight='balanced')\n",
    "    dt_model1.fit(features_train_ohe,target_train_ohe)\n",
    "    dt_predictions1 = dt_model1.predict(features_valid_ohe)\n",
    "    dt_accuracy1 = accuracy_score(target_valid_ohe, dt_predictions1)\n",
    "    dt_precision1 = precision_score(target_valid_ohe, dt_predictions1)\n",
    "    dt_recall1 = recall_score(target_valid_ohe, dt_predictions1)\n",
    "    dt_f11 = f1_score(target_valid_ohe, dt_predictions1)\n",
    "    print(\"max_depth =\", depth, \": \", end='==> ')\n",
    "    print('accuracy =',dt_accuracy1, '; precision =', dt_precision1, '; recall =', dt_recall1, '; f1 =', dt_f11)\n",
    "    if dt_f11 > dt_best_f11:\n",
    "        dt_best_model1 = dt_model1\n",
    "        dt_best_f11 = dt_f11\n",
    "        dt_best_max_depth1 = depth\n",
    "        \n",
    "print('-------------------------------------------------')\n",
    "print(\"F1 наилучшей модели на валидационной выборке:\", dt_best_f11)\n",
    "print('Max_depth: ', dt_best_max_depth1)\n",
    "print('----------сравнение с моделью без учета дибаланса----------')\n",
    "print(\"F1 наилучшей модели на валидационной выборке:\", dt_best_f1)\n",
    "print('Max_depth: ', dt_best_max_depth)"
   ]
  },
  {
   "cell_type": "markdown",
   "id": "b69d32ce",
   "metadata": {},
   "source": [
    "2. Попытка улучшить модель с помощью увеличения выборки"
   ]
  },
  {
   "cell_type": "code",
   "execution_count": 23,
   "id": "9a232fe5",
   "metadata": {
    "scrolled": true
   },
   "outputs": [
    {
     "name": "stdout",
     "output_type": "stream",
     "text": [
      "max_depth = 1 : ==> accuracy = 0.732 ; precision = 0.3866877971473851 ; recall = 0.6208651399491094 ; f1 = 0.47656249999999994\n",
      "max_depth = 2 : ==> accuracy = 0.735 ; precision = 0.3960546282245827 ; recall = 0.6641221374045801 ; f1 = 0.4961977186311787\n",
      "max_depth = 3 : ==> accuracy = 0.735 ; precision = 0.3960546282245827 ; recall = 0.6641221374045801 ; f1 = 0.4961977186311787\n",
      "max_depth = 4 : ==> accuracy = 0.762 ; precision = 0.43888070692194403 ; recall = 0.7582697201017812 ; f1 = 0.5559701492537313\n",
      "max_depth = 5 : ==> accuracy = 0.752 ; precision = 0.4289655172413793 ; recall = 0.7913486005089059 ; f1 = 0.556350626118068\n",
      "max_depth = 6 : ==> accuracy = 0.769 ; precision = 0.4485842026825633 ; recall = 0.7659033078880407 ; f1 = 0.5657894736842105\n",
      "max_depth = 7 : ==> accuracy = 0.772 ; precision = 0.4503937007874016 ; recall = 0.727735368956743 ; f1 = 0.556420233463035\n",
      "max_depth = 8 : ==> accuracy = 0.818 ; precision = 0.5297741273100616 ; recall = 0.6564885496183206 ; f1 = 0.5863636363636363\n",
      "max_depth = 9 : ==> accuracy = 0.7995 ; precision = 0.4928571428571429 ; recall = 0.7022900763358778 ; f1 = 0.5792235047219308\n",
      "-------------------------------------------------\n",
      "F1 наилучшей модели на валидационной выборке: 0.5863636363636363\n",
      "Max_depth:  8\n"
     ]
    }
   ],
   "source": [
    "dt_best_model2 = None\n",
    "dt_best_f12 = 0\n",
    "dt_best_max_depth2 = 0\n",
    "\n",
    "for depth in range(1, 10):\n",
    "    dt_model2 = DecisionTreeClassifier(max_depth=depth,random_state=100)\n",
    "    dt_model2.fit(features_upsampled, target_upsampled)\n",
    "    dt_predictions2 = dt_model2.predict(features_valid_ohe)\n",
    "    dt_accuracy2 = accuracy_score(target_valid_ohe, dt_predictions2)\n",
    "    dt_precision2 = precision_score(target_valid_ohe, dt_predictions2)\n",
    "    dt_recall2 = recall_score(target_valid_ohe, dt_predictions2)\n",
    "    dt_f12 = f1_score(target_valid_ohe, dt_predictions2)\n",
    "    print(\"max_depth =\", depth, \": \", end='==> ')\n",
    "    print('accuracy =',dt_accuracy2, '; precision =', dt_precision2, '; recall =', dt_recall2, '; f1 =', dt_f12)\n",
    "    if dt_f12 > dt_best_f12:\n",
    "        dt_best_model2 = dt_model2\n",
    "        dt_best_f12 = dt_f12\n",
    "        dt_best_max_depth2 = depth\n",
    "        \n",
    "print('-------------------------------------------------')\n",
    "print(\"F1 наилучшей модели на валидационной выборке:\", dt_best_f12)\n",
    "print('Max_depth: ', dt_best_max_depth2)"
   ]
  },
  {
   "cell_type": "markdown",
   "id": "bfebaae4",
   "metadata": {},
   "source": [
    "3. Попытка улучшить модель с помощью изменения порога классфикации на основе модели (dt_model1) с взвешенными классами"
   ]
  },
  {
   "cell_type": "code",
   "execution_count": 24,
   "id": "163912f5",
   "metadata": {
    "scrolled": true
   },
   "outputs": [
    {
     "name": "stdout",
     "output_type": "stream",
     "text": [
      "Порог = 0.30 | Точность = 0.3498, Полнота = 0.8117, F1 = 0.4889\n",
      "Порог = 0.32 | Точность = 0.3642, Полнота = 0.8117, F1 = 0.5028\n",
      "Порог = 0.34 | Точность = 0.4249, Полнота = 0.7481, F1 = 0.5419\n",
      "Порог = 0.36 | Точность = 0.4320, Полнота = 0.7430, F1 = 0.5463\n",
      "Порог = 0.38 | Точность = 0.4458, Полнота = 0.7328, F1 = 0.5544\n",
      "Порог = 0.40 | Точность = 0.4458, Полнота = 0.7328, F1 = 0.5544\n",
      "Порог = 0.42 | Точность = 0.4451, Полнота = 0.7226, F1 = 0.5509\n",
      "Порог = 0.44 | Точность = 0.4465, Полнота = 0.7226, F1 = 0.5520\n",
      "Порог = 0.46 | Точность = 0.4512, Полнота = 0.7176, F1 = 0.5540\n",
      "Порог = 0.48 | Точность = 0.4512, Полнота = 0.7176, F1 = 0.5540\n",
      "Порог = 0.50 | Точность = 0.5234, Полнота = 0.6539, F1 = 0.5814\n",
      "Порог = 0.52 | Точность = 0.5234, Полнота = 0.6539, F1 = 0.5814\n",
      "Порог = 0.54 | Точность = 0.5312, Полнота = 0.6489, F1 = 0.5842\n",
      "Порог = 0.56 | Точность = 0.5312, Полнота = 0.6489, F1 = 0.5842\n",
      "Порог = 0.58 | Точность = 0.5336, Полнота = 0.6463, F1 = 0.5846\n",
      "Порог = 0.60 | Точность = 0.5419, Полнота = 0.6412, F1 = 0.5874\n",
      "Порог = 0.62 | Точность = 0.5478, Полнота = 0.6412, F1 = 0.5909\n",
      "Порог = 0.64 | Точность = 0.5478, Полнота = 0.6412, F1 = 0.5909\n",
      "Порог = 0.66 | Точность = 0.5714, Полнота = 0.6209, F1 = 0.5951\n",
      "Порог = 0.68 | Точность = 0.5840, Полнота = 0.5929, F1 = 0.5884\n",
      "Порог = 0.70 | Точность = 0.6271, Полнота = 0.5649, F1 = 0.5944\n",
      "Порог = 0.72 | Точность = 0.6271, Полнота = 0.5649, F1 = 0.5944\n",
      "Порог = 0.74 | Точность = 0.6271, Полнота = 0.5649, F1 = 0.5944\n",
      "Порог = 0.76 | Точность = 0.6271, Полнота = 0.5649, F1 = 0.5944\n",
      "Порог = 0.78 | Точность = 0.6950, Полнота = 0.4987, F1 = 0.5807\n",
      "---------------------лучшие значения----------------------\n",
      "Порог = 0.66, best F1 = 0.595 => требуемое значение f1 достигнуто\n"
     ]
    }
   ],
   "source": [
    "dt_probabilities_valid = dt_best_model1.predict_proba(features_valid_ohe)\n",
    "dt_probabilities_one_valid = dt_probabilities_valid[:, 1]\n",
    "dt_best_f1_2 = 0\n",
    "dt_best_threshold = 0\n",
    "for threshold in np.arange(0.3, 0.8, 0.02):\n",
    "    dt_predictions2 = dt_probabilities_one_valid > threshold \n",
    "    dt_precision2 = precision_score(target_valid_ohe,dt_predictions2)\n",
    "    dt_recall2 = recall_score(target_valid_ohe,dt_predictions2)\n",
    "    dt_f1_2 = f1_score(target_valid_ohe,dt_predictions2)\n",
    "    print(\"Порог = {:.2f} | Точность = {:.4f}, Полнота = {:.4f}, F1 = {:.4f}\".format(threshold, dt_precision2, dt_recall2, dt_f1_2))\n",
    "    if dt_f1_2 > dt_best_f1_2:\n",
    "        dt_best_f1_2 = dt_f1_2\n",
    "        dt_best_threshold = threshold\n",
    "\n",
    "print('---------------------лучшие значения----------------------')\n",
    "if dt_best_f1_2 >= 0.59:\n",
    "    print('Порог = {:.2f}, best F1 = {:.3f} => требуемое значение f1 достигнуто'.format(dt_best_threshold, dt_best_f1_2))\n",
    "else:\n",
    "    print('Порог = {:.2f}, best F1 = {:.3f} => требуемое значение f1 НЕ достигнуто'.format(dt_best_threshold, dt_best_f1_2))"
   ]
  },
  {
   "cell_type": "markdown",
   "id": "d7911acb",
   "metadata": {},
   "source": [
    "**Получили нужное значение F1 на валидационной выборке. Используем эту модель в следующем этапе для финального тестирования**\n",
    "\n",
    "**Построим также кривую ошибок, ROC-кривую и посчитаем площадь под кривой.** "
   ]
  },
  {
   "cell_type": "markdown",
   "id": "dbabe52f",
   "metadata": {},
   "source": [
    "<div class=\"alert alert-block alert-success\">\n",
    "<b>✔️ Комментарий ревьюера️:</b> Отлично, идём дальше.\n",
    "</div>"
   ]
  },
  {
   "cell_type": "code",
   "execution_count": 25,
   "id": "0e2fbac9",
   "metadata": {
    "scrolled": false
   },
   "outputs": [
    {
     "data": {
      "image/png": "[encoded data removed]",
      "text/plain": [
       "<Figure size 432x288 with 1 Axes>"
      ]
     },
     "metadata": {
      "needs_background": "light"
     },
     "output_type": "display_data"
    },
    {
     "name": "stdout",
     "output_type": "stream",
     "text": [
      "0.8141844443283283\n"
     ]
    }
   ],
   "source": [
    "fpr, tpr, thresholds = roc_curve(target_valid_ohe, dt_probabilities_one_valid)\n",
    "\n",
    "plt.figure()\n",
    "# ROC-кривая случайной модели\n",
    "plt.plot([0, 1], [0, 1], linestyle='--')\n",
    "# ROC-кривая по модели\n",
    "plt.plot(fpr, tpr)\n",
    "plt.xlim([0.0, 1.0])\n",
    "plt.ylim([0.0, 1.0])\n",
    "plt.xlabel('False Positive Rate')\n",
    "plt.ylabel('True Positive Rate')\n",
    "plt.title('ROC-кривая')\n",
    "plt.show() \n",
    "dt_auc_roc = roc_auc_score(target_valid_ohe, dt_probabilities_one_valid)\n",
    "print(dt_auc_roc)"
   ]
  },
  {
   "cell_type": "markdown",
   "id": "d8194672",
   "metadata": {},
   "source": [
    "**Изменяя порог, мы получили возрастающие значения как истинно положительных, так и ложно положительных долей. Чем график выше, тем больше значение TPR и лучше качество модели. AUC-ROC случайной модели равна 0.5. Площадь под кривой лучшей из DecisionTreeClassifier равна 0.81, что тоже не идеально, но намного лучше случайной модели** "
   ]
  },
  {
   "cell_type": "markdown",
   "id": "4015defd",
   "metadata": {},
   "source": [
    "### RandomForestClassifier"
   ]
  },
  {
   "cell_type": "markdown",
   "id": "cc5de3ad",
   "metadata": {},
   "source": [
    "1. Попытка улучшить модель с помощью взвешенных классов"
   ]
  },
  {
   "cell_type": "code",
   "execution_count": 26,
   "id": "2900c74a",
   "metadata": {},
   "outputs": [
    {
     "name": "stdout",
     "output_type": "stream",
     "text": [
      "n_estimators = 100 ==> accuracy = 0.7615 ; precision = 0.4309210526315789 ; recall = 0.6666666666666666 ; f1 = 0.5234765234765234\n",
      "n_estimators = 100 ==> accuracy = 0.779 ; precision = 0.45854483925549916 ; recall = 0.6895674300254453 ; f1 = 0.5508130081300813\n",
      "n_estimators = 100 ==> accuracy = 0.7925 ; precision = 0.48035714285714287 ; recall = 0.6844783715012722 ; f1 = 0.5645330535152151\n",
      "n_estimators = 100 ==> accuracy = 0.8045 ; precision = 0.5018450184501845 ; recall = 0.6921119592875318 ; f1 = 0.5818181818181818\n",
      "n_estimators = 100 ==> accuracy = 0.8095 ; precision = 0.5112359550561798 ; recall = 0.6946564885496184 ; f1 = 0.5889967637540452\n",
      "n_estimators = 100 ==> accuracy = 0.826 ; precision = 0.545271629778672 ; recall = 0.6895674300254453 ; f1 = 0.608988764044944\n",
      "n_estimators = 200 ==> accuracy = 0.7615 ; precision = 0.43312101910828027 ; recall = 0.6921119592875318 ; f1 = 0.5328109696376103\n",
      "n_estimators = 200 ==> accuracy = 0.783 ; precision = 0.4648370497427101 ; recall = 0.6895674300254453 ; f1 = 0.555327868852459\n",
      "n_estimators = 200 ==> accuracy = 0.7895 ; precision = 0.4755244755244755 ; recall = 0.6921119592875318 ; f1 = 0.5637305699481866\n",
      "n_estimators = 200 ==> accuracy = 0.8045 ; precision = 0.5018315018315018 ; recall = 0.6972010178117048 ; f1 = 0.5835995740149096\n",
      "n_estimators = 200 ==> accuracy = 0.8165 ; precision = 0.5248091603053435 ; recall = 0.6997455470737913 ; f1 = 0.5997818974918212\n",
      "n_estimators = 200 ==> accuracy = 0.824 ; precision = 0.5415821501014199 ; recall = 0.6793893129770993 ; f1 = 0.6027088036117381\n",
      "n_estimators = 300 ==> accuracy = 0.7645 ; precision = 0.4384858044164038 ; recall = 0.7073791348600509 ; f1 = 0.5413826679649464\n",
      "n_estimators = 300 ==> accuracy = 0.7855 ; precision = 0.4689655172413793 ; recall = 0.6921119592875318 ; f1 = 0.5590955806783144\n",
      "n_estimators = 300 ==> accuracy = 0.7895 ; precision = 0.4757785467128028 ; recall = 0.6997455470737913 ; f1 = 0.5664263645726056\n",
      "n_estimators = 300 ==> accuracy = 0.805 ; precision = 0.5027522935779817 ; recall = 0.6972010178117048 ; f1 = 0.5842217484008528\n",
      "n_estimators = 300 ==> accuracy = 0.816 ; precision = 0.5238095238095238 ; recall = 0.6997455470737913 ; f1 = 0.599128540305011\n",
      "n_estimators = 300 ==> accuracy = 0.8285 ; precision = 0.5512295081967213 ; recall = 0.6844783715012722 ; f1 = 0.6106696935300794\n",
      "n_estimators = 400 ==> accuracy = 0.764 ; precision = 0.4377952755905512 ; recall = 0.7073791348600509 ; f1 = 0.5408560311284047\n",
      "n_estimators = 400 ==> accuracy = 0.7845 ; precision = 0.4674657534246575 ; recall = 0.6946564885496184 ; f1 = 0.5588536335721597\n",
      "n_estimators = 400 ==> accuracy = 0.79 ; precision = 0.4765217391304348 ; recall = 0.6972010178117048 ; f1 = 0.5661157024793388\n",
      "n_estimators = 400 ==> accuracy = 0.8055 ; precision = 0.503690036900369 ; recall = 0.6946564885496184 ; f1 = 0.5839572192513368\n",
      "n_estimators = 400 ==> accuracy = 0.814 ; precision = 0.5199240986717267 ; recall = 0.6972010178117048 ; f1 = 0.5956521739130435\n",
      "n_estimators = 400 ==> accuracy = 0.83 ; precision = 0.5550935550935551 ; recall = 0.6793893129770993 ; f1 = 0.6109839816933638\n",
      "n_estimators = 500 ==> accuracy = 0.764 ; precision = 0.4368 ; recall = 0.6946564885496184 ; f1 = 0.5363457760314342\n",
      "n_estimators = 500 ==> accuracy = 0.7865 ; precision = 0.47038327526132406 ; recall = 0.6870229007633588 ; f1 = 0.5584281282316443\n",
      "n_estimators = 500 ==> accuracy = 0.7915 ; precision = 0.479020979020979 ; recall = 0.6972010178117048 ; f1 = 0.5678756476683938\n",
      "n_estimators = 500 ==> accuracy = 0.806 ; precision = 0.5046210720887245 ; recall = 0.6946564885496184 ; f1 = 0.5845824411134904\n",
      "n_estimators = 500 ==> accuracy = 0.816 ; precision = 0.5239005736137667 ; recall = 0.6972010178117048 ; f1 = 0.5982532751091703\n",
      "n_estimators = 500 ==> accuracy = 0.831 ; precision = 0.5578947368421052 ; recall = 0.6743002544529262 ; f1 = 0.6105990783410138\n",
      "n_estimators = 600 ==> accuracy = 0.7645 ; precision = 0.4375 ; recall = 0.6946564885496184 ; f1 = 0.5368731563421829\n",
      "n_estimators = 600 ==> accuracy = 0.7855 ; precision = 0.4689655172413793 ; recall = 0.6921119592875318 ; f1 = 0.5590955806783144\n",
      "n_estimators = 600 ==> accuracy = 0.793 ; precision = 0.4814159292035398 ; recall = 0.6921119592875318 ; f1 = 0.5678496868475992\n",
      "n_estimators = 600 ==> accuracy = 0.803 ; precision = 0.4990859232175503 ; recall = 0.6946564885496184 ; f1 = 0.5808510638297872\n",
      "n_estimators = 600 ==> accuracy = 0.814 ; precision = 0.52 ; recall = 0.6946564885496184 ; f1 = 0.5947712418300655\n",
      "n_estimators = 600 ==> accuracy = 0.83 ; precision = 0.5560253699788583 ; recall = 0.6692111959287532 ; f1 = 0.6073903002309468\n",
      "n_estimators = 700 ==> accuracy = 0.765 ; precision = 0.43820224719101125 ; recall = 0.6946564885496184 ; f1 = 0.5374015748031495\n",
      "n_estimators = 700 ==> accuracy = 0.786 ; precision = 0.4697754749568221 ; recall = 0.6921119592875318 ; f1 = 0.5596707818930041\n",
      "n_estimators = 700 ==> accuracy = 0.794 ; precision = 0.4831858407079646 ; recall = 0.6946564885496184 ; f1 = 0.569937369519833\n",
      "n_estimators = 700 ==> accuracy = 0.8055 ; precision = 0.5036764705882353 ; recall = 0.6972010178117048 ; f1 = 0.5848452508004268\n",
      "n_estimators = 700 ==> accuracy = 0.8145 ; precision = 0.5210727969348659 ; recall = 0.6921119592875318 ; f1 = 0.594535519125683\n",
      "n_estimators = 700 ==> accuracy = 0.83 ; precision = 0.5553235908141962 ; recall = 0.6768447837150128 ; f1 = 0.610091743119266\n",
      "-------------------------------------------------\n",
      "F1 наилучшей модели на валидационной выборке: 0.6109839816933638\n",
      "Количество деревьев =  400\n",
      "Глубина деревьев:  7\n"
     ]
    }
   ],
   "source": [
    "# тренируем на обучающей выборке\n",
    "# считаем качество модели на валидационной выборке \n",
    "# и с помощью цикла выявим оптимальное количество деревьев и глубину дерева\n",
    "\n",
    "rf_best_model1 = None\n",
    "rf_best_f11 = 0\n",
    "rf_best_est1 = 0\n",
    "rf_max_depth1 = 0\n",
    "\n",
    "for est in range(100, 800, 100):\n",
    "    for depth in range(2,8):\n",
    "        rf_model1 = RandomForestClassifier(random_state=100, n_estimators=est, max_depth=depth, class_weight='balanced')\n",
    "        rf_model1.fit(features_train_ohe,target_train_ohe) \n",
    "        rf_predictions1 = rf_model1.predict(features_valid_ohe)\n",
    "        rf_accuracy1 = accuracy_score(target_valid_ohe, rf_predictions1)\n",
    "        rf_precision1 = precision_score(target_valid_ohe, rf_predictions1)\n",
    "        rf_recall1 = recall_score(target_valid_ohe, rf_predictions1)\n",
    "        rf_f11 = f1_score(target_valid_ohe, rf_predictions1)\n",
    "        print('n_estimators =',est,'==> accuracy =',rf_accuracy1, '; precision =',rf_precision1,'; recall =',rf_recall1, '; f1 =',rf_f11)\n",
    "        if rf_f11 > rf_best_f11:\n",
    "            rf_best_model1 = rf_model1 \n",
    "            rf_best_f11 = rf_f11\n",
    "            rf_best_est1 = est\n",
    "            rf_max_depth1 = depth\n",
    "print('-------------------------------------------------')\n",
    "print(\"F1 наилучшей модели на валидационной выборке:\", rf_best_f11)\n",
    "print('Количество деревьев = ', rf_best_est1)\n",
    "print('Глубина деревьев: ', rf_max_depth1)"
   ]
  },
  {
   "cell_type": "markdown",
   "id": "f9a12472",
   "metadata": {},
   "source": [
    "2. Попытка улучшить модель с помощью увеличения выборки"
   ]
  },
  {
   "cell_type": "code",
   "execution_count": 27,
   "id": "c8fdf24b",
   "metadata": {
    "scrolled": true
   },
   "outputs": [
    {
     "name": "stdout",
     "output_type": "stream",
     "text": [
      "max_depth = 2 : ==> n_estimators = 100, accuracy = 0.75, precision = 0.41, precision = 0.67, f1 = 0.51\n",
      "max_depth = 3 : ==> n_estimators = 100, accuracy = 0.78, precision = 0.45, precision = 0.69, f1 = 0.55\n",
      "max_depth = 4 : ==> n_estimators = 100, accuracy = 0.79, precision = 0.48, precision = 0.71, f1 = 0.58\n",
      "max_depth = 5 : ==> n_estimators = 100, accuracy = 0.80, precision = 0.50, precision = 0.71, f1 = 0.59\n",
      "max_depth = 6 : ==> n_estimators = 100, accuracy = 0.81, precision = 0.51, precision = 0.72, f1 = 0.59\n",
      "max_depth = 7 : ==> n_estimators = 100, accuracy = 0.82, precision = 0.53, precision = 0.72, f1 = 0.61\n",
      "max_depth = 2 : ==> n_estimators = 200, accuracy = 0.74, precision = 0.41, precision = 0.69, f1 = 0.52\n",
      "max_depth = 3 : ==> n_estimators = 200, accuracy = 0.77, precision = 0.45, precision = 0.69, f1 = 0.54\n",
      "max_depth = 4 : ==> n_estimators = 200, accuracy = 0.79, precision = 0.48, precision = 0.72, f1 = 0.57\n",
      "max_depth = 5 : ==> n_estimators = 200, accuracy = 0.80, precision = 0.49, precision = 0.71, f1 = 0.58\n",
      "max_depth = 6 : ==> n_estimators = 200, accuracy = 0.81, precision = 0.51, precision = 0.71, f1 = 0.59\n",
      "max_depth = 7 : ==> n_estimators = 200, accuracy = 0.82, precision = 0.52, precision = 0.72, f1 = 0.61\n",
      "max_depth = 2 : ==> n_estimators = 300, accuracy = 0.75, precision = 0.42, precision = 0.70, f1 = 0.52\n",
      "max_depth = 3 : ==> n_estimators = 300, accuracy = 0.78, precision = 0.45, precision = 0.69, f1 = 0.55\n",
      "max_depth = 4 : ==> n_estimators = 300, accuracy = 0.79, precision = 0.47, precision = 0.72, f1 = 0.57\n",
      "max_depth = 5 : ==> n_estimators = 300, accuracy = 0.80, precision = 0.49, precision = 0.70, f1 = 0.58\n",
      "max_depth = 6 : ==> n_estimators = 300, accuracy = 0.81, precision = 0.51, precision = 0.72, f1 = 0.59\n",
      "max_depth = 7 : ==> n_estimators = 300, accuracy = 0.82, precision = 0.52, precision = 0.71, f1 = 0.60\n",
      "max_depth = 2 : ==> n_estimators = 400, accuracy = 0.76, precision = 0.43, precision = 0.71, f1 = 0.54\n",
      "max_depth = 3 : ==> n_estimators = 400, accuracy = 0.77, precision = 0.45, precision = 0.69, f1 = 0.55\n",
      "max_depth = 4 : ==> n_estimators = 400, accuracy = 0.79, precision = 0.47, precision = 0.71, f1 = 0.56\n",
      "max_depth = 5 : ==> n_estimators = 400, accuracy = 0.80, precision = 0.49, precision = 0.70, f1 = 0.58\n",
      "max_depth = 6 : ==> n_estimators = 400, accuracy = 0.81, precision = 0.51, precision = 0.72, f1 = 0.60\n",
      "max_depth = 7 : ==> n_estimators = 400, accuracy = 0.82, precision = 0.52, precision = 0.71, f1 = 0.60\n",
      "max_depth = 2 : ==> n_estimators = 500, accuracy = 0.76, precision = 0.43, precision = 0.70, f1 = 0.54\n",
      "max_depth = 3 : ==> n_estimators = 500, accuracy = 0.78, precision = 0.45, precision = 0.69, f1 = 0.55\n",
      "max_depth = 4 : ==> n_estimators = 500, accuracy = 0.79, precision = 0.47, precision = 0.71, f1 = 0.57\n",
      "max_depth = 5 : ==> n_estimators = 500, accuracy = 0.80, precision = 0.49, precision = 0.70, f1 = 0.58\n",
      "max_depth = 6 : ==> n_estimators = 500, accuracy = 0.81, precision = 0.51, precision = 0.71, f1 = 0.60\n",
      "max_depth = 7 : ==> n_estimators = 500, accuracy = 0.82, precision = 0.52, precision = 0.71, f1 = 0.60\n",
      "max_depth = 2 : ==> n_estimators = 600, accuracy = 0.75, precision = 0.42, precision = 0.70, f1 = 0.52\n",
      "max_depth = 3 : ==> n_estimators = 600, accuracy = 0.77, precision = 0.45, precision = 0.70, f1 = 0.55\n",
      "max_depth = 4 : ==> n_estimators = 600, accuracy = 0.79, precision = 0.47, precision = 0.71, f1 = 0.57\n",
      "max_depth = 5 : ==> n_estimators = 600, accuracy = 0.80, precision = 0.49, precision = 0.70, f1 = 0.58\n",
      "max_depth = 6 : ==> n_estimators = 600, accuracy = 0.81, precision = 0.51, precision = 0.72, f1 = 0.60\n",
      "max_depth = 7 : ==> n_estimators = 600, accuracy = 0.81, precision = 0.52, precision = 0.71, f1 = 0.60\n",
      "max_depth = 2 : ==> n_estimators = 700, accuracy = 0.76, precision = 0.43, precision = 0.70, f1 = 0.54\n",
      "max_depth = 3 : ==> n_estimators = 700, accuracy = 0.78, precision = 0.46, precision = 0.69, f1 = 0.55\n",
      "max_depth = 4 : ==> n_estimators = 700, accuracy = 0.79, precision = 0.47, precision = 0.71, f1 = 0.57\n",
      "max_depth = 5 : ==> n_estimators = 700, accuracy = 0.80, precision = 0.50, precision = 0.70, f1 = 0.58\n",
      "max_depth = 6 : ==> n_estimators = 700, accuracy = 0.81, precision = 0.51, precision = 0.71, f1 = 0.60\n",
      "max_depth = 7 : ==> n_estimators = 700, accuracy = 0.81, precision = 0.52, precision = 0.70, f1 = 0.60\n",
      "-------------------------------------------------\n",
      "F1 наилучшей модели на валидационной выборке: 0.6114101184068891\n",
      "Количество деревьев =  100\n",
      "Глубина деревьев:  7\n"
     ]
    }
   ],
   "source": [
    "rf_best_model2 = None\n",
    "rf_best_f12 = 0\n",
    "rf_best_est2 = 0\n",
    "rf_max_depth2 = 0\n",
    "\n",
    "for est in range(100, 800, 100):\n",
    "    for depth in range(2,8):\n",
    "        rf_model2 = RandomForestClassifier(random_state=100, n_estimators=est, max_depth=depth)\n",
    "        rf_model2.fit(features_upsampled, target_upsampled)\n",
    "        rf_predictions2 = rf_model2.predict(features_valid_ohe)\n",
    "        rf_accuracy2 = accuracy_score(target_valid_ohe, rf_predictions2)\n",
    "        rf_precision2 = precision_score(target_valid_ohe, rf_predictions2)\n",
    "        rf_recall2 = recall_score(target_valid_ohe, rf_predictions2)\n",
    "        rf_f12 = f1_score(target_valid_ohe, rf_predictions2)\n",
    "        print(\"max_depth =\", depth, \": \", end='==> ')\n",
    "        print('n_estimators = {:.0f}, accuracy = {:.2f}, precision = {:.2f}, precision = {:.2f}, f1 = {:.2f}'.format(est,rf_accuracy2, rf_precision2,rf_recall2, rf_f12))\n",
    "        if rf_f12 > rf_best_f12:\n",
    "              rf_best_model2 = rf_model2 \n",
    "              rf_best_f12 = rf_f12\n",
    "              rf_best_est2 = est\n",
    "              rf_max_depth2 = depth\n",
    "print('-------------------------------------------------')\n",
    "print(\"F1 наилучшей модели на валидационной выборке:\", rf_best_f12)\n",
    "print('Количество деревьев = ', rf_best_est2)\n",
    "print('Глубина деревьев: ', rf_max_depth2)"
   ]
  },
  {
   "cell_type": "markdown",
   "id": "47ae2b47",
   "metadata": {},
   "source": [
    "3. Попытка улучшить модель с помощью изменения порога классфикации на основе модели (rf_model1) с взвешенными классами"
   ]
  },
  {
   "cell_type": "code",
   "execution_count": 28,
   "id": "5448dc32",
   "metadata": {
    "scrolled": true
   },
   "outputs": [
    {
     "name": "stdout",
     "output_type": "stream",
     "text": [
      "Порог = 0.30 | Точность = 0.3260, Полнота = 0.9059, F1 = 0.4795\n",
      "Порог = 0.32 | Точность = 0.3507, Полнота = 0.8906, F1 = 0.5032\n",
      "Порог = 0.34 | Точность = 0.3732, Полнота = 0.8728, F1 = 0.5229\n",
      "Порог = 0.36 | Точность = 0.4021, Полнота = 0.8575, F1 = 0.5475\n",
      "Порог = 0.38 | Точность = 0.4299, Полнота = 0.8346, F1 = 0.5675\n",
      "Порог = 0.40 | Точность = 0.4437, Полнота = 0.8219, F1 = 0.5763\n",
      "Порог = 0.42 | Точность = 0.4697, Полнота = 0.7888, F1 = 0.5888\n",
      "Порог = 0.44 | Точность = 0.4959, Полнота = 0.7710, F1 = 0.6036\n",
      "Порог = 0.46 | Точность = 0.5106, Полнота = 0.7379, F1 = 0.6035\n",
      "Порог = 0.48 | Точность = 0.5304, Полнота = 0.7099, F1 = 0.6072\n",
      "Порог = 0.50 | Точность = 0.5551, Полнота = 0.6794, F1 = 0.6110\n",
      "Порог = 0.52 | Точность = 0.5778, Полнота = 0.6616, F1 = 0.6168\n",
      "Порог = 0.54 | Точность = 0.5981, Полнота = 0.6285, F1 = 0.6129\n",
      "Порог = 0.56 | Точность = 0.6364, Полнота = 0.6234, F1 = 0.6298\n",
      "Порог = 0.58 | Точность = 0.6543, Полнота = 0.5827, F1 = 0.6164\n",
      "Порог = 0.60 | Точность = 0.6779, Полнота = 0.5623, F1 = 0.6147\n",
      "Порог = 0.62 | Точность = 0.6968, Полнота = 0.5496, F1 = 0.6145\n",
      "Порог = 0.64 | Точность = 0.7183, Полнота = 0.5191, F1 = 0.6027\n",
      "Порог = 0.66 | Точность = 0.7370, Полнота = 0.5064, F1 = 0.6003\n",
      "Порог = 0.68 | Точность = 0.7570, Полнота = 0.4835, F1 = 0.5901\n",
      "Порог = 0.70 | Точность = 0.7647, Полнота = 0.4631, F1 = 0.5769\n",
      "Порог = 0.72 | Точность = 0.7870, Полнота = 0.4326, F1 = 0.5583\n",
      "Порог = 0.74 | Точность = 0.8229, Полнота = 0.4020, F1 = 0.5402\n",
      "Порог = 0.76 | Точность = 0.8372, Полнота = 0.3664, F1 = 0.5097\n",
      "Порог = 0.78 | Точность = 0.8904, Полнота = 0.3308, F1 = 0.4824\n",
      "---------------------лучшие значения----------------------\n",
      "Порог = 0.56, best F1 = 0.630 => требуемое значение f1 достигнуто\n"
     ]
    }
   ],
   "source": [
    "rf_probabilities_valid = rf_best_model1.predict_proba(features_valid_ohe)\n",
    "rf_probabilities_one_valid = rf_probabilities_valid[:, 1]\n",
    "rf_best_f1_2 = 0\n",
    "rf_best_threshold = 0\n",
    "for threshold in np.arange(0.3, 0.8, 0.02):\n",
    "    rf_predictions2 = rf_probabilities_one_valid > threshold \n",
    "    rf_precision2 = precision_score(target_valid_ohe,rf_predictions2)\n",
    "    rf_recall2 = recall_score(target_valid_ohe,rf_predictions2)\n",
    "    rf_f1_2 = f1_score(target_valid_ohe,rf_predictions2)\n",
    "    print(\"Порог = {:.2f} | Точность = {:.4f}, Полнота = {:.4f}, F1 = {:.4f}\".format(threshold, rf_precision2, rf_recall2, rf_f1_2))\n",
    "    if rf_f1_2 > rf_best_f1_2:\n",
    "        rf_best_f1_2 = rf_f1_2\n",
    "        rf_best_threshold = threshold\n",
    "\n",
    "print('---------------------лучшие значения----------------------')\n",
    "if rf_best_f1_2 >= 0.59:\n",
    "    print('Порог = {:.2f}, best F1 = {:.3f} => требуемое значение f1 достигнуто'.format(rf_best_threshold, rf_best_f1_2))\n",
    "else:\n",
    "    print('Порог = {:.2f}, best F1 = {:.3f} => требуемое значение f1 НЕ достигнуто'.format(rf_best_threshold, rf_best_f1_2))"
   ]
  },
  {
   "cell_type": "markdown",
   "id": "b18e9c61",
   "metadata": {},
   "source": [
    "**Получили нужное значение F1 на валидационной выборке. Используем третье улучшение модели в следующем этапе для финального тестирования**\n",
    "\n",
    "**ROC-curve по случайному лесу**"
   ]
  },
  {
   "cell_type": "code",
   "execution_count": 29,
   "id": "a90f46d6",
   "metadata": {
    "scrolled": true
   },
   "outputs": [
    {
     "data": {
      "image/png": "[encoded data removed]",
      "text/plain": [
       "<Figure size 432x288 with 1 Axes>"
      ]
     },
     "metadata": {
      "needs_background": "light"
     },
     "output_type": "display_data"
    },
    {
     "name": "stdout",
     "output_type": "stream",
     "text": [
      "0.8650496951156755\n"
     ]
    }
   ],
   "source": [
    "fpr, tpr, thresholds = roc_curve(target_valid_ohe, rf_probabilities_one_valid)\n",
    "\n",
    "plt.figure()\n",
    "# ROC-кривая случайной модели\n",
    "plt.plot([0, 1], [0, 1], linestyle='--')\n",
    "# ROC-кривая по модели\n",
    "plt.plot(fpr, tpr)\n",
    "plt.xlim([0.0, 1.0])\n",
    "plt.ylim([0.0, 1.0])\n",
    "plt.xlabel('False Positive Rate')\n",
    "plt.ylabel('True Positive Rate')\n",
    "plt.title('ROC-кривая')\n",
    "plt.show() \n",
    "rf_auc_roc = roc_auc_score(target_valid_ohe, rf_probabilities_one_valid)\n",
    "print(rf_auc_roc)"
   ]
  },
  {
   "cell_type": "markdown",
   "id": "31ce8910",
   "metadata": {},
   "source": [
    "**Видим, что из всех ROC-кривых у \"случайного леса\" площадь под кривой наибольшая.**"
   ]
  },
  {
   "cell_type": "markdown",
   "id": "a9c40fb7",
   "metadata": {},
   "source": [
    "## 4. Провести финальное тестирование."
   ]
  },
  {
   "cell_type": "markdown",
   "id": "215a38e1",
   "metadata": {},
   "source": [
    "### тестируем наилучшую Logistic regression модель на тестовой выборке:"
   ]
  },
  {
   "cell_type": "code",
   "execution_count": 30,
   "id": "6c711096",
   "metadata": {},
   "outputs": [
    {
     "data": {
      "text/plain": [
       "LogisticRegression(class_weight='balanced', random_state=100,\n",
       "                   solver='liblinear')"
      ]
     },
     "metadata": {},
     "output_type": "display_data"
    },
    {
     "name": "stdout",
     "output_type": "stream",
     "text": [
      "Порог классификации лучшей модели: 0.52\n"
     ]
    }
   ],
   "source": [
    "# Best Lr model\n",
    "display(lr_model1)\n",
    "print('Порог классификации лучшей модели: {:.2f}'.format(lr_best_threshold))"
   ]
  },
  {
   "cell_type": "code",
   "execution_count": 36,
   "id": "1eaedca1",
   "metadata": {},
   "outputs": [
    {
     "data": {
      "text/plain": [
       "0.4986251145737855"
      ]
     },
     "execution_count": 36,
     "metadata": {},
     "output_type": "execute_result"
    }
   ],
   "source": [
    "threshold = 0.52\n",
    "lr_model_test = LogisticRegression(class_weight='balanced', random_state=100, solver='liblinear')\n",
    "lr_model_test.fit(features_train_ohe,target_train_ohe)\n",
    "predicted_proba = lr_model_test.predict_proba(features_test_ohe)\n",
    "predicted = (predicted_proba[:,1] > threshold).astype('int')\n",
    "\n",
    "f1 = f1_score(target_test_ohe, predicted)\n",
    "f1"
   ]
  },
  {
   "cell_type": "markdown",
   "id": "9d5f7d91",
   "metadata": {},
   "source": [
    "### тестируем наилучшую Decision Tree Classifier модель на тестовой выборке:"
   ]
  },
  {
   "cell_type": "code",
   "execution_count": 32,
   "id": "953b1509",
   "metadata": {},
   "outputs": [
    {
     "data": {
      "text/plain": [
       "DecisionTreeClassifier(class_weight='balanced', max_depth=8, random_state=100)"
      ]
     },
     "metadata": {},
     "output_type": "display_data"
    },
    {
     "name": "stdout",
     "output_type": "stream",
     "text": [
      "Порог классификации лучшей модели: 0.66\n"
     ]
    }
   ],
   "source": [
    "# Best DT model\n",
    "display(dt_best_model1)\n",
    "print('Порог классификации лучшей модели: {:.2f}'.format(dt_best_threshold))"
   ]
  },
  {
   "cell_type": "code",
   "execution_count": 37,
   "id": "a18624fe",
   "metadata": {},
   "outputs": [
    {
     "data": {
      "text/plain": [
       "0.5871766029246344"
      ]
     },
     "execution_count": 37,
     "metadata": {},
     "output_type": "execute_result"
    }
   ],
   "source": [
    "threshold = 0.66\n",
    "dt_model_test = DecisionTreeClassifier(max_depth=8,random_state=100, class_weight='balanced')\n",
    "dt_model_test.fit(features_train_ohe,target_train_ohe)\n",
    "predicted_proba = dt_model_test.predict_proba(features_test_ohe)\n",
    "predicted = (predicted_proba[:,1] > threshold).astype('int')\n",
    "\n",
    "f1 = f1_score(target_test_ohe, predicted)\n",
    "f1"
   ]
  },
  {
   "cell_type": "markdown",
   "id": "269ccb0e",
   "metadata": {},
   "source": [
    "### тестируем наилучшую Random Forest Classifier модель на тестовой выборке:"
   ]
  },
  {
   "cell_type": "code",
   "execution_count": 34,
   "id": "1d5d346f",
   "metadata": {},
   "outputs": [
    {
     "data": {
      "text/plain": [
       "RandomForestClassifier(class_weight='balanced', max_depth=7, n_estimators=400,\n",
       "                       random_state=100)"
      ]
     },
     "metadata": {},
     "output_type": "display_data"
    },
    {
     "name": "stdout",
     "output_type": "stream",
     "text": [
      "Порог классификации лучшей модели: 0.56\n"
     ]
    }
   ],
   "source": [
    "# Best RF model\n",
    "display(rf_best_model1)\n",
    "print('Порог классификации лучшей модели: {:.2f}'.format(rf_best_threshold))"
   ]
  },
  {
   "cell_type": "code",
   "execution_count": 35,
   "id": "b20babc6",
   "metadata": {},
   "outputs": [
    {
     "data": {
      "text/plain": [
       "0.6103286384976526"
      ]
     },
     "execution_count": 35,
     "metadata": {},
     "output_type": "execute_result"
    }
   ],
   "source": [
    "threshold = 0.56\n",
    "rf_model_test = RandomForestClassifier(class_weight='balanced', max_depth=7, n_estimators=700, random_state=100)\n",
    "rf_model_test.fit(features_train_ohe,target_train_ohe)\n",
    "predicted_proba = rf_model_test.predict_proba(features_test_ohe)\n",
    "predicted = (predicted_proba[:,1] > threshold).astype('int')\n",
    "\n",
    "f1 = f1_score(target_test_ohe, predicted)\n",
    "f1"
   ]
  },
  {
   "cell_type": "markdown",
   "id": "78a83eee",
   "metadata": {},
   "source": [
    "## Вывод\n",
    "Задача проекта состояла в построении модели с предельно большим значением F1-меры. Чтобы сдать проект успешно, нужно было довести F1 до 0.59.\n",
    "\n",
    "По итогу лучшие модели с точки зрения F1 те, что были сбалансированы и с измененным порогом классифкации, который был найден через цикл. \n",
    "\n",
    "* Наилучшей моделью после тестирования оказалась RandomForestClassifier с F1 = 0.610\n",
    "* Также близкой к 0.59 оказалась DecisionTreeClassifier с F1 = 0.587\n",
    "* LogisticRegression в свою очередь получила самое низкое значение метрики F1 = 0.500  \n",
    "\n",
    "Приведем для сравнения значения AUC-ROC для каждой модели:\n",
    "* RandomForestClassifier = 0.865\n",
    "* DecisionTreeClassifier = 0.811\n",
    "* LogisticRegression = 0.788\n",
    "\n",
    "Видим, что значения AUC-ROC, которое является количественной интерпретацией ROC-кривой, расположены в той же иерархии, что и F1 моделей. \n",
    "\n",
    "В целом, обозначим, что ROC предназначен для различных уровней порогов классификации и, следовательно, помогает посмотреть на общую картину. Если говорить об F1, то он вычисляется при заданном пороге и позволяет оценить качество модели точечно."
   ]
  },
  {
   "cell_type": "markdown",
   "id": "774e17a6",
   "metadata": {},
   "source": [
    "<div class=\"alert alert-block alert-success\">\n",
    "<b>✔️ Комментарий ревьюера️:</b> Круто. Спасибо за хороший подробный вывод!\n",
    "</div>"
   ]
  },
  {
   "cell_type": "markdown",
   "id": "b1c59a1e",
   "metadata": {},
   "source": [
    "<font color='blue'><b>Итоговый комментарий ревьюера</b></font>\n",
    "<div class=\"alert alert-block alert-success\">\n",
    "<b>✔️ Комментарий ревьюера:</b>\n",
    "Мне очень понравилась твоя работа. Спасибо тебе большое, за хорошее оформление проекта и выводы к каждому этапу работы.\n",
    "Чувствуется уверенное знание материала и владение питоном в целом. \n",
    "</div>\n",
    "\n",
    "</div>\n",
    "\n",
    "<font color='blue'><b>Осталось совсем немного, буду ждать твою работу на повторное ревью 🙂</b></font>"
   ]
  },
  {
   "cell_type": "markdown",
   "id": "badf40c9",
   "metadata": {},
   "source": [
    "<div class=\"alert alert-block alert-success\">\n",
    "<b>✔️ Комментарий ревьюера v2: </b> Спасибо за интерес к проекту. Принято. Желаю дальнейших успехов в учёбе и на работе\n",
    "</div>"
   ]
  },
  {
   "cell_type": "code",
   "execution_count": null,
   "id": "87179fa4",
   "metadata": {},
   "outputs": [],
   "source": []
  }
 ],
 "metadata": {
  "ExecuteTimeLog": [
   {
    "duration": 4771,
    "start_time": "2022-04-26T17:27:52.463Z"
   },
   {
    "duration": 11,
    "start_time": "2022-04-26T17:27:57.236Z"
   },
   {
    "duration": 15,
    "start_time": "2022-04-26T17:27:57.248Z"
   },
   {
    "duration": 34,
    "start_time": "2022-04-26T17:27:57.265Z"
   },
   {
    "duration": 19,
    "start_time": "2022-04-26T17:27:57.301Z"
   },
   {
    "duration": 32,
    "start_time": "2022-04-26T17:27:57.321Z"
   },
   {
    "duration": 18,
    "start_time": "2022-04-26T17:27:57.355Z"
   },
   {
    "duration": 4,
    "start_time": "2022-04-26T17:27:57.374Z"
   },
   {
    "duration": 23,
    "start_time": "2022-04-26T17:27:57.380Z"
   },
   {
    "duration": 8,
    "start_time": "2022-04-26T17:27:57.404Z"
   },
   {
    "duration": 66,
    "start_time": "2022-04-26T17:27:57.413Z"
   },
   {
    "duration": 123,
    "start_time": "2022-04-26T17:27:57.480Z"
   },
   {
    "duration": 149,
    "start_time": "2022-04-26T17:27:57.604Z"
   },
   {
    "duration": 225,
    "start_time": "2022-04-26T17:27:57.756Z"
   },
   {
    "duration": 52870,
    "start_time": "2022-04-26T17:27:57.982Z"
   },
   {
    "duration": 195,
    "start_time": "2022-04-26T17:28:50.853Z"
   },
   {
    "duration": 98,
    "start_time": "2022-04-26T17:28:51.050Z"
   },
   {
    "duration": 375,
    "start_time": "2022-04-26T17:28:51.150Z"
   },
   {
    "duration": 125,
    "start_time": "2022-04-26T17:28:51.527Z"
   },
   {
    "duration": 178,
    "start_time": "2022-04-26T17:28:51.654Z"
   },
   {
    "duration": 277,
    "start_time": "2022-04-26T17:28:51.834Z"
   },
   {
    "duration": 111,
    "start_time": "2022-04-26T17:28:52.112Z"
   },
   {
    "duration": 111,
    "start_time": "2022-04-26T17:28:52.224Z"
   },
   {
    "duration": 52884,
    "start_time": "2022-04-26T17:28:52.337Z"
   },
   {
    "duration": 105595,
    "start_time": "2022-04-26T17:29:45.223Z"
   },
   {
    "duration": 275,
    "start_time": "2022-04-26T17:31:30.820Z"
   },
   {
    "duration": 117,
    "start_time": "2022-04-26T17:31:31.097Z"
   },
   {
    "duration": 5,
    "start_time": "2022-04-26T17:31:31.216Z"
   },
   {
    "duration": 42,
    "start_time": "2022-04-26T17:31:31.222Z"
   },
   {
    "duration": 6,
    "start_time": "2022-04-26T17:31:31.350Z"
   },
   {
    "duration": 28,
    "start_time": "2022-04-26T17:31:31.448Z"
   },
   {
    "duration": 4,
    "start_time": "2022-04-26T17:31:31.478Z"
   },
   {
    "duration": 2827,
    "start_time": "2022-04-26T17:31:31.483Z"
   },
   {
    "duration": 5,
    "start_time": "2022-04-26T17:35:22.966Z"
   }
  ],
  "kernelspec": {
   "display_name": "Python 3",
   "language": "python",
   "name": "python3"
  },
  "language_info": {
   "codemirror_mode": {
    "name": "ipython",
    "version": 3
   },
   "file_extension": ".py",
   "mimetype": "text/x-python",
   "name": "python",
   "nbconvert_exporter": "python",
   "pygments_lexer": "ipython3",
   "version": "3.8.8"
  },
  "toc": {
   "base_numbering": 1,
   "nav_menu": {},
   "number_sections": true,
   "sideBar": true,
   "skip_h1_title": true,
   "title_cell": "Table of Contents",
   "title_sidebar": "Contents",
   "toc_cell": false,
   "toc_position": {},
   "toc_section_display": true,
   "toc_window_display": false
  }
 },
 "nbformat": 4,
 "nbformat_minor": 5
}
