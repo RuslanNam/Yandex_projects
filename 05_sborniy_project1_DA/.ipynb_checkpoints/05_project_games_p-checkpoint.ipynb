{
 "cells": [
  {
   "cell_type": "markdown",
   "id": "0edf99f4",
   "metadata": {},
   "source": [
    "## Сборный проект\n",
    "\n",
    "### Описание проекта\n",
    "Вы работаете в интернет-магазине «Стримчик», который продаёт по всему миру компьютерные игры. Из открытых источников доступны исторические данные о продажах игр, оценки пользователей и экспертов, жанры и платформы (например, Xbox или PlayStation). Вам нужно выявить определяющие успешность игры закономерности. Это позволит сделать ставку на потенциально популярный продукт и спланировать рекламные кампании.\n",
    "\n",
    "Перед вами данные до 2016 года. Представим, что сейчас декабрь 2016 г., и вы планируете кампанию на 2017-й. Нужно отработать принцип работы с данными. Неважно, прогнозируете ли вы продажи на 2017 год по данным 2016-го или же 2027-й — по данным 2026 года.\n",
    "\n",
    "В наборе данных попадается аббревиатура ESRB (Entertainment Software Rating Board) — это ассоциация, определяющая возрастной рейтинг компьютерных игр. ESRB оценивает игровой контент и присваивает ему подходящую возрастную категорию, например, «Для взрослых», «Для детей младшего возраста» или «Для подростков».\n",
    "### План проекта\n",
    "\n",
    "#### Шаг 1. Открыть файл с данными и изучить общую информацию\n",
    "\n",
    "#### Шаг 2. Подготовить данные\n",
    "* Заменить названия столбцов (к нижнему регистру);\n",
    "* Преобразовать данные в нужные типы. Описать, в каких столбцах заменили тип данных и почему;\n",
    "* Обработать пропуски при необходимости:\n",
    "* Объяснить, почему заполнили пропуски определённым образом или почему не стали это делать;\n",
    "* Описать причины, которые могли привести к пропускам;\n",
    "* Обратить внимание на аббревиатуру 'tbd' в столбце с оценкой пользователей.\n",
    "* Посчитать суммарные продажи во всех регионах и записать их в отдельный столбец.\n",
    "#### Шаг 3. Сделать исследовательский анализ данных\n",
    "* Сколько игр выпускалось в разные годы. Важны ли данные за все периоды?\n",
    "* Как менялись продажи по платформам. Выбрать платформы с наибольшими суммарными продажами и постройте распределение по годам. За какой характерный срок появляются новые и исчезают старые платформы?\n",
    "* Взять данные за соответствующий актуальный период. Основной фактор — эти данные помогут построить прогноз на 2017 год.\n",
    "* Какие платформы лидируют по продажам, растут или падают? Выбрать несколько потенциально прибыльных платформ.\n",
    "* Построить график «ящик с усами» по глобальным продажам игр в разбивке по платформам.\n",
    "* Как влияют на продажи внутри одной популярной платформы отзывы пользователей и критиков. Построить диаграмму рассеяния и посчитать корреляцию между отзывами и продажами.\n",
    "* Соотнести выводы с продажами игр на других платформах.\n",
    "* Посмотреть на общее распределение игр по жанрам. Что можно сказать о самых прибыльных жанрах? Выделяются ли жанры с высокими и низкими продажами?\n",
    "#### Шаг 4. Составить портрет пользователя каждого региона\n",
    "Определить для пользователя каждого региона (NA, EU, JP):\n",
    "* Самые популярные платформы (топ-5). Описать различия в долях продаж.\n",
    "* Самые популярные жанры (топ-5). Пояснить разницу.\n",
    "* Влияет ли рейтинг ESRB на продажи в отдельном регионе?\n",
    "#### Шаг 5. Проверить гипотезы\n",
    "* Средние пользовательские рейтинги платформ Xbox One и PC одинаковые;\n",
    "* Средние пользовательские рейтинги жанров Action (англ. «действие», экшен-игры) и Sports (англ. «спортивные соревнования») разные.\n",
    "* __Пояснить__:\n",
    "* Как сформулировали нулевую и альтернативную гипотезы;\n",
    "* Какой критерий применили для проверки гипотез и почему.\n",
    "#### Шаг 6. Написать общий вывод\n",
    "\n",
    "#### Описание данных\n",
    "* Name — название игры\n",
    "* Platform — платформа\n",
    "* Year_of_Release — год выпуска\n",
    "* Genre — жанр игры\n",
    "* NA_sales — продажи в Северной Америке (миллионы проданных копий)\n",
    "* EU_sales — продажи в Европе (миллионы проданных копий)\n",
    "* JP_sales — продажи в Японии (миллионы проданных копий)\n",
    "* Other_sales — продажи в других странах (миллионы проданных копий)\n",
    "* Critic_Score — оценка критиков (максимум 100)\n",
    "* User_Score — оценка пользователей (максимум 10)\n",
    "* Rating — рейтинг от организации ESRB (англ. Entertainment Software Rating Board). Эта ассоциация определяет рейтинг компьютерных игр и присваивает им подходящую возрастную категорию.\n",
    "\n",
    "**Данные за 2016 год могут быть неполными.**"
   ]
  },
  {
   "cell_type": "markdown",
   "id": "73a4472c",
   "metadata": {},
   "source": [
    "## Шаг 1. Откройте файл с данными и изучите общую информацию"
   ]
  },
  {
   "cell_type": "code",
   "execution_count": 1,
   "id": "2fc51785",
   "metadata": {},
   "outputs": [
    {
     "data": {
      "text/html": [
       "<div>\n",
       "<style scoped>\n",
       "    .dataframe tbody tr th:only-of-type {\n",
       "        vertical-align: middle;\n",
       "    }\n",
       "\n",
       "    .dataframe tbody tr th {\n",
       "        vertical-align: top;\n",
       "    }\n",
       "\n",
       "    .dataframe thead th {\n",
       "        text-align: right;\n",
       "    }\n",
       "</style>\n",
       "<table border=\"1\" class=\"dataframe\">\n",
       "  <thead>\n",
       "    <tr style=\"text-align: right;\">\n",
       "      <th></th>\n",
       "      <th>Name</th>\n",
       "      <th>Platform</th>\n",
       "      <th>Year_of_Release</th>\n",
       "      <th>Genre</th>\n",
       "      <th>NA_sales</th>\n",
       "      <th>EU_sales</th>\n",
       "      <th>JP_sales</th>\n",
       "      <th>Other_sales</th>\n",
       "      <th>Critic_Score</th>\n",
       "      <th>User_Score</th>\n",
       "      <th>Rating</th>\n",
       "    </tr>\n",
       "  </thead>\n",
       "  <tbody>\n",
       "    <tr>\n",
       "      <th>0</th>\n",
       "      <td>Wii Sports</td>\n",
       "      <td>Wii</td>\n",
       "      <td>2006.0</td>\n",
       "      <td>Sports</td>\n",
       "      <td>41.36</td>\n",
       "      <td>28.96</td>\n",
       "      <td>3.77</td>\n",
       "      <td>8.45</td>\n",
       "      <td>76.0</td>\n",
       "      <td>8</td>\n",
       "      <td>E</td>\n",
       "    </tr>\n",
       "    <tr>\n",
       "      <th>1</th>\n",
       "      <td>Super Mario Bros.</td>\n",
       "      <td>NES</td>\n",
       "      <td>1985.0</td>\n",
       "      <td>Platform</td>\n",
       "      <td>29.08</td>\n",
       "      <td>3.58</td>\n",
       "      <td>6.81</td>\n",
       "      <td>0.77</td>\n",
       "      <td>NaN</td>\n",
       "      <td>NaN</td>\n",
       "      <td>NaN</td>\n",
       "    </tr>\n",
       "    <tr>\n",
       "      <th>2</th>\n",
       "      <td>Mario Kart Wii</td>\n",
       "      <td>Wii</td>\n",
       "      <td>2008.0</td>\n",
       "      <td>Racing</td>\n",
       "      <td>15.68</td>\n",
       "      <td>12.76</td>\n",
       "      <td>3.79</td>\n",
       "      <td>3.29</td>\n",
       "      <td>82.0</td>\n",
       "      <td>8.3</td>\n",
       "      <td>E</td>\n",
       "    </tr>\n",
       "    <tr>\n",
       "      <th>3</th>\n",
       "      <td>Wii Sports Resort</td>\n",
       "      <td>Wii</td>\n",
       "      <td>2009.0</td>\n",
       "      <td>Sports</td>\n",
       "      <td>15.61</td>\n",
       "      <td>10.93</td>\n",
       "      <td>3.28</td>\n",
       "      <td>2.95</td>\n",
       "      <td>80.0</td>\n",
       "      <td>8</td>\n",
       "      <td>E</td>\n",
       "    </tr>\n",
       "    <tr>\n",
       "      <th>4</th>\n",
       "      <td>Pokemon Red/Pokemon Blue</td>\n",
       "      <td>GB</td>\n",
       "      <td>1996.0</td>\n",
       "      <td>Role-Playing</td>\n",
       "      <td>11.27</td>\n",
       "      <td>8.89</td>\n",
       "      <td>10.22</td>\n",
       "      <td>1.00</td>\n",
       "      <td>NaN</td>\n",
       "      <td>NaN</td>\n",
       "      <td>NaN</td>\n",
       "    </tr>\n",
       "  </tbody>\n",
       "</table>\n",
       "</div>"
      ],
      "text/plain": [
       "                       Name Platform  Year_of_Release         Genre  NA_sales  \\\n",
       "0                Wii Sports      Wii           2006.0        Sports     41.36   \n",
       "1         Super Mario Bros.      NES           1985.0      Platform     29.08   \n",
       "2            Mario Kart Wii      Wii           2008.0        Racing     15.68   \n",
       "3         Wii Sports Resort      Wii           2009.0        Sports     15.61   \n",
       "4  Pokemon Red/Pokemon Blue       GB           1996.0  Role-Playing     11.27   \n",
       "\n",
       "   EU_sales  JP_sales  Other_sales  Critic_Score User_Score Rating  \n",
       "0     28.96      3.77         8.45          76.0          8      E  \n",
       "1      3.58      6.81         0.77           NaN        NaN    NaN  \n",
       "2     12.76      3.79         3.29          82.0        8.3      E  \n",
       "3     10.93      3.28         2.95          80.0          8      E  \n",
       "4      8.89     10.22         1.00           NaN        NaN    NaN  "
      ]
     },
     "execution_count": 1,
     "metadata": {},
     "output_type": "execute_result"
    }
   ],
   "source": [
    "import pandas as pd\n",
    "import numpy as np\n",
    "import matplotlib.pyplot as plt\n",
    "from scipy import stats as st\n",
    "\n",
    "try:\n",
    "    games = pd.read_csv('games.csv')\n",
    "except:\n",
    "    games = pd.read_csv('/datasets/games.csv')\n",
    "\n",
    "games.head()"
   ]
  },
  {
   "cell_type": "markdown",
   "id": "1424f9fc",
   "metadata": {},
   "source": [
    "## Шаг 2. Подготовим данные\n"
   ]
  },
  {
   "cell_type": "code",
   "execution_count": 2,
   "id": "00c521a7",
   "metadata": {
    "scrolled": true
   },
   "outputs": [
    {
     "name": "stdout",
     "output_type": "stream",
     "text": [
      "<class 'pandas.core.frame.DataFrame'>\n",
      "RangeIndex: 16715 entries, 0 to 16714\n",
      "Data columns (total 11 columns):\n",
      " #   Column           Non-Null Count  Dtype  \n",
      "---  ------           --------------  -----  \n",
      " 0   Name             16713 non-null  object \n",
      " 1   Platform         16715 non-null  object \n",
      " 2   Year_of_Release  16446 non-null  float64\n",
      " 3   Genre            16713 non-null  object \n",
      " 4   NA_sales         16715 non-null  float64\n",
      " 5   EU_sales         16715 non-null  float64\n",
      " 6   JP_sales         16715 non-null  float64\n",
      " 7   Other_sales      16715 non-null  float64\n",
      " 8   Critic_Score     8137 non-null   float64\n",
      " 9   User_Score       10014 non-null  object \n",
      " 10  Rating           9949 non-null   object \n",
      "dtypes: float64(6), object(5)\n",
      "memory usage: 1.4+ MB\n"
     ]
    }
   ],
   "source": [
    "games.info()"
   ]
  },
  {
   "cell_type": "code",
   "execution_count": 3,
   "id": "648ab523",
   "metadata": {},
   "outputs": [
    {
     "data": {
      "text/html": [
       "<div>\n",
       "<style scoped>\n",
       "    .dataframe tbody tr th:only-of-type {\n",
       "        vertical-align: middle;\n",
       "    }\n",
       "\n",
       "    .dataframe tbody tr th {\n",
       "        vertical-align: top;\n",
       "    }\n",
       "\n",
       "    .dataframe thead th {\n",
       "        text-align: right;\n",
       "    }\n",
       "</style>\n",
       "<table border=\"1\" class=\"dataframe\">\n",
       "  <thead>\n",
       "    <tr style=\"text-align: right;\">\n",
       "      <th></th>\n",
       "      <th>Year_of_Release</th>\n",
       "      <th>NA_sales</th>\n",
       "      <th>EU_sales</th>\n",
       "      <th>JP_sales</th>\n",
       "      <th>Other_sales</th>\n",
       "      <th>Critic_Score</th>\n",
       "    </tr>\n",
       "  </thead>\n",
       "  <tbody>\n",
       "    <tr>\n",
       "      <th>count</th>\n",
       "      <td>16446.000000</td>\n",
       "      <td>16715.000000</td>\n",
       "      <td>16715.000000</td>\n",
       "      <td>16715.000000</td>\n",
       "      <td>16715.000000</td>\n",
       "      <td>8137.000000</td>\n",
       "    </tr>\n",
       "    <tr>\n",
       "      <th>mean</th>\n",
       "      <td>2006.484616</td>\n",
       "      <td>0.263377</td>\n",
       "      <td>0.145060</td>\n",
       "      <td>0.077617</td>\n",
       "      <td>0.047342</td>\n",
       "      <td>68.967679</td>\n",
       "    </tr>\n",
       "    <tr>\n",
       "      <th>std</th>\n",
       "      <td>5.877050</td>\n",
       "      <td>0.813604</td>\n",
       "      <td>0.503339</td>\n",
       "      <td>0.308853</td>\n",
       "      <td>0.186731</td>\n",
       "      <td>13.938165</td>\n",
       "    </tr>\n",
       "    <tr>\n",
       "      <th>min</th>\n",
       "      <td>1980.000000</td>\n",
       "      <td>0.000000</td>\n",
       "      <td>0.000000</td>\n",
       "      <td>0.000000</td>\n",
       "      <td>0.000000</td>\n",
       "      <td>13.000000</td>\n",
       "    </tr>\n",
       "    <tr>\n",
       "      <th>25%</th>\n",
       "      <td>2003.000000</td>\n",
       "      <td>0.000000</td>\n",
       "      <td>0.000000</td>\n",
       "      <td>0.000000</td>\n",
       "      <td>0.000000</td>\n",
       "      <td>60.000000</td>\n",
       "    </tr>\n",
       "    <tr>\n",
       "      <th>50%</th>\n",
       "      <td>2007.000000</td>\n",
       "      <td>0.080000</td>\n",
       "      <td>0.020000</td>\n",
       "      <td>0.000000</td>\n",
       "      <td>0.010000</td>\n",
       "      <td>71.000000</td>\n",
       "    </tr>\n",
       "    <tr>\n",
       "      <th>75%</th>\n",
       "      <td>2010.000000</td>\n",
       "      <td>0.240000</td>\n",
       "      <td>0.110000</td>\n",
       "      <td>0.040000</td>\n",
       "      <td>0.030000</td>\n",
       "      <td>79.000000</td>\n",
       "    </tr>\n",
       "    <tr>\n",
       "      <th>max</th>\n",
       "      <td>2016.000000</td>\n",
       "      <td>41.360000</td>\n",
       "      <td>28.960000</td>\n",
       "      <td>10.220000</td>\n",
       "      <td>10.570000</td>\n",
       "      <td>98.000000</td>\n",
       "    </tr>\n",
       "  </tbody>\n",
       "</table>\n",
       "</div>"
      ],
      "text/plain": [
       "       Year_of_Release      NA_sales      EU_sales      JP_sales  \\\n",
       "count     16446.000000  16715.000000  16715.000000  16715.000000   \n",
       "mean       2006.484616      0.263377      0.145060      0.077617   \n",
       "std           5.877050      0.813604      0.503339      0.308853   \n",
       "min        1980.000000      0.000000      0.000000      0.000000   \n",
       "25%        2003.000000      0.000000      0.000000      0.000000   \n",
       "50%        2007.000000      0.080000      0.020000      0.000000   \n",
       "75%        2010.000000      0.240000      0.110000      0.040000   \n",
       "max        2016.000000     41.360000     28.960000     10.220000   \n",
       "\n",
       "        Other_sales  Critic_Score  \n",
       "count  16715.000000   8137.000000  \n",
       "mean       0.047342     68.967679  \n",
       "std        0.186731     13.938165  \n",
       "min        0.000000     13.000000  \n",
       "25%        0.000000     60.000000  \n",
       "50%        0.010000     71.000000  \n",
       "75%        0.030000     79.000000  \n",
       "max       10.570000     98.000000  "
      ]
     },
     "execution_count": 3,
     "metadata": {},
     "output_type": "execute_result"
    }
   ],
   "source": [
    "games.describe()"
   ]
  },
  {
   "cell_type": "code",
   "execution_count": 4,
   "id": "738da0b3",
   "metadata": {
    "scrolled": true
   },
   "outputs": [
    {
     "data": {
      "text/html": [
       "<div>\n",
       "<style scoped>\n",
       "    .dataframe tbody tr th:only-of-type {\n",
       "        vertical-align: middle;\n",
       "    }\n",
       "\n",
       "    .dataframe tbody tr th {\n",
       "        vertical-align: top;\n",
       "    }\n",
       "\n",
       "    .dataframe thead th {\n",
       "        text-align: right;\n",
       "    }\n",
       "</style>\n",
       "<table border=\"1\" class=\"dataframe\">\n",
       "  <thead>\n",
       "    <tr style=\"text-align: right;\">\n",
       "      <th></th>\n",
       "      <th>name</th>\n",
       "      <th>platform</th>\n",
       "      <th>year_of_release</th>\n",
       "      <th>genre</th>\n",
       "      <th>na_sales</th>\n",
       "      <th>eu_sales</th>\n",
       "      <th>jp_sales</th>\n",
       "      <th>other_sales</th>\n",
       "      <th>critic_score</th>\n",
       "      <th>user_score</th>\n",
       "      <th>rating</th>\n",
       "    </tr>\n",
       "  </thead>\n",
       "  <tbody>\n",
       "    <tr>\n",
       "      <th>0</th>\n",
       "      <td>Wii Sports</td>\n",
       "      <td>Wii</td>\n",
       "      <td>2006.0</td>\n",
       "      <td>Sports</td>\n",
       "      <td>41.36</td>\n",
       "      <td>28.96</td>\n",
       "      <td>3.77</td>\n",
       "      <td>8.45</td>\n",
       "      <td>76.0</td>\n",
       "      <td>8</td>\n",
       "      <td>E</td>\n",
       "    </tr>\n",
       "    <tr>\n",
       "      <th>1</th>\n",
       "      <td>Super Mario Bros.</td>\n",
       "      <td>NES</td>\n",
       "      <td>1985.0</td>\n",
       "      <td>Platform</td>\n",
       "      <td>29.08</td>\n",
       "      <td>3.58</td>\n",
       "      <td>6.81</td>\n",
       "      <td>0.77</td>\n",
       "      <td>NaN</td>\n",
       "      <td>NaN</td>\n",
       "      <td>NaN</td>\n",
       "    </tr>\n",
       "    <tr>\n",
       "      <th>2</th>\n",
       "      <td>Mario Kart Wii</td>\n",
       "      <td>Wii</td>\n",
       "      <td>2008.0</td>\n",
       "      <td>Racing</td>\n",
       "      <td>15.68</td>\n",
       "      <td>12.76</td>\n",
       "      <td>3.79</td>\n",
       "      <td>3.29</td>\n",
       "      <td>82.0</td>\n",
       "      <td>8.3</td>\n",
       "      <td>E</td>\n",
       "    </tr>\n",
       "    <tr>\n",
       "      <th>3</th>\n",
       "      <td>Wii Sports Resort</td>\n",
       "      <td>Wii</td>\n",
       "      <td>2009.0</td>\n",
       "      <td>Sports</td>\n",
       "      <td>15.61</td>\n",
       "      <td>10.93</td>\n",
       "      <td>3.28</td>\n",
       "      <td>2.95</td>\n",
       "      <td>80.0</td>\n",
       "      <td>8</td>\n",
       "      <td>E</td>\n",
       "    </tr>\n",
       "    <tr>\n",
       "      <th>4</th>\n",
       "      <td>Pokemon Red/Pokemon Blue</td>\n",
       "      <td>GB</td>\n",
       "      <td>1996.0</td>\n",
       "      <td>Role-Playing</td>\n",
       "      <td>11.27</td>\n",
       "      <td>8.89</td>\n",
       "      <td>10.22</td>\n",
       "      <td>1.00</td>\n",
       "      <td>NaN</td>\n",
       "      <td>NaN</td>\n",
       "      <td>NaN</td>\n",
       "    </tr>\n",
       "  </tbody>\n",
       "</table>\n",
       "</div>"
      ],
      "text/plain": [
       "                       name platform  year_of_release         genre  na_sales  \\\n",
       "0                Wii Sports      Wii           2006.0        Sports     41.36   \n",
       "1         Super Mario Bros.      NES           1985.0      Platform     29.08   \n",
       "2            Mario Kart Wii      Wii           2008.0        Racing     15.68   \n",
       "3         Wii Sports Resort      Wii           2009.0        Sports     15.61   \n",
       "4  Pokemon Red/Pokemon Blue       GB           1996.0  Role-Playing     11.27   \n",
       "\n",
       "   eu_sales  jp_sales  other_sales  critic_score user_score rating  \n",
       "0     28.96      3.77         8.45          76.0          8      E  \n",
       "1      3.58      6.81         0.77           NaN        NaN    NaN  \n",
       "2     12.76      3.79         3.29          82.0        8.3      E  \n",
       "3     10.93      3.28         2.95          80.0          8      E  \n",
       "4      8.89     10.22         1.00           NaN        NaN    NaN  "
      ]
     },
     "execution_count": 4,
     "metadata": {},
     "output_type": "execute_result"
    }
   ],
   "source": [
    "# заменим названия столбцов (приведем к нижнему регистру)\n",
    "games.columns = [x.lower() for x in games.columns] \n",
    "games.head()"
   ]
  },
  {
   "cell_type": "markdown",
   "id": "233bea9d",
   "metadata": {},
   "source": [
    "Заметим, что 2424 значений в столбце user_score имеет tbd (to be determined) значение.\n",
    " Это означает, что оценка еще не поставлена. Однако можно заполнить эти значения так же, как будто эти значения NaN"
   ]
  },
  {
   "cell_type": "code",
   "execution_count": 5,
   "id": "4e802a95",
   "metadata": {
    "scrolled": false
   },
   "outputs": [
    {
     "data": {
      "text/html": [
       "<div>\n",
       "<style scoped>\n",
       "    .dataframe tbody tr th:only-of-type {\n",
       "        vertical-align: middle;\n",
       "    }\n",
       "\n",
       "    .dataframe tbody tr th {\n",
       "        vertical-align: top;\n",
       "    }\n",
       "\n",
       "    .dataframe thead th {\n",
       "        text-align: right;\n",
       "    }\n",
       "</style>\n",
       "<table border=\"1\" class=\"dataframe\">\n",
       "  <thead>\n",
       "    <tr style=\"text-align: right;\">\n",
       "      <th></th>\n",
       "      <th>name</th>\n",
       "      <th>platform</th>\n",
       "      <th>year_of_release</th>\n",
       "      <th>genre</th>\n",
       "      <th>na_sales</th>\n",
       "      <th>eu_sales</th>\n",
       "      <th>jp_sales</th>\n",
       "      <th>other_sales</th>\n",
       "      <th>critic_score</th>\n",
       "      <th>user_score</th>\n",
       "      <th>rating</th>\n",
       "    </tr>\n",
       "  </thead>\n",
       "  <tbody>\n",
       "    <tr>\n",
       "      <th>119</th>\n",
       "      <td>Zumba Fitness</td>\n",
       "      <td>Wii</td>\n",
       "      <td>2010.0</td>\n",
       "      <td>Sports</td>\n",
       "      <td>3.45</td>\n",
       "      <td>2.59</td>\n",
       "      <td>0.0</td>\n",
       "      <td>0.66</td>\n",
       "      <td>NaN</td>\n",
       "      <td>tbd</td>\n",
       "      <td>E</td>\n",
       "    </tr>\n",
       "    <tr>\n",
       "      <th>301</th>\n",
       "      <td>Namco Museum: 50th Anniversary</td>\n",
       "      <td>PS2</td>\n",
       "      <td>2005.0</td>\n",
       "      <td>Misc</td>\n",
       "      <td>2.08</td>\n",
       "      <td>1.35</td>\n",
       "      <td>0.0</td>\n",
       "      <td>0.54</td>\n",
       "      <td>61.0</td>\n",
       "      <td>tbd</td>\n",
       "      <td>E10+</td>\n",
       "    </tr>\n",
       "    <tr>\n",
       "      <th>520</th>\n",
       "      <td>Zumba Fitness 2</td>\n",
       "      <td>Wii</td>\n",
       "      <td>2011.0</td>\n",
       "      <td>Sports</td>\n",
       "      <td>1.51</td>\n",
       "      <td>1.03</td>\n",
       "      <td>0.0</td>\n",
       "      <td>0.27</td>\n",
       "      <td>NaN</td>\n",
       "      <td>tbd</td>\n",
       "      <td>T</td>\n",
       "    </tr>\n",
       "    <tr>\n",
       "      <th>645</th>\n",
       "      <td>uDraw Studio</td>\n",
       "      <td>Wii</td>\n",
       "      <td>2010.0</td>\n",
       "      <td>Misc</td>\n",
       "      <td>1.65</td>\n",
       "      <td>0.57</td>\n",
       "      <td>0.0</td>\n",
       "      <td>0.20</td>\n",
       "      <td>71.0</td>\n",
       "      <td>tbd</td>\n",
       "      <td>E</td>\n",
       "    </tr>\n",
       "    <tr>\n",
       "      <th>657</th>\n",
       "      <td>Frogger's Adventures: Temple of the Frog</td>\n",
       "      <td>GBA</td>\n",
       "      <td>NaN</td>\n",
       "      <td>Adventure</td>\n",
       "      <td>2.15</td>\n",
       "      <td>0.18</td>\n",
       "      <td>0.0</td>\n",
       "      <td>0.07</td>\n",
       "      <td>73.0</td>\n",
       "      <td>tbd</td>\n",
       "      <td>E</td>\n",
       "    </tr>\n",
       "    <tr>\n",
       "      <th>...</th>\n",
       "      <td>...</td>\n",
       "      <td>...</td>\n",
       "      <td>...</td>\n",
       "      <td>...</td>\n",
       "      <td>...</td>\n",
       "      <td>...</td>\n",
       "      <td>...</td>\n",
       "      <td>...</td>\n",
       "      <td>...</td>\n",
       "      <td>...</td>\n",
       "      <td>...</td>\n",
       "    </tr>\n",
       "    <tr>\n",
       "      <th>16695</th>\n",
       "      <td>Planet Monsters</td>\n",
       "      <td>GBA</td>\n",
       "      <td>2001.0</td>\n",
       "      <td>Action</td>\n",
       "      <td>0.01</td>\n",
       "      <td>0.00</td>\n",
       "      <td>0.0</td>\n",
       "      <td>0.00</td>\n",
       "      <td>67.0</td>\n",
       "      <td>tbd</td>\n",
       "      <td>E</td>\n",
       "    </tr>\n",
       "    <tr>\n",
       "      <th>16697</th>\n",
       "      <td>Bust-A-Move 3000</td>\n",
       "      <td>GC</td>\n",
       "      <td>2003.0</td>\n",
       "      <td>Puzzle</td>\n",
       "      <td>0.01</td>\n",
       "      <td>0.00</td>\n",
       "      <td>0.0</td>\n",
       "      <td>0.00</td>\n",
       "      <td>53.0</td>\n",
       "      <td>tbd</td>\n",
       "      <td>E</td>\n",
       "    </tr>\n",
       "    <tr>\n",
       "      <th>16698</th>\n",
       "      <td>Mega Brain Boost</td>\n",
       "      <td>DS</td>\n",
       "      <td>2008.0</td>\n",
       "      <td>Puzzle</td>\n",
       "      <td>0.01</td>\n",
       "      <td>0.00</td>\n",
       "      <td>0.0</td>\n",
       "      <td>0.00</td>\n",
       "      <td>48.0</td>\n",
       "      <td>tbd</td>\n",
       "      <td>E</td>\n",
       "    </tr>\n",
       "    <tr>\n",
       "      <th>16704</th>\n",
       "      <td>Plushees</td>\n",
       "      <td>DS</td>\n",
       "      <td>2008.0</td>\n",
       "      <td>Simulation</td>\n",
       "      <td>0.01</td>\n",
       "      <td>0.00</td>\n",
       "      <td>0.0</td>\n",
       "      <td>0.00</td>\n",
       "      <td>NaN</td>\n",
       "      <td>tbd</td>\n",
       "      <td>E</td>\n",
       "    </tr>\n",
       "    <tr>\n",
       "      <th>16706</th>\n",
       "      <td>Men in Black II: Alien Escape</td>\n",
       "      <td>GC</td>\n",
       "      <td>2003.0</td>\n",
       "      <td>Shooter</td>\n",
       "      <td>0.01</td>\n",
       "      <td>0.00</td>\n",
       "      <td>0.0</td>\n",
       "      <td>0.00</td>\n",
       "      <td>NaN</td>\n",
       "      <td>tbd</td>\n",
       "      <td>T</td>\n",
       "    </tr>\n",
       "  </tbody>\n",
       "</table>\n",
       "<p>2424 rows × 11 columns</p>\n",
       "</div>"
      ],
      "text/plain": [
       "                                           name platform  year_of_release  \\\n",
       "119                               Zumba Fitness      Wii           2010.0   \n",
       "301              Namco Museum: 50th Anniversary      PS2           2005.0   \n",
       "520                             Zumba Fitness 2      Wii           2011.0   \n",
       "645                                uDraw Studio      Wii           2010.0   \n",
       "657    Frogger's Adventures: Temple of the Frog      GBA              NaN   \n",
       "...                                         ...      ...              ...   \n",
       "16695                           Planet Monsters      GBA           2001.0   \n",
       "16697                          Bust-A-Move 3000       GC           2003.0   \n",
       "16698                          Mega Brain Boost       DS           2008.0   \n",
       "16704                                  Plushees       DS           2008.0   \n",
       "16706             Men in Black II: Alien Escape       GC           2003.0   \n",
       "\n",
       "            genre  na_sales  eu_sales  jp_sales  other_sales  critic_score  \\\n",
       "119        Sports      3.45      2.59       0.0         0.66           NaN   \n",
       "301          Misc      2.08      1.35       0.0         0.54          61.0   \n",
       "520        Sports      1.51      1.03       0.0         0.27           NaN   \n",
       "645          Misc      1.65      0.57       0.0         0.20          71.0   \n",
       "657     Adventure      2.15      0.18       0.0         0.07          73.0   \n",
       "...           ...       ...       ...       ...          ...           ...   \n",
       "16695      Action      0.01      0.00       0.0         0.00          67.0   \n",
       "16697      Puzzle      0.01      0.00       0.0         0.00          53.0   \n",
       "16698      Puzzle      0.01      0.00       0.0         0.00          48.0   \n",
       "16704  Simulation      0.01      0.00       0.0         0.00           NaN   \n",
       "16706     Shooter      0.01      0.00       0.0         0.00           NaN   \n",
       "\n",
       "      user_score rating  \n",
       "119          tbd      E  \n",
       "301          tbd   E10+  \n",
       "520          tbd      T  \n",
       "645          tbd      E  \n",
       "657          tbd      E  \n",
       "...          ...    ...  \n",
       "16695        tbd      E  \n",
       "16697        tbd      E  \n",
       "16698        tbd      E  \n",
       "16704        tbd      E  \n",
       "16706        tbd      T  \n",
       "\n",
       "[2424 rows x 11 columns]"
      ]
     },
     "execution_count": 5,
     "metadata": {},
     "output_type": "execute_result"
    }
   ],
   "source": [
    "games[games['user_score']=='tbd']"
   ]
  },
  {
   "cell_type": "code",
   "execution_count": 6,
   "id": "c8f0e55e",
   "metadata": {},
   "outputs": [
    {
     "name": "stdout",
     "output_type": "stream",
     "text": [
      "<class 'pandas.core.frame.DataFrame'>\n",
      "RangeIndex: 16715 entries, 0 to 16714\n",
      "Data columns (total 11 columns):\n",
      " #   Column           Non-Null Count  Dtype         \n",
      "---  ------           --------------  -----         \n",
      " 0   name             16713 non-null  object        \n",
      " 1   platform         16715 non-null  object        \n",
      " 2   year_of_release  16446 non-null  datetime64[ns]\n",
      " 3   genre            16713 non-null  object        \n",
      " 4   na_sales         16715 non-null  float64       \n",
      " 5   eu_sales         16715 non-null  float64       \n",
      " 6   jp_sales         16715 non-null  float64       \n",
      " 7   other_sales      16715 non-null  float64       \n",
      " 8   critic_score     8137 non-null   float64       \n",
      " 9   user_score       7590 non-null   float64       \n",
      " 10  rating           9949 non-null   object        \n",
      "dtypes: datetime64[ns](1), float64(6), object(4)\n",
      "memory usage: 1.4+ MB\n"
     ]
    }
   ],
   "source": [
    "# Преобразуем данные в нужные типы. \n",
    "# Видим, что в столбце year_of_release тип данных float. Заменим тип данных на datetime\n",
    "games['year_of_release'] = pd.to_datetime(games['year_of_release'], format = '%Y')\n",
    "# Также заметим, что user_score имеет тип object. Заменим на float\n",
    "games['user_score'] = pd.to_numeric(games['user_score'], errors = 'coerce')\n",
    "\n",
    "games.info()"
   ]
  },
  {
   "cell_type": "code",
   "execution_count": 7,
   "id": "d397878a",
   "metadata": {},
   "outputs": [],
   "source": [
    "# Обработайте пропуски при необходимости:\n",
    "# critic_score, user_score, rating заполним NaN-ы\n",
    "games['critic_score'] = games['critic_score'].fillna(-1)\n",
    "games['user_score'] = games['user_score'].fillna(-1)\n",
    "games['rating'] = games['rating'].fillna('no_rating')"
   ]
  },
  {
   "cell_type": "code",
   "execution_count": 8,
   "id": "6a2e1e53",
   "metadata": {
    "scrolled": true
   },
   "outputs": [
    {
     "data": {
      "text/html": [
       "<div>\n",
       "<style scoped>\n",
       "    .dataframe tbody tr th:only-of-type {\n",
       "        vertical-align: middle;\n",
       "    }\n",
       "\n",
       "    .dataframe tbody tr th {\n",
       "        vertical-align: top;\n",
       "    }\n",
       "\n",
       "    .dataframe thead th {\n",
       "        text-align: right;\n",
       "    }\n",
       "</style>\n",
       "<table border=\"1\" class=\"dataframe\">\n",
       "  <thead>\n",
       "    <tr style=\"text-align: right;\">\n",
       "      <th></th>\n",
       "      <th>name</th>\n",
       "      <th>platform</th>\n",
       "      <th>year_of_release</th>\n",
       "      <th>genre</th>\n",
       "      <th>na_sales</th>\n",
       "      <th>eu_sales</th>\n",
       "      <th>jp_sales</th>\n",
       "      <th>other_sales</th>\n",
       "      <th>critic_score</th>\n",
       "      <th>user_score</th>\n",
       "      <th>rating</th>\n",
       "      <th>total_sales</th>\n",
       "    </tr>\n",
       "  </thead>\n",
       "  <tbody>\n",
       "    <tr>\n",
       "      <th>0</th>\n",
       "      <td>Wii Sports</td>\n",
       "      <td>Wii</td>\n",
       "      <td>2006-01-01</td>\n",
       "      <td>Sports</td>\n",
       "      <td>41.36</td>\n",
       "      <td>28.96</td>\n",
       "      <td>3.77</td>\n",
       "      <td>8.45</td>\n",
       "      <td>76.0</td>\n",
       "      <td>8.0</td>\n",
       "      <td>E</td>\n",
       "      <td>74.09</td>\n",
       "    </tr>\n",
       "    <tr>\n",
       "      <th>1</th>\n",
       "      <td>Super Mario Bros.</td>\n",
       "      <td>NES</td>\n",
       "      <td>1985-01-01</td>\n",
       "      <td>Platform</td>\n",
       "      <td>29.08</td>\n",
       "      <td>3.58</td>\n",
       "      <td>6.81</td>\n",
       "      <td>0.77</td>\n",
       "      <td>-1.0</td>\n",
       "      <td>-1.0</td>\n",
       "      <td>no_rating</td>\n",
       "      <td>39.47</td>\n",
       "    </tr>\n",
       "    <tr>\n",
       "      <th>2</th>\n",
       "      <td>Mario Kart Wii</td>\n",
       "      <td>Wii</td>\n",
       "      <td>2008-01-01</td>\n",
       "      <td>Racing</td>\n",
       "      <td>15.68</td>\n",
       "      <td>12.76</td>\n",
       "      <td>3.79</td>\n",
       "      <td>3.29</td>\n",
       "      <td>82.0</td>\n",
       "      <td>8.3</td>\n",
       "      <td>E</td>\n",
       "      <td>32.23</td>\n",
       "    </tr>\n",
       "    <tr>\n",
       "      <th>3</th>\n",
       "      <td>Wii Sports Resort</td>\n",
       "      <td>Wii</td>\n",
       "      <td>2009-01-01</td>\n",
       "      <td>Sports</td>\n",
       "      <td>15.61</td>\n",
       "      <td>10.93</td>\n",
       "      <td>3.28</td>\n",
       "      <td>2.95</td>\n",
       "      <td>80.0</td>\n",
       "      <td>8.0</td>\n",
       "      <td>E</td>\n",
       "      <td>29.82</td>\n",
       "    </tr>\n",
       "    <tr>\n",
       "      <th>4</th>\n",
       "      <td>Pokemon Red/Pokemon Blue</td>\n",
       "      <td>GB</td>\n",
       "      <td>1996-01-01</td>\n",
       "      <td>Role-Playing</td>\n",
       "      <td>11.27</td>\n",
       "      <td>8.89</td>\n",
       "      <td>10.22</td>\n",
       "      <td>1.00</td>\n",
       "      <td>-1.0</td>\n",
       "      <td>-1.0</td>\n",
       "      <td>no_rating</td>\n",
       "      <td>30.38</td>\n",
       "    </tr>\n",
       "  </tbody>\n",
       "</table>\n",
       "</div>"
      ],
      "text/plain": [
       "                       name platform year_of_release         genre  na_sales  \\\n",
       "0                Wii Sports      Wii      2006-01-01        Sports     41.36   \n",
       "1         Super Mario Bros.      NES      1985-01-01      Platform     29.08   \n",
       "2            Mario Kart Wii      Wii      2008-01-01        Racing     15.68   \n",
       "3         Wii Sports Resort      Wii      2009-01-01        Sports     15.61   \n",
       "4  Pokemon Red/Pokemon Blue       GB      1996-01-01  Role-Playing     11.27   \n",
       "\n",
       "   eu_sales  jp_sales  other_sales  critic_score  user_score     rating  \\\n",
       "0     28.96      3.77         8.45          76.0         8.0          E   \n",
       "1      3.58      6.81         0.77          -1.0        -1.0  no_rating   \n",
       "2     12.76      3.79         3.29          82.0         8.3          E   \n",
       "3     10.93      3.28         2.95          80.0         8.0          E   \n",
       "4      8.89     10.22         1.00          -1.0        -1.0  no_rating   \n",
       "\n",
       "   total_sales  \n",
       "0        74.09  \n",
       "1        39.47  \n",
       "2        32.23  \n",
       "3        29.82  \n",
       "4        30.38  "
      ]
     },
     "execution_count": 8,
     "metadata": {},
     "output_type": "execute_result"
    }
   ],
   "source": [
    "# Посчитайте суммарные продажи во всех регионах и запишите их в отдельный столбец.\n",
    "games['total_sales'] = games['na_sales'] + games['eu_sales'] + games['jp_sales']\n",
    "games.head()"
   ]
  },
  {
   "cell_type": "markdown",
   "id": "2fe385f3",
   "metadata": {},
   "source": [
    "Итак, с чем могут быть связаны пропуски? По оценкам от юзеров и критиков думаю можно сказать, что бывают случаи, когда игра просто не была оценена критиками и пользователями.\n"
   ]
  },
  {
   "cell_type": "markdown",
   "id": "9525f9c6",
   "metadata": {},
   "source": [
    "## Шаг 3. Проведите исследовательский анализ данных\n",
    "\n",
    "Для начала посмотрим, как менялись продажи по платформам за все года. "
   ]
  },
  {
   "cell_type": "code",
   "execution_count": 9,
   "id": "56278ec0",
   "metadata": {
    "scrolled": false
   },
   "outputs": [
    {
     "data": {
      "text/plain": [
       "Text(0.5, 1.0, 'Sales by year')"
      ]
     },
     "execution_count": 9,
     "metadata": {},
     "output_type": "execute_result"
    },
    {
     "data": {
      "image/png": "[encoded data removed]",
      "text/plain": [
       "<Figure size 864x432 with 1 Axes>"
      ]
     },
     "metadata": {
      "needs_background": "light"
     },
     "output_type": "display_data"
    }
   ],
   "source": [
    "sales_platform1 = games.pivot_table(index='year_of_release', columns='platform', values='total_sales', aggfunc='sum')\n",
    "\n",
    "sales_platform1.plot(figsize=(12,6),legend=False).set_title(\"Sales by year\", fontsize=20, verticalalignment='bottom')"
   ]
  },
  {
   "cell_type": "code",
   "execution_count": 10,
   "id": "13d026c6",
   "metadata": {
    "scrolled": true
   },
   "outputs": [
    {
     "data": {
      "text/html": [
       "<div>\n",
       "<style scoped>\n",
       "    .dataframe tbody tr th:only-of-type {\n",
       "        vertical-align: middle;\n",
       "    }\n",
       "\n",
       "    .dataframe tbody tr th {\n",
       "        vertical-align: top;\n",
       "    }\n",
       "\n",
       "    .dataframe thead th {\n",
       "        text-align: right;\n",
       "    }\n",
       "</style>\n",
       "<table border=\"1\" class=\"dataframe\">\n",
       "  <thead>\n",
       "    <tr style=\"text-align: right;\">\n",
       "      <th></th>\n",
       "      <th>total_sales</th>\n",
       "    </tr>\n",
       "    <tr>\n",
       "      <th>platform</th>\n",
       "      <th></th>\n",
       "    </tr>\n",
       "  </thead>\n",
       "  <tbody>\n",
       "    <tr>\n",
       "      <th>PS2</th>\n",
       "      <td>1062.33</td>\n",
       "    </tr>\n",
       "    <tr>\n",
       "      <th>X360</th>\n",
       "      <td>885.66</td>\n",
       "    </tr>\n",
       "    <tr>\n",
       "      <th>Wii</th>\n",
       "      <td>828.44</td>\n",
       "    </tr>\n",
       "    <tr>\n",
       "      <th>PS3</th>\n",
       "      <td>803.97</td>\n",
       "    </tr>\n",
       "    <tr>\n",
       "      <th>DS</th>\n",
       "      <td>746.86</td>\n",
       "    </tr>\n",
       "  </tbody>\n",
       "</table>\n",
       "</div>"
      ],
      "text/plain": [
       "          total_sales\n",
       "platform             \n",
       "PS2           1062.33\n",
       "X360           885.66\n",
       "Wii            828.44\n",
       "PS3            803.97\n",
       "DS             746.86"
      ]
     },
     "execution_count": 10,
     "metadata": {},
     "output_type": "execute_result"
    }
   ],
   "source": [
    "#Посмотрим платформы с наибольшими суммарными продажами \n",
    "top5_sales = games.pivot_table(index='platform', values='total_sales', aggfunc='sum').sort_values(by='total_sales',ascending=False)[:5]\n",
    "top5_sales"
   ]
  },
  {
   "cell_type": "code",
   "execution_count": 11,
   "id": "0734b69b",
   "metadata": {
    "scrolled": true
   },
   "outputs": [
    {
     "data": {
      "image/png": "[encoded data removed]",
      "text/plain": [
       "<Figure size 432x288 with 1 Axes>"
      ]
     },
     "metadata": {
      "needs_background": "light"
     },
     "output_type": "display_data"
    },
    {
     "data": {
      "image/png": "[encoded data removed]",
      "text/plain": [
       "<Figure size 432x288 with 1 Axes>"
      ]
     },
     "metadata": {
      "needs_background": "light"
     },
     "output_type": "display_data"
    },
    {
     "data": {
      "image/png": "[encoded data removed]",
      "text/plain": [
       "<Figure size 432x288 with 1 Axes>"
      ]
     },
     "metadata": {
      "needs_background": "light"
     },
     "output_type": "display_data"
    },
    {
     "data": {
      "image/png": "[encoded data removed]",
      "text/plain": [
       "<Figure size 432x288 with 1 Axes>"
      ]
     },
     "metadata": {
      "needs_background": "light"
     },
     "output_type": "display_data"
    },
    {
     "data": {
      "image/png": "[encoded data removed]",
      "text/plain": [
       "<Figure size 432x288 with 1 Axes>"
      ]
     },
     "metadata": {
      "needs_background": "light"
     },
     "output_type": "display_data"
    }
   ],
   "source": [
    "top = ['PS2','X360','Wii','PS3','DS']\n",
    "for i in top:\n",
    "    games.query('platform == @i').pivot_table(index='year_of_release',values='total_sales',aggfunc='sum').plot(kind='bar',y='total_sales', grid=True).set_title(\"Sales by year, \"+i, fontsize=20, verticalalignment='bottom')"
   ]
  },
  {
   "cell_type": "markdown",
   "id": "082ad6eb",
   "metadata": {},
   "source": [
    "Сколько игр выпускалось в разные годы. Важны ли данные за все периоды?"
   ]
  },
  {
   "cell_type": "code",
   "execution_count": 12,
   "id": "c196df4d",
   "metadata": {
    "scrolled": false
   },
   "outputs": [
    {
     "data": {
      "text/html": [
       "<div>\n",
       "<style scoped>\n",
       "    .dataframe tbody tr th:only-of-type {\n",
       "        vertical-align: middle;\n",
       "    }\n",
       "\n",
       "    .dataframe tbody tr th {\n",
       "        vertical-align: top;\n",
       "    }\n",
       "\n",
       "    .dataframe thead th {\n",
       "        text-align: right;\n",
       "    }\n",
       "</style>\n",
       "<table border=\"1\" class=\"dataframe\">\n",
       "  <thead>\n",
       "    <tr style=\"text-align: right;\">\n",
       "      <th></th>\n",
       "      <th>name</th>\n",
       "    </tr>\n",
       "    <tr>\n",
       "      <th>year_of_release</th>\n",
       "      <th></th>\n",
       "    </tr>\n",
       "  </thead>\n",
       "  <tbody>\n",
       "    <tr>\n",
       "      <th>1980-01-01</th>\n",
       "      <td>9</td>\n",
       "    </tr>\n",
       "    <tr>\n",
       "      <th>1981-01-01</th>\n",
       "      <td>46</td>\n",
       "    </tr>\n",
       "    <tr>\n",
       "      <th>1982-01-01</th>\n",
       "      <td>36</td>\n",
       "    </tr>\n",
       "    <tr>\n",
       "      <th>1983-01-01</th>\n",
       "      <td>17</td>\n",
       "    </tr>\n",
       "    <tr>\n",
       "      <th>1984-01-01</th>\n",
       "      <td>14</td>\n",
       "    </tr>\n",
       "    <tr>\n",
       "      <th>1985-01-01</th>\n",
       "      <td>14</td>\n",
       "    </tr>\n",
       "    <tr>\n",
       "      <th>1986-01-01</th>\n",
       "      <td>21</td>\n",
       "    </tr>\n",
       "    <tr>\n",
       "      <th>1987-01-01</th>\n",
       "      <td>16</td>\n",
       "    </tr>\n",
       "    <tr>\n",
       "      <th>1988-01-01</th>\n",
       "      <td>15</td>\n",
       "    </tr>\n",
       "    <tr>\n",
       "      <th>1989-01-01</th>\n",
       "      <td>17</td>\n",
       "    </tr>\n",
       "    <tr>\n",
       "      <th>1990-01-01</th>\n",
       "      <td>16</td>\n",
       "    </tr>\n",
       "    <tr>\n",
       "      <th>1991-01-01</th>\n",
       "      <td>41</td>\n",
       "    </tr>\n",
       "    <tr>\n",
       "      <th>1992-01-01</th>\n",
       "      <td>43</td>\n",
       "    </tr>\n",
       "    <tr>\n",
       "      <th>1993-01-01</th>\n",
       "      <td>60</td>\n",
       "    </tr>\n",
       "    <tr>\n",
       "      <th>1994-01-01</th>\n",
       "      <td>121</td>\n",
       "    </tr>\n",
       "    <tr>\n",
       "      <th>1995-01-01</th>\n",
       "      <td>219</td>\n",
       "    </tr>\n",
       "    <tr>\n",
       "      <th>1996-01-01</th>\n",
       "      <td>263</td>\n",
       "    </tr>\n",
       "    <tr>\n",
       "      <th>1997-01-01</th>\n",
       "      <td>289</td>\n",
       "    </tr>\n",
       "    <tr>\n",
       "      <th>1998-01-01</th>\n",
       "      <td>379</td>\n",
       "    </tr>\n",
       "    <tr>\n",
       "      <th>1999-01-01</th>\n",
       "      <td>338</td>\n",
       "    </tr>\n",
       "    <tr>\n",
       "      <th>2000-01-01</th>\n",
       "      <td>350</td>\n",
       "    </tr>\n",
       "    <tr>\n",
       "      <th>2001-01-01</th>\n",
       "      <td>482</td>\n",
       "    </tr>\n",
       "    <tr>\n",
       "      <th>2002-01-01</th>\n",
       "      <td>829</td>\n",
       "    </tr>\n",
       "    <tr>\n",
       "      <th>2003-01-01</th>\n",
       "      <td>775</td>\n",
       "    </tr>\n",
       "    <tr>\n",
       "      <th>2004-01-01</th>\n",
       "      <td>762</td>\n",
       "    </tr>\n",
       "    <tr>\n",
       "      <th>2005-01-01</th>\n",
       "      <td>939</td>\n",
       "    </tr>\n",
       "    <tr>\n",
       "      <th>2006-01-01</th>\n",
       "      <td>1006</td>\n",
       "    </tr>\n",
       "    <tr>\n",
       "      <th>2007-01-01</th>\n",
       "      <td>1197</td>\n",
       "    </tr>\n",
       "    <tr>\n",
       "      <th>2008-01-01</th>\n",
       "      <td>1427</td>\n",
       "    </tr>\n",
       "    <tr>\n",
       "      <th>2009-01-01</th>\n",
       "      <td>1426</td>\n",
       "    </tr>\n",
       "    <tr>\n",
       "      <th>2010-01-01</th>\n",
       "      <td>1255</td>\n",
       "    </tr>\n",
       "    <tr>\n",
       "      <th>2011-01-01</th>\n",
       "      <td>1136</td>\n",
       "    </tr>\n",
       "    <tr>\n",
       "      <th>2012-01-01</th>\n",
       "      <td>653</td>\n",
       "    </tr>\n",
       "    <tr>\n",
       "      <th>2013-01-01</th>\n",
       "      <td>544</td>\n",
       "    </tr>\n",
       "    <tr>\n",
       "      <th>2014-01-01</th>\n",
       "      <td>581</td>\n",
       "    </tr>\n",
       "    <tr>\n",
       "      <th>2015-01-01</th>\n",
       "      <td>606</td>\n",
       "    </tr>\n",
       "    <tr>\n",
       "      <th>2016-01-01</th>\n",
       "      <td>502</td>\n",
       "    </tr>\n",
       "  </tbody>\n",
       "</table>\n",
       "</div>"
      ],
      "text/plain": [
       "                 name\n",
       "year_of_release      \n",
       "1980-01-01          9\n",
       "1981-01-01         46\n",
       "1982-01-01         36\n",
       "1983-01-01         17\n",
       "1984-01-01         14\n",
       "1985-01-01         14\n",
       "1986-01-01         21\n",
       "1987-01-01         16\n",
       "1988-01-01         15\n",
       "1989-01-01         17\n",
       "1990-01-01         16\n",
       "1991-01-01         41\n",
       "1992-01-01         43\n",
       "1993-01-01         60\n",
       "1994-01-01        121\n",
       "1995-01-01        219\n",
       "1996-01-01        263\n",
       "1997-01-01        289\n",
       "1998-01-01        379\n",
       "1999-01-01        338\n",
       "2000-01-01        350\n",
       "2001-01-01        482\n",
       "2002-01-01        829\n",
       "2003-01-01        775\n",
       "2004-01-01        762\n",
       "2005-01-01        939\n",
       "2006-01-01       1006\n",
       "2007-01-01       1197\n",
       "2008-01-01       1427\n",
       "2009-01-01       1426\n",
       "2010-01-01       1255\n",
       "2011-01-01       1136\n",
       "2012-01-01        653\n",
       "2013-01-01        544\n",
       "2014-01-01        581\n",
       "2015-01-01        606\n",
       "2016-01-01        502"
      ]
     },
     "execution_count": 12,
     "metadata": {},
     "output_type": "execute_result"
    }
   ],
   "source": [
    "games_years = games.pivot_table(index='year_of_release',values ='name',aggfunc='count')\n",
    "games_years"
   ]
  },
  {
   "cell_type": "code",
   "execution_count": 13,
   "id": "10caddd7",
   "metadata": {},
   "outputs": [
    {
     "data": {
      "text/plain": [
       "Text(0.5, 1.0, 'Count of games by year')"
      ]
     },
     "execution_count": 13,
     "metadata": {},
     "output_type": "execute_result"
    },
    {
     "data": {
      "image/png": "[encoded data removed]",
      "text/plain": [
       "<Figure size 864x432 with 1 Axes>"
      ]
     },
     "metadata": {
      "needs_background": "light"
     },
     "output_type": "display_data"
    }
   ],
   "source": [
    "games_years.plot(grid=True, figsize=(12,6)).set_title(\"Count of games by year\", fontsize=20, verticalalignment='bottom')"
   ]
  },
  {
   "cell_type": "markdown",
   "id": "118c035a",
   "metadata": {},
   "source": [
    "* Видим, что в 90-ые годы индустрия игр стала стремительно развиваться, а с 2000 года выпуск игр стал еще больше, что видно по углу наклона. Однако после пика в 2008-2009 гг., игры стали выпускать все меньше.\n",
    "* Отвечая на вопрос, все ли периоды нужны для исследования, то -  нет. Игры стали выглядеть в современном понимании только примерно с 2000 года. С тех пор факторы успеха игр, их высоких оценок и продаж остались такими же: сюжет/графика/геймплей/оптимизация итд. Поэтому объем данных сужается до периода 2000-2016.\n",
    "* Однако данные придется еще сузить, поскольку нам нужны данные по платформам для потенциальной прибыльности в будущем. Это означает, что большинство платформ и годов, когда они были актуальными выпадет из поля зрения в рамках исследования, поскольку нам нужны платформы, которые будут +/- актуальными в будущем  "
   ]
  },
  {
   "cell_type": "code",
   "execution_count": 14,
   "id": "35f10488",
   "metadata": {},
   "outputs": [
    {
     "data": {
      "text/plain": [
       "7.67741935483871"
      ]
     },
     "execution_count": 14,
     "metadata": {},
     "output_type": "execute_result"
    }
   ],
   "source": [
    "#За какой характерный срок появляются новые и исчезают старые платформы?\n",
    "release_period = 0\n",
    "\n",
    "for i in sales_platform1:\n",
    "    release_period += sales_platform1[i].count()\n",
    "\n",
    "release_period/sales_platform1.shape[1]"
   ]
  },
  {
   "cell_type": "markdown",
   "id": "aef0f088",
   "metadata": {},
   "source": [
    "Итак, в среднем платформы актуальны 7,7 лет. \n",
    "\n",
    "Для прогноза хотя бы на следующий год, нужно, чтобы платформа была актуальна хотя бы еще год. Однако и такое количество лет много дл построения прогнозов. Поэтоу сузим и этот период до 3 лет -> делаем срез данных 2014-2016 и посмотрим, какие платформы еще актуальны:"
   ]
  },
  {
   "cell_type": "code",
   "execution_count": 15,
   "id": "dd082f1a",
   "metadata": {},
   "outputs": [
    {
     "data": {
      "text/html": [
       "<div>\n",
       "<style scoped>\n",
       "    .dataframe tbody tr th:only-of-type {\n",
       "        vertical-align: middle;\n",
       "    }\n",
       "\n",
       "    .dataframe tbody tr th {\n",
       "        vertical-align: top;\n",
       "    }\n",
       "\n",
       "    .dataframe thead th {\n",
       "        text-align: right;\n",
       "    }\n",
       "</style>\n",
       "<table border=\"1\" class=\"dataframe\">\n",
       "  <thead>\n",
       "    <tr style=\"text-align: right;\">\n",
       "      <th>platform</th>\n",
       "      <th>3DS</th>\n",
       "      <th>PC</th>\n",
       "      <th>PS3</th>\n",
       "      <th>PS4</th>\n",
       "      <th>PSP</th>\n",
       "      <th>PSV</th>\n",
       "      <th>Wii</th>\n",
       "      <th>WiiU</th>\n",
       "      <th>X360</th>\n",
       "      <th>XOne</th>\n",
       "    </tr>\n",
       "    <tr>\n",
       "      <th>year_of_release</th>\n",
       "      <th></th>\n",
       "      <th></th>\n",
       "      <th></th>\n",
       "      <th></th>\n",
       "      <th></th>\n",
       "      <th></th>\n",
       "      <th></th>\n",
       "      <th></th>\n",
       "      <th></th>\n",
       "      <th></th>\n",
       "    </tr>\n",
       "  </thead>\n",
       "  <tbody>\n",
       "    <tr>\n",
       "      <th>2014-01-01</th>\n",
       "      <td>41.75</td>\n",
       "      <td>12.38</td>\n",
       "      <td>40.88</td>\n",
       "      <td>84.22</td>\n",
       "      <td>0.24</td>\n",
       "      <td>10.56</td>\n",
       "      <td>3.45</td>\n",
       "      <td>20.35</td>\n",
       "      <td>31.61</td>\n",
       "      <td>49.26</td>\n",
       "    </tr>\n",
       "    <tr>\n",
       "      <th>2015-01-01</th>\n",
       "      <td>26.75</td>\n",
       "      <td>7.93</td>\n",
       "      <td>14.70</td>\n",
       "      <td>100.44</td>\n",
       "      <td>0.12</td>\n",
       "      <td>5.93</td>\n",
       "      <td>1.05</td>\n",
       "      <td>15.22</td>\n",
       "      <td>10.86</td>\n",
       "      <td>54.67</td>\n",
       "    </tr>\n",
       "    <tr>\n",
       "      <th>2016-01-01</th>\n",
       "      <td>14.50</td>\n",
       "      <td>4.89</td>\n",
       "      <td>3.23</td>\n",
       "      <td>59.01</td>\n",
       "      <td>NaN</td>\n",
       "      <td>4.10</td>\n",
       "      <td>0.17</td>\n",
       "      <td>4.25</td>\n",
       "      <td>1.40</td>\n",
       "      <td>23.91</td>\n",
       "    </tr>\n",
       "  </tbody>\n",
       "</table>\n",
       "</div>"
      ],
      "text/plain": [
       "platform           3DS     PC    PS3     PS4   PSP    PSV   Wii   WiiU   X360  \\\n",
       "year_of_release                                                                 \n",
       "2014-01-01       41.75  12.38  40.88   84.22  0.24  10.56  3.45  20.35  31.61   \n",
       "2015-01-01       26.75   7.93  14.70  100.44  0.12   5.93  1.05  15.22  10.86   \n",
       "2016-01-01       14.50   4.89   3.23   59.01   NaN   4.10  0.17   4.25   1.40   \n",
       "\n",
       "platform          XOne  \n",
       "year_of_release         \n",
       "2014-01-01       49.26  \n",
       "2015-01-01       54.67  \n",
       "2016-01-01       23.91  "
      ]
     },
     "execution_count": 15,
     "metadata": {},
     "output_type": "execute_result"
    }
   ],
   "source": [
    "sales_platform = games.query('year_of_release > \"2013-01-01\"').pivot_table(index='year_of_release', columns='platform', values='total_sales', aggfunc='sum')\n",
    "sales_platform"
   ]
  },
  {
   "cell_type": "markdown",
   "id": "604ce7ef",
   "metadata": {},
   "source": [
    "Видим, что по платформе PSP в 2016 году уже не выпускают игры. Также видим, что все платформы, кроме 3DS, PS4 и XOne являются теряющими свою актуальность. При этом оставим также PC, так как, если посмотреть по графикам и значениям этой платформы, угасающим ее не назовешь"
   ]
  },
  {
   "cell_type": "code",
   "execution_count": 16,
   "id": "e77ed1be",
   "metadata": {
    "scrolled": false
   },
   "outputs": [
    {
     "data": {
      "text/html": [
       "<div>\n",
       "<style scoped>\n",
       "    .dataframe tbody tr th:only-of-type {\n",
       "        vertical-align: middle;\n",
       "    }\n",
       "\n",
       "    .dataframe tbody tr th {\n",
       "        vertical-align: top;\n",
       "    }\n",
       "\n",
       "    .dataframe thead th {\n",
       "        text-align: right;\n",
       "    }\n",
       "</style>\n",
       "<table border=\"1\" class=\"dataframe\">\n",
       "  <thead>\n",
       "    <tr style=\"text-align: right;\">\n",
       "      <th>platform</th>\n",
       "      <th>3DS</th>\n",
       "      <th>PC</th>\n",
       "      <th>PS4</th>\n",
       "      <th>XOne</th>\n",
       "    </tr>\n",
       "    <tr>\n",
       "      <th>year_of_release</th>\n",
       "      <th></th>\n",
       "      <th></th>\n",
       "      <th></th>\n",
       "      <th></th>\n",
       "    </tr>\n",
       "  </thead>\n",
       "  <tbody>\n",
       "    <tr>\n",
       "      <th>2014-01-01</th>\n",
       "      <td>41.75</td>\n",
       "      <td>12.38</td>\n",
       "      <td>84.22</td>\n",
       "      <td>49.26</td>\n",
       "    </tr>\n",
       "    <tr>\n",
       "      <th>2015-01-01</th>\n",
       "      <td>26.75</td>\n",
       "      <td>7.93</td>\n",
       "      <td>100.44</td>\n",
       "      <td>54.67</td>\n",
       "    </tr>\n",
       "    <tr>\n",
       "      <th>2016-01-01</th>\n",
       "      <td>14.50</td>\n",
       "      <td>4.89</td>\n",
       "      <td>59.01</td>\n",
       "      <td>23.91</td>\n",
       "    </tr>\n",
       "  </tbody>\n",
       "</table>\n",
       "</div>"
      ],
      "text/plain": [
       "platform           3DS     PC     PS4   XOne\n",
       "year_of_release                             \n",
       "2014-01-01       41.75  12.38   84.22  49.26\n",
       "2015-01-01       26.75   7.93  100.44  54.67\n",
       "2016-01-01       14.50   4.89   59.01  23.91"
      ]
     },
     "execution_count": 16,
     "metadata": {},
     "output_type": "execute_result"
    }
   ],
   "source": [
    "sales_platform = sales_platform.drop(['PS3','PSP','PSV','Wii','WiiU','X360'], axis=1)\n",
    "sales_platform"
   ]
  },
  {
   "cell_type": "markdown",
   "id": "aed7d759",
   "metadata": {},
   "source": [
    "Какие платформы лидируют по продажам, растут или падают? Выберите несколько потенциально прибыльных платформ."
   ]
  },
  {
   "cell_type": "code",
   "execution_count": 17,
   "id": "028ee8d7",
   "metadata": {
    "scrolled": false
   },
   "outputs": [
    {
     "data": {
      "text/plain": [
       "Text(0.5, 1.0, 'Platforms by sales')"
      ]
     },
     "execution_count": 17,
     "metadata": {},
     "output_type": "execute_result"
    },
    {
     "data": {
      "image/png": "[encoded data removed]",
      "text/plain": [
       "<Figure size 864x432 with 1 Axes>"
      ]
     },
     "metadata": {
      "needs_background": "light"
     },
     "output_type": "display_data"
    }
   ],
   "source": [
    "sales_platform.plot(grid=True, figsize=(12,6)).set_title(\"Platforms by sales\", fontsize=20, verticalalignment='bottom')"
   ]
  },
  {
   "cell_type": "markdown",
   "id": "43a2af63",
   "metadata": {},
   "source": [
    "В качестве лидирующих по продажам платформ выделяются PS4 и XOne, что вполне логично, поскольку данные консоли лучшие в сфере. В 2016 году виден якобы спад, однако это ввиду того, что данные за 2016 год неполные.\n",
    "\n",
    "Стоит выделить устойчивый спад в продажах у 3DS, что можно объяснить тем, что консоль начала резко терять популярность.\n",
    "\n",
    "Что касается PC, то здесь нельзя похвастаться большими продажами, и прибыльной данную платформу назвать вряд ли можно\n",
    "\n",
    "**Вывод**: если выбирать несколько потенциально прибыльных платформ, то это опрделенно PS4 и XOne"
   ]
  },
  {
   "cell_type": "markdown",
   "id": "0db0a741",
   "metadata": {},
   "source": [
    "### Построим график «ящик с усами» по глобальным продажам игр в разбивке по платформам"
   ]
  },
  {
   "cell_type": "code",
   "execution_count": 18,
   "id": "260709ed",
   "metadata": {
    "scrolled": true
   },
   "outputs": [
    {
     "data": {
      "text/plain": [
       "Text(0.5, 1.0, 'Sales by platform')"
      ]
     },
     "execution_count": 18,
     "metadata": {},
     "output_type": "execute_result"
    },
    {
     "data": {
      "image/png": "[encoded data removed]",
      "text/plain": [
       "<Figure size 864x432 with 1 Axes>"
      ]
     },
     "metadata": {
      "needs_background": "light"
     },
     "output_type": "display_data"
    }
   ],
   "source": [
    "sales_platform.boxplot(figsize=(12,6)).set_title(\"Sales by platform\", fontsize=20, verticalalignment='bottom')"
   ]
  },
  {
   "cell_type": "code",
   "execution_count": 19,
   "id": "de804225",
   "metadata": {},
   "outputs": [
    {
     "data": {
      "text/plain": [
       "(-0.5, 3.0)"
      ]
     },
     "execution_count": 19,
     "metadata": {},
     "output_type": "execute_result"
    },
    {
     "data": {
      "image/png": "[encoded data removed]",
      "text/plain": [
       "<Figure size 864x432 with 1 Axes>"
      ]
     },
     "metadata": {
      "needs_background": "light"
     },
     "output_type": "display_data"
    }
   ],
   "source": [
    "games.query('year_of_release > \"2013-01-01\"').pivot_table(index='name', columns='platform', values='total_sales', aggfunc='sum').boxplot(figsize=(12,6)).set_title(\"Sales of games by platform\", fontsize=20, verticalalignment='bottom')\n",
    "plt.ylim(-0.5,3)"
   ]
  },
  {
   "cell_type": "markdown",
   "id": "95f6dc2e",
   "metadata": {},
   "source": [
    "По \"коробкам с усами\" можно увидеть, что по медианным значениям платформы отличаются не сильно. Чего нельзя сказать по третьим квартилям, а также рахмаху усов. Видим, что у самых популрных и новейших консолей, Ps4 и XOne размахи усов наибольшие. Это говорит о том, что если, например 1 млн продаж для  3DS или PSV считается выбросом, то для PS4 и XOne это вполне обычные показатели "
   ]
  },
  {
   "cell_type": "markdown",
   "id": "1505e8c2",
   "metadata": {},
   "source": [
    "### Посмотрим, как влияют на продажи внутри одной популярной платформы (пусть будет PS4) отзывы пользователей и критиков.Построим диаграмму рассеяния и посчитаем корреляцию между отзывами и продажами.\n"
   ]
  },
  {
   "cell_type": "code",
   "execution_count": 20,
   "id": "25e9a4a9",
   "metadata": {
    "scrolled": true
   },
   "outputs": [
    {
     "name": "stdout",
     "output_type": "stream",
     "text": [
      "Корреляция между продажами игр PS4 и оценками критиков:  0.4021203477635433\n",
      "Корреляция между продажами игр PS4 и оценками игроков:  -0.039364345213287334\n"
     ]
    }
   ],
   "source": [
    "print('Корреляция между продажами игр PS4 и оценками критиков: ',games.query('year_of_release > \"2013-01-01\" and platform == \"PS4\" and critic_score != -1')['total_sales'].corr(games.query('year_of_release > \"2013-01-01\" and platform == \"PS4\" and critic_score != -1')['critic_score']))\n",
    "print('Корреляция между продажами игр PS4 и оценками игроков: ',games.query('year_of_release > \"2013-01-01\" and platform == \"PS4\" and user_score != -1')['total_sales'].corr(games.query('year_of_release > \"2013-01-01\" and platform == \"PS4\" and user_score != -1')['user_score']))"
   ]
  },
  {
   "cell_type": "code",
   "execution_count": 21,
   "id": "5cf39167",
   "metadata": {
    "scrolled": false
   },
   "outputs": [
    {
     "data": {
      "text/plain": [
       "Text(0.5, 1.0, 'Scatter plot for user_score-total_sales, PS4')"
      ]
     },
     "execution_count": 21,
     "metadata": {},
     "output_type": "execute_result"
    },
    {
     "data": {
      "image/png": "[encoded data removed]",
      "text/plain": [
       "<Figure size 432x288 with 1 Axes>"
      ]
     },
     "metadata": {
      "needs_background": "light"
     },
     "output_type": "display_data"
    },
    {
     "data": {
      "image/png": "[encoded data removed]",
      "text/plain": [
       "<Figure size 432x288 with 1 Axes>"
      ]
     },
     "metadata": {
      "needs_background": "light"
     },
     "output_type": "display_data"
    }
   ],
   "source": [
    "#Диаграмма рассеяния для critic_score-total_sales\n",
    "games.query('year_of_release > \"2013-01-01\" and platform == \"PS4\" and critic_score != -1').plot(x='critic_score',y='total_sales',kind='scatter', alpha =0.4).set_title(\"Scatter plot for critic_score-total_sales, PS4\", fontsize=20, verticalalignment='bottom')\n",
    "#Диаграмма рассеяния для user_score-total_sales\n",
    "games.query('year_of_release > \"2013-01-01\" and platform == \"PS4\" and user_score != -1').plot(x='user_score',y='total_sales',kind='scatter', alpha =0.4).set_title(\"Scatter plot for user_score-total_sales, PS4\", fontsize=20, verticalalignment='bottom')"
   ]
  },
  {
   "cell_type": "markdown",
   "id": "0a30d81f",
   "metadata": {},
   "source": [
    "### Возьмем для наглядности еще одну популярную платформу: XOne"
   ]
  },
  {
   "cell_type": "code",
   "execution_count": 22,
   "id": "f64f1be5",
   "metadata": {
    "scrolled": true
   },
   "outputs": [
    {
     "name": "stdout",
     "output_type": "stream",
     "text": [
      "Корреляция между продажами игр XOne и оценками критиков:  0.4286498963779636\n",
      "Корреляция между продажами игр XOne и оценками критиков:  -0.07039252638189664\n"
     ]
    }
   ],
   "source": [
    "print('Корреляция между продажами игр XOne и оценками критиков: ', games.query('year_of_release > \"2013-01-01\" and platform == \"XOne\" and critic_score != -1')['total_sales'].corr(games.query('year_of_release > \"2013-01-01\" and platform == \"XOne\" and critic_score != -1')['critic_score']))\n",
    "print('Корреляция между продажами игр XOne и оценками критиков: ', games.query('year_of_release > \"2013-01-01\" and platform == \"XOne\" and user_score != -1')['total_sales'].corr(games.query('year_of_release > \"2013-01-01\" and platform == \"XOne\" and user_score != -1')['user_score']))"
   ]
  },
  {
   "cell_type": "code",
   "execution_count": 23,
   "id": "7f9cb3ba",
   "metadata": {},
   "outputs": [
    {
     "data": {
      "text/plain": [
       "Text(0.5, 1.0, 'Scatter plot for user_score-total_sales, XOne')"
      ]
     },
     "execution_count": 23,
     "metadata": {},
     "output_type": "execute_result"
    },
    {
     "data": {
      "image/png": "[encoded data removed]",
      "text/plain": [
       "<Figure size 432x288 with 1 Axes>"
      ]
     },
     "metadata": {
      "needs_background": "light"
     },
     "output_type": "display_data"
    },
    {
     "data": {
      "image/png": "[encoded data removed]",
      "text/plain": [
       "<Figure size 432x288 with 1 Axes>"
      ]
     },
     "metadata": {
      "needs_background": "light"
     },
     "output_type": "display_data"
    }
   ],
   "source": [
    "#Диаграмма рассеяния для critic_score-total_sales\n",
    "games.query('year_of_release > \"2013-01-01\" and platform == \"XOne\" and critic_score != -1').plot(x='critic_score',y='total_sales',kind='scatter', alpha =0.4).set_title(\"Scatter plot for critic_score-total_sales, XOne\", fontsize=20, verticalalignment='bottom')\n",
    "#Диаграмма рассеяния для user_score-total_sales\n",
    "games.query('year_of_release > \"2013-01-01\" and platform == \"XOne\" and user_score != -1').plot(x='user_score',y='total_sales',kind='scatter', alpha =0.4).set_title(\"Scatter plot for user_score-total_sales, XOne\", fontsize=20, verticalalignment='bottom')"
   ]
  },
  {
   "cell_type": "markdown",
   "id": "f99d22ec",
   "metadata": {},
   "source": [
    "**Вывод:** \n",
    "* Между оценками критиков и продажами есть небольшая зависимость\n",
    "* Зависимости между оценками игроков и продажами нет  "
   ]
  },
  {
   "cell_type": "markdown",
   "id": "9f36f51a",
   "metadata": {},
   "source": [
    "### Посмотрим на общее распределение игр по жанрам. "
   ]
  },
  {
   "cell_type": "code",
   "execution_count": 24,
   "id": "902699bd",
   "metadata": {},
   "outputs": [
    {
     "data": {
      "text/html": [
       "<div>\n",
       "<style scoped>\n",
       "    .dataframe tbody tr th:only-of-type {\n",
       "        vertical-align: middle;\n",
       "    }\n",
       "\n",
       "    .dataframe tbody tr th {\n",
       "        vertical-align: top;\n",
       "    }\n",
       "\n",
       "    .dataframe thead th {\n",
       "        text-align: right;\n",
       "    }\n",
       "</style>\n",
       "<table border=\"1\" class=\"dataframe\">\n",
       "  <thead>\n",
       "    <tr style=\"text-align: right;\">\n",
       "      <th></th>\n",
       "      <th>count</th>\n",
       "      <th>total_sales</th>\n",
       "      <th>median</th>\n",
       "    </tr>\n",
       "    <tr>\n",
       "      <th>genre</th>\n",
       "      <th></th>\n",
       "      <th></th>\n",
       "      <th></th>\n",
       "    </tr>\n",
       "  </thead>\n",
       "  <tbody>\n",
       "    <tr>\n",
       "      <th>Action</th>\n",
       "      <td>619</td>\n",
       "      <td>176.79</td>\n",
       "      <td>0.080</td>\n",
       "    </tr>\n",
       "    <tr>\n",
       "      <th>Adventure</th>\n",
       "      <td>185</td>\n",
       "      <td>15.73</td>\n",
       "      <td>0.030</td>\n",
       "    </tr>\n",
       "    <tr>\n",
       "      <th>Fighting</th>\n",
       "      <td>60</td>\n",
       "      <td>25.49</td>\n",
       "      <td>0.115</td>\n",
       "    </tr>\n",
       "    <tr>\n",
       "      <th>Misc</th>\n",
       "      <td>113</td>\n",
       "      <td>33.52</td>\n",
       "      <td>0.090</td>\n",
       "    </tr>\n",
       "    <tr>\n",
       "      <th>Platform</th>\n",
       "      <td>38</td>\n",
       "      <td>16.28</td>\n",
       "      <td>0.115</td>\n",
       "    </tr>\n",
       "    <tr>\n",
       "      <th>Puzzle</th>\n",
       "      <td>14</td>\n",
       "      <td>2.10</td>\n",
       "      <td>0.045</td>\n",
       "    </tr>\n",
       "    <tr>\n",
       "      <th>Racing</th>\n",
       "      <td>69</td>\n",
       "      <td>24.63</td>\n",
       "      <td>0.080</td>\n",
       "    </tr>\n",
       "    <tr>\n",
       "      <th>Role-Playing</th>\n",
       "      <td>221</td>\n",
       "      <td>92.80</td>\n",
       "      <td>0.100</td>\n",
       "    </tr>\n",
       "    <tr>\n",
       "      <th>Shooter</th>\n",
       "      <td>128</td>\n",
       "      <td>149.41</td>\n",
       "      <td>0.475</td>\n",
       "    </tr>\n",
       "    <tr>\n",
       "      <th>Simulation</th>\n",
       "      <td>44</td>\n",
       "      <td>12.24</td>\n",
       "      <td>0.095</td>\n",
       "    </tr>\n",
       "    <tr>\n",
       "      <th>Sports</th>\n",
       "      <td>161</td>\n",
       "      <td>95.12</td>\n",
       "      <td>0.170</td>\n",
       "    </tr>\n",
       "    <tr>\n",
       "      <th>Strategy</th>\n",
       "      <td>37</td>\n",
       "      <td>3.72</td>\n",
       "      <td>0.060</td>\n",
       "    </tr>\n",
       "  </tbody>\n",
       "</table>\n",
       "</div>"
      ],
      "text/plain": [
       "              count  total_sales  median\n",
       "genre                                   \n",
       "Action          619       176.79   0.080\n",
       "Adventure       185        15.73   0.030\n",
       "Fighting         60        25.49   0.115\n",
       "Misc            113        33.52   0.090\n",
       "Platform         38        16.28   0.115\n",
       "Puzzle           14         2.10   0.045\n",
       "Racing           69        24.63   0.080\n",
       "Role-Playing    221        92.80   0.100\n",
       "Shooter         128       149.41   0.475\n",
       "Simulation       44        12.24   0.095\n",
       "Sports          161        95.12   0.170\n",
       "Strategy         37         3.72   0.060"
      ]
     },
     "execution_count": 24,
     "metadata": {},
     "output_type": "execute_result"
    }
   ],
   "source": [
    "genres = games.query('year_of_release > \"2013-01-01\"').pivot_table(index='genre',values= ['total_sales'], aggfunc=['count','sum','median'])\n",
    "genres.columns = ['count','total_sales','median']\n",
    "genres"
   ]
  },
  {
   "cell_type": "code",
   "execution_count": 25,
   "id": "aa3c9dbc",
   "metadata": {
    "scrolled": false
   },
   "outputs": [
    {
     "data": {
      "text/plain": [
       "Text(0.5, 1.0, 'genre distribution')"
      ]
     },
     "execution_count": 25,
     "metadata": {},
     "output_type": "execute_result"
    },
    {
     "data": {
      "image/png": "[encoded data removed]",
      "text/plain": [
       "<Figure size 432x288 with 1 Axes>"
      ]
     },
     "metadata": {
      "needs_background": "light"
     },
     "output_type": "display_data"
    }
   ],
   "source": [
    "genres.sort_values(by='count',ascending=False).plot(y='count',kind='bar',grid=True).set_title(\"genre distribution\", fontsize=20, verticalalignment='bottom')"
   ]
  },
  {
   "cell_type": "markdown",
   "id": "17910ef2",
   "metadata": {},
   "source": [
    "В целом, описывая график, видим, что больше всего выпущено игр, ориентированных на скорость и точность, то есть шутеры/спорт/экшн итд. \n",
    "\n",
    "Напротив, меньше всего игр, акцентированных на когнитивных способностях игрока: стратегии/пазлы"
   ]
  },
  {
   "cell_type": "markdown",
   "id": "2f1befee",
   "metadata": {},
   "source": [
    "### Что можно сказать о самых прибыльных жанрах? Выделяются ли жанры с высокими и низкими продажами?"
   ]
  },
  {
   "cell_type": "code",
   "execution_count": 26,
   "id": "9dae83dd",
   "metadata": {},
   "outputs": [
    {
     "data": {
      "text/plain": [
       "Text(0.5, 1.0, 'Top genres by sales')"
      ]
     },
     "execution_count": 26,
     "metadata": {},
     "output_type": "execute_result"
    },
    {
     "data": {
      "image/png": "[encoded data removed]",
      "text/plain": [
       "<Figure size 432x288 with 1 Axes>"
      ]
     },
     "metadata": {
      "needs_background": "light"
     },
     "output_type": "display_data"
    }
   ],
   "source": [
    "genres.sort_values(by='median',ascending=False).plot(y='median',kind='bar',grid=True).set_title(\"Top genres by sales\", fontsize=20, verticalalignment='bottom')"
   ]
  },
  {
   "cell_type": "markdown",
   "id": "4f96213e",
   "metadata": {},
   "source": [
    "Комментируя график, отметим, что самым прибыльным жанром явно считается Шутер. Этот жанр табильно приносит большие доходы "
   ]
  },
  {
   "cell_type": "markdown",
   "id": "718baf26",
   "metadata": {},
   "source": [
    "## Шаг 4. Составить портрет пользователя каждого региона\n",
    "Определим для пользователя каждого региона (NA, EU, JP):\n",
    "* Самые популярные платформы (топ-5). Опишем различия в долях продаж.\n",
    "* Самые популярные жанры (топ-5). Поясним разницу.\n",
    "* Влияет ли рейтинг ESRB на продажи в отдельном регионе?"
   ]
  },
  {
   "cell_type": "code",
   "execution_count": 27,
   "id": "29b82f76",
   "metadata": {
    "scrolled": true
   },
   "outputs": [
    {
     "data": {
      "text/html": [
       "<div>\n",
       "<style scoped>\n",
       "    .dataframe tbody tr th:only-of-type {\n",
       "        vertical-align: middle;\n",
       "    }\n",
       "\n",
       "    .dataframe tbody tr th {\n",
       "        vertical-align: top;\n",
       "    }\n",
       "\n",
       "    .dataframe thead th {\n",
       "        text-align: right;\n",
       "    }\n",
       "</style>\n",
       "<table border=\"1\" class=\"dataframe\">\n",
       "  <thead>\n",
       "    <tr style=\"text-align: right;\">\n",
       "      <th></th>\n",
       "      <th>na_sales</th>\n",
       "    </tr>\n",
       "    <tr>\n",
       "      <th>platform</th>\n",
       "      <th></th>\n",
       "    </tr>\n",
       "  </thead>\n",
       "  <tbody>\n",
       "    <tr>\n",
       "      <th>PS4</th>\n",
       "      <td>98.61</td>\n",
       "    </tr>\n",
       "    <tr>\n",
       "      <th>XOne</th>\n",
       "      <td>81.27</td>\n",
       "    </tr>\n",
       "    <tr>\n",
       "      <th>3DS</th>\n",
       "      <td>22.64</td>\n",
       "    </tr>\n",
       "    <tr>\n",
       "      <th>PC</th>\n",
       "      <td>7.23</td>\n",
       "    </tr>\n",
       "  </tbody>\n",
       "</table>\n",
       "</div>"
      ],
      "text/plain": [
       "          na_sales\n",
       "platform          \n",
       "PS4          98.61\n",
       "XOne         81.27\n",
       "3DS          22.64\n",
       "PC            7.23"
      ]
     },
     "execution_count": 27,
     "metadata": {},
     "output_type": "execute_result"
    }
   ],
   "source": [
    "# Самые популярные платформы NA (топ-5).\n",
    "na_users = games.query('year_of_release > \"2013-01-01\" and platform != [\"PS3\",\"PSP\",\"PSV\",\"Wii\",\"WiiU\",\"X360\"]').pivot_table(index='platform', values='na_sales', aggfunc='sum').sort_values(by='na_sales',ascending=False)\n",
    "na_users[:5]"
   ]
  },
  {
   "cell_type": "markdown",
   "id": "f7fbaa51",
   "metadata": {},
   "source": [
    "Американцы отдают предпочтение самым популярным платформам: платформе от Sony и своей отечественной платформе XBox"
   ]
  },
  {
   "cell_type": "code",
   "execution_count": 28,
   "id": "185dbdb2",
   "metadata": {},
   "outputs": [
    {
     "data": {
      "text/html": [
       "<div>\n",
       "<style scoped>\n",
       "    .dataframe tbody tr th:only-of-type {\n",
       "        vertical-align: middle;\n",
       "    }\n",
       "\n",
       "    .dataframe tbody tr th {\n",
       "        vertical-align: top;\n",
       "    }\n",
       "\n",
       "    .dataframe thead th {\n",
       "        text-align: right;\n",
       "    }\n",
       "</style>\n",
       "<table border=\"1\" class=\"dataframe\">\n",
       "  <thead>\n",
       "    <tr style=\"text-align: right;\">\n",
       "      <th></th>\n",
       "      <th>eu_sales</th>\n",
       "    </tr>\n",
       "    <tr>\n",
       "      <th>platform</th>\n",
       "      <th></th>\n",
       "    </tr>\n",
       "  </thead>\n",
       "  <tbody>\n",
       "    <tr>\n",
       "      <th>PS4</th>\n",
       "      <td>130.04</td>\n",
       "    </tr>\n",
       "    <tr>\n",
       "      <th>XOne</th>\n",
       "      <td>46.25</td>\n",
       "    </tr>\n",
       "    <tr>\n",
       "      <th>PC</th>\n",
       "      <td>17.97</td>\n",
       "    </tr>\n",
       "    <tr>\n",
       "      <th>3DS</th>\n",
       "      <td>16.12</td>\n",
       "    </tr>\n",
       "  </tbody>\n",
       "</table>\n",
       "</div>"
      ],
      "text/plain": [
       "          eu_sales\n",
       "platform          \n",
       "PS4         130.04\n",
       "XOne         46.25\n",
       "PC           17.97\n",
       "3DS          16.12"
      ]
     },
     "execution_count": 28,
     "metadata": {},
     "output_type": "execute_result"
    }
   ],
   "source": [
    "# Самые популярные платформы EU (топ-5).\n",
    "eu_users = games.query('year_of_release > \"2013-01-01\" and platform != [\"PS3\",\"PSP\",\"PSV\",\"Wii\",\"WiiU\",\"X360\"]').pivot_table(index='platform', values='eu_sales', aggfunc='sum').sort_values(by='eu_sales',ascending=False)\n",
    "eu_users[:5]"
   ]
  },
  {
   "cell_type": "markdown",
   "id": "9fbf346f",
   "metadata": {},
   "source": [
    "Схожая картина и по игрокам в Европе: они также предпочитают наиболее популярные платформы. Также достаточно много европейцев играют на персональном компьютере, если сравнивать с США  "
   ]
  },
  {
   "cell_type": "code",
   "execution_count": 29,
   "id": "c72d6c14",
   "metadata": {},
   "outputs": [
    {
     "data": {
      "text/html": [
       "<div>\n",
       "<style scoped>\n",
       "    .dataframe tbody tr th:only-of-type {\n",
       "        vertical-align: middle;\n",
       "    }\n",
       "\n",
       "    .dataframe tbody tr th {\n",
       "        vertical-align: top;\n",
       "    }\n",
       "\n",
       "    .dataframe thead th {\n",
       "        text-align: right;\n",
       "    }\n",
       "</style>\n",
       "<table border=\"1\" class=\"dataframe\">\n",
       "  <thead>\n",
       "    <tr style=\"text-align: right;\">\n",
       "      <th></th>\n",
       "      <th>jp_sales</th>\n",
       "    </tr>\n",
       "    <tr>\n",
       "      <th>platform</th>\n",
       "      <th></th>\n",
       "    </tr>\n",
       "  </thead>\n",
       "  <tbody>\n",
       "    <tr>\n",
       "      <th>3DS</th>\n",
       "      <td>44.24</td>\n",
       "    </tr>\n",
       "    <tr>\n",
       "      <th>PS4</th>\n",
       "      <td>15.02</td>\n",
       "    </tr>\n",
       "    <tr>\n",
       "      <th>XOne</th>\n",
       "      <td>0.32</td>\n",
       "    </tr>\n",
       "    <tr>\n",
       "      <th>PC</th>\n",
       "      <td>0.00</td>\n",
       "    </tr>\n",
       "  </tbody>\n",
       "</table>\n",
       "</div>"
      ],
      "text/plain": [
       "          jp_sales\n",
       "platform          \n",
       "3DS          44.24\n",
       "PS4          15.02\n",
       "XOne          0.32\n",
       "PC            0.00"
      ]
     },
     "execution_count": 29,
     "metadata": {},
     "output_type": "execute_result"
    }
   ],
   "source": [
    "# Самые популярные платформы JP (топ-5).\n",
    "jp_users = games.query('year_of_release > \"2013-01-01\" and platform != [\"PS3\",\"PSP\",\"PSV\",\"Wii\",\"WiiU\",\"X360\"]').pivot_table(index='platform', values='jp_sales', aggfunc='sum').sort_values(by='jp_sales',ascending=False)\n",
    "jp_users[:5]"
   ]
  },
  {
   "cell_type": "markdown",
   "id": "bf9b5940",
   "metadata": {},
   "source": [
    "Что касается Японии, то здесь картина совсем другая: японцы предпочитают играть только на своих японских платформах.\n",
    "При этом стоит отметить, что в Японии не используют компьютер для игр"
   ]
  },
  {
   "cell_type": "code",
   "execution_count": 30,
   "id": "8b4824c8",
   "metadata": {},
   "outputs": [
    {
     "data": {
      "text/html": [
       "<div>\n",
       "<style scoped>\n",
       "    .dataframe tbody tr th:only-of-type {\n",
       "        vertical-align: middle;\n",
       "    }\n",
       "\n",
       "    .dataframe tbody tr th {\n",
       "        vertical-align: top;\n",
       "    }\n",
       "\n",
       "    .dataframe thead th {\n",
       "        text-align: right;\n",
       "    }\n",
       "</style>\n",
       "<table border=\"1\" class=\"dataframe\">\n",
       "  <thead>\n",
       "    <tr style=\"text-align: right;\">\n",
       "      <th></th>\n",
       "      <th>eu_sales</th>\n",
       "      <th>jp_sales</th>\n",
       "      <th>na_sales</th>\n",
       "      <th>total_sales</th>\n",
       "      <th>na_share</th>\n",
       "      <th>eu_share</th>\n",
       "      <th>jp_share</th>\n",
       "    </tr>\n",
       "    <tr>\n",
       "      <th>platform</th>\n",
       "      <th></th>\n",
       "      <th></th>\n",
       "      <th></th>\n",
       "      <th></th>\n",
       "      <th></th>\n",
       "      <th></th>\n",
       "      <th></th>\n",
       "    </tr>\n",
       "  </thead>\n",
       "  <tbody>\n",
       "    <tr>\n",
       "      <th>3DS</th>\n",
       "      <td>16.12</td>\n",
       "      <td>44.24</td>\n",
       "      <td>22.64</td>\n",
       "      <td>83.00</td>\n",
       "      <td>0.27</td>\n",
       "      <td>0.19</td>\n",
       "      <td>0.53</td>\n",
       "    </tr>\n",
       "    <tr>\n",
       "      <th>PC</th>\n",
       "      <td>17.97</td>\n",
       "      <td>0.00</td>\n",
       "      <td>7.23</td>\n",
       "      <td>25.20</td>\n",
       "      <td>0.29</td>\n",
       "      <td>0.71</td>\n",
       "      <td>0.00</td>\n",
       "    </tr>\n",
       "    <tr>\n",
       "      <th>PS4</th>\n",
       "      <td>130.04</td>\n",
       "      <td>15.02</td>\n",
       "      <td>98.61</td>\n",
       "      <td>243.67</td>\n",
       "      <td>0.40</td>\n",
       "      <td>0.53</td>\n",
       "      <td>0.06</td>\n",
       "    </tr>\n",
       "    <tr>\n",
       "      <th>XOne</th>\n",
       "      <td>46.25</td>\n",
       "      <td>0.32</td>\n",
       "      <td>81.27</td>\n",
       "      <td>127.84</td>\n",
       "      <td>0.64</td>\n",
       "      <td>0.36</td>\n",
       "      <td>0.00</td>\n",
       "    </tr>\n",
       "  </tbody>\n",
       "</table>\n",
       "</div>"
      ],
      "text/plain": [
       "          eu_sales  jp_sales  na_sales  total_sales  na_share  eu_share  \\\n",
       "platform                                                                  \n",
       "3DS          16.12     44.24     22.64        83.00      0.27      0.19   \n",
       "PC           17.97      0.00      7.23        25.20      0.29      0.71   \n",
       "PS4         130.04     15.02     98.61       243.67      0.40      0.53   \n",
       "XOne         46.25      0.32     81.27       127.84      0.64      0.36   \n",
       "\n",
       "          jp_share  \n",
       "platform            \n",
       "3DS           0.53  \n",
       "PC            0.00  \n",
       "PS4           0.06  \n",
       "XOne          0.00  "
      ]
     },
     "execution_count": 30,
     "metadata": {},
     "output_type": "execute_result"
    }
   ],
   "source": [
    "#Опишем различия в долях продаж.\n",
    "all_users = games.query('year_of_release > \"2013-01-01\" and platform != [\"PS3\",\"PSP\",\"PSV\",\"Wii\",\"WiiU\",\"X360\"]').pivot_table(index='platform', values=['na_sales','eu_sales','jp_sales','total_sales'], aggfunc='sum')\n",
    "all_users['na_share'] = (all_users['na_sales']/all_users['total_sales']).round(2)\n",
    "all_users['eu_share'] = (all_users['eu_sales']/all_users['total_sales']).round(2)\n",
    "all_users['jp_share'] = (all_users['jp_sales']/all_users['total_sales']).round(2)\n",
    "all_users"
   ]
  },
  {
   "cell_type": "code",
   "execution_count": 31,
   "id": "64c1d993",
   "metadata": {},
   "outputs": [
    {
     "data": {
      "text/plain": [
       "Text(0.5, 1.0, 'Share of sales')"
      ]
     },
     "execution_count": 31,
     "metadata": {},
     "output_type": "execute_result"
    },
    {
     "data": {
      "image/png": "[encoded data removed]",
      "text/plain": [
       "<Figure size 864x432 with 1 Axes>"
      ]
     },
     "metadata": {
      "needs_background": "light"
     },
     "output_type": "display_data"
    }
   ],
   "source": [
    "all_users.plot(y=['na_share','eu_share','jp_share'],kind='bar',figsize=(12,6)).set_title(\"Share of sales\", fontsize=20, verticalalignment='bottom')"
   ]
  },
  {
   "cell_type": "markdown",
   "id": "e77b69bf",
   "metadata": {},
   "source": [
    "**Вывод:**\n",
    "* NA: явно больше остальных используют для игр **XBox**. Также охотно преобретают игры на **PS4**\n",
    "* EU: Выбор платформ американцев и европейцев достаточно схож, однако европейцы больше всех играют на **компьютерах**\n",
    "* JP: стоит заметить, что в Японии в целом **продаж мало относительно Европы и Америки**, так как используют только некоторые платформы. В Японии явно предпочитают **компактные устройства для игр, типа 3DS**, которые к слову не пользуются большой популярностью у американцев и европейцев. При этом японцы отдают предпочтение исключительно **своим платформам**: нулевые продажи по XOne. **Не использовались в Японии и персональные компьютеры для игр.**"
   ]
  },
  {
   "cell_type": "code",
   "execution_count": 32,
   "id": "d28f4526",
   "metadata": {},
   "outputs": [
    {
     "data": {
      "text/html": [
       "<div>\n",
       "<style scoped>\n",
       "    .dataframe tbody tr th:only-of-type {\n",
       "        vertical-align: middle;\n",
       "    }\n",
       "\n",
       "    .dataframe tbody tr th {\n",
       "        vertical-align: top;\n",
       "    }\n",
       "\n",
       "    .dataframe thead th {\n",
       "        text-align: right;\n",
       "    }\n",
       "</style>\n",
       "<table border=\"1\" class=\"dataframe\">\n",
       "  <thead>\n",
       "    <tr style=\"text-align: right;\">\n",
       "      <th></th>\n",
       "      <th>na_sales</th>\n",
       "    </tr>\n",
       "    <tr>\n",
       "      <th>genre</th>\n",
       "      <th></th>\n",
       "    </tr>\n",
       "  </thead>\n",
       "  <tbody>\n",
       "    <tr>\n",
       "      <th>Shooter</th>\n",
       "      <td>64.24</td>\n",
       "    </tr>\n",
       "    <tr>\n",
       "      <th>Action</th>\n",
       "      <td>54.59</td>\n",
       "    </tr>\n",
       "    <tr>\n",
       "      <th>Sports</th>\n",
       "      <td>31.49</td>\n",
       "    </tr>\n",
       "    <tr>\n",
       "      <th>Role-Playing</th>\n",
       "      <td>28.49</td>\n",
       "    </tr>\n",
       "    <tr>\n",
       "      <th>Fighting</th>\n",
       "      <td>8.04</td>\n",
       "    </tr>\n",
       "  </tbody>\n",
       "</table>\n",
       "</div>"
      ],
      "text/plain": [
       "              na_sales\n",
       "genre                 \n",
       "Shooter          64.24\n",
       "Action           54.59\n",
       "Sports           31.49\n",
       "Role-Playing     28.49\n",
       "Fighting          8.04"
      ]
     },
     "execution_count": 32,
     "metadata": {},
     "output_type": "execute_result"
    }
   ],
   "source": [
    "# Самые популярные жанры NA (топ-5).\n",
    "na_genres = games.query('year_of_release > \"2013-01-01\" and platform != [\"PS3\",\"PSP\",\"PSV\",\"Wii\",\"WiiU\",\"X360\"]').pivot_table(index='genre', values='na_sales', aggfunc='sum').sort_values(by='na_sales',ascending=False)\n",
    "na_genres[:5]"
   ]
  },
  {
   "cell_type": "code",
   "execution_count": 33,
   "id": "15e642e1",
   "metadata": {},
   "outputs": [
    {
     "data": {
      "text/html": [
       "<div>\n",
       "<style scoped>\n",
       "    .dataframe tbody tr th:only-of-type {\n",
       "        vertical-align: middle;\n",
       "    }\n",
       "\n",
       "    .dataframe tbody tr th {\n",
       "        vertical-align: top;\n",
       "    }\n",
       "\n",
       "    .dataframe thead th {\n",
       "        text-align: right;\n",
       "    }\n",
       "</style>\n",
       "<table border=\"1\" class=\"dataframe\">\n",
       "  <thead>\n",
       "    <tr style=\"text-align: right;\">\n",
       "      <th></th>\n",
       "      <th>eu_sales</th>\n",
       "    </tr>\n",
       "    <tr>\n",
       "      <th>genre</th>\n",
       "      <th></th>\n",
       "    </tr>\n",
       "  </thead>\n",
       "  <tbody>\n",
       "    <tr>\n",
       "      <th>Action</th>\n",
       "      <td>58.59</td>\n",
       "    </tr>\n",
       "    <tr>\n",
       "      <th>Shooter</th>\n",
       "      <td>54.79</td>\n",
       "    </tr>\n",
       "    <tr>\n",
       "      <th>Sports</th>\n",
       "      <td>32.78</td>\n",
       "    </tr>\n",
       "    <tr>\n",
       "      <th>Role-Playing</th>\n",
       "      <td>24.97</td>\n",
       "    </tr>\n",
       "    <tr>\n",
       "      <th>Racing</th>\n",
       "      <td>10.76</td>\n",
       "    </tr>\n",
       "  </tbody>\n",
       "</table>\n",
       "</div>"
      ],
      "text/plain": [
       "              eu_sales\n",
       "genre                 \n",
       "Action           58.59\n",
       "Shooter          54.79\n",
       "Sports           32.78\n",
       "Role-Playing     24.97\n",
       "Racing           10.76"
      ]
     },
     "execution_count": 33,
     "metadata": {},
     "output_type": "execute_result"
    }
   ],
   "source": [
    "# Самые популярные жанры EU (топ-5).\n",
    "eu_genres = games.query('year_of_release > \"2013-01-01\" and platform != [\"PS3\",\"PSP\",\"PSV\",\"Wii\",\"WiiU\",\"X360\"]').pivot_table(index='genre', values='eu_sales', aggfunc='sum').sort_values(by='eu_sales',ascending=False)\n",
    "eu_genres[:5]"
   ]
  },
  {
   "cell_type": "code",
   "execution_count": 34,
   "id": "703361fe",
   "metadata": {},
   "outputs": [
    {
     "data": {
      "text/html": [
       "<div>\n",
       "<style scoped>\n",
       "    .dataframe tbody tr th:only-of-type {\n",
       "        vertical-align: middle;\n",
       "    }\n",
       "\n",
       "    .dataframe tbody tr th {\n",
       "        vertical-align: top;\n",
       "    }\n",
       "\n",
       "    .dataframe thead th {\n",
       "        text-align: right;\n",
       "    }\n",
       "</style>\n",
       "<table border=\"1\" class=\"dataframe\">\n",
       "  <thead>\n",
       "    <tr style=\"text-align: right;\">\n",
       "      <th></th>\n",
       "      <th>jp_sales</th>\n",
       "    </tr>\n",
       "    <tr>\n",
       "      <th>genre</th>\n",
       "      <th></th>\n",
       "    </tr>\n",
       "  </thead>\n",
       "  <tbody>\n",
       "    <tr>\n",
       "      <th>Role-Playing</th>\n",
       "      <td>23.75</td>\n",
       "    </tr>\n",
       "    <tr>\n",
       "      <th>Action</th>\n",
       "      <td>19.12</td>\n",
       "    </tr>\n",
       "    <tr>\n",
       "      <th>Fighting</th>\n",
       "      <td>3.57</td>\n",
       "    </tr>\n",
       "    <tr>\n",
       "      <th>Shooter</th>\n",
       "      <td>2.67</td>\n",
       "    </tr>\n",
       "    <tr>\n",
       "      <th>Misc</th>\n",
       "      <td>2.48</td>\n",
       "    </tr>\n",
       "  </tbody>\n",
       "</table>\n",
       "</div>"
      ],
      "text/plain": [
       "              jp_sales\n",
       "genre                 \n",
       "Role-Playing     23.75\n",
       "Action           19.12\n",
       "Fighting          3.57\n",
       "Shooter           2.67\n",
       "Misc              2.48"
      ]
     },
     "execution_count": 34,
     "metadata": {},
     "output_type": "execute_result"
    }
   ],
   "source": [
    "# Самые популярные жанры JP (топ-5).\n",
    "jp_genres = games.query('year_of_release > \"2013-01-01\" and platform != [\"PS3\",\"PSP\",\"PSV\",\"Wii\",\"WiiU\",\"X360\"]').pivot_table(index='genre', values='jp_sales', aggfunc='sum').sort_values(by='jp_sales',ascending=False)\n",
    "jp_genres[:5]"
   ]
  },
  {
   "cell_type": "code",
   "execution_count": 35,
   "id": "4ee4a52e",
   "metadata": {},
   "outputs": [
    {
     "data": {
      "text/plain": [
       "Text(0.5, 1.0, 'Top genres')"
      ]
     },
     "execution_count": 35,
     "metadata": {},
     "output_type": "execute_result"
    },
    {
     "data": {
      "image/png": "[encoded data removed]",
      "text/plain": [
       "<Figure size 864x432 with 1 Axes>"
      ]
     },
     "metadata": {
      "needs_background": "light"
     },
     "output_type": "display_data"
    }
   ],
   "source": [
    "all_genres = na_genres.join([eu_genres,jp_genres])\n",
    "all_genres.plot(y=['na_sales','eu_sales','jp_sales'],kind='bar',figsize=(12,6)).set_title(\"Top genres\", fontsize=20, verticalalignment='bottom')"
   ]
  },
  {
   "cell_type": "markdown",
   "id": "4fdb243a",
   "metadata": {},
   "source": [
    "**Вывод:**\n",
    "* Всем в наименьшей степени нравится играть и одновременно думать (Strategy,Puzzle), и охотно выбирают игры пострелять из орудий/погонять на быстрых машинах/подраться с толпами ботов\n",
    "* NA и EU сильно схожи в своих предпочтениях\n",
    "* JP, как и было отмечено ранее, сильно меньше играют в игры. Стоит также выделить, что в Японии явно любят жанр RPG, а затем Action. Другие жанры берут не так охотно"
   ]
  },
  {
   "cell_type": "code",
   "execution_count": 36,
   "id": "f9761508",
   "metadata": {
    "scrolled": true
   },
   "outputs": [
    {
     "data": {
      "text/plain": [
       "<AxesSubplot:xlabel='rating'>"
      ]
     },
     "execution_count": 36,
     "metadata": {},
     "output_type": "execute_result"
    },
    {
     "data": {
      "image/png": "[encoded data removed]",
      "text/plain": [
       "<Figure size 432x288 with 1 Axes>"
      ]
     },
     "metadata": {
      "needs_background": "light"
     },
     "output_type": "display_data"
    }
   ],
   "source": [
    "games.query('year_of_release > \"2013-01-01\" and platform != [\"PS3\",\"PSP\",\"PSV\",\"Wii\",\"WiiU\",\"X360\"]').pivot_table(index='rating',values=['na_sales','eu_sales','jp_sales'],aggfunc='sum').plot(kind='bar',y=['na_sales','eu_sales','jp_sales'], grid=True)"
   ]
  },
  {
   "cell_type": "markdown",
   "id": "dac38ea6",
   "metadata": {},
   "source": [
    "Для справки:\n",
    "* **E**: («Everyone») — «Для всех»: Содержание вполне подходит для возрастной категории от 6 лет. Такие игры могут понравиться и взрослым. Игры с этим рейтингом могут содержать минимальное насилие, в основном «мультяшного» характера.\n",
    "* **E10+**: («Everyone 10 and older») — «Для всех от 10 лет и старше»: Проекты с данным рейтингом могут содержать или немного больше мультипликационного или мягкого насилия, или несколько откровенные сцены, или минимальное количество крови.\n",
    "* **M**: («Mature») — «Для взрослых»: Материалы игры не подходят для подростков младше 17 лет. Проекты с данным рейтингом могут содержать достаточно жестокое насилие, большое количество крови с расчленением, непристойные сексуальные сцены или грубую ненормативную лексику, нежелательную для младшей аудитории.\n",
    "* **RP**: («Rating Pending») — «Рейтинг ожидается»: Продукт был отправлен в ESRB и ожидает присвоения рейтинга. Данный логотип используется только на рекламных презентациях и в демо-версиях игр до официальной даты выпуска в продажу.\n",
    "* **T**: («Teen») — «Подросткам»: Игра подходит для лиц от 13 лет. Проекты из данной категории могут содержать насилие, непристойные сцены, грубый юмор, в меру откровенное сексуальное содержимое, кровь или нечастое использование ненормативной лексики.\n",
    "\n",
    "**Вывод:**\n",
    "* Больше всего продаж с рейтингом \"Для взрослых\";\n",
    "* Умеренно продаются по отдельности E,E10+ и T, хотя в целом они схожи по степени жесткости контента;\n",
    "* Однако взглянем на игры без рейтинга. Все регионы активно покупают игры, не глядя на рейтинг. В особенности в Японии"
   ]
  },
  {
   "cell_type": "markdown",
   "id": "bd4ed7f7",
   "metadata": {},
   "source": [
    "### Портрет пользователя каждого региона\n",
    "\n",
    "* __NA:__ Больше остальных используют для игр XBox. Любимый жанр - шутер\n",
    "* __EU:__ Выбор платформ американцев и европейцев достаточно схож, однако европейцы намного чаще играют на компьютерах по сравнению с остальными. Любимый жанр - Экшн\n",
    "* __JP:__ Меньше всех играют в игры. Любимый жанр -  RPG. Предпочитают компактные устройства для игр - 3DS. Играют только на своих японских платформах. Не используют компьютер для игр.\n",
    "* __Все:__ Нравятся игры ориентированных на скорость и точность, то есть шутеры/спорт/экшн итд. Гораздо в меньшей степени продажи стратегий и пазлов. Любят игры с рейтингом \"Для взрослых\". При этом сам по себе рейтинг почти не влияет на выбор, поскольку многие покупают игры без рейтинга "
   ]
  },
  {
   "cell_type": "markdown",
   "id": "4661f780",
   "metadata": {},
   "source": [
    "## Шаг 5. Проверка гипотез\n",
    "* Средние пользовательские рейтинги платформ Xbox One и PC одинаковые;\n",
    "* Средние пользовательские рейтинги жанров Action (англ. «действие», экшен-игры) и Sports (англ. «спортивные соревнования») разные."
   ]
  },
  {
   "cell_type": "markdown",
   "id": "4400fd88",
   "metadata": {},
   "source": [
    "### Гипотеза 1:\n",
    "* H0: Средние пользовательских рейтингов платформ Xbox One и PC равны между собой;\n",
    "* H1: Средние пользовательских рейтингов платформ Xbox One и PC не равны между собой;"
   ]
  },
  {
   "cell_type": "code",
   "execution_count": 37,
   "id": "658dcc1a",
   "metadata": {
    "scrolled": false
   },
   "outputs": [
    {
     "name": "stdout",
     "output_type": "stream",
     "text": [
      "6.594545454545453\n"
     ]
    },
    {
     "data": {
      "text/plain": [
       "6.298360655737703"
      ]
     },
     "execution_count": 37,
     "metadata": {},
     "output_type": "execute_result"
    }
   ],
   "source": [
    "xbox_user_score = games.query('year_of_release > \"2013-01-01\" and platform == \"XOne\" and user_score != -1')\n",
    "pc_user_score = games.query('year_of_release > \"2013-01-01\" and platform == \"PC\" and user_score != -1')\n",
    "print(xbox_user_score['user_score'].mean())\n",
    "pc_user_score['user_score'].mean()"
   ]
  },
  {
   "cell_type": "code",
   "execution_count": 38,
   "id": "a07f7608",
   "metadata": {
    "scrolled": true
   },
   "outputs": [
    {
     "name": "stdout",
     "output_type": "stream",
     "text": [
      "p-значение: 0.10450507919348415\n",
      "Не получилось отвергнуть нулевую гипотезу\n"
     ]
    }
   ],
   "source": [
    "alpha = 0.01\n",
    "results = st.ttest_ind(xbox_user_score['user_score'], pc_user_score['user_score'], equal_var=True)\n",
    "\n",
    "print('p-значение:', results.pvalue) \n",
    "\n",
    "if results.pvalue < alpha:\n",
    "    print(\"Отвергаем нулевую гипотезу\")\n",
    "else:\n",
    "    print(\"Не получилось отвергнуть нулевую гипотезу\")"
   ]
  },
  {
   "cell_type": "markdown",
   "id": "e606a6f3",
   "metadata": {},
   "source": [
    "### Гипотеза 2:\n",
    "* H0: Разница между средними пользовательских рейтингов жанров Action и Sports равна нулю.\n",
    "* H1: Разница между средними пользовательских рейтингов жанров Action и Sports не равна нулю."
   ]
  },
  {
   "cell_type": "code",
   "execution_count": 39,
   "id": "11863481",
   "metadata": {},
   "outputs": [
    {
     "name": "stdout",
     "output_type": "stream",
     "text": [
      "6.760606060606054\n"
     ]
    },
    {
     "data": {
      "text/plain": [
       "5.225196850393697"
      ]
     },
     "execution_count": 39,
     "metadata": {},
     "output_type": "execute_result"
    }
   ],
   "source": [
    "action_user_score = games.query('year_of_release > \"2013-01-01\" and genre == \"Action\" and user_score != -1')\n",
    "sports_user_score = games.query('year_of_release > \"2013-01-01\" and genre == \"Sports\" and user_score != -1')\n",
    "print(action_user_score['user_score'].mean())\n",
    "sports_user_score['user_score'].mean()"
   ]
  },
  {
   "cell_type": "code",
   "execution_count": 40,
   "id": "f47fa60f",
   "metadata": {},
   "outputs": [
    {
     "name": "stdout",
     "output_type": "stream",
     "text": [
      "p-значение:  2.8711147985105864e-19\n",
      "Отвергаем нулевую гипотезу\n"
     ]
    }
   ],
   "source": [
    "results1 = st.ttest_ind(\n",
    "    action_user_score['user_score'], \n",
    "    sports_user_score['user_score'])\n",
    "\n",
    "print('p-значение: ', results1.pvalue)\n",
    "\n",
    "if results1.pvalue < alpha:\n",
    "    print(\"Отвергаем нулевую гипотезу\")\n",
    "else:\n",
    "    print(\"Не получилось отвергнуть нулевую гипотезу\")"
   ]
  },
  {
   "cell_type": "markdown",
   "id": "9b7c12e5",
   "metadata": {},
   "source": [
    "Таким образом, делаем вывод, что:\n",
    "* Разницы между оценками у платформ PC и XBox One нет. Вероятно потому, что и Xbox и PC имеют в большиснте своем одинаковый набор игр (без учета некоторых эксклюзивов для Xbox), которым даются идентичные оценки\n",
    "* Есть разница между оценками жанров Action и Sports. Action в среднем набирает больше баллов."
   ]
  },
  {
   "cell_type": "markdown",
   "id": "4188580a",
   "metadata": {},
   "source": [
    "## Шаг 6. Вывод\n",
    "Нам нужно было выявить определяющие успешность игры закономерности для рекламных кампаний. В целом нужно разделять, что в разных регионах разные предпочтения по платформам и играм. Для начала отметим, что для исследования был взят период с 2014 по 2016, так как нужно было рассмотреть актуальный период, исключив из рассмотрения данные по \"угасающим\" платформам\n",
    "* В Японии предпочитают использовать для игр исключительно свои платформы, наибольшей популярностью из них пользуются компактные консоли от Nintendo; В США самыми люимыми консолями являются продукты компании Microsoft - XBox. Впрочем, остальные популярные консоли, в первую очередь, PS4, также часто выбирают для игр; В Европе любят больше PlayStation, чем XBox, а также довольно много используется PC.\n",
    "* В регионах также в целом разное кол-во потенциальных игроков будущих игр: наибольший рынок сбыта - США, наименьший - Япония.\n",
    "* Если говорить о рейтинге ESRB: везде любят игры с рейтингом M, однако наблюдается то, что рейтинг не влияет на выбор игры.\n",
    "* Самые популярные жанры: те жанры, которые предполагают точность и реакцию игрока. Напротив, стратегии и пазлы не популярны. Лидирующий жанр - Shooter\n",
    "* Статистические тесты показали, что Разницы между оценками у платформ PC и XBox One нет. Вероятно потому, что и Xbox и PC имеют в большинстве своем одинаковый набор игр (без учета некоторых эксклюзивов для Xbox). При этом есть разница между оценками жанров Action и Sports. Action в среднем набирает больше баллов.\n",
    "\n",
    "Таким образом, для рекламных кампаний следует уделить внимание рынку США и Европы, поскольку они явно похожи + рынки сбыта больше японского в разы. Следует обатить внимание на новые консоли XBox и PS с жанрами Shooter и подобных."
   ]
  },
  {
   "cell_type": "code",
   "execution_count": null,
   "id": "9c9d9cfb",
   "metadata": {},
   "outputs": [],
   "source": []
  }
 ],
 "metadata": {
  "ExecuteTimeLog": [
   {
    "duration": 1113,
    "start_time": "2022-04-15T15:25:55.367Z"
   },
   {
    "duration": 0,
    "start_time": "2022-04-15T15:25:56.483Z"
   },
   {
    "duration": 0,
    "start_time": "2022-04-15T15:25:56.485Z"
   },
   {
    "duration": 0,
    "start_time": "2022-04-15T15:25:56.486Z"
   },
   {
    "duration": 0,
    "start_time": "2022-04-15T15:25:56.487Z"
   },
   {
    "duration": 0,
    "start_time": "2022-04-15T15:25:56.488Z"
   },
   {
    "duration": 0,
    "start_time": "2022-04-15T15:25:56.489Z"
   },
   {
    "duration": 0,
    "start_time": "2022-04-15T15:25:56.490Z"
   },
   {
    "duration": 0,
    "start_time": "2022-04-15T15:25:56.491Z"
   },
   {
    "duration": 0,
    "start_time": "2022-04-15T15:25:56.493Z"
   },
   {
    "duration": 0,
    "start_time": "2022-04-15T15:25:56.494Z"
   },
   {
    "duration": 0,
    "start_time": "2022-04-15T15:25:56.495Z"
   },
   {
    "duration": 0,
    "start_time": "2022-04-15T15:25:56.496Z"
   },
   {
    "duration": 0,
    "start_time": "2022-04-15T15:25:56.497Z"
   },
   {
    "duration": 0,
    "start_time": "2022-04-15T15:25:56.498Z"
   },
   {
    "duration": 0,
    "start_time": "2022-04-15T15:25:56.499Z"
   },
   {
    "duration": 0,
    "start_time": "2022-04-15T15:25:56.501Z"
   },
   {
    "duration": 0,
    "start_time": "2022-04-15T15:25:56.502Z"
   },
   {
    "duration": 0,
    "start_time": "2022-04-15T15:25:56.503Z"
   },
   {
    "duration": 0,
    "start_time": "2022-04-15T15:25:56.504Z"
   },
   {
    "duration": 0,
    "start_time": "2022-04-15T15:25:56.505Z"
   },
   {
    "duration": 0,
    "start_time": "2022-04-15T15:25:56.540Z"
   },
   {
    "duration": 0,
    "start_time": "2022-04-15T15:25:56.541Z"
   },
   {
    "duration": 1,
    "start_time": "2022-04-15T15:25:56.543Z"
   },
   {
    "duration": 0,
    "start_time": "2022-04-15T15:25:56.545Z"
   },
   {
    "duration": 0,
    "start_time": "2022-04-15T15:25:56.546Z"
   },
   {
    "duration": 0,
    "start_time": "2022-04-15T15:25:56.548Z"
   },
   {
    "duration": 0,
    "start_time": "2022-04-15T15:25:56.549Z"
   },
   {
    "duration": 0,
    "start_time": "2022-04-15T15:25:56.551Z"
   },
   {
    "duration": 0,
    "start_time": "2022-04-15T15:25:56.552Z"
   },
   {
    "duration": 0,
    "start_time": "2022-04-15T15:25:56.554Z"
   },
   {
    "duration": 0,
    "start_time": "2022-04-15T15:25:56.555Z"
   },
   {
    "duration": 0,
    "start_time": "2022-04-15T15:25:56.556Z"
   },
   {
    "duration": 0,
    "start_time": "2022-04-15T15:25:56.558Z"
   },
   {
    "duration": 0,
    "start_time": "2022-04-15T15:25:56.559Z"
   },
   {
    "duration": 0,
    "start_time": "2022-04-15T15:25:56.560Z"
   },
   {
    "duration": 0,
    "start_time": "2022-04-15T15:25:56.562Z"
   },
   {
    "duration": 0,
    "start_time": "2022-04-15T15:25:56.562Z"
   },
   {
    "duration": 0,
    "start_time": "2022-04-15T15:25:56.564Z"
   },
   {
    "duration": 0,
    "start_time": "2022-04-15T15:25:56.565Z"
   },
   {
    "duration": 0,
    "start_time": "2022-04-15T15:25:56.566Z"
   },
   {
    "duration": 1061,
    "start_time": "2022-04-15T15:26:14.750Z"
   },
   {
    "duration": 15,
    "start_time": "2022-04-15T15:26:15.813Z"
   },
   {
    "duration": 50,
    "start_time": "2022-04-15T15:26:15.830Z"
   },
   {
    "duration": 15,
    "start_time": "2022-04-15T15:26:15.882Z"
   },
   {
    "duration": 26,
    "start_time": "2022-04-15T15:26:15.900Z"
   },
   {
    "duration": 33,
    "start_time": "2022-04-15T15:26:15.928Z"
   },
   {
    "duration": 7,
    "start_time": "2022-04-15T15:26:15.963Z"
   },
   {
    "duration": 26,
    "start_time": "2022-04-15T15:26:15.971Z"
   },
   {
    "duration": 1164,
    "start_time": "2022-04-15T15:26:15.998Z"
   },
   {
    "duration": 17,
    "start_time": "2022-04-15T15:26:17.164Z"
   },
   {
    "duration": 1134,
    "start_time": "2022-04-15T15:26:17.183Z"
   },
   {
    "duration": 30,
    "start_time": "2022-04-15T15:26:18.318Z"
   },
   {
    "duration": 296,
    "start_time": "2022-04-15T15:26:18.350Z"
   },
   {
    "duration": 8,
    "start_time": "2022-04-15T15:26:18.650Z"
   },
   {
    "duration": 33,
    "start_time": "2022-04-15T15:26:18.660Z"
   },
   {
    "duration": 12,
    "start_time": "2022-04-15T15:26:18.695Z"
   },
   {
    "duration": 219,
    "start_time": "2022-04-15T15:26:18.733Z"
   },
   {
    "duration": 183,
    "start_time": "2022-04-15T15:26:18.954Z"
   },
   {
    "duration": 21,
    "start_time": "2022-04-15T15:26:19.139Z"
   },
   {
    "duration": 339,
    "start_time": "2022-04-15T15:26:19.162Z"
   },
   {
    "duration": 18,
    "start_time": "2022-04-15T15:26:19.503Z"
   },
   {
    "duration": 428,
    "start_time": "2022-04-15T15:26:19.539Z"
   },
   {
    "duration": 16,
    "start_time": "2022-04-15T15:26:19.969Z"
   },
   {
    "duration": 343,
    "start_time": "2022-04-15T15:26:19.987Z"
   },
   {
    "duration": 25,
    "start_time": "2022-04-15T15:26:20.335Z"
   },
   {
    "duration": 241,
    "start_time": "2022-04-15T15:26:20.362Z"
   },
   {
    "duration": 251,
    "start_time": "2022-04-15T15:26:20.605Z"
   },
   {
    "duration": 20,
    "start_time": "2022-04-15T15:26:20.858Z"
   },
   {
    "duration": 19,
    "start_time": "2022-04-15T15:26:20.880Z"
   },
   {
    "duration": 19,
    "start_time": "2022-04-15T15:26:20.901Z"
   },
   {
    "duration": 32,
    "start_time": "2022-04-15T15:26:20.932Z"
   },
   {
    "duration": 312,
    "start_time": "2022-04-15T15:26:20.966Z"
   },
   {
    "duration": 73,
    "start_time": "2022-04-15T15:26:21.280Z"
   },
   {
    "duration": 20,
    "start_time": "2022-04-15T15:26:21.355Z"
   },
   {
    "duration": 24,
    "start_time": "2022-04-15T15:26:21.377Z"
   },
   {
    "duration": 303,
    "start_time": "2022-04-15T15:26:21.438Z"
   },
   {
    "duration": 209,
    "start_time": "2022-04-15T15:26:21.747Z"
   },
   {
    "duration": 16,
    "start_time": "2022-04-15T15:26:21.958Z"
   },
   {
    "duration": 6,
    "start_time": "2022-04-15T15:26:21.976Z"
   },
   {
    "duration": 36,
    "start_time": "2022-04-15T15:26:21.983Z"
   },
   {
    "duration": 16,
    "start_time": "2022-04-15T15:26:22.023Z"
   },
   {
    "duration": 752,
    "start_time": "2022-04-15T15:34:47.233Z"
   },
   {
    "duration": 822,
    "start_time": "2022-04-15T15:35:27.056Z"
   },
   {
    "duration": 858,
    "start_time": "2022-04-15T15:35:30.649Z"
   },
   {
    "duration": 410,
    "start_time": "2022-04-15T15:36:23.879Z"
   },
   {
    "duration": 703,
    "start_time": "2022-04-15T15:36:57.589Z"
   },
   {
    "duration": 1039,
    "start_time": "2022-04-15T15:57:33.367Z"
   },
   {
    "duration": 18,
    "start_time": "2022-04-15T15:57:34.408Z"
   },
   {
    "duration": 37,
    "start_time": "2022-04-15T15:57:34.428Z"
   },
   {
    "duration": 15,
    "start_time": "2022-04-15T15:57:34.468Z"
   },
   {
    "duration": 26,
    "start_time": "2022-04-15T15:57:34.485Z"
   },
   {
    "duration": 46,
    "start_time": "2022-04-15T15:57:34.513Z"
   },
   {
    "duration": 5,
    "start_time": "2022-04-15T15:57:34.561Z"
   },
   {
    "duration": 22,
    "start_time": "2022-04-15T15:57:34.568Z"
   },
   {
    "duration": 1148,
    "start_time": "2022-04-15T15:57:34.592Z"
   },
   {
    "duration": 18,
    "start_time": "2022-04-15T15:57:35.743Z"
   },
   {
    "duration": 1152,
    "start_time": "2022-04-15T15:57:35.763Z"
   },
   {
    "duration": 32,
    "start_time": "2022-04-15T15:57:36.917Z"
   },
   {
    "duration": 288,
    "start_time": "2022-04-15T15:57:36.951Z"
   },
   {
    "duration": 9,
    "start_time": "2022-04-15T15:57:37.241Z"
   },
   {
    "duration": 32,
    "start_time": "2022-04-15T15:57:37.252Z"
   },
   {
    "duration": 11,
    "start_time": "2022-04-15T15:57:37.286Z"
   },
   {
    "duration": 227,
    "start_time": "2022-04-15T15:57:37.299Z"
   },
   {
    "duration": 185,
    "start_time": "2022-04-15T15:57:37.528Z"
   },
   {
    "duration": 48,
    "start_time": "2022-04-15T15:57:37.715Z"
   },
   {
    "duration": 15,
    "start_time": "2022-04-15T15:57:37.765Z"
   },
   {
    "duration": 328,
    "start_time": "2022-04-15T15:57:37.782Z"
   },
   {
    "duration": 29,
    "start_time": "2022-04-15T15:57:38.112Z"
   },
   {
    "duration": 411,
    "start_time": "2022-04-15T15:57:38.142Z"
   },
   {
    "duration": 18,
    "start_time": "2022-04-15T15:57:38.556Z"
   },
   {
    "duration": 340,
    "start_time": "2022-04-15T15:57:38.576Z"
   },
   {
    "duration": 36,
    "start_time": "2022-04-15T15:57:38.918Z"
   },
   {
    "duration": 238,
    "start_time": "2022-04-15T15:57:38.957Z"
   },
   {
    "duration": 260,
    "start_time": "2022-04-15T15:57:39.200Z"
   },
   {
    "duration": 19,
    "start_time": "2022-04-15T15:57:39.463Z"
   },
   {
    "duration": 19,
    "start_time": "2022-04-15T15:57:39.484Z"
   },
   {
    "duration": 47,
    "start_time": "2022-04-15T15:57:39.505Z"
   },
   {
    "duration": 27,
    "start_time": "2022-04-15T15:57:39.554Z"
   },
   {
    "duration": 222,
    "start_time": "2022-04-15T15:57:39.583Z"
   },
   {
    "duration": 32,
    "start_time": "2022-04-15T15:57:39.807Z"
   },
   {
    "duration": 22,
    "start_time": "2022-04-15T15:57:39.841Z"
   },
   {
    "duration": 20,
    "start_time": "2022-04-15T15:57:39.865Z"
   },
   {
    "duration": 335,
    "start_time": "2022-04-15T15:57:39.887Z"
   },
   {
    "duration": 226,
    "start_time": "2022-04-15T15:57:40.224Z"
   },
   {
    "duration": 17,
    "start_time": "2022-04-15T15:57:40.452Z"
   },
   {
    "duration": 5,
    "start_time": "2022-04-15T15:57:40.471Z"
   },
   {
    "duration": 17,
    "start_time": "2022-04-15T15:57:40.478Z"
   },
   {
    "duration": 5,
    "start_time": "2022-04-15T15:57:40.497Z"
   },
   {
    "duration": 4,
    "start_time": "2022-04-15T15:58:05.570Z"
   }
  ],
  "kernelspec": {
   "display_name": "Python 3",
   "language": "python",
   "name": "python3"
  },
  "language_info": {
   "codemirror_mode": {
    "name": "ipython",
    "version": 3
   },
   "file_extension": ".py",
   "mimetype": "text/x-python",
   "name": "python",
   "nbconvert_exporter": "python",
   "pygments_lexer": "ipython3",
   "version": "3.8.8"
  },
  "toc": {
   "base_numbering": 1,
   "nav_menu": {},
   "number_sections": true,
   "sideBar": true,
   "skip_h1_title": true,
   "title_cell": "Table of Contents",
   "title_sidebar": "Contents",
   "toc_cell": false,
   "toc_position": {},
   "toc_section_display": true,
   "toc_window_display": false
  }
 },
 "nbformat": 4,
 "nbformat_minor": 5
}
