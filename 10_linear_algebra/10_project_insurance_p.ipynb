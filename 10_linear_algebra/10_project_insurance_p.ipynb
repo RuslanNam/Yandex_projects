{
 "cells": [
  {
   "cell_type": "markdown",
   "id": "fa209dfc",
   "metadata": {},
   "source": [
    "# Защита персональных данных клиентов\n",
    "## Описание проекта\n",
    "Вам нужно защитить данные клиентов страховой компании «Хоть потоп». Разработайте такой метод преобразования данных, чтобы по ним было сложно восстановить персональную информацию. Обоснуйте корректность его работы.\n",
    "\n",
    "Нужно защитить данные, чтобы при преобразовании качество моделей машинного обучения не ухудшилось. Подбирать наилучшую модель не требуется.\n",
    "\n",
    "## Инструкция по выполнению проекта\n",
    "\n",
    "1. Загрузите и изучите данные.\n",
    "2. Ответьте на вопрос и обоснуйте решение.\n",
    "3. Предложите алгоритм преобразования данных для решения задачи. Обоснуйте, почему качество линейной регрессии не поменяется.\n",
    "4. Запрограммируйте этот алгоритм, применив матричные операции. Проверьте, что качество линейной регрессии из sklearn не отличается до и после преобразования. Примените метрику R2.\n",
    "\n",
    "## Описание данных\n",
    "**Признаки**: пол, возраст и зарплата застрахованного, количество членов его семьи.\n",
    "\n",
    "**Целевой признак**: количество страховых выплат клиенту за последние 5 лет."
   ]
  },
  {
   "cell_type": "markdown",
   "id": "93596fb6",
   "metadata": {},
   "source": [
    "## 1. Загрузите и изучите данные."
   ]
  },
  {
   "cell_type": "code",
   "execution_count": 1,
   "id": "639c787c",
   "metadata": {},
   "outputs": [
    {
     "data": {
      "text/html": [
       "<div>\n",
       "<style scoped>\n",
       "    .dataframe tbody tr th:only-of-type {\n",
       "        vertical-align: middle;\n",
       "    }\n",
       "\n",
       "    .dataframe tbody tr th {\n",
       "        vertical-align: top;\n",
       "    }\n",
       "\n",
       "    .dataframe thead th {\n",
       "        text-align: right;\n",
       "    }\n",
       "</style>\n",
       "<table border=\"1\" class=\"dataframe\">\n",
       "  <thead>\n",
       "    <tr style=\"text-align: right;\">\n",
       "      <th></th>\n",
       "      <th>Пол</th>\n",
       "      <th>Возраст</th>\n",
       "      <th>Зарплата</th>\n",
       "      <th>Члены семьи</th>\n",
       "      <th>Страховые выплаты</th>\n",
       "    </tr>\n",
       "  </thead>\n",
       "  <tbody>\n",
       "    <tr>\n",
       "      <th>0</th>\n",
       "      <td>1</td>\n",
       "      <td>41.0</td>\n",
       "      <td>49600.0</td>\n",
       "      <td>1</td>\n",
       "      <td>0</td>\n",
       "    </tr>\n",
       "    <tr>\n",
       "      <th>1</th>\n",
       "      <td>0</td>\n",
       "      <td>46.0</td>\n",
       "      <td>38000.0</td>\n",
       "      <td>1</td>\n",
       "      <td>1</td>\n",
       "    </tr>\n",
       "    <tr>\n",
       "      <th>2</th>\n",
       "      <td>0</td>\n",
       "      <td>29.0</td>\n",
       "      <td>21000.0</td>\n",
       "      <td>0</td>\n",
       "      <td>0</td>\n",
       "    </tr>\n",
       "    <tr>\n",
       "      <th>3</th>\n",
       "      <td>0</td>\n",
       "      <td>21.0</td>\n",
       "      <td>41700.0</td>\n",
       "      <td>2</td>\n",
       "      <td>0</td>\n",
       "    </tr>\n",
       "    <tr>\n",
       "      <th>4</th>\n",
       "      <td>1</td>\n",
       "      <td>28.0</td>\n",
       "      <td>26100.0</td>\n",
       "      <td>0</td>\n",
       "      <td>0</td>\n",
       "    </tr>\n",
       "    <tr>\n",
       "      <th>...</th>\n",
       "      <td>...</td>\n",
       "      <td>...</td>\n",
       "      <td>...</td>\n",
       "      <td>...</td>\n",
       "      <td>...</td>\n",
       "    </tr>\n",
       "    <tr>\n",
       "      <th>4995</th>\n",
       "      <td>0</td>\n",
       "      <td>28.0</td>\n",
       "      <td>35700.0</td>\n",
       "      <td>2</td>\n",
       "      <td>0</td>\n",
       "    </tr>\n",
       "    <tr>\n",
       "      <th>4996</th>\n",
       "      <td>0</td>\n",
       "      <td>34.0</td>\n",
       "      <td>52400.0</td>\n",
       "      <td>1</td>\n",
       "      <td>0</td>\n",
       "    </tr>\n",
       "    <tr>\n",
       "      <th>4997</th>\n",
       "      <td>0</td>\n",
       "      <td>20.0</td>\n",
       "      <td>33900.0</td>\n",
       "      <td>2</td>\n",
       "      <td>0</td>\n",
       "    </tr>\n",
       "    <tr>\n",
       "      <th>4998</th>\n",
       "      <td>1</td>\n",
       "      <td>22.0</td>\n",
       "      <td>32700.0</td>\n",
       "      <td>3</td>\n",
       "      <td>0</td>\n",
       "    </tr>\n",
       "    <tr>\n",
       "      <th>4999</th>\n",
       "      <td>1</td>\n",
       "      <td>28.0</td>\n",
       "      <td>40600.0</td>\n",
       "      <td>1</td>\n",
       "      <td>0</td>\n",
       "    </tr>\n",
       "  </tbody>\n",
       "</table>\n",
       "<p>5000 rows × 5 columns</p>\n",
       "</div>"
      ],
      "text/plain": [
       "      Пол  Возраст  Зарплата  Члены семьи  Страховые выплаты\n",
       "0       1     41.0   49600.0            1                  0\n",
       "1       0     46.0   38000.0            1                  1\n",
       "2       0     29.0   21000.0            0                  0\n",
       "3       0     21.0   41700.0            2                  0\n",
       "4       1     28.0   26100.0            0                  0\n",
       "...   ...      ...       ...          ...                ...\n",
       "4995    0     28.0   35700.0            2                  0\n",
       "4996    0     34.0   52400.0            1                  0\n",
       "4997    0     20.0   33900.0            2                  0\n",
       "4998    1     22.0   32700.0            3                  0\n",
       "4999    1     28.0   40600.0            1                  0\n",
       "\n",
       "[5000 rows x 5 columns]"
      ]
     },
     "execution_count": 1,
     "metadata": {},
     "output_type": "execute_result"
    }
   ],
   "source": [
    "import numpy as np\n",
    "import pandas as pd\n",
    "from sklearn.linear_model import LinearRegression\n",
    "from sklearn.metrics import r2_score\n",
    "\n",
    "try:\n",
    "    data = pd.read_csv('insurance.csv')\n",
    "except:\n",
    "    data = pd.read_csv('/datasets/insurance.csv')\n",
    "\n",
    "data"
   ]
  },
  {
   "cell_type": "code",
   "execution_count": 2,
   "id": "60fadfbf",
   "metadata": {
    "scrolled": true
   },
   "outputs": [
    {
     "name": "stdout",
     "output_type": "stream",
     "text": [
      "<class 'pandas.core.frame.DataFrame'>\n",
      "RangeIndex: 5000 entries, 0 to 4999\n",
      "Data columns (total 5 columns):\n",
      " #   Column             Non-Null Count  Dtype  \n",
      "---  ------             --------------  -----  \n",
      " 0   Пол                5000 non-null   int64  \n",
      " 1   Возраст            5000 non-null   float64\n",
      " 2   Зарплата           5000 non-null   float64\n",
      " 3   Члены семьи        5000 non-null   int64  \n",
      " 4   Страховые выплаты  5000 non-null   int64  \n",
      "dtypes: float64(2), int64(3)\n",
      "memory usage: 195.4 KB\n"
     ]
    },
    {
     "data": {
      "text/plain": [
       "None"
      ]
     },
     "metadata": {},
     "output_type": "display_data"
    },
    {
     "data": {
      "text/html": [
       "<div>\n",
       "<style scoped>\n",
       "    .dataframe tbody tr th:only-of-type {\n",
       "        vertical-align: middle;\n",
       "    }\n",
       "\n",
       "    .dataframe tbody tr th {\n",
       "        vertical-align: top;\n",
       "    }\n",
       "\n",
       "    .dataframe thead th {\n",
       "        text-align: right;\n",
       "    }\n",
       "</style>\n",
       "<table border=\"1\" class=\"dataframe\">\n",
       "  <thead>\n",
       "    <tr style=\"text-align: right;\">\n",
       "      <th></th>\n",
       "      <th>Пол</th>\n",
       "      <th>Возраст</th>\n",
       "      <th>Зарплата</th>\n",
       "      <th>Члены семьи</th>\n",
       "      <th>Страховые выплаты</th>\n",
       "    </tr>\n",
       "  </thead>\n",
       "  <tbody>\n",
       "    <tr>\n",
       "      <th>count</th>\n",
       "      <td>5000.000000</td>\n",
       "      <td>5000.000000</td>\n",
       "      <td>5000.000000</td>\n",
       "      <td>5000.000000</td>\n",
       "      <td>5000.000000</td>\n",
       "    </tr>\n",
       "    <tr>\n",
       "      <th>mean</th>\n",
       "      <td>0.499000</td>\n",
       "      <td>30.952800</td>\n",
       "      <td>39916.360000</td>\n",
       "      <td>1.194200</td>\n",
       "      <td>0.148000</td>\n",
       "    </tr>\n",
       "    <tr>\n",
       "      <th>std</th>\n",
       "      <td>0.500049</td>\n",
       "      <td>8.440807</td>\n",
       "      <td>9900.083569</td>\n",
       "      <td>1.091387</td>\n",
       "      <td>0.463183</td>\n",
       "    </tr>\n",
       "    <tr>\n",
       "      <th>min</th>\n",
       "      <td>0.000000</td>\n",
       "      <td>18.000000</td>\n",
       "      <td>5300.000000</td>\n",
       "      <td>0.000000</td>\n",
       "      <td>0.000000</td>\n",
       "    </tr>\n",
       "    <tr>\n",
       "      <th>25%</th>\n",
       "      <td>0.000000</td>\n",
       "      <td>24.000000</td>\n",
       "      <td>33300.000000</td>\n",
       "      <td>0.000000</td>\n",
       "      <td>0.000000</td>\n",
       "    </tr>\n",
       "    <tr>\n",
       "      <th>50%</th>\n",
       "      <td>0.000000</td>\n",
       "      <td>30.000000</td>\n",
       "      <td>40200.000000</td>\n",
       "      <td>1.000000</td>\n",
       "      <td>0.000000</td>\n",
       "    </tr>\n",
       "    <tr>\n",
       "      <th>75%</th>\n",
       "      <td>1.000000</td>\n",
       "      <td>37.000000</td>\n",
       "      <td>46600.000000</td>\n",
       "      <td>2.000000</td>\n",
       "      <td>0.000000</td>\n",
       "    </tr>\n",
       "    <tr>\n",
       "      <th>max</th>\n",
       "      <td>1.000000</td>\n",
       "      <td>65.000000</td>\n",
       "      <td>79000.000000</td>\n",
       "      <td>6.000000</td>\n",
       "      <td>5.000000</td>\n",
       "    </tr>\n",
       "  </tbody>\n",
       "</table>\n",
       "</div>"
      ],
      "text/plain": [
       "               Пол      Возраст      Зарплата  Члены семьи  Страховые выплаты\n",
       "count  5000.000000  5000.000000   5000.000000  5000.000000        5000.000000\n",
       "mean      0.499000    30.952800  39916.360000     1.194200           0.148000\n",
       "std       0.500049     8.440807   9900.083569     1.091387           0.463183\n",
       "min       0.000000    18.000000   5300.000000     0.000000           0.000000\n",
       "25%       0.000000    24.000000  33300.000000     0.000000           0.000000\n",
       "50%       0.000000    30.000000  40200.000000     1.000000           0.000000\n",
       "75%       1.000000    37.000000  46600.000000     2.000000           0.000000\n",
       "max       1.000000    65.000000  79000.000000     6.000000           5.000000"
      ]
     },
     "execution_count": 2,
     "metadata": {},
     "output_type": "execute_result"
    }
   ],
   "source": [
    "display(data.info())\n",
    "data.describe()"
   ]
  },
  {
   "cell_type": "markdown",
   "id": "8f8784bd",
   "metadata": {},
   "source": [
    "Мы видим, что данные изначально полностью готовы к дальнейшему исследованию "
   ]
  },
  {
   "cell_type": "markdown",
   "id": "c1839ba2",
   "metadata": {},
   "source": [
    "## 2. Ответьте на вопрос и обоснуйте решение.\n",
    "**Признаки умножают на обратимую матрицу. Изменится ли качество линейной регрессии? (Её можно обучить заново.)**"
   ]
  },
  {
   "cell_type": "markdown",
   "id": "2faae7a2",
   "metadata": {},
   "source": [
    "Чтобы записать формулу внутри текста, окружите её символами доллара \\\\$; если снаружи —  двойными символами \\\\$\\\\$. Эти формулы записываются на языке вёрстки *LaTeX.* \n",
    "\n",
    "Для примера мы записали формулы линейной регрессии. Можете их скопировать и отредактировать, чтобы решить задачу.\n",
    "\n",
    "Работать в *LaTeX* необязательно.\n",
    "\n",
    "Обозначения:\n",
    "\n",
    "- $X$ — матрица признаков (нулевой столбец состоит из единиц)\n",
    "\n",
    "- $y$ — вектор целевого признака\n",
    "\n",
    "- $P$ — матрица, на которую умножаются признаки\n",
    "\n",
    "- $w$ — вектор весов линейной регрессии (нулевой элемент равен сдвигу)\n",
    "\n",
    "Предсказания:\n",
    "\n",
    "$$\n",
    "a = Xw\n",
    "$$\n",
    "\n",
    "Задача обучения:\n",
    "\n",
    "$$\n",
    "w = \\arg\\min_w MSE(Xw, y)\n",
    "$$\n",
    "\n",
    "Формула обучения:\n",
    "\n",
    "$$\n",
    "w = (X^T X)^{-1} X^T y\n",
    "$$\n",
    "\n",
    "**Ответ:** Качество линейной регрессии не поменяется\n",
    "\n",
    "**Обоснование:** \n",
    "В преобразованной задаче допустим, что новые предсказания следующие: \n",
    "\n",
    "$$\n",
    "a_1 = X_1w_1, \n",
    "$$\n",
    "\n",
    "где $X_1 = X*P$, которая получится той же размерности, что и матрица $X$\n",
    "\n",
    "Задача обучения теперь следующая:\n",
    "\n",
    "$$\n",
    "w_1 = \\arg\\min_w MSE(X_1w_1, y)\n",
    "$$\n",
    "\n",
    "Формула обучения теперь:\n",
    "\n",
    "$$\n",
    "w = (X_1^T X_1)^{-1} X_1^T y\n",
    "$$\n",
    "\n",
    "При подстановке $w$ и $w_1$ в $а$ и $а_1$, соответственно, мы получим, что $a1=a=y$. Далее считаем $R^2$ и получаем равные значения"
   ]
  },
  {
   "cell_type": "markdown",
   "id": "a71e40ef",
   "metadata": {},
   "source": [
    "## 3. Предложите алгоритм преобразования данных для решения задачи. Обоснуйте, почему качество линейной регрессии не поменяется.\n",
    "\n",
    "1. Умножим справа матрицу признаков с размерностью (m х n+1) на рандомную обратимую матрицу с размерностью (n+1 x n+1):\n",
    "$X_1 = X * P$. $X_1$ получится с размерностью такой же, как и у исходной матрицы $X$ (m х n+1)\n",
    "2. Докажем, что $a_1 = a$:\n",
    "$$\n",
    "a_1 = a => X_1(X_1^T X_1)^{-1} X_1^T y = X (X^T X)^{-1} X^T y => (X_1^T X_1)^{-1} (X_1^T X_1)y = (X^T X)^{-1} (X^T X)y => Ey = Ey => y= y\n",
    "$$\n",
    "\n",
    "$$\n",
    "ЧТД\n",
    "$$"
   ]
  },
  {
   "cell_type": "markdown",
   "id": "31fcde92",
   "metadata": {},
   "source": [
    "## 4. Запрограммируйте этот алгоритм, применив матричные операции. \n",
    "## Проверьте, что качество линейной регрессии из sklearn не отличается до и после преобразования. Примените метрику R2.\n",
    "Итак, **для начала** мы обучим модель и посчитаем качество модели с помощью MSE и R^2. \n",
    "\n",
    "**Далее**, проведем шифрование персональных данных(features) путем умножения на обратимую (должна быть квадратная и невырожденная) матрицу. \n",
    "\n",
    "**Наконец**, нужно вновь посмотреть на качество модели и сделать выводы."
   ]
  },
  {
   "cell_type": "markdown",
   "id": "cd311b08",
   "metadata": {},
   "source": [
    "Выделим features и target:"
   ]
  },
  {
   "cell_type": "code",
   "execution_count": 3,
   "id": "024d7cc3",
   "metadata": {},
   "outputs": [],
   "source": [
    "features = data.drop('Страховые выплаты', axis=1)\n",
    "target = data['Страховые выплаты']"
   ]
  },
  {
   "cell_type": "markdown",
   "id": "006a3de0",
   "metadata": {},
   "source": [
    "Обучим модель до шифрования и оценим ее качество:"
   ]
  },
  {
   "cell_type": "code",
   "execution_count": 4,
   "id": "3a336428",
   "metadata": {
    "scrolled": true
   },
   "outputs": [
    {
     "name": "stdout",
     "output_type": "stream",
     "text": [
      "0.4249455028666801\n"
     ]
    }
   ],
   "source": [
    "model = LinearRegression()\n",
    "model.fit(features,target)\n",
    "predictions = model.predict(features)\n",
    "print(r2_score(target,predictions))"
   ]
  },
  {
   "cell_type": "markdown",
   "id": "aee65f15",
   "metadata": {},
   "source": [
    "Для того чтобы найти обратимую матрицу, удовлетворяющую условиям, напишем следующую функцию"
   ]
  },
  {
   "cell_type": "code",
   "execution_count": 5,
   "id": "c7718bc3",
   "metadata": {},
   "outputs": [],
   "source": [
    "def get_invertible_random_matrix(n):\n",
    "    random_matrix = np.random.normal(size=(n, n))\n",
    "    np.linalg.det(random_matrix) != 0\n",
    "    return random_matrix"
   ]
  },
  {
   "cell_type": "code",
   "execution_count": 6,
   "id": "8d54a7c1",
   "metadata": {
    "scrolled": false
   },
   "outputs": [
    {
     "data": {
      "text/plain": [
       "array([[-1.76387473,  2.58445931,  1.09549861, -0.35966903],\n",
       "       [ 1.95206739, -0.33469851, -0.41727028, -1.1451354 ],\n",
       "       [ 1.45798748, -0.57697084,  0.5689765 , -0.51014572],\n",
       "       [-0.40828845,  0.78164482,  0.52749393,  0.8989817 ]])"
      ]
     },
     "execution_count": 6,
     "metadata": {},
     "output_type": "execute_result"
    }
   ],
   "source": [
    "p = get_invertible_random_matrix(features.shape[1])\n",
    "p"
   ]
  },
  {
   "cell_type": "markdown",
   "id": "596cb253",
   "metadata": {},
   "source": [
    "Проверим полученную матрицу с помощью умножения обратной ей матрицы, а также посмотрим на определитель матрицы"
   ]
  },
  {
   "cell_type": "code",
   "execution_count": 7,
   "id": "b10ceb87",
   "metadata": {
    "scrolled": true
   },
   "outputs": [
    {
     "data": {
      "text/plain": [
       "array([[-0.11740548,  0.51951766,  0.02429458,  0.62858311],\n",
       "       [ 0.1798293 ,  0.63262907, -0.45612418,  0.61896163],\n",
       "       [ 0.19343805, -0.63650149,  1.04726651, -0.13909982],\n",
       "       [-0.32318271,  0.05936994, -0.20687899,  0.94129766]])"
      ]
     },
     "execution_count": 7,
     "metadata": {},
     "output_type": "execute_result"
    }
   ],
   "source": [
    "pp = np.linalg.inv(p)\n",
    "pp"
   ]
  },
  {
   "cell_type": "code",
   "execution_count": 8,
   "id": "c16fc751",
   "metadata": {},
   "outputs": [
    {
     "name": "stdout",
     "output_type": "stream",
     "text": [
      "-4.654768488406792\n",
      "-0.21483345573267706\n"
     ]
    }
   ],
   "source": [
    "print(np.linalg.det(p))\n",
    "print(np.linalg.det(pp))"
   ]
  },
  {
   "cell_type": "code",
   "execution_count": 9,
   "id": "a8662228",
   "metadata": {},
   "outputs": [
    {
     "data": {
      "text/plain": [
       "array([[ 1., -0., -0.,  0.],\n",
       "       [ 0.,  1.,  0.,  0.],\n",
       "       [-0.,  0.,  1., -0.],\n",
       "       [ 0., -0.,  0.,  1.]])"
      ]
     },
     "execution_count": 9,
     "metadata": {},
     "output_type": "execute_result"
    }
   ],
   "source": [
    "p.dot(pp).round()"
   ]
  },
  {
   "cell_type": "markdown",
   "id": "e0514292",
   "metadata": {},
   "source": [
    "Теперь умножим матрицу признаков на обратимую матрицу (р) => заново переобучим модель => рассчитаем R^2"
   ]
  },
  {
   "cell_type": "code",
   "execution_count": 10,
   "id": "1a7ca567",
   "metadata": {},
   "outputs": [
    {
     "name": "stdout",
     "output_type": "stream",
     "text": [
      "0.42494550286667776\n"
     ]
    }
   ],
   "source": [
    "features1 = features.dot(p)\n",
    "\n",
    "model1 = LinearRegression()\n",
    "model1.fit(features1, target)\n",
    "predictions1 = model1.predict(features1)\n",
    "print(r2_score(target, predictions1))"
   ]
  },
  {
   "cell_type": "markdown",
   "id": "48fcad89",
   "metadata": {},
   "source": [
    "Отлично, как и полагалось, качество модели не изменилось!"
   ]
  }
 ],
 "metadata": {
  "kernelspec": {
   "display_name": "Python 3",
   "language": "python",
   "name": "python3"
  },
  "language_info": {
   "codemirror_mode": {
    "name": "ipython",
    "version": 3
   },
   "file_extension": ".py",
   "mimetype": "text/x-python",
   "name": "python",
   "nbconvert_exporter": "python",
   "pygments_lexer": "ipython3",
   "version": "3.8.8"
  },
  "toc": {
   "base_numbering": 1,
   "nav_menu": {},
   "number_sections": true,
   "sideBar": true,
   "skip_h1_title": true,
   "title_cell": "Table of Contents",
   "title_sidebar": "Contents",
   "toc_cell": false,
   "toc_position": {},
   "toc_section_display": true,
   "toc_window_display": false
  }
 },
 "nbformat": 4,
 "nbformat_minor": 5
}
