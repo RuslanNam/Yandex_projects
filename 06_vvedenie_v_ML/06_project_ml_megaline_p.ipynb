{
 "cells": [
  {
   "cell_type": "markdown",
   "id": "327533d8",
   "metadata": {},
   "source": [
    "# Рекомендация тарифов\n",
    "## Описание проекта\n",
    "Оператор мобильной связи выяснил: многие клиенты пользуются архивными тарифами. Они хотят построить систему, способную проанализировать поведение клиентов и предложить пользователям новый тариф: «Смарт» или «Ультра».\n",
    "\n",
    "В вашем распоряжении данные о поведении клиентов, которые уже перешли на эти тарифы (из проекта курса «Статистический анализ данных»). Нужно построить модель для задачи классификации, которая выберет подходящий тариф. Предобработка данных не понадобится — вы её уже сделали.\n",
    "\n",
    "Требуется модель с максимально большим значением accuracy и довести долю правильных ответов по крайней мере до 0.75.\n",
    "## План проекта:\n",
    "1. Открыть файл с данными и изучить его.\n",
    "2. Разделить исходные данные на обучающую, валидационную и тестовую выборки.\n",
    "3. Исследовать качество разных моделей, меняя гиперпараметры. Кратко написать выводы исследования.\n",
    "4. Проверить качество модели на тестовой выборке.\n",
    "5. Дополнительное задание: проверить модели на вменяемость. Ничего страшного, если не получится: эти данные сложнее тех, с которыми работали раньше.\n",
    "\n",
    "## Описание данных\n",
    "* Каждый объект в наборе данных — это информация о поведении одного пользователя за месяц. Известно:\n",
    "* сalls — количество звонков,\n",
    "* minutes — суммарная длительность звонков в минутах,\n",
    "* messages — количество sms-сообщений,\n",
    "* mb_used — израсходованный интернет-трафик в Мб,\n",
    "* is_ultra — каким тарифом пользовался в течение месяца («Ультра» — 1, «Смарт» — 0)."
   ]
  },
  {
   "cell_type": "markdown",
   "id": "fc0ad8dd",
   "metadata": {},
   "source": [
    "## 1. Откроем и изучим данные"
   ]
  },
  {
   "cell_type": "code",
   "execution_count": 1,
   "id": "1521e005",
   "metadata": {},
   "outputs": [
    {
     "data": {
      "text/html": [
       "<div>\n",
       "<style scoped>\n",
       "    .dataframe tbody tr th:only-of-type {\n",
       "        vertical-align: middle;\n",
       "    }\n",
       "\n",
       "    .dataframe tbody tr th {\n",
       "        vertical-align: top;\n",
       "    }\n",
       "\n",
       "    .dataframe thead th {\n",
       "        text-align: right;\n",
       "    }\n",
       "</style>\n",
       "<table border=\"1\" class=\"dataframe\">\n",
       "  <thead>\n",
       "    <tr style=\"text-align: right;\">\n",
       "      <th></th>\n",
       "      <th>calls</th>\n",
       "      <th>minutes</th>\n",
       "      <th>messages</th>\n",
       "      <th>mb_used</th>\n",
       "      <th>is_ultra</th>\n",
       "    </tr>\n",
       "  </thead>\n",
       "  <tbody>\n",
       "    <tr>\n",
       "      <th>0</th>\n",
       "      <td>40.0</td>\n",
       "      <td>311.90</td>\n",
       "      <td>83.0</td>\n",
       "      <td>19915.42</td>\n",
       "      <td>0</td>\n",
       "    </tr>\n",
       "    <tr>\n",
       "      <th>1</th>\n",
       "      <td>85.0</td>\n",
       "      <td>516.75</td>\n",
       "      <td>56.0</td>\n",
       "      <td>22696.96</td>\n",
       "      <td>0</td>\n",
       "    </tr>\n",
       "    <tr>\n",
       "      <th>2</th>\n",
       "      <td>77.0</td>\n",
       "      <td>467.66</td>\n",
       "      <td>86.0</td>\n",
       "      <td>21060.45</td>\n",
       "      <td>0</td>\n",
       "    </tr>\n",
       "    <tr>\n",
       "      <th>3</th>\n",
       "      <td>106.0</td>\n",
       "      <td>745.53</td>\n",
       "      <td>81.0</td>\n",
       "      <td>8437.39</td>\n",
       "      <td>1</td>\n",
       "    </tr>\n",
       "    <tr>\n",
       "      <th>4</th>\n",
       "      <td>66.0</td>\n",
       "      <td>418.74</td>\n",
       "      <td>1.0</td>\n",
       "      <td>14502.75</td>\n",
       "      <td>0</td>\n",
       "    </tr>\n",
       "    <tr>\n",
       "      <th>...</th>\n",
       "      <td>...</td>\n",
       "      <td>...</td>\n",
       "      <td>...</td>\n",
       "      <td>...</td>\n",
       "      <td>...</td>\n",
       "    </tr>\n",
       "    <tr>\n",
       "      <th>3209</th>\n",
       "      <td>122.0</td>\n",
       "      <td>910.98</td>\n",
       "      <td>20.0</td>\n",
       "      <td>35124.90</td>\n",
       "      <td>1</td>\n",
       "    </tr>\n",
       "    <tr>\n",
       "      <th>3210</th>\n",
       "      <td>25.0</td>\n",
       "      <td>190.36</td>\n",
       "      <td>0.0</td>\n",
       "      <td>3275.61</td>\n",
       "      <td>0</td>\n",
       "    </tr>\n",
       "    <tr>\n",
       "      <th>3211</th>\n",
       "      <td>97.0</td>\n",
       "      <td>634.44</td>\n",
       "      <td>70.0</td>\n",
       "      <td>13974.06</td>\n",
       "      <td>0</td>\n",
       "    </tr>\n",
       "    <tr>\n",
       "      <th>3212</th>\n",
       "      <td>64.0</td>\n",
       "      <td>462.32</td>\n",
       "      <td>90.0</td>\n",
       "      <td>31239.78</td>\n",
       "      <td>0</td>\n",
       "    </tr>\n",
       "    <tr>\n",
       "      <th>3213</th>\n",
       "      <td>80.0</td>\n",
       "      <td>566.09</td>\n",
       "      <td>6.0</td>\n",
       "      <td>29480.52</td>\n",
       "      <td>1</td>\n",
       "    </tr>\n",
       "  </tbody>\n",
       "</table>\n",
       "<p>3214 rows × 5 columns</p>\n",
       "</div>"
      ],
      "text/plain": [
       "      calls  minutes  messages   mb_used  is_ultra\n",
       "0      40.0   311.90      83.0  19915.42         0\n",
       "1      85.0   516.75      56.0  22696.96         0\n",
       "2      77.0   467.66      86.0  21060.45         0\n",
       "3     106.0   745.53      81.0   8437.39         1\n",
       "4      66.0   418.74       1.0  14502.75         0\n",
       "...     ...      ...       ...       ...       ...\n",
       "3209  122.0   910.98      20.0  35124.90         1\n",
       "3210   25.0   190.36       0.0   3275.61         0\n",
       "3211   97.0   634.44      70.0  13974.06         0\n",
       "3212   64.0   462.32      90.0  31239.78         0\n",
       "3213   80.0   566.09       6.0  29480.52         1\n",
       "\n",
       "[3214 rows x 5 columns]"
      ]
     },
     "execution_count": 1,
     "metadata": {},
     "output_type": "execute_result"
    }
   ],
   "source": [
    "import pandas as pd\n",
    "from sklearn.tree import DecisionTreeClassifier\n",
    "from sklearn.ensemble import RandomForestClassifier\n",
    "from sklearn.linear_model import LogisticRegression\n",
    "from joblib import dump\n",
    "from sklearn.metrics import accuracy_score\n",
    "from sklearn.metrics import recall_score\n",
    "from sklearn.metrics import precision_score\n",
    "from sklearn.model_selection import train_test_split\n",
    "from sklearn.metrics import mean_squared_error\n",
    "import random\n",
    "\n",
    "try:\n",
    "    meg = pd.read_csv('users_behavior.csv')\n",
    "except:\n",
    "    meg = pd.read_csv('/datasets/users_behavior.csv')\n",
    "    \n",
    "meg"
   ]
  },
  {
   "cell_type": "code",
   "execution_count": 2,
   "id": "7f5b3ef0",
   "metadata": {
    "scrolled": true
   },
   "outputs": [
    {
     "name": "stdout",
     "output_type": "stream",
     "text": [
      "<class 'pandas.core.frame.DataFrame'>\n",
      "RangeIndex: 3214 entries, 0 to 3213\n",
      "Data columns (total 5 columns):\n",
      " #   Column    Non-Null Count  Dtype  \n",
      "---  ------    --------------  -----  \n",
      " 0   calls     3214 non-null   float64\n",
      " 1   minutes   3214 non-null   float64\n",
      " 2   messages  3214 non-null   float64\n",
      " 3   mb_used   3214 non-null   float64\n",
      " 4   is_ultra  3214 non-null   int64  \n",
      "dtypes: float64(4), int64(1)\n",
      "memory usage: 125.7 KB\n"
     ]
    }
   ],
   "source": [
    "meg.info()"
   ]
  },
  {
   "cell_type": "code",
   "execution_count": 3,
   "id": "b20e18ae",
   "metadata": {
    "scrolled": false
   },
   "outputs": [
    {
     "data": {
      "text/html": [
       "<div>\n",
       "<style scoped>\n",
       "    .dataframe tbody tr th:only-of-type {\n",
       "        vertical-align: middle;\n",
       "    }\n",
       "\n",
       "    .dataframe tbody tr th {\n",
       "        vertical-align: top;\n",
       "    }\n",
       "\n",
       "    .dataframe thead th {\n",
       "        text-align: right;\n",
       "    }\n",
       "</style>\n",
       "<table border=\"1\" class=\"dataframe\">\n",
       "  <thead>\n",
       "    <tr style=\"text-align: right;\">\n",
       "      <th></th>\n",
       "      <th>calls</th>\n",
       "      <th>minutes</th>\n",
       "      <th>messages</th>\n",
       "      <th>mb_used</th>\n",
       "      <th>is_ultra</th>\n",
       "    </tr>\n",
       "  </thead>\n",
       "  <tbody>\n",
       "    <tr>\n",
       "      <th>count</th>\n",
       "      <td>3214.000000</td>\n",
       "      <td>3214.000000</td>\n",
       "      <td>3214.000000</td>\n",
       "      <td>3214.000000</td>\n",
       "      <td>3214.000000</td>\n",
       "    </tr>\n",
       "    <tr>\n",
       "      <th>mean</th>\n",
       "      <td>63.038892</td>\n",
       "      <td>438.208787</td>\n",
       "      <td>38.281269</td>\n",
       "      <td>17207.673836</td>\n",
       "      <td>0.306472</td>\n",
       "    </tr>\n",
       "    <tr>\n",
       "      <th>std</th>\n",
       "      <td>33.236368</td>\n",
       "      <td>234.569872</td>\n",
       "      <td>36.148326</td>\n",
       "      <td>7570.968246</td>\n",
       "      <td>0.461100</td>\n",
       "    </tr>\n",
       "    <tr>\n",
       "      <th>min</th>\n",
       "      <td>0.000000</td>\n",
       "      <td>0.000000</td>\n",
       "      <td>0.000000</td>\n",
       "      <td>0.000000</td>\n",
       "      <td>0.000000</td>\n",
       "    </tr>\n",
       "    <tr>\n",
       "      <th>25%</th>\n",
       "      <td>40.000000</td>\n",
       "      <td>274.575000</td>\n",
       "      <td>9.000000</td>\n",
       "      <td>12491.902500</td>\n",
       "      <td>0.000000</td>\n",
       "    </tr>\n",
       "    <tr>\n",
       "      <th>50%</th>\n",
       "      <td>62.000000</td>\n",
       "      <td>430.600000</td>\n",
       "      <td>30.000000</td>\n",
       "      <td>16943.235000</td>\n",
       "      <td>0.000000</td>\n",
       "    </tr>\n",
       "    <tr>\n",
       "      <th>75%</th>\n",
       "      <td>82.000000</td>\n",
       "      <td>571.927500</td>\n",
       "      <td>57.000000</td>\n",
       "      <td>21424.700000</td>\n",
       "      <td>1.000000</td>\n",
       "    </tr>\n",
       "    <tr>\n",
       "      <th>max</th>\n",
       "      <td>244.000000</td>\n",
       "      <td>1632.060000</td>\n",
       "      <td>224.000000</td>\n",
       "      <td>49745.730000</td>\n",
       "      <td>1.000000</td>\n",
       "    </tr>\n",
       "  </tbody>\n",
       "</table>\n",
       "</div>"
      ],
      "text/plain": [
       "             calls      minutes     messages       mb_used     is_ultra\n",
       "count  3214.000000  3214.000000  3214.000000   3214.000000  3214.000000\n",
       "mean     63.038892   438.208787    38.281269  17207.673836     0.306472\n",
       "std      33.236368   234.569872    36.148326   7570.968246     0.461100\n",
       "min       0.000000     0.000000     0.000000      0.000000     0.000000\n",
       "25%      40.000000   274.575000     9.000000  12491.902500     0.000000\n",
       "50%      62.000000   430.600000    30.000000  16943.235000     0.000000\n",
       "75%      82.000000   571.927500    57.000000  21424.700000     1.000000\n",
       "max     244.000000  1632.060000   224.000000  49745.730000     1.000000"
      ]
     },
     "execution_count": 3,
     "metadata": {},
     "output_type": "execute_result"
    }
   ],
   "source": [
    "meg.describe()"
   ]
  },
  {
   "cell_type": "code",
   "execution_count": 4,
   "id": "2efc1bb3",
   "metadata": {},
   "outputs": [
    {
     "data": {
      "text/plain": [
       "0    2229\n",
       "1     985\n",
       "Name: is_ultra, dtype: int64"
      ]
     },
     "execution_count": 4,
     "metadata": {},
     "output_type": "execute_result"
    }
   ],
   "source": [
    "# посмотрим на соотношение классов в выборке:\n",
    "meg.is_ultra.value_counts( )"
   ]
  },
  {
   "cell_type": "markdown",
   "id": "597d35e6",
   "metadata": {},
   "source": [
    "Итак, у нас 5 столбцов и 3214 строк без NaN значений. Все переменные имеют нужные типы данных. При этом стоит обратить внимание, что тарифы smart и ultra занимают по 70% и 30%, соответственно "
   ]
  },
  {
   "cell_type": "markdown",
   "id": "9df30769",
   "metadata": {},
   "source": [
    "## 2. Разделим данные на обучающую, валидационную и тестовую выборки.\n",
    "**Определим признаки:**\n",
    "* Нам нужно построить модель для задачи классификации, которая выберет подходящий тариф. Следовательной, целевой признак - столбец **is_ultra**;\n",
    "\n",
    "Для построения модели нужно разделить данные на выборки. **Отделим 20% на валидационную выборку и еще 20% на тестовую, остальное на обучающую**"
   ]
  },
  {
   "cell_type": "code",
   "execution_count": 5,
   "id": "91bcc623",
   "metadata": {},
   "outputs": [],
   "source": [
    "features = meg.drop(['is_ultra'], axis=1)\n",
    "target = meg['is_ultra']\n",
    "#Выделяем валидационную выборку\n",
    "features_train_test, features_valid, target_train_test, target_valid = train_test_split(features, target, test_size=0.2, random_state=12345, stratify=target)\n",
    "\n",
    "#Выделяем тестовую выборку\n",
    "features_train, features_test, target_train, target_test = train_test_split(features_train_test, target_train_test, test_size=0.2, random_state=12345, stratify=target_train_test)\n"
   ]
  },
  {
   "cell_type": "markdown",
   "id": "2008c3f5",
   "metadata": {},
   "source": [
    "## 3. Исследуем качество разных моделей, меняя гиперпараметры. Кратко опишем выводы.\n",
    "\n",
    "Будем сравнивать следующие модели:\n",
    "* дерево решений,\n",
    "* случайный лес,\n",
    "* логистическую регрессию."
   ]
  },
  {
   "cell_type": "markdown",
   "id": "46dceef9",
   "metadata": {},
   "source": [
    "### Decision tree:"
   ]
  },
  {
   "cell_type": "code",
   "execution_count": 6,
   "id": "6e645284",
   "metadata": {},
   "outputs": [
    {
     "name": "stdout",
     "output_type": "stream",
     "text": [
      "max_depth = 1 : ==> accuracy_score = 0.7480559875583204\n",
      "max_depth = 2 : ==> accuracy_score = 0.7853810264385692\n",
      "max_depth = 3 : ==> accuracy_score = 0.7993779160186625\n",
      "max_depth = 4 : ==> accuracy_score = 0.7931570762052877\n",
      "max_depth = 5 : ==> accuracy_score = 0.8040435458786936\n",
      "-------------------------------------------------\n",
      "Accuracy наилучшей модели на валидационной выборке: 0.8040435458786936\n",
      "Max_depth:  5\n"
     ]
    }
   ],
   "source": [
    "# тренируем на обучающей выборке\n",
    "# предсказываем на валидационной и с помощью цикла выявим max_depth \n",
    "\n",
    "dt_best_model = None\n",
    "dt_best_result = 0\n",
    "dt_best_max_depth = 0\n",
    "\n",
    "for depth in range(1, 6):\n",
    "    dt_model = DecisionTreeClassifier(max_depth=depth,random_state=12345)\n",
    "    dt_model.fit(features_train,target_train)\n",
    "    dt_predictions = dt_model.predict(features_valid)\n",
    "    dt_result = accuracy_score(target_valid, dt_predictions)\n",
    "    print(\"max_depth =\", depth, \": \", end='==> ')\n",
    "    print('accuracy_score =',dt_result)\n",
    "    if dt_result > dt_best_result:\n",
    "        dt_best_model = dt_model\n",
    "        dt_best_result = dt_result\n",
    "        dt_best_max_depth = depth\n",
    "        \n",
    "print('-------------------------------------------------')\n",
    "print(\"Accuracy наилучшей модели на валидационной выборке:\", dt_best_result)\n",
    "print('Max_depth: ', dt_best_max_depth)"
   ]
  },
  {
   "cell_type": "markdown",
   "id": "d2b93b61",
   "metadata": {},
   "source": [
    "### Random forest"
   ]
  },
  {
   "cell_type": "code",
   "execution_count": 7,
   "id": "ae7aa783",
   "metadata": {
    "scrolled": true
   },
   "outputs": [
    {
     "name": "stdout",
     "output_type": "stream",
     "text": [
      "n_estimators = 1 ==> accuracy_score =  0.7433903576982893\n",
      "n_estimators = 2 ==> accuracy_score =  0.7636080870917574\n",
      "n_estimators = 3 ==> accuracy_score =  0.7620528771384136\n",
      "n_estimators = 4 ==> accuracy_score =  0.7978227060653188\n",
      "n_estimators = 5 ==> accuracy_score =  0.7869362363919129\n",
      "n_estimators = 6 ==> accuracy_score =  0.8055987558320373\n",
      "n_estimators = 7 ==> accuracy_score =  0.7962674961119751\n",
      "n_estimators = 8 ==> accuracy_score =  0.8055987558320373\n",
      "n_estimators = 9 ==> accuracy_score =  0.7978227060653188\n",
      "n_estimators = 10 ==> accuracy_score =  0.8055987558320373\n",
      "-------------------------------------------------\n",
      "Accuracy наилучшей модели на валидационной выборке: 0.8055987558320373\n",
      "Количество деревьев =  6\n"
     ]
    }
   ],
   "source": [
    "# тренируем на обучающей выборке\n",
    "# считаем качество модели на валидационной выборке \n",
    "# и с помощью цикла выявим оптимальное количество деревьев \n",
    "\n",
    "rf_best_model = None\n",
    "rf_best_result = 0\n",
    "rf_best_est = 0\n",
    "\n",
    "for est in range(1, 11):\n",
    "    rf_model = RandomForestClassifier(random_state=12345, n_estimators=est)\n",
    "    rf_model.fit(features_train,target_train) \n",
    "    rf_result = rf_model.score(features_valid,target_valid)\n",
    "    print('n_estimators =',est,'==> accuracy_score = ',rf_result)\n",
    "    if rf_result > rf_best_result:\n",
    "        rf_best_model = rf_model \n",
    "        rf_best_result = rf_result\n",
    "        rf_best_est = est\n",
    "print('-------------------------------------------------')\n",
    "print(\"Accuracy наилучшей модели на валидационной выборке:\", rf_best_result)\n",
    "print('Количество деревьев = ', rf_best_est)"
   ]
  },
  {
   "cell_type": "code",
   "execution_count": 8,
   "id": "f10c715d",
   "metadata": {},
   "outputs": [
    {
     "name": "stdout",
     "output_type": "stream",
     "text": [
      "n_estimators = 100 ==> accuracy_score =  0.7744945567651633\n",
      "n_estimators = 100 ==> accuracy_score =  0.7853810264385692\n",
      "n_estimators = 100 ==> accuracy_score =  0.7993779160186625\n",
      "n_estimators = 100 ==> accuracy_score =  0.80248833592535\n",
      "n_estimators = 100 ==> accuracy_score =  0.8102643856920684\n",
      "n_estimators = 200 ==> accuracy_score =  0.7698289269051322\n",
      "n_estimators = 200 ==> accuracy_score =  0.7838258164852255\n",
      "n_estimators = 200 ==> accuracy_score =  0.8009331259720062\n",
      "n_estimators = 200 ==> accuracy_score =  0.80248833592535\n",
      "n_estimators = 200 ==> accuracy_score =  0.8102643856920684\n",
      "n_estimators = 300 ==> accuracy_score =  0.7744945567651633\n",
      "n_estimators = 300 ==> accuracy_score =  0.7853810264385692\n",
      "n_estimators = 300 ==> accuracy_score =  0.8009331259720062\n",
      "n_estimators = 300 ==> accuracy_score =  0.8009331259720062\n",
      "n_estimators = 300 ==> accuracy_score =  0.8118195956454122\n",
      "n_estimators = 400 ==> accuracy_score =  0.7511664074650077\n",
      "n_estimators = 400 ==> accuracy_score =  0.7853810264385692\n",
      "n_estimators = 400 ==> accuracy_score =  0.7993779160186625\n",
      "n_estimators = 400 ==> accuracy_score =  0.8009331259720062\n",
      "n_estimators = 400 ==> accuracy_score =  0.8102643856920684\n",
      "n_estimators = 500 ==> accuracy_score =  0.7542768273716952\n",
      "n_estimators = 500 ==> accuracy_score =  0.7853810264385692\n",
      "n_estimators = 500 ==> accuracy_score =  0.7993779160186625\n",
      "n_estimators = 500 ==> accuracy_score =  0.8009331259720062\n",
      "n_estimators = 500 ==> accuracy_score =  0.8102643856920684\n",
      "n_estimators = 600 ==> accuracy_score =  0.7527216174183515\n",
      "n_estimators = 600 ==> accuracy_score =  0.7853810264385692\n",
      "n_estimators = 600 ==> accuracy_score =  0.7993779160186625\n",
      "n_estimators = 600 ==> accuracy_score =  0.80248833592535\n",
      "n_estimators = 600 ==> accuracy_score =  0.8087091757387247\n",
      "n_estimators = 700 ==> accuracy_score =  0.7527216174183515\n",
      "n_estimators = 700 ==> accuracy_score =  0.7853810264385692\n",
      "n_estimators = 700 ==> accuracy_score =  0.7993779160186625\n",
      "n_estimators = 700 ==> accuracy_score =  0.8009331259720062\n",
      "n_estimators = 700 ==> accuracy_score =  0.8087091757387247\n",
      "n_estimators = 800 ==> accuracy_score =  0.7527216174183515\n",
      "n_estimators = 800 ==> accuracy_score =  0.7853810264385692\n",
      "n_estimators = 800 ==> accuracy_score =  0.7993779160186625\n",
      "n_estimators = 800 ==> accuracy_score =  0.8009331259720062\n",
      "n_estimators = 800 ==> accuracy_score =  0.8087091757387247\n",
      "n_estimators = 900 ==> accuracy_score =  0.7527216174183515\n",
      "n_estimators = 900 ==> accuracy_score =  0.7853810264385692\n",
      "n_estimators = 900 ==> accuracy_score =  0.7993779160186625\n",
      "n_estimators = 900 ==> accuracy_score =  0.8009331259720062\n",
      "n_estimators = 900 ==> accuracy_score =  0.8087091757387247\n",
      "n_estimators = 1000 ==> accuracy_score =  0.7542768273716952\n",
      "n_estimators = 1000 ==> accuracy_score =  0.7853810264385692\n",
      "n_estimators = 1000 ==> accuracy_score =  0.7993779160186625\n",
      "n_estimators = 1000 ==> accuracy_score =  0.80248833592535\n",
      "n_estimators = 1000 ==> accuracy_score =  0.8087091757387247\n",
      "-------------------------------------------------\n",
      "Accuracy наилучшей модели на валидационной выборке: 0.8118195956454122\n",
      "Количество деревьев =  300\n",
      "Глубина деревьев:  5\n"
     ]
    }
   ],
   "source": [
    "# тренируем на обучающей выборке\n",
    "# считаем качество модели на валидационной выборке \n",
    "# и с помощью цикла выявим оптимальное количество деревьев \n",
    "\n",
    "rf_best_model = None\n",
    "rf_best_result = 0\n",
    "rf_best_est = 0\n",
    "rf_max_depth = 0\n",
    "\n",
    "for est in range(100, 1001, 100):\n",
    "    for depth in range(1,6):\n",
    "        rf_model = RandomForestClassifier(random_state=12345, n_estimators=est, max_depth=depth)\n",
    "        rf_model.fit(features_train,target_train) \n",
    "        rf_result = rf_model.score(features_valid,target_valid)\n",
    "        print('n_estimators =',est,'==> accuracy_score = ',rf_result)\n",
    "        if rf_result > rf_best_result:\n",
    "            rf_best_model = rf_model \n",
    "            rf_best_result = rf_result\n",
    "            rf_best_est = est\n",
    "            rf_max_depth = depth\n",
    "print('-------------------------------------------------')\n",
    "print(\"Accuracy наилучшей модели на валидационной выборке:\", rf_best_result)\n",
    "print('Количество деревьев = ', rf_best_est)\n",
    "print('Глубина деревьев: ', rf_max_depth)"
   ]
  },
  {
   "cell_type": "markdown",
   "id": "97e68869",
   "metadata": {},
   "source": [
    "### Logistic  regression"
   ]
  },
  {
   "cell_type": "code",
   "execution_count": 9,
   "id": "fb9dc23b",
   "metadata": {},
   "outputs": [
    {
     "data": {
      "text/plain": [
       "0.7107309486780715"
      ]
     },
     "execution_count": 9,
     "metadata": {},
     "output_type": "execute_result"
    }
   ],
   "source": [
    "lr_model = LogisticRegression(random_state=12345, solver = 'lbfgs', max_iter = 1000)\n",
    "lr_model.fit(features_train, target_train)\n",
    "lr_result = lr_model.score(features_valid, target_valid)\n",
    "dump(lr_model, 'model_9_1.joblib')\n",
    "\n",
    "lr_result"
   ]
  },
  {
   "cell_type": "markdown",
   "id": "552d799f",
   "metadata": {},
   "source": [
    "**Вывод:** Видим, что самой \"качественной\" моделью оказалась Random forest с accuracy = 81.2%, количеством деревьев = 300 и max_depth = 5"
   ]
  },
  {
   "cell_type": "markdown",
   "id": "7341dab3",
   "metadata": {},
   "source": [
    "## 4. Проверяем качество модели на тестовой выборке."
   ]
  },
  {
   "cell_type": "markdown",
   "id": "4ad60149",
   "metadata": {},
   "source": [
    "### тестируем наилучшую Decision tree модель на тестовой выборке:"
   ]
  },
  {
   "cell_type": "code",
   "execution_count": 10,
   "id": "2affb7e3",
   "metadata": {},
   "outputs": [
    {
     "name": "stdout",
     "output_type": "stream",
     "text": [
      "accuracy_score = 0.8077669902912621\n"
     ]
    }
   ],
   "source": [
    "dt_test_predictions = dt_best_model.predict(features_test)\n",
    "print('accuracy_score =',accuracy_score(target_test, dt_test_predictions))"
   ]
  },
  {
   "cell_type": "markdown",
   "id": "13b0eb8b",
   "metadata": {},
   "source": [
    "### тестируем наилучшую Random forest модель на тестовой выборке:"
   ]
  },
  {
   "cell_type": "code",
   "execution_count": 11,
   "id": "8f06dd8f",
   "metadata": {},
   "outputs": [
    {
     "name": "stdout",
     "output_type": "stream",
     "text": [
      "accuracy_score = 0.8155339805825242\n"
     ]
    }
   ],
   "source": [
    "rf_test_predictions = rf_best_model.predict(features_test)\n",
    "print('accuracy_score =',accuracy_score(target_test, rf_test_predictions))"
   ]
  },
  {
   "cell_type": "markdown",
   "id": "5b46fb6b",
   "metadata": {},
   "source": [
    "### тестируем наилучшую Logistic regression модель на тестовой выборке:"
   ]
  },
  {
   "cell_type": "code",
   "execution_count": 12,
   "id": "a562c28d",
   "metadata": {},
   "outputs": [
    {
     "name": "stdout",
     "output_type": "stream",
     "text": [
      "accuracy_score = 0.7067961165048544\n"
     ]
    }
   ],
   "source": [
    "lr_test_predictions = lr_model.predict(features_test)\n",
    "print('accuracy_score =',accuracy_score(target_test, lr_test_predictions))"
   ]
  },
  {
   "cell_type": "markdown",
   "id": "1efbe885",
   "metadata": {},
   "source": [
    "**Вывод:** Наилучшая модель на тестовой выборке оказалась Random forest"
   ]
  },
  {
   "cell_type": "markdown",
   "id": "a754a568",
   "metadata": {},
   "source": [
    "## 5. Дополнительное задание: проверить модели на вменяемость.\n",
    "Проверим дополнительно модели через метрики качества: `recall` и `precision`"
   ]
  },
  {
   "cell_type": "code",
   "execution_count": 13,
   "id": "75526e38",
   "metadata": {},
   "outputs": [
    {
     "name": "stdout",
     "output_type": "stream",
     "text": [
      "recall_score of DecisionTreeClassifier = 0.5\n",
      "recall_score of RandomForestClassifier = 0.5253164556962026\n",
      "recall_score of LogisticRegression = 0.06962025316455696\n"
     ]
    }
   ],
   "source": [
    "print('recall_score of DecisionTreeClassifier =',recall_score(target_test, dt_test_predictions))\n",
    "print('recall_score of RandomForestClassifier =',recall_score(target_test, rf_test_predictions))\n",
    "print('recall_score of LogisticRegression =',recall_score(target_test, lr_test_predictions))"
   ]
  },
  {
   "cell_type": "markdown",
   "id": "abec8b84",
   "metadata": {},
   "source": [
    "#### Мы видим, что самой \"полной\" моделью считается также Random forest. То есть из всех правильных ответов он обнаружил 52,5%"
   ]
  },
  {
   "cell_type": "code",
   "execution_count": 14,
   "id": "428ed475",
   "metadata": {},
   "outputs": [
    {
     "name": "stdout",
     "output_type": "stream",
     "text": [
      "precision_score of DecisionTreeClassifier = 0.797979797979798\n",
      "precision_score of RandomForestClassifier = 0.8058252427184466\n",
      "precision_score of LogisticRegression = 0.7333333333333333\n"
     ]
    }
   ],
   "source": [
    "print('precision_score of DecisionTreeClassifier =',precision_score(target_test, dt_test_predictions))\n",
    "print('precision_score of RandomForestClassifier =',precision_score(target_test, rf_test_predictions))\n",
    "print('precision_score of LogisticRegression =',precision_score(target_test, lr_test_predictions))"
   ]
  },
  {
   "cell_type": "markdown",
   "id": "9be03e30",
   "metadata": {},
   "source": [
    "#### Самой точной однако оказалась также Random forest: из тех ответов, которые модель пометила маркером, действительно правильны из них около 80.6%"
   ]
  },
  {
   "cell_type": "code",
   "execution_count": 15,
   "id": "c5b4ef82",
   "metadata": {
    "scrolled": true
   },
   "outputs": [],
   "source": [
    "# здесь я услышал на zoom собрании, мол, что если зарандомить в fit. Возможно я не совсем понял данный момент\n",
    "\n",
    "# dt_best_model1 = None\n",
    "# dt_best_result1 = 0\n",
    "# dt_best_max_depth1 = 0\n",
    "\n",
    "# for depth in range(1, 6):\n",
    "#     dt_model1 = DecisionTreeClassifier(max_depth=depth,random_state=12345)\n",
    "#     dt_model1.fit(features_train,target_train.sample(len(target_train)))\n",
    "#     dt_predictions1 = dt_model1.predict(features_valid)\n",
    "#     dt_result1 = accuracy_score(target_valid, dt_predictions1)\n",
    "#     print(\"max_depth =\", depth, \": \", end='==> ')\n",
    "#     print('accuracy_score =',dt_result1)\n",
    "#     if dt_result1 > dt_best_result1:\n",
    "#         dt_best_model1 = dt_model1\n",
    "#         dt_best_result1 = dt_result1\n",
    "#         dt_best_max_depth1 = depth\n",
    "        \n",
    "# print('-------------------------------------------------')\n",
    "# print(\"Accuracy наилучшей модели на валидационной выборке:\", dt_best_result1)\n",
    "# print('Max_depth: ', dt_best_max_depth1)"
   ]
  },
  {
   "cell_type": "code",
   "execution_count": 16,
   "id": "fd2c2030",
   "metadata": {
    "scrolled": true
   },
   "outputs": [
    {
     "data": {
      "text/plain": [
       "0       1\n",
       "1       1\n",
       "2       1\n",
       "3       1\n",
       "4       1\n",
       "       ..\n",
       "2051    1\n",
       "2052    1\n",
       "2053    1\n",
       "2054    1\n",
       "2055    1\n",
       "Length: 2056, dtype: int64"
      ]
     },
     "execution_count": 16,
     "metadata": {},
     "output_type": "execute_result"
    }
   ],
   "source": [
    "one = [1] * len(target_train)\n",
    "ones = pd.Series(one)\n",
    "ones"
   ]
  },
  {
   "cell_type": "code",
   "execution_count": 17,
   "id": "698486ab",
   "metadata": {
    "scrolled": false
   },
   "outputs": [
    {
     "name": "stdout",
     "output_type": "stream",
     "text": [
      "max_depth = 1 : ==> accuracy_score = 0.30637636080870917\n",
      "max_depth = 2 : ==> accuracy_score = 0.30637636080870917\n",
      "max_depth = 3 : ==> accuracy_score = 0.30637636080870917\n",
      "max_depth = 4 : ==> accuracy_score = 0.30637636080870917\n",
      "max_depth = 5 : ==> accuracy_score = 0.30637636080870917\n",
      "-------------------------------------------------\n",
      "Accuracy наилучшей модели на валидационной выборке: 0.30637636080870917\n",
      "Max_depth:  1\n"
     ]
    }
   ],
   "source": [
    "# проверим вменяемость модели на DecisionTreeClassifier\n",
    "\n",
    "dt_best_model1 = None\n",
    "dt_best_result1 = 0\n",
    "dt_best_max_depth1 = 0\n",
    "\n",
    "for depth in range(1, 6):\n",
    "    dt_model1 = DecisionTreeClassifier(max_depth=depth,random_state=12345)\n",
    "    dt_model1.fit(features_train, ones)\n",
    "    dt_predictions1 = dt_model1.predict(features_valid)\n",
    "    dt_result1 = accuracy_score(target_valid, dt_predictions1)\n",
    "    print(\"max_depth =\", depth, \": \", end='==> ')\n",
    "    print('accuracy_score =',dt_result1)\n",
    "    if dt_result1 > dt_best_result1:\n",
    "        dt_best_model1 = dt_model1\n",
    "        dt_best_result1 = dt_result1\n",
    "        dt_best_max_depth1 = depth\n",
    "        \n",
    "print('-------------------------------------------------')\n",
    "print(\"Accuracy наилучшей модели на валидационной выборке:\", dt_best_result1)\n",
    "print('Max_depth: ', dt_best_max_depth1)"
   ]
  },
  {
   "cell_type": "markdown",
   "id": "f5e4c78d",
   "metadata": {},
   "source": [
    "## Вывод:\n",
    "\n",
    "Итак, мы знаем, что в целом:\n",
    "* Самое высокое качество (accuracy) у случайного леса;\n",
    "* На втором месте — логистическая регрессия. Модель несложная, а значит, переобучение ей не грозит.\n",
    "* Самое низкое качество предсказания у дерева решений. Если глубина меньше четырёх, оно недообучается, когда больше — переобучается.\n",
    "\n",
    "На практике мы действительно получили, что самое высокое качество имеет модель Случайного леса. Однако на втором месте оказалась модель Дерево решений и на последнем - Логистическая регрессия"
   ]
  }
 ],
 "metadata": {
  "kernelspec": {
   "display_name": "Python 3",
   "language": "python",
   "name": "python3"
  },
  "language_info": {
   "codemirror_mode": {
    "name": "ipython",
    "version": 3
   },
   "file_extension": ".py",
   "mimetype": "text/x-python",
   "name": "python",
   "nbconvert_exporter": "python",
   "pygments_lexer": "ipython3",
   "version": "3.8.8"
  },
  "toc": {
   "base_numbering": 1,
   "nav_menu": {},
   "number_sections": true,
   "sideBar": true,
   "skip_h1_title": true,
   "title_cell": "Table of Contents",
   "title_sidebar": "Contents",
   "toc_cell": false,
   "toc_position": {},
   "toc_section_display": true,
   "toc_window_display": false
  }
 },
 "nbformat": 4,
 "nbformat_minor": 5
}
