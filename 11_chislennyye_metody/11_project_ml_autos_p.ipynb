{
 "cells": [
  {
   "cell_type": "markdown",
   "id": "3c5ef756",
   "metadata": {},
   "source": [
    "# Определение стоимости автомобилей\n",
    "## Описание проекта\n",
    "Сервис по продаже автомобилей с пробегом разрабатывает приложение для привлечения новых клиентов. В нём можно быстро узнать рыночную стоимость своего автомобиля. В вашем распоряжении исторические данные: технические характеристики, комплектации и цены автомобилей. Вам нужно построить модель для определения стоимости.\n",
    "\n",
    "Заказчику важны:\n",
    "* качество предсказания;\n",
    "* скорость предсказания;\n",
    "* время обучения.\n",
    "\n",
    "## Инструкция по выполнению проекта\n",
    "Чтобы усилить исследование, не ограничивайтесь градиентным бустингом. Простые модели иногда работают лучше.\n",
    "1. Загрузите и подготовьте данные.\n",
    "2. Обучите разные модели. Для каждой попробуйте различные гиперпараметры.\n",
    "3. Проанализируйте скорость работы и качество моделей.\n",
    "\n",
    "__Примечания__:\n",
    "* Для оценки качества моделей применяйте метрику RMSE.\n",
    "* Значение метрики RMSE должно быть меньше 2500.\n",
    "* Самостоятельно освойте библиотеку LightGBM и её средствами постройте модели градиентного бустинга.\n",
    "* Время выполнения ячейки кода Jupyter Notebook можно получить специальной командой. Найдите её.\n",
    "* Поскольку модель градиентного бустинга может обучаться долго, измените у неё только два-три параметра.\n",
    "\n",
    "## Описание данных\n",
    "**Признаки**\n",
    "* DateCrawled — дата скачивания анкеты из базы\n",
    "* VehicleType — тип автомобильного кузова\n",
    "* RegistrationYear — год регистрации автомобиля\n",
    "* Gearbox — тип коробки передач\n",
    "* Power — мощность (л. с.)\n",
    "* Model — модель автомобиля\n",
    "* Kilometer — пробег (км)\n",
    "* RegistrationMonth — месяц регистрации автомобиля\n",
    "* FuelType — тип топлива\n",
    "* Brand — марка автомобиля\n",
    "* NotRepaired — была машина в ремонте или нет\n",
    "* DateCreated — дата создания анкеты\n",
    "* NumberOfPictures — количество фотографий автомобиля\n",
    "* PostalCode — почтовый индекс владельца анкеты (пользователя)\n",
    "* LastSeen — дата последней активности пользователя\n",
    "\n",
    "**Целевой признак**\n",
    "* Price — цена (евро)"
   ]
  },
  {
   "cell_type": "markdown",
   "id": "0194c6ff",
   "metadata": {},
   "source": [
    "## 1. Загрузите и подготовьте данные."
   ]
  },
  {
   "cell_type": "code",
   "execution_count": 1,
   "id": "036b9c45",
   "metadata": {},
   "outputs": [
    {
     "name": "stdout",
     "output_type": "stream",
     "text": [
      "Requirement already satisfied: lightgbm in /opt/conda/lib/python3.9/site-packages (3.3.1)\n",
      "Requirement already satisfied: wheel in /opt/conda/lib/python3.9/site-packages (from lightgbm) (0.36.2)\n",
      "Requirement already satisfied: scikit-learn!=0.22.0 in /opt/conda/lib/python3.9/site-packages (from lightgbm) (0.24.1)\n",
      "Requirement already satisfied: scipy in /opt/conda/lib/python3.9/site-packages (from lightgbm) (1.8.0)\n",
      "Requirement already satisfied: numpy in /opt/conda/lib/python3.9/site-packages (from lightgbm) (1.21.1)\n",
      "Requirement already satisfied: joblib>=0.11 in /opt/conda/lib/python3.9/site-packages (from scikit-learn!=0.22.0->lightgbm) (1.1.0)\n",
      "Requirement already satisfied: threadpoolctl>=2.0.0 in /opt/conda/lib/python3.9/site-packages (from scikit-learn!=0.22.0->lightgbm) (3.1.0)\n",
      "Note: you may need to restart the kernel to use updated packages.\n"
     ]
    }
   ],
   "source": [
    "pip install lightgbm"
   ]
  },
  {
   "cell_type": "code",
   "execution_count": 2,
   "id": "fad27dd4",
   "metadata": {
    "scrolled": false
   },
   "outputs": [
    {
     "name": "stdout",
     "output_type": "stream",
     "text": [
      "<class 'pandas.core.frame.DataFrame'>\n",
      "RangeIndex: 354369 entries, 0 to 354368\n",
      "Data columns (total 16 columns):\n",
      " #   Column             Non-Null Count   Dtype \n",
      "---  ------             --------------   ----- \n",
      " 0   DateCrawled        354369 non-null  object\n",
      " 1   Price              354369 non-null  int64 \n",
      " 2   VehicleType        316879 non-null  object\n",
      " 3   RegistrationYear   354369 non-null  int64 \n",
      " 4   Gearbox            334536 non-null  object\n",
      " 5   Power              354369 non-null  int64 \n",
      " 6   Model              334664 non-null  object\n",
      " 7   Kilometer          354369 non-null  int64 \n",
      " 8   RegistrationMonth  354369 non-null  int64 \n",
      " 9   FuelType           321474 non-null  object\n",
      " 10  Brand              354369 non-null  object\n",
      " 11  NotRepaired        283215 non-null  object\n",
      " 12  DateCreated        354369 non-null  object\n",
      " 13  NumberOfPictures   354369 non-null  int64 \n",
      " 14  PostalCode         354369 non-null  int64 \n",
      " 15  LastSeen           354369 non-null  object\n",
      "dtypes: int64(7), object(9)\n",
      "memory usage: 43.3+ MB\n"
     ]
    },
    {
     "data": {
      "text/plain": [
       "None"
      ]
     },
     "metadata": {},
     "output_type": "display_data"
    },
    {
     "data": {
      "text/html": [
       "<div>\n",
       "<style scoped>\n",
       "    .dataframe tbody tr th:only-of-type {\n",
       "        vertical-align: middle;\n",
       "    }\n",
       "\n",
       "    .dataframe tbody tr th {\n",
       "        vertical-align: top;\n",
       "    }\n",
       "\n",
       "    .dataframe thead th {\n",
       "        text-align: right;\n",
       "    }\n",
       "</style>\n",
       "<table border=\"1\" class=\"dataframe\">\n",
       "  <thead>\n",
       "    <tr style=\"text-align: right;\">\n",
       "      <th></th>\n",
       "      <th>Price</th>\n",
       "      <th>RegistrationYear</th>\n",
       "      <th>Power</th>\n",
       "      <th>Kilometer</th>\n",
       "      <th>RegistrationMonth</th>\n",
       "      <th>NumberOfPictures</th>\n",
       "      <th>PostalCode</th>\n",
       "    </tr>\n",
       "  </thead>\n",
       "  <tbody>\n",
       "    <tr>\n",
       "      <th>count</th>\n",
       "      <td>354369.000000</td>\n",
       "      <td>354369.000000</td>\n",
       "      <td>354369.000000</td>\n",
       "      <td>354369.000000</td>\n",
       "      <td>354369.000000</td>\n",
       "      <td>354369.0</td>\n",
       "      <td>354369.000000</td>\n",
       "    </tr>\n",
       "    <tr>\n",
       "      <th>mean</th>\n",
       "      <td>4416.656776</td>\n",
       "      <td>2004.234448</td>\n",
       "      <td>110.094337</td>\n",
       "      <td>128211.172535</td>\n",
       "      <td>5.714645</td>\n",
       "      <td>0.0</td>\n",
       "      <td>50508.689087</td>\n",
       "    </tr>\n",
       "    <tr>\n",
       "      <th>std</th>\n",
       "      <td>4514.158514</td>\n",
       "      <td>90.227958</td>\n",
       "      <td>189.850405</td>\n",
       "      <td>37905.341530</td>\n",
       "      <td>3.726421</td>\n",
       "      <td>0.0</td>\n",
       "      <td>25783.096248</td>\n",
       "    </tr>\n",
       "    <tr>\n",
       "      <th>min</th>\n",
       "      <td>0.000000</td>\n",
       "      <td>1000.000000</td>\n",
       "      <td>0.000000</td>\n",
       "      <td>5000.000000</td>\n",
       "      <td>0.000000</td>\n",
       "      <td>0.0</td>\n",
       "      <td>1067.000000</td>\n",
       "    </tr>\n",
       "    <tr>\n",
       "      <th>25%</th>\n",
       "      <td>1050.000000</td>\n",
       "      <td>1999.000000</td>\n",
       "      <td>69.000000</td>\n",
       "      <td>125000.000000</td>\n",
       "      <td>3.000000</td>\n",
       "      <td>0.0</td>\n",
       "      <td>30165.000000</td>\n",
       "    </tr>\n",
       "    <tr>\n",
       "      <th>50%</th>\n",
       "      <td>2700.000000</td>\n",
       "      <td>2003.000000</td>\n",
       "      <td>105.000000</td>\n",
       "      <td>150000.000000</td>\n",
       "      <td>6.000000</td>\n",
       "      <td>0.0</td>\n",
       "      <td>49413.000000</td>\n",
       "    </tr>\n",
       "    <tr>\n",
       "      <th>75%</th>\n",
       "      <td>6400.000000</td>\n",
       "      <td>2008.000000</td>\n",
       "      <td>143.000000</td>\n",
       "      <td>150000.000000</td>\n",
       "      <td>9.000000</td>\n",
       "      <td>0.0</td>\n",
       "      <td>71083.000000</td>\n",
       "    </tr>\n",
       "    <tr>\n",
       "      <th>max</th>\n",
       "      <td>20000.000000</td>\n",
       "      <td>9999.000000</td>\n",
       "      <td>20000.000000</td>\n",
       "      <td>150000.000000</td>\n",
       "      <td>12.000000</td>\n",
       "      <td>0.0</td>\n",
       "      <td>99998.000000</td>\n",
       "    </tr>\n",
       "  </tbody>\n",
       "</table>\n",
       "</div>"
      ],
      "text/plain": [
       "               Price  RegistrationYear          Power      Kilometer  \\\n",
       "count  354369.000000     354369.000000  354369.000000  354369.000000   \n",
       "mean     4416.656776       2004.234448     110.094337  128211.172535   \n",
       "std      4514.158514         90.227958     189.850405   37905.341530   \n",
       "min         0.000000       1000.000000       0.000000    5000.000000   \n",
       "25%      1050.000000       1999.000000      69.000000  125000.000000   \n",
       "50%      2700.000000       2003.000000     105.000000  150000.000000   \n",
       "75%      6400.000000       2008.000000     143.000000  150000.000000   \n",
       "max     20000.000000       9999.000000   20000.000000  150000.000000   \n",
       "\n",
       "       RegistrationMonth  NumberOfPictures     PostalCode  \n",
       "count      354369.000000          354369.0  354369.000000  \n",
       "mean            5.714645               0.0   50508.689087  \n",
       "std             3.726421               0.0   25783.096248  \n",
       "min             0.000000               0.0    1067.000000  \n",
       "25%             3.000000               0.0   30165.000000  \n",
       "50%             6.000000               0.0   49413.000000  \n",
       "75%             9.000000               0.0   71083.000000  \n",
       "max            12.000000               0.0   99998.000000  "
      ]
     },
     "metadata": {},
     "output_type": "display_data"
    },
    {
     "data": {
      "text/html": [
       "<div>\n",
       "<style scoped>\n",
       "    .dataframe tbody tr th:only-of-type {\n",
       "        vertical-align: middle;\n",
       "    }\n",
       "\n",
       "    .dataframe tbody tr th {\n",
       "        vertical-align: top;\n",
       "    }\n",
       "\n",
       "    .dataframe thead th {\n",
       "        text-align: right;\n",
       "    }\n",
       "</style>\n",
       "<table border=\"1\" class=\"dataframe\">\n",
       "  <thead>\n",
       "    <tr style=\"text-align: right;\">\n",
       "      <th></th>\n",
       "      <th>DateCrawled</th>\n",
       "      <th>Price</th>\n",
       "      <th>VehicleType</th>\n",
       "      <th>RegistrationYear</th>\n",
       "      <th>Gearbox</th>\n",
       "      <th>Power</th>\n",
       "      <th>Model</th>\n",
       "      <th>Kilometer</th>\n",
       "      <th>RegistrationMonth</th>\n",
       "      <th>FuelType</th>\n",
       "      <th>Brand</th>\n",
       "      <th>NotRepaired</th>\n",
       "      <th>DateCreated</th>\n",
       "      <th>NumberOfPictures</th>\n",
       "      <th>PostalCode</th>\n",
       "      <th>LastSeen</th>\n",
       "    </tr>\n",
       "  </thead>\n",
       "  <tbody>\n",
       "    <tr>\n",
       "      <th>0</th>\n",
       "      <td>2016-03-24 11:52:17</td>\n",
       "      <td>480</td>\n",
       "      <td>NaN</td>\n",
       "      <td>1993</td>\n",
       "      <td>manual</td>\n",
       "      <td>0</td>\n",
       "      <td>golf</td>\n",
       "      <td>150000</td>\n",
       "      <td>0</td>\n",
       "      <td>petrol</td>\n",
       "      <td>volkswagen</td>\n",
       "      <td>NaN</td>\n",
       "      <td>2016-03-24 00:00:00</td>\n",
       "      <td>0</td>\n",
       "      <td>70435</td>\n",
       "      <td>2016-04-07 03:16:57</td>\n",
       "    </tr>\n",
       "    <tr>\n",
       "      <th>1</th>\n",
       "      <td>2016-03-24 10:58:45</td>\n",
       "      <td>18300</td>\n",
       "      <td>coupe</td>\n",
       "      <td>2011</td>\n",
       "      <td>manual</td>\n",
       "      <td>190</td>\n",
       "      <td>NaN</td>\n",
       "      <td>125000</td>\n",
       "      <td>5</td>\n",
       "      <td>gasoline</td>\n",
       "      <td>audi</td>\n",
       "      <td>yes</td>\n",
       "      <td>2016-03-24 00:00:00</td>\n",
       "      <td>0</td>\n",
       "      <td>66954</td>\n",
       "      <td>2016-04-07 01:46:50</td>\n",
       "    </tr>\n",
       "    <tr>\n",
       "      <th>2</th>\n",
       "      <td>2016-03-14 12:52:21</td>\n",
       "      <td>9800</td>\n",
       "      <td>suv</td>\n",
       "      <td>2004</td>\n",
       "      <td>auto</td>\n",
       "      <td>163</td>\n",
       "      <td>grand</td>\n",
       "      <td>125000</td>\n",
       "      <td>8</td>\n",
       "      <td>gasoline</td>\n",
       "      <td>jeep</td>\n",
       "      <td>NaN</td>\n",
       "      <td>2016-03-14 00:00:00</td>\n",
       "      <td>0</td>\n",
       "      <td>90480</td>\n",
       "      <td>2016-04-05 12:47:46</td>\n",
       "    </tr>\n",
       "    <tr>\n",
       "      <th>3</th>\n",
       "      <td>2016-03-17 16:54:04</td>\n",
       "      <td>1500</td>\n",
       "      <td>small</td>\n",
       "      <td>2001</td>\n",
       "      <td>manual</td>\n",
       "      <td>75</td>\n",
       "      <td>golf</td>\n",
       "      <td>150000</td>\n",
       "      <td>6</td>\n",
       "      <td>petrol</td>\n",
       "      <td>volkswagen</td>\n",
       "      <td>no</td>\n",
       "      <td>2016-03-17 00:00:00</td>\n",
       "      <td>0</td>\n",
       "      <td>91074</td>\n",
       "      <td>2016-03-17 17:40:17</td>\n",
       "    </tr>\n",
       "    <tr>\n",
       "      <th>4</th>\n",
       "      <td>2016-03-31 17:25:20</td>\n",
       "      <td>3600</td>\n",
       "      <td>small</td>\n",
       "      <td>2008</td>\n",
       "      <td>manual</td>\n",
       "      <td>69</td>\n",
       "      <td>fabia</td>\n",
       "      <td>90000</td>\n",
       "      <td>7</td>\n",
       "      <td>gasoline</td>\n",
       "      <td>skoda</td>\n",
       "      <td>no</td>\n",
       "      <td>2016-03-31 00:00:00</td>\n",
       "      <td>0</td>\n",
       "      <td>60437</td>\n",
       "      <td>2016-04-06 10:17:21</td>\n",
       "    </tr>\n",
       "  </tbody>\n",
       "</table>\n",
       "</div>"
      ],
      "text/plain": [
       "           DateCrawled  Price VehicleType  RegistrationYear Gearbox  Power  \\\n",
       "0  2016-03-24 11:52:17    480         NaN              1993  manual      0   \n",
       "1  2016-03-24 10:58:45  18300       coupe              2011  manual    190   \n",
       "2  2016-03-14 12:52:21   9800         suv              2004    auto    163   \n",
       "3  2016-03-17 16:54:04   1500       small              2001  manual     75   \n",
       "4  2016-03-31 17:25:20   3600       small              2008  manual     69   \n",
       "\n",
       "   Model  Kilometer  RegistrationMonth  FuelType       Brand NotRepaired  \\\n",
       "0   golf     150000                  0    petrol  volkswagen         NaN   \n",
       "1    NaN     125000                  5  gasoline        audi         yes   \n",
       "2  grand     125000                  8  gasoline        jeep         NaN   \n",
       "3   golf     150000                  6    petrol  volkswagen          no   \n",
       "4  fabia      90000                  7  gasoline       skoda          no   \n",
       "\n",
       "           DateCreated  NumberOfPictures  PostalCode             LastSeen  \n",
       "0  2016-03-24 00:00:00                 0       70435  2016-04-07 03:16:57  \n",
       "1  2016-03-24 00:00:00                 0       66954  2016-04-07 01:46:50  \n",
       "2  2016-03-14 00:00:00                 0       90480  2016-04-05 12:47:46  \n",
       "3  2016-03-17 00:00:00                 0       91074  2016-03-17 17:40:17  \n",
       "4  2016-03-31 00:00:00                 0       60437  2016-04-06 10:17:21  "
      ]
     },
     "metadata": {},
     "output_type": "display_data"
    }
   ],
   "source": [
    "from collections import defaultdict\n",
    "import matplotlib.pyplot as plt\n",
    "import pandas as pd\n",
    "import seaborn as sns\n",
    "import time \n",
    "import warnings\n",
    "\n",
    "from catboost import CatBoostRegressor\n",
    "import lightgbm as ltb\n",
    "from lightgbm import LGBMRegressor\n",
    "from sklearn.metrics import mean_squared_error\n",
    "from sklearn.model_selection import train_test_split\n",
    "from sklearn.preprocessing import StandardScaler\n",
    "from sklearn.ensemble import RandomForestRegressor\n",
    "from sklearn.tree import DecisionTreeRegressor\n",
    "\n",
    "try:\n",
    "    data = pd.read_csv('autos.csv')\n",
    "    display(data.info())\n",
    "    display(data.describe())\n",
    "    display(data[:5])\n",
    "except:\n",
    "    data = pd.read_csv('/datasets/autos.csv')\n",
    "    display(data.info())\n",
    "    display(data.describe())\n",
    "    display(data[:5])"
   ]
  },
  {
   "cell_type": "code",
   "execution_count": 3,
   "id": "1436f2a3",
   "metadata": {},
   "outputs": [],
   "source": [
    "warnings.filterwarnings('ignore')"
   ]
  },
  {
   "cell_type": "markdown",
   "id": "28e437cf",
   "metadata": {},
   "source": [
    "**Отметим сразу, что в следующих переменных мы видим неадекватные показатели:**\n",
    "* Price: 0 евро\n",
    "* RegistrationYear: мин год 1000, и макс год 9999\n",
    "* Power: от 0 л.с. до 20000 л.с.\n",
    "* RegistrationMonth: 0-ой месяц\n",
    "Следовательно нужно посмотреть и отфильтровать данные от аномалий"
   ]
  },
  {
   "cell_type": "code",
   "execution_count": 4,
   "id": "1f89917d",
   "metadata": {},
   "outputs": [
    {
     "data": {
      "image/png": "[encoded data removed]",
      "text/plain": [
       "<Figure size 864x864 with 4 Axes>"
      ]
     },
     "metadata": {
      "needs_background": "light"
     },
     "output_type": "display_data"
    },
    {
     "data": {
      "image/png": "[encoded data removed]",
      "text/plain": [
       "<Figure size 864x864 with 4 Axes>"
      ]
     },
     "metadata": {
      "needs_background": "light"
     },
     "output_type": "display_data"
    }
   ],
   "source": [
    "anomal = ['Price','RegistrationYear','Power','RegistrationMonth']\n",
    "fig, axes = plt.subplots(2, 2, figsize=(12, 12))\n",
    "for column, ax in zip(anomal, axes.ravel()):\n",
    "    ax.set_title(column)\n",
    "    sns.distplot(data[column], ax=ax)\n",
    "    \n",
    "fig, axes = plt.subplots(2, 2, figsize=(12, 12))\n",
    "for column, ax in zip(anomal, axes.ravel()):\n",
    "    ax.set_title(column)\n",
    "    sns.boxplot(data[column], ax=ax)"
   ]
  },
  {
   "cell_type": "markdown",
   "id": "19d18d0a",
   "metadata": {},
   "source": [
    "Итак, мы видим, что с данными явно что-то не так. Поэтому была предпринята следующая фильтрация:\n",
    "* Price > 1000, хотя и за 2000 вывглядит как выброс, но все же оставим;\n",
    "* 1990 <= RegistrationYear <= 2022, думаю будет разумно не заглядывать в будущее и слишком уходить в прошлое. \n",
    "* 50 < Power < 1000, хотя даже так в среднем мы вряд ли найдем машинку с 50 лошадями и монстра с табуном из примерно 1000 лошадей. \n",
    "* RegistrationMonth > 0, нулевого месяца не знаем"
   ]
  },
  {
   "cell_type": "code",
   "execution_count": 5,
   "id": "09ceb0cd",
   "metadata": {},
   "outputs": [
    {
     "data": {
      "text/html": [
       "<div>\n",
       "<style scoped>\n",
       "    .dataframe tbody tr th:only-of-type {\n",
       "        vertical-align: middle;\n",
       "    }\n",
       "\n",
       "    .dataframe tbody tr th {\n",
       "        vertical-align: top;\n",
       "    }\n",
       "\n",
       "    .dataframe thead th {\n",
       "        text-align: right;\n",
       "    }\n",
       "</style>\n",
       "<table border=\"1\" class=\"dataframe\">\n",
       "  <thead>\n",
       "    <tr style=\"text-align: right;\">\n",
       "      <th></th>\n",
       "      <th>Price</th>\n",
       "      <th>RegistrationYear</th>\n",
       "      <th>Power</th>\n",
       "      <th>Kilometer</th>\n",
       "      <th>RegistrationMonth</th>\n",
       "      <th>NumberOfPictures</th>\n",
       "      <th>PostalCode</th>\n",
       "    </tr>\n",
       "  </thead>\n",
       "  <tbody>\n",
       "    <tr>\n",
       "      <th>count</th>\n",
       "      <td>226308.000000</td>\n",
       "      <td>226308.000000</td>\n",
       "      <td>226308.000000</td>\n",
       "      <td>226308.000000</td>\n",
       "      <td>226308.000000</td>\n",
       "      <td>226308.0</td>\n",
       "      <td>226308.000000</td>\n",
       "    </tr>\n",
       "    <tr>\n",
       "      <th>mean</th>\n",
       "      <td>5978.139792</td>\n",
       "      <td>2004.947991</td>\n",
       "      <td>130.200992</td>\n",
       "      <td>125509.239620</td>\n",
       "      <td>6.429967</td>\n",
       "      <td>0.0</td>\n",
       "      <td>51825.492568</td>\n",
       "    </tr>\n",
       "    <tr>\n",
       "      <th>std</th>\n",
       "      <td>4593.579944</td>\n",
       "      <td>5.363651</td>\n",
       "      <td>54.107050</td>\n",
       "      <td>37876.260578</td>\n",
       "      <td>3.349169</td>\n",
       "      <td>0.0</td>\n",
       "      <td>25676.048222</td>\n",
       "    </tr>\n",
       "    <tr>\n",
       "      <th>min</th>\n",
       "      <td>1001.000000</td>\n",
       "      <td>1990.000000</td>\n",
       "      <td>51.000000</td>\n",
       "      <td>5000.000000</td>\n",
       "      <td>1.000000</td>\n",
       "      <td>0.0</td>\n",
       "      <td>1067.000000</td>\n",
       "    </tr>\n",
       "    <tr>\n",
       "      <th>25%</th>\n",
       "      <td>2350.000000</td>\n",
       "      <td>2001.000000</td>\n",
       "      <td>90.000000</td>\n",
       "      <td>100000.000000</td>\n",
       "      <td>4.000000</td>\n",
       "      <td>0.0</td>\n",
       "      <td>31535.000000</td>\n",
       "    </tr>\n",
       "    <tr>\n",
       "      <th>50%</th>\n",
       "      <td>4499.000000</td>\n",
       "      <td>2005.000000</td>\n",
       "      <td>120.000000</td>\n",
       "      <td>150000.000000</td>\n",
       "      <td>6.000000</td>\n",
       "      <td>0.0</td>\n",
       "      <td>51067.000000</td>\n",
       "    </tr>\n",
       "    <tr>\n",
       "      <th>75%</th>\n",
       "      <td>8400.000000</td>\n",
       "      <td>2008.000000</td>\n",
       "      <td>156.000000</td>\n",
       "      <td>150000.000000</td>\n",
       "      <td>9.000000</td>\n",
       "      <td>0.0</td>\n",
       "      <td>72506.250000</td>\n",
       "    </tr>\n",
       "    <tr>\n",
       "      <th>max</th>\n",
       "      <td>20000.000000</td>\n",
       "      <td>2019.000000</td>\n",
       "      <td>999.000000</td>\n",
       "      <td>150000.000000</td>\n",
       "      <td>12.000000</td>\n",
       "      <td>0.0</td>\n",
       "      <td>99998.000000</td>\n",
       "    </tr>\n",
       "  </tbody>\n",
       "</table>\n",
       "</div>"
      ],
      "text/plain": [
       "               Price  RegistrationYear          Power      Kilometer  \\\n",
       "count  226308.000000     226308.000000  226308.000000  226308.000000   \n",
       "mean     5978.139792       2004.947991     130.200992  125509.239620   \n",
       "std      4593.579944          5.363651      54.107050   37876.260578   \n",
       "min      1001.000000       1990.000000      51.000000    5000.000000   \n",
       "25%      2350.000000       2001.000000      90.000000  100000.000000   \n",
       "50%      4499.000000       2005.000000     120.000000  150000.000000   \n",
       "75%      8400.000000       2008.000000     156.000000  150000.000000   \n",
       "max     20000.000000       2019.000000     999.000000  150000.000000   \n",
       "\n",
       "       RegistrationMonth  NumberOfPictures     PostalCode  \n",
       "count      226308.000000          226308.0  226308.000000  \n",
       "mean            6.429967               0.0   51825.492568  \n",
       "std             3.349169               0.0   25676.048222  \n",
       "min             1.000000               0.0    1067.000000  \n",
       "25%             4.000000               0.0   31535.000000  \n",
       "50%             6.000000               0.0   51067.000000  \n",
       "75%             9.000000               0.0   72506.250000  \n",
       "max            12.000000               0.0   99998.000000  "
      ]
     },
     "execution_count": 5,
     "metadata": {},
     "output_type": "execute_result"
    }
   ],
   "source": [
    "#Уберем явно неверные значения мин и макс по столбцам:\n",
    "data =  data.query('Price > 1000 and RegistrationYear <=2022 and RegistrationYear >= 1990 and Power > 50 and Power < 1000 and RegistrationMonth > 0 ')\n",
    "data.describe()"
   ]
  },
  {
   "cell_type": "code",
   "execution_count": 6,
   "id": "ab4ff6b4",
   "metadata": {},
   "outputs": [
    {
     "data": {
      "text/html": [
       "<div>\n",
       "<style scoped>\n",
       "    .dataframe tbody tr th:only-of-type {\n",
       "        vertical-align: middle;\n",
       "    }\n",
       "\n",
       "    .dataframe tbody tr th {\n",
       "        vertical-align: top;\n",
       "    }\n",
       "\n",
       "    .dataframe thead th {\n",
       "        text-align: right;\n",
       "    }\n",
       "</style>\n",
       "<table border=\"1\" class=\"dataframe\">\n",
       "  <thead>\n",
       "    <tr style=\"text-align: right;\">\n",
       "      <th></th>\n",
       "      <th>DateCrawled</th>\n",
       "      <th>Price</th>\n",
       "      <th>VehicleType</th>\n",
       "      <th>RegistrationYear</th>\n",
       "      <th>Gearbox</th>\n",
       "      <th>Power</th>\n",
       "      <th>Model</th>\n",
       "      <th>Kilometer</th>\n",
       "      <th>RegistrationMonth</th>\n",
       "      <th>FuelType</th>\n",
       "      <th>Brand</th>\n",
       "      <th>NotRepaired</th>\n",
       "      <th>DateCreated</th>\n",
       "      <th>NumberOfPictures</th>\n",
       "      <th>PostalCode</th>\n",
       "      <th>LastSeen</th>\n",
       "    </tr>\n",
       "  </thead>\n",
       "  <tbody>\n",
       "  </tbody>\n",
       "</table>\n",
       "</div>"
      ],
      "text/plain": [
       "Empty DataFrame\n",
       "Columns: [DateCrawled, Price, VehicleType, RegistrationYear, Gearbox, Power, Model, Kilometer, RegistrationMonth, FuelType, Brand, NotRepaired, DateCreated, NumberOfPictures, PostalCode, LastSeen]\n",
       "Index: []"
      ]
     },
     "execution_count": 6,
     "metadata": {},
     "output_type": "execute_result"
    }
   ],
   "source": [
    "data.query('DateCreated >= \"2016-04-30 00:00:00\"')"
   ]
  },
  {
   "cell_type": "code",
   "execution_count": 7,
   "id": "c4060a02",
   "metadata": {},
   "outputs": [
    {
     "data": {
      "text/html": [
       "<div>\n",
       "<style scoped>\n",
       "    .dataframe tbody tr th:only-of-type {\n",
       "        vertical-align: middle;\n",
       "    }\n",
       "\n",
       "    .dataframe tbody tr th {\n",
       "        vertical-align: top;\n",
       "    }\n",
       "\n",
       "    .dataframe thead th {\n",
       "        text-align: right;\n",
       "    }\n",
       "</style>\n",
       "<table border=\"1\" class=\"dataframe\">\n",
       "  <thead>\n",
       "    <tr style=\"text-align: right;\">\n",
       "      <th></th>\n",
       "      <th>DateCrawled</th>\n",
       "      <th>Price</th>\n",
       "      <th>VehicleType</th>\n",
       "      <th>RegistrationYear</th>\n",
       "      <th>Gearbox</th>\n",
       "      <th>Power</th>\n",
       "      <th>Model</th>\n",
       "      <th>Kilometer</th>\n",
       "      <th>RegistrationMonth</th>\n",
       "      <th>FuelType</th>\n",
       "      <th>Brand</th>\n",
       "      <th>NotRepaired</th>\n",
       "      <th>DateCreated</th>\n",
       "      <th>NumberOfPictures</th>\n",
       "      <th>PostalCode</th>\n",
       "      <th>LastSeen</th>\n",
       "    </tr>\n",
       "  </thead>\n",
       "  <tbody>\n",
       "    <tr>\n",
       "      <th>22</th>\n",
       "      <td>2016-03-23 14:52:51</td>\n",
       "      <td>2900</td>\n",
       "      <td>NaN</td>\n",
       "      <td>2018</td>\n",
       "      <td>manual</td>\n",
       "      <td>90</td>\n",
       "      <td>meriva</td>\n",
       "      <td>150000</td>\n",
       "      <td>5</td>\n",
       "      <td>petrol</td>\n",
       "      <td>opel</td>\n",
       "      <td>no</td>\n",
       "      <td>2016-03-23 00:00:00</td>\n",
       "      <td>0</td>\n",
       "      <td>49716</td>\n",
       "      <td>2016-03-31 01:16:33</td>\n",
       "    </tr>\n",
       "    <tr>\n",
       "      <th>26</th>\n",
       "      <td>2016-03-10 19:38:18</td>\n",
       "      <td>5555</td>\n",
       "      <td>NaN</td>\n",
       "      <td>2017</td>\n",
       "      <td>manual</td>\n",
       "      <td>125</td>\n",
       "      <td>c4</td>\n",
       "      <td>125000</td>\n",
       "      <td>4</td>\n",
       "      <td>NaN</td>\n",
       "      <td>citroen</td>\n",
       "      <td>no</td>\n",
       "      <td>2016-03-10 00:00:00</td>\n",
       "      <td>0</td>\n",
       "      <td>31139</td>\n",
       "      <td>2016-03-16 09:16:46</td>\n",
       "    </tr>\n",
       "    <tr>\n",
       "      <th>48</th>\n",
       "      <td>2016-03-25 14:40:12</td>\n",
       "      <td>7750</td>\n",
       "      <td>NaN</td>\n",
       "      <td>2017</td>\n",
       "      <td>manual</td>\n",
       "      <td>80</td>\n",
       "      <td>golf</td>\n",
       "      <td>100000</td>\n",
       "      <td>1</td>\n",
       "      <td>petrol</td>\n",
       "      <td>volkswagen</td>\n",
       "      <td>NaN</td>\n",
       "      <td>2016-03-25 00:00:00</td>\n",
       "      <td>0</td>\n",
       "      <td>48499</td>\n",
       "      <td>2016-03-31 21:47:44</td>\n",
       "    </tr>\n",
       "    <tr>\n",
       "      <th>51</th>\n",
       "      <td>2016-03-07 18:57:08</td>\n",
       "      <td>2000</td>\n",
       "      <td>NaN</td>\n",
       "      <td>2017</td>\n",
       "      <td>manual</td>\n",
       "      <td>90</td>\n",
       "      <td>punto</td>\n",
       "      <td>150000</td>\n",
       "      <td>11</td>\n",
       "      <td>gasoline</td>\n",
       "      <td>fiat</td>\n",
       "      <td>yes</td>\n",
       "      <td>2016-03-07 00:00:00</td>\n",
       "      <td>0</td>\n",
       "      <td>66115</td>\n",
       "      <td>2016-03-07 18:57:08</td>\n",
       "    </tr>\n",
       "    <tr>\n",
       "      <th>57</th>\n",
       "      <td>2016-03-10 20:53:19</td>\n",
       "      <td>2399</td>\n",
       "      <td>NaN</td>\n",
       "      <td>2018</td>\n",
       "      <td>manual</td>\n",
       "      <td>64</td>\n",
       "      <td>other</td>\n",
       "      <td>125000</td>\n",
       "      <td>3</td>\n",
       "      <td>NaN</td>\n",
       "      <td>seat</td>\n",
       "      <td>no</td>\n",
       "      <td>2016-03-10 00:00:00</td>\n",
       "      <td>0</td>\n",
       "      <td>33397</td>\n",
       "      <td>2016-03-25 10:17:37</td>\n",
       "    </tr>\n",
       "    <tr>\n",
       "      <th>...</th>\n",
       "      <td>...</td>\n",
       "      <td>...</td>\n",
       "      <td>...</td>\n",
       "      <td>...</td>\n",
       "      <td>...</td>\n",
       "      <td>...</td>\n",
       "      <td>...</td>\n",
       "      <td>...</td>\n",
       "      <td>...</td>\n",
       "      <td>...</td>\n",
       "      <td>...</td>\n",
       "      <td>...</td>\n",
       "      <td>...</td>\n",
       "      <td>...</td>\n",
       "      <td>...</td>\n",
       "      <td>...</td>\n",
       "    </tr>\n",
       "    <tr>\n",
       "      <th>354007</th>\n",
       "      <td>2016-04-04 21:40:20</td>\n",
       "      <td>10980</td>\n",
       "      <td>NaN</td>\n",
       "      <td>2018</td>\n",
       "      <td>manual</td>\n",
       "      <td>75</td>\n",
       "      <td>NaN</td>\n",
       "      <td>20000</td>\n",
       "      <td>1</td>\n",
       "      <td>NaN</td>\n",
       "      <td>volkswagen</td>\n",
       "      <td>no</td>\n",
       "      <td>2016-04-04 00:00:00</td>\n",
       "      <td>0</td>\n",
       "      <td>44801</td>\n",
       "      <td>2016-04-07 00:15:36</td>\n",
       "    </tr>\n",
       "    <tr>\n",
       "      <th>354099</th>\n",
       "      <td>2016-03-17 15:45:46</td>\n",
       "      <td>4900</td>\n",
       "      <td>NaN</td>\n",
       "      <td>2017</td>\n",
       "      <td>manual</td>\n",
       "      <td>69</td>\n",
       "      <td>polo</td>\n",
       "      <td>150000</td>\n",
       "      <td>12</td>\n",
       "      <td>gasoline</td>\n",
       "      <td>volkswagen</td>\n",
       "      <td>NaN</td>\n",
       "      <td>2016-03-17 00:00:00</td>\n",
       "      <td>0</td>\n",
       "      <td>32791</td>\n",
       "      <td>2016-03-25 17:51:29</td>\n",
       "    </tr>\n",
       "    <tr>\n",
       "      <th>354112</th>\n",
       "      <td>2016-03-11 15:49:51</td>\n",
       "      <td>3600</td>\n",
       "      <td>NaN</td>\n",
       "      <td>2017</td>\n",
       "      <td>manual</td>\n",
       "      <td>86</td>\n",
       "      <td>transit</td>\n",
       "      <td>150000</td>\n",
       "      <td>5</td>\n",
       "      <td>gasoline</td>\n",
       "      <td>ford</td>\n",
       "      <td>NaN</td>\n",
       "      <td>2016-03-11 00:00:00</td>\n",
       "      <td>0</td>\n",
       "      <td>32339</td>\n",
       "      <td>2016-03-12 05:45:02</td>\n",
       "    </tr>\n",
       "    <tr>\n",
       "      <th>354203</th>\n",
       "      <td>2016-03-17 00:56:26</td>\n",
       "      <td>2140</td>\n",
       "      <td>NaN</td>\n",
       "      <td>2018</td>\n",
       "      <td>manual</td>\n",
       "      <td>80</td>\n",
       "      <td>fiesta</td>\n",
       "      <td>150000</td>\n",
       "      <td>6</td>\n",
       "      <td>NaN</td>\n",
       "      <td>ford</td>\n",
       "      <td>no</td>\n",
       "      <td>2016-03-17 00:00:00</td>\n",
       "      <td>0</td>\n",
       "      <td>44866</td>\n",
       "      <td>2016-03-29 15:45:04</td>\n",
       "    </tr>\n",
       "    <tr>\n",
       "      <th>354289</th>\n",
       "      <td>2016-03-05 14:55:29</td>\n",
       "      <td>5000</td>\n",
       "      <td>NaN</td>\n",
       "      <td>2017</td>\n",
       "      <td>manual</td>\n",
       "      <td>120</td>\n",
       "      <td>other</td>\n",
       "      <td>150000</td>\n",
       "      <td>7</td>\n",
       "      <td>NaN</td>\n",
       "      <td>citroen</td>\n",
       "      <td>yes</td>\n",
       "      <td>2016-03-05 00:00:00</td>\n",
       "      <td>0</td>\n",
       "      <td>15518</td>\n",
       "      <td>2016-04-05 11:48:09</td>\n",
       "    </tr>\n",
       "  </tbody>\n",
       "</table>\n",
       "<p>6525 rows × 16 columns</p>\n",
       "</div>"
      ],
      "text/plain": [
       "                DateCrawled  Price VehicleType  RegistrationYear Gearbox  \\\n",
       "22      2016-03-23 14:52:51   2900         NaN              2018  manual   \n",
       "26      2016-03-10 19:38:18   5555         NaN              2017  manual   \n",
       "48      2016-03-25 14:40:12   7750         NaN              2017  manual   \n",
       "51      2016-03-07 18:57:08   2000         NaN              2017  manual   \n",
       "57      2016-03-10 20:53:19   2399         NaN              2018  manual   \n",
       "...                     ...    ...         ...               ...     ...   \n",
       "354007  2016-04-04 21:40:20  10980         NaN              2018  manual   \n",
       "354099  2016-03-17 15:45:46   4900         NaN              2017  manual   \n",
       "354112  2016-03-11 15:49:51   3600         NaN              2017  manual   \n",
       "354203  2016-03-17 00:56:26   2140         NaN              2018  manual   \n",
       "354289  2016-03-05 14:55:29   5000         NaN              2017  manual   \n",
       "\n",
       "        Power    Model  Kilometer  RegistrationMonth  FuelType       Brand  \\\n",
       "22         90   meriva     150000                  5    petrol        opel   \n",
       "26        125       c4     125000                  4       NaN     citroen   \n",
       "48         80     golf     100000                  1    petrol  volkswagen   \n",
       "51         90    punto     150000                 11  gasoline        fiat   \n",
       "57         64    other     125000                  3       NaN        seat   \n",
       "...       ...      ...        ...                ...       ...         ...   \n",
       "354007     75      NaN      20000                  1       NaN  volkswagen   \n",
       "354099     69     polo     150000                 12  gasoline  volkswagen   \n",
       "354112     86  transit     150000                  5  gasoline        ford   \n",
       "354203     80   fiesta     150000                  6       NaN        ford   \n",
       "354289    120    other     150000                  7       NaN     citroen   \n",
       "\n",
       "       NotRepaired          DateCreated  NumberOfPictures  PostalCode  \\\n",
       "22              no  2016-03-23 00:00:00                 0       49716   \n",
       "26              no  2016-03-10 00:00:00                 0       31139   \n",
       "48             NaN  2016-03-25 00:00:00                 0       48499   \n",
       "51             yes  2016-03-07 00:00:00                 0       66115   \n",
       "57              no  2016-03-10 00:00:00                 0       33397   \n",
       "...            ...                  ...               ...         ...   \n",
       "354007          no  2016-04-04 00:00:00                 0       44801   \n",
       "354099         NaN  2016-03-17 00:00:00                 0       32791   \n",
       "354112         NaN  2016-03-11 00:00:00                 0       32339   \n",
       "354203          no  2016-03-17 00:00:00                 0       44866   \n",
       "354289         yes  2016-03-05 00:00:00                 0       15518   \n",
       "\n",
       "                   LastSeen  \n",
       "22      2016-03-31 01:16:33  \n",
       "26      2016-03-16 09:16:46  \n",
       "48      2016-03-31 21:47:44  \n",
       "51      2016-03-07 18:57:08  \n",
       "57      2016-03-25 10:17:37  \n",
       "...                     ...  \n",
       "354007  2016-04-07 00:15:36  \n",
       "354099  2016-03-25 17:51:29  \n",
       "354112  2016-03-12 05:45:02  \n",
       "354203  2016-03-29 15:45:04  \n",
       "354289  2016-04-05 11:48:09  \n",
       "\n",
       "[6525 rows x 16 columns]"
      ]
     },
     "execution_count": 7,
     "metadata": {},
     "output_type": "execute_result"
    }
   ],
   "source": [
    "data.query('RegistrationYear > 2016')"
   ]
  },
  {
   "cell_type": "markdown",
   "id": "630ec80e",
   "metadata": {},
   "source": [
    "**Выделим и заранее удалим признаки, никак не влияющие на прогноз цены**\\\n",
    "**Также можем заметить, что половина признаков имеет null-значения, которые следует обработать**"
   ]
  },
  {
   "cell_type": "code",
   "execution_count": 8,
   "id": "589a26c8",
   "metadata": {
    "scrolled": false
   },
   "outputs": [
    {
     "name": "stdout",
     "output_type": "stream",
     "text": [
      "<class 'pandas.core.frame.DataFrame'>\n",
      "Int64Index: 226308 entries, 1 to 354368\n",
      "Data columns (total 11 columns):\n",
      " #   Column             Non-Null Count   Dtype \n",
      "---  ------             --------------   ----- \n",
      " 0   Price              226308 non-null  int64 \n",
      " 1   VehicleType        226308 non-null  object\n",
      " 2   RegistrationYear   226308 non-null  int64 \n",
      " 3   Gearbox            226308 non-null  object\n",
      " 4   Power              226308 non-null  int64 \n",
      " 5   Model              226308 non-null  object\n",
      " 6   Kilometer          226308 non-null  int64 \n",
      " 7   RegistrationMonth  226308 non-null  int64 \n",
      " 8   FuelType           226308 non-null  object\n",
      " 9   Brand              226308 non-null  object\n",
      " 10  NotRepaired        226308 non-null  object\n",
      "dtypes: int64(5), object(6)\n",
      "memory usage: 20.7+ MB\n"
     ]
    }
   ],
   "source": [
    "data = data.drop(['DateCrawled', 'DateCreated','NumberOfPictures','PostalCode','LastSeen'], axis=1)\n",
    "data = data.fillna('None')        \n",
    "\n",
    "data.info()"
   ]
  },
  {
   "cell_type": "markdown",
   "id": "0ef2971c",
   "metadata": {},
   "source": [
    "**Проведем поиск и удаление дубликатов**"
   ]
  },
  {
   "cell_type": "code",
   "execution_count": 9,
   "id": "b99c8a51",
   "metadata": {
    "scrolled": true
   },
   "outputs": [
    {
     "data": {
      "text/html": [
       "<div>\n",
       "<style scoped>\n",
       "    .dataframe tbody tr th:only-of-type {\n",
       "        vertical-align: middle;\n",
       "    }\n",
       "\n",
       "    .dataframe tbody tr th {\n",
       "        vertical-align: top;\n",
       "    }\n",
       "\n",
       "    .dataframe thead th {\n",
       "        text-align: right;\n",
       "    }\n",
       "</style>\n",
       "<table border=\"1\" class=\"dataframe\">\n",
       "  <thead>\n",
       "    <tr style=\"text-align: right;\">\n",
       "      <th></th>\n",
       "      <th>Price</th>\n",
       "      <th>VehicleType</th>\n",
       "      <th>RegistrationYear</th>\n",
       "      <th>Gearbox</th>\n",
       "      <th>Power</th>\n",
       "      <th>Model</th>\n",
       "      <th>Kilometer</th>\n",
       "      <th>RegistrationMonth</th>\n",
       "      <th>FuelType</th>\n",
       "      <th>Brand</th>\n",
       "      <th>NotRepaired</th>\n",
       "    </tr>\n",
       "  </thead>\n",
       "  <tbody>\n",
       "    <tr>\n",
       "      <th>14</th>\n",
       "      <td>17999</td>\n",
       "      <td>suv</td>\n",
       "      <td>2011</td>\n",
       "      <td>manual</td>\n",
       "      <td>190</td>\n",
       "      <td>navara</td>\n",
       "      <td>70000</td>\n",
       "      <td>3</td>\n",
       "      <td>gasoline</td>\n",
       "      <td>nissan</td>\n",
       "      <td>no</td>\n",
       "    </tr>\n",
       "    <tr>\n",
       "      <th>20</th>\n",
       "      <td>10400</td>\n",
       "      <td>coupe</td>\n",
       "      <td>2009</td>\n",
       "      <td>manual</td>\n",
       "      <td>160</td>\n",
       "      <td>scirocco</td>\n",
       "      <td>100000</td>\n",
       "      <td>4</td>\n",
       "      <td>petrol</td>\n",
       "      <td>volkswagen</td>\n",
       "      <td>no</td>\n",
       "    </tr>\n",
       "    <tr>\n",
       "      <th>27</th>\n",
       "      <td>6900</td>\n",
       "      <td>sedan</td>\n",
       "      <td>2008</td>\n",
       "      <td>manual</td>\n",
       "      <td>99</td>\n",
       "      <td>civic</td>\n",
       "      <td>60000</td>\n",
       "      <td>11</td>\n",
       "      <td>petrol</td>\n",
       "      <td>honda</td>\n",
       "      <td>no</td>\n",
       "    </tr>\n",
       "    <tr>\n",
       "      <th>47</th>\n",
       "      <td>2100</td>\n",
       "      <td>wagon</td>\n",
       "      <td>1998</td>\n",
       "      <td>auto</td>\n",
       "      <td>193</td>\n",
       "      <td>5er</td>\n",
       "      <td>150000</td>\n",
       "      <td>2</td>\n",
       "      <td>petrol</td>\n",
       "      <td>bmw</td>\n",
       "      <td>no</td>\n",
       "    </tr>\n",
       "    <tr>\n",
       "      <th>64</th>\n",
       "      <td>14999</td>\n",
       "      <td>convertible</td>\n",
       "      <td>2007</td>\n",
       "      <td>manual</td>\n",
       "      <td>218</td>\n",
       "      <td>3er</td>\n",
       "      <td>50000</td>\n",
       "      <td>8</td>\n",
       "      <td>petrol</td>\n",
       "      <td>bmw</td>\n",
       "      <td>no</td>\n",
       "    </tr>\n",
       "    <tr>\n",
       "      <th>...</th>\n",
       "      <td>...</td>\n",
       "      <td>...</td>\n",
       "      <td>...</td>\n",
       "      <td>...</td>\n",
       "      <td>...</td>\n",
       "      <td>...</td>\n",
       "      <td>...</td>\n",
       "      <td>...</td>\n",
       "      <td>...</td>\n",
       "      <td>...</td>\n",
       "      <td>...</td>\n",
       "    </tr>\n",
       "    <tr>\n",
       "      <th>354320</th>\n",
       "      <td>1500</td>\n",
       "      <td>sedan</td>\n",
       "      <td>1999</td>\n",
       "      <td>manual</td>\n",
       "      <td>75</td>\n",
       "      <td>golf</td>\n",
       "      <td>150000</td>\n",
       "      <td>4</td>\n",
       "      <td>petrol</td>\n",
       "      <td>volkswagen</td>\n",
       "      <td>None</td>\n",
       "    </tr>\n",
       "    <tr>\n",
       "      <th>354325</th>\n",
       "      <td>12800</td>\n",
       "      <td>convertible</td>\n",
       "      <td>1991</td>\n",
       "      <td>manual</td>\n",
       "      <td>211</td>\n",
       "      <td>other</td>\n",
       "      <td>150000</td>\n",
       "      <td>7</td>\n",
       "      <td>petrol</td>\n",
       "      <td>porsche</td>\n",
       "      <td>no</td>\n",
       "    </tr>\n",
       "    <tr>\n",
       "      <th>354333</th>\n",
       "      <td>13850</td>\n",
       "      <td>wagon</td>\n",
       "      <td>2012</td>\n",
       "      <td>manual</td>\n",
       "      <td>156</td>\n",
       "      <td>accord</td>\n",
       "      <td>125000</td>\n",
       "      <td>10</td>\n",
       "      <td>petrol</td>\n",
       "      <td>honda</td>\n",
       "      <td>no</td>\n",
       "    </tr>\n",
       "    <tr>\n",
       "      <th>354352</th>\n",
       "      <td>6500</td>\n",
       "      <td>sedan</td>\n",
       "      <td>2003</td>\n",
       "      <td>auto</td>\n",
       "      <td>145</td>\n",
       "      <td>e_klasse</td>\n",
       "      <td>150000</td>\n",
       "      <td>3</td>\n",
       "      <td>gasoline</td>\n",
       "      <td>mercedes_benz</td>\n",
       "      <td>no</td>\n",
       "    </tr>\n",
       "    <tr>\n",
       "      <th>354355</th>\n",
       "      <td>4400</td>\n",
       "      <td>sedan</td>\n",
       "      <td>2008</td>\n",
       "      <td>manual</td>\n",
       "      <td>105</td>\n",
       "      <td>leon</td>\n",
       "      <td>150000</td>\n",
       "      <td>7</td>\n",
       "      <td>gasoline</td>\n",
       "      <td>seat</td>\n",
       "      <td>no</td>\n",
       "    </tr>\n",
       "  </tbody>\n",
       "</table>\n",
       "<p>34076 rows × 11 columns</p>\n",
       "</div>"
      ],
      "text/plain": [
       "        Price  VehicleType  RegistrationYear Gearbox  Power     Model  \\\n",
       "14      17999          suv              2011  manual    190    navara   \n",
       "20      10400        coupe              2009  manual    160  scirocco   \n",
       "27       6900        sedan              2008  manual     99     civic   \n",
       "47       2100        wagon              1998    auto    193       5er   \n",
       "64      14999  convertible              2007  manual    218       3er   \n",
       "...       ...          ...               ...     ...    ...       ...   \n",
       "354320   1500        sedan              1999  manual     75      golf   \n",
       "354325  12800  convertible              1991  manual    211     other   \n",
       "354333  13850        wagon              2012  manual    156    accord   \n",
       "354352   6500        sedan              2003    auto    145  e_klasse   \n",
       "354355   4400        sedan              2008  manual    105      leon   \n",
       "\n",
       "        Kilometer  RegistrationMonth  FuelType          Brand NotRepaired  \n",
       "14          70000                  3  gasoline         nissan          no  \n",
       "20         100000                  4    petrol     volkswagen          no  \n",
       "27          60000                 11    petrol          honda          no  \n",
       "47         150000                  2    petrol            bmw          no  \n",
       "64          50000                  8    petrol            bmw          no  \n",
       "...           ...                ...       ...            ...         ...  \n",
       "354320     150000                  4    petrol     volkswagen        None  \n",
       "354325     150000                  7    petrol        porsche          no  \n",
       "354333     125000                 10    petrol          honda          no  \n",
       "354352     150000                  3  gasoline  mercedes_benz          no  \n",
       "354355     150000                  7  gasoline           seat          no  \n",
       "\n",
       "[34076 rows x 11 columns]"
      ]
     },
     "execution_count": 9,
     "metadata": {},
     "output_type": "execute_result"
    }
   ],
   "source": [
    "data[data.duplicated(keep=False)]"
   ]
  },
  {
   "cell_type": "code",
   "execution_count": 10,
   "id": "d9193dce",
   "metadata": {},
   "outputs": [],
   "source": [
    "data = data.drop_duplicates().reset_index(drop=True)"
   ]
  },
  {
   "cell_type": "markdown",
   "id": "7cf41029",
   "metadata": {},
   "source": [
    "**Мы видим, что у нас есть ряд категориальных признаков, которые нужно перевести в числа, и сделаем через OHE.**"
   ]
  },
  {
   "cell_type": "code",
   "execution_count": 11,
   "id": "e7939298",
   "metadata": {},
   "outputs": [],
   "source": [
    "data_ohe = pd.get_dummies(data, drop_first=True)"
   ]
  },
  {
   "cell_type": "markdown",
   "id": "ba80e2ad",
   "metadata": {},
   "source": [
    "**Разделим данные на выборки через train_test_split**"
   ]
  },
  {
   "cell_type": "code",
   "execution_count": 12,
   "id": "233186f8",
   "metadata": {},
   "outputs": [],
   "source": [
    "target = data_ohe['Price']\n",
    "features = data_ohe.drop('Price', axis=1)\n",
    "features_train, features_valid_test, target_train, target_valid_test = train_test_split(features, target, test_size=0.5, random_state=12345)\n",
    "features_valid, features_test, target_valid,target_test = train_test_split(features_valid_test, target_valid_test, test_size = 0.5, random_state=12345)\n"
   ]
  },
  {
   "cell_type": "markdown",
   "id": "e9be17e2",
   "metadata": {},
   "source": [
    "**Количественные признаки довольно разные по масштабам. Следует их привести к одному масштабу**"
   ]
  },
  {
   "cell_type": "code",
   "execution_count": 13,
   "id": "a289eb79",
   "metadata": {
    "scrolled": true
   },
   "outputs": [],
   "source": [
    "numeric = ['Power', 'Kilometer', 'RegistrationYear', 'RegistrationMonth']\n",
    "\n",
    "scaler = StandardScaler()\n",
    "scaler.fit(features_train.loc[:,numeric])\n",
    "features_train.loc[:,numeric] = scaler.transform(features_train.loc[:,numeric])\n",
    "features_valid.loc[:,numeric] = scaler.transform(features_valid.loc[:,numeric])\n",
    "features_test.loc[:,numeric] = scaler.transform(features_test.loc[:,numeric])"
   ]
  },
  {
   "cell_type": "markdown",
   "id": "6010175f",
   "metadata": {},
   "source": [
    "## 2. Обучите разные модели. Для каждой попробуйте различные гиперпараметры.\n",
    "1. Попробовать различные модели\n",
    "2. Самостоятельно освойте библиотеку LightGBM и её средствами постройте модели градиентного бустинга.\n",
    "3. Поскольку модель градиентного бустинга может обучаться долго, измените у неё только два-три параметра."
   ]
  },
  {
   "cell_type": "code",
   "execution_count": 14,
   "id": "33def07b",
   "metadata": {},
   "outputs": [],
   "source": [
    "def model_eval(model, features_train, target_train, features_test, target_test):\n",
    "    #скорость обучения\n",
    "    start = time.time()    \n",
    "    model.fit(features_train, target_train)\n",
    "    training_time = time.time() - start\n",
    "    #скорость предсказывания\n",
    "    start = time.time()  \n",
    "    target_pred = model.predict(features_test)\n",
    "    predict_time = time.time() - start\n",
    "\n",
    "    return print('Скорость обучения:', training_time, 'Скорость предсазания:',predict_time)"
   ]
  },
  {
   "cell_type": "markdown",
   "id": "dda4db9a",
   "metadata": {},
   "source": [
    "**DecisionTree**"
   ]
  },
  {
   "cell_type": "code",
   "execution_count": 15,
   "id": "028f5ad9",
   "metadata": {},
   "outputs": [
    {
     "name": "stdout",
     "output_type": "stream",
     "text": [
      "-------------------------------------------------\n",
      "Лучший RMSE: 2361.6683113677914\n",
      "Глубина деревьев:  6\n",
      "Скорость обучения: 1.7581532001495361 Скорость предсазания: 0.09376931190490723\n",
      "None\n",
      "Wall time: 8.88 s\n"
     ]
    },
    {
     "data": {
      "text/html": [
       "<div>\n",
       "<style scoped>\n",
       "    .dataframe tbody tr th:only-of-type {\n",
       "        vertical-align: middle;\n",
       "    }\n",
       "\n",
       "    .dataframe tbody tr th {\n",
       "        vertical-align: top;\n",
       "    }\n",
       "\n",
       "    .dataframe thead th {\n",
       "        text-align: right;\n",
       "    }\n",
       "</style>\n",
       "<table border=\"1\" class=\"dataframe\">\n",
       "  <thead>\n",
       "    <tr style=\"text-align: right;\">\n",
       "      <th></th>\n",
       "      <th>RMSE</th>\n",
       "      <th>depth</th>\n",
       "    </tr>\n",
       "  </thead>\n",
       "  <tbody>\n",
       "    <tr>\n",
       "      <th>5</th>\n",
       "      <td>2361.668311</td>\n",
       "      <td>6</td>\n",
       "    </tr>\n",
       "    <tr>\n",
       "      <th>4</th>\n",
       "      <td>2544.525915</td>\n",
       "      <td>5</td>\n",
       "    </tr>\n",
       "    <tr>\n",
       "      <th>3</th>\n",
       "      <td>2760.485069</td>\n",
       "      <td>4</td>\n",
       "    </tr>\n",
       "    <tr>\n",
       "      <th>2</th>\n",
       "      <td>3068.850688</td>\n",
       "      <td>3</td>\n",
       "    </tr>\n",
       "    <tr>\n",
       "      <th>1</th>\n",
       "      <td>3349.005501</td>\n",
       "      <td>2</td>\n",
       "    </tr>\n",
       "    <tr>\n",
       "      <th>0</th>\n",
       "      <td>3824.599805</td>\n",
       "      <td>1</td>\n",
       "    </tr>\n",
       "  </tbody>\n",
       "</table>\n",
       "</div>"
      ],
      "text/plain": [
       "          RMSE  depth\n",
       "5  2361.668311      6\n",
       "4  2544.525915      5\n",
       "3  2760.485069      4\n",
       "2  3068.850688      3\n",
       "1  3349.005501      2\n",
       "0  3824.599805      1"
      ]
     },
     "execution_count": 15,
     "metadata": {},
     "output_type": "execute_result"
    }
   ],
   "source": [
    "%%time\n",
    "\n",
    "dt_table = defaultdict(list)\n",
    "\n",
    "dt_best_model = None\n",
    "dt_best_rmse = 100000\n",
    "dt_max_depth = 0\n",
    "\n",
    "for depth in range(1,7):\n",
    "    dt_model = DecisionTreeRegressor(max_depth=depth, random_state=12345)\n",
    "    dt_model.fit(features_train, target_train)\n",
    "    dt_predictions = dt_model.predict(features_valid)\n",
    "    dt_rmse = mean_squared_error(target_valid, dt_predictions, squared=False)\n",
    "    if dt_rmse < dt_best_rmse:\n",
    "        dt_best_model = dt_model\n",
    "        dt_best_rmse = dt_rmse\n",
    "        dt_max_depth = depth\n",
    "    dt_table['RMSE'].append(dt_best_rmse)\n",
    "    dt_table['depth'].append(depth)\n",
    "print('-------------------------------------------------')\n",
    "print(\"Лучший RMSE:\", dt_best_rmse)\n",
    "print('Глубина деревьев: ', dt_max_depth)\n",
    "print(model_eval(dt_model, features_train, target_train, features_valid, target_valid))\n",
    "\n",
    "pd.DataFrame(dt_table).sort_values(by='RMSE')"
   ]
  },
  {
   "cell_type": "markdown",
   "id": "6b695303",
   "metadata": {},
   "source": [
    "**RandomForest**"
   ]
  },
  {
   "cell_type": "code",
   "execution_count": 16,
   "id": "9736a57c",
   "metadata": {
    "scrolled": false
   },
   "outputs": [
    {
     "name": "stdout",
     "output_type": "stream",
     "text": [
      "-------------------------------------------------\n",
      "Лучший RMSE: 2163.902689408754\n",
      "Глубина деревьев:  7\n",
      "Скорость обучения: 1.8066942691802979 Скорость предсазания: 0.12615513801574707\n",
      "None\n",
      "Wall time: 1min 37s\n"
     ]
    },
    {
     "data": {
      "text/html": [
       "<div>\n",
       "<style scoped>\n",
       "    .dataframe tbody tr th:only-of-type {\n",
       "        vertical-align: middle;\n",
       "    }\n",
       "\n",
       "    .dataframe tbody tr th {\n",
       "        vertical-align: top;\n",
       "    }\n",
       "\n",
       "    .dataframe thead th {\n",
       "        text-align: right;\n",
       "    }\n",
       "</style>\n",
       "<table border=\"1\" class=\"dataframe\">\n",
       "  <thead>\n",
       "    <tr style=\"text-align: right;\">\n",
       "      <th></th>\n",
       "      <th>RMSE</th>\n",
       "      <th>depth</th>\n",
       "    </tr>\n",
       "  </thead>\n",
       "  <tbody>\n",
       "    <tr>\n",
       "      <th>5</th>\n",
       "      <td>2163.902689</td>\n",
       "      <td>7</td>\n",
       "    </tr>\n",
       "    <tr>\n",
       "      <th>4</th>\n",
       "      <td>2299.072036</td>\n",
       "      <td>6</td>\n",
       "    </tr>\n",
       "    <tr>\n",
       "      <th>3</th>\n",
       "      <td>2493.304837</td>\n",
       "      <td>5</td>\n",
       "    </tr>\n",
       "    <tr>\n",
       "      <th>2</th>\n",
       "      <td>2713.125970</td>\n",
       "      <td>4</td>\n",
       "    </tr>\n",
       "    <tr>\n",
       "      <th>1</th>\n",
       "      <td>3038.071461</td>\n",
       "      <td>3</td>\n",
       "    </tr>\n",
       "    <tr>\n",
       "      <th>0</th>\n",
       "      <td>3347.040893</td>\n",
       "      <td>2</td>\n",
       "    </tr>\n",
       "  </tbody>\n",
       "</table>\n",
       "</div>"
      ],
      "text/plain": [
       "          RMSE  depth\n",
       "5  2163.902689      7\n",
       "4  2299.072036      6\n",
       "3  2493.304837      5\n",
       "2  2713.125970      4\n",
       "1  3038.071461      3\n",
       "0  3347.040893      2"
      ]
     },
     "execution_count": 16,
     "metadata": {},
     "output_type": "execute_result"
    }
   ],
   "source": [
    "%%time\n",
    "from collections import defaultdict\n",
    "\n",
    "rf_table = defaultdict(list)\n",
    "\n",
    "rf_best_model = None\n",
    "rf_best_rmse = 100000\n",
    "rf_max_depth = 0\n",
    "\n",
    "for depth in range(2,8):\n",
    "    rf_model = RandomForestRegressor(random_state=12345, n_estimators=20, max_depth=depth)\n",
    "    rf_model.fit(features_train, target_train)\n",
    "    rf_predictions = rf_model.predict(features_valid)\n",
    "    rf_rmse = mean_squared_error(target_valid, rf_predictions, squared=False)\n",
    "    if rf_rmse < rf_best_rmse:\n",
    "        rf_best_model = rf_model\n",
    "        rf_best_rmse = rf_rmse\n",
    "        rf_max_depth = depth\n",
    "    rf_table['RMSE'].append(rf_rmse)\n",
    "    rf_table['depth'].append(depth)\n",
    "print('-------------------------------------------------')\n",
    "print(\"Лучший RMSE:\", rf_best_rmse)\n",
    "print('Глубина деревьев: ', rf_max_depth)\n",
    "print(model_eval(dt_model, features_train, target_train, features_valid, target_valid))\n",
    "\n",
    "pd.DataFrame(rf_table).sort_values(by='RMSE')"
   ]
  },
  {
   "cell_type": "markdown",
   "id": "b8afb79b",
   "metadata": {},
   "source": [
    "**CatBoost**"
   ]
  },
  {
   "cell_type": "code",
   "execution_count": 17,
   "id": "482c6cac",
   "metadata": {},
   "outputs": [
    {
     "name": "stdout",
     "output_type": "stream",
     "text": [
      "0:\tlearn: 3559.4559735\ttotal: 170ms\tremaining: 8.32s\n",
      "10:\tlearn: 1974.1026796\ttotal: 349ms\tremaining: 1.24s\n",
      "20:\tlearn: 1851.2735989\ttotal: 512ms\tremaining: 707ms\n",
      "30:\tlearn: 1794.5189293\ttotal: 663ms\tremaining: 406ms\n",
      "40:\tlearn: 1758.2533859\ttotal: 817ms\tremaining: 179ms\n",
      "49:\tlearn: 1730.8414123\ttotal: 958ms\tremaining: 0us\n",
      "RMSE: 1742.2809230363716\n",
      "Скорость обучения: 1.7369256019592285 Скорость предсазания: 0.10936617851257324\n",
      "None\n",
      "Wall time: 3.49 s\n"
     ]
    }
   ],
   "source": [
    "%%time \n",
    "\n",
    "cat_model = CatBoostRegressor(learning_rate = 0.4, loss_function=\"RMSE\", iterations=50, random_state=12345)\n",
    "cat_model.fit(features_train, target_train, verbose=10)\n",
    "\n",
    "\n",
    "cat_predictions = cat_model.predict(features_valid)\n",
    "cat_rmse = mean_squared_error(target_valid, cat_predictions,squared=False)\n",
    "\n",
    "print(\"RMSE:\", cat_rmse)\n",
    "print(model_eval(dt_model, features_train, target_train, features_valid, target_valid))"
   ]
  },
  {
   "cell_type": "code",
   "execution_count": 18,
   "id": "04d95c80",
   "metadata": {},
   "outputs": [
    {
     "data": {
      "text/plain": [
       "Text(0.5, 1.0, 'cat_importances')"
      ]
     },
     "execution_count": 18,
     "metadata": {},
     "output_type": "execute_result"
    },
    {
     "data": {
      "image/png": "[encoded data removed]",
      "text/plain": [
       "<Figure size 432x288 with 1 Axes>"
      ]
     },
     "metadata": {
      "needs_background": "light"
     },
     "output_type": "display_data"
    }
   ],
   "source": [
    "cat_importances = pd.Series(cat_model.get_feature_importance(), index=features_train.columns).sort_values(ascending=False).head(10).plot(kind='bar')\n",
    "plt.title('cat_importances')"
   ]
  },
  {
   "cell_type": "markdown",
   "id": "045ca4a2",
   "metadata": {},
   "source": [
    "**LightGBM**"
   ]
  },
  {
   "cell_type": "code",
   "execution_count": 19,
   "id": "010f586f",
   "metadata": {
    "scrolled": true
   },
   "outputs": [
    {
     "name": "stdout",
     "output_type": "stream",
     "text": [
      "RMSE: 1659.4338155615428\n",
      "Скорость обучения: 1.7768425941467285 Скорость предсазания: 0.09376382827758789\n",
      "None\n",
      "Wall time: 3.31 s\n"
     ]
    }
   ],
   "source": [
    "%%time\n",
    "\n",
    "lgbm_model = LGBMRegressor(learning_rate = 0.4, n_estimators = 10, num_iterations = 70, random_state=12345 )\n",
    "lgbm_model.fit(features_train, target_train)\n",
    "lgbm_predictions = lgbm_model.predict(features_valid)\n",
    "lgbm_rmse = mean_squared_error(target_valid, lgbm_predictions,squared=False)\n",
    "\n",
    "print(\"RMSE:\", lgbm_rmse)\n",
    "print(model_eval(dt_model, features_train, target_train, features_valid, target_valid))"
   ]
  },
  {
   "cell_type": "code",
   "execution_count": 20,
   "id": "03fd8162",
   "metadata": {
    "scrolled": false
   },
   "outputs": [
    {
     "data": {
      "text/plain": [
       "Text(0.5, 1.0, 'lgbm_importances')"
      ]
     },
     "execution_count": 20,
     "metadata": {},
     "output_type": "execute_result"
    },
    {
     "data": {
      "image/png": "[encoded data removed]",
      "text/plain": [
       "<Figure size 432x288 with 1 Axes>"
      ]
     },
     "metadata": {
      "needs_background": "light"
     },
     "output_type": "display_data"
    }
   ],
   "source": [
    "lgbm_importances = pd.Series(lgbm_model.feature_importances_,index=features_train.columns).sort_values(ascending=False).head(10).plot(kind='bar')\n",
    "plt.title('lgbm_importances')\n",
    "# plt.tight_layout()\n",
    "# plt.savefig('lgbm_importances-01.png')\n",
    "# plt.show()"
   ]
  },
  {
   "cell_type": "markdown",
   "id": "5cfe1ddf",
   "metadata": {},
   "source": [
    "**Вывод:** Заметим, что наиболее важными признаками моделями CatBoost и LightGBM были выделены: мощность, время регистрации авто и пробег, - что вполне соответсвует действительности при определении цены авто на вторичном рынке  "
   ]
  },
  {
   "cell_type": "markdown",
   "id": "c315feb1",
   "metadata": {},
   "source": [
    "## 3. Проанализируйте скорость работы и качество моделей."
   ]
  },
  {
   "cell_type": "markdown",
   "id": "dbde0902",
   "metadata": {},
   "source": [
    "Наилучшая модель в данном исследовании была получена через LightGBM.\\\n",
    "Несмотря на то, что CatBoost проявил несколько бОльшую скорость, LightGBM показал наилучшее качество предсказаний.\\\n",
    "Поэтому именно ее проверим на тестовой выборке"
   ]
  },
  {
   "cell_type": "code",
   "execution_count": 21,
   "id": "618f55f8",
   "metadata": {},
   "outputs": [
    {
     "name": "stdout",
     "output_type": "stream",
     "text": [
      "RMSE: 1675.2096647225246\n",
      "Скорость обучения: 1.791381597518921 Скорость предсазания: 0.10934805870056152\n",
      "None\n",
      "Wall time: 3.91 s\n"
     ]
    }
   ],
   "source": [
    "%%time\n",
    "\n",
    "features_train_valid = pd.concat([features_train, features_valid], axis=0, ignore_index=False)\n",
    "target_train_valid = pd.concat([target_train, target_valid], axis=0, ignore_index=False)\n",
    "\n",
    "lgbm_model.fit(features_train_valid, target_train_valid)\n",
    "lgbm_predictions_test = lgbm_model.predict(features_test)\n",
    "lgbm_rmse_test = mean_squared_error(target_test, lgbm_predictions_test,squared=False)\n",
    "\n",
    "print(\"RMSE:\", lgbm_rmse_test)\n",
    "print(model_eval(dt_model, features_train, target_train, features_test, target_test))"
   ]
  },
  {
   "cell_type": "code",
   "execution_count": null,
   "id": "6e29fb19",
   "metadata": {},
   "outputs": [],
   "source": []
  }
 ],
 "metadata": {
  "ExecuteTimeLog": [
   {
    "duration": 2478,
    "start_time": "2022-06-15T03:45:20.675Z"
   },
   {
    "duration": 4,
    "start_time": "2022-06-15T03:45:35.464Z"
   },
   {
    "duration": 5981,
    "start_time": "2022-06-15T03:45:40.102Z"
   },
   {
    "duration": 116,
    "start_time": "2022-06-15T03:47:11.536Z"
   },
   {
    "duration": 133,
    "start_time": "2022-06-15T03:47:59.113Z"
   },
   {
    "duration": 427,
    "start_time": "2022-06-15T03:49:04.784Z"
   },
   {
    "duration": 428,
    "start_time": "2022-06-15T03:49:45.653Z"
   },
   {
    "duration": 24,
    "start_time": "2022-06-15T03:50:13.196Z"
   },
   {
    "duration": 85,
    "start_time": "2022-06-15T03:50:32.109Z"
   },
   {
    "duration": 2058,
    "start_time": "2022-06-16T05:59:20.423Z"
   },
   {
    "duration": 2320,
    "start_time": "2022-06-16T05:59:22.483Z"
   },
   {
    "duration": 2,
    "start_time": "2022-06-16T05:59:24.805Z"
   },
   {
    "duration": 6060,
    "start_time": "2022-06-16T05:59:24.809Z"
   },
   {
    "duration": 123,
    "start_time": "2022-06-16T05:59:30.871Z"
   },
   {
    "duration": 330,
    "start_time": "2022-06-16T05:59:30.996Z"
   },
   {
    "duration": 377,
    "start_time": "2022-06-16T05:59:31.328Z"
   },
   {
    "duration": 162,
    "start_time": "2022-06-16T05:59:31.706Z"
   },
   {
    "duration": 144,
    "start_time": "2022-06-16T05:59:55.122Z"
   },
   {
    "duration": 2288,
    "start_time": "2022-06-16T06:02:39.782Z"
   },
   {
    "duration": 1143,
    "start_time": "2022-06-16T06:02:42.072Z"
   },
   {
    "duration": 3,
    "start_time": "2022-06-16T06:02:43.217Z"
   },
   {
    "duration": 7020,
    "start_time": "2022-06-16T06:02:43.223Z"
   },
   {
    "duration": 148,
    "start_time": "2022-06-16T06:02:50.245Z"
   },
   {
    "duration": 1607,
    "start_time": "2022-06-16T06:02:50.395Z"
   },
   {
    "duration": 461,
    "start_time": "2022-06-16T06:02:52.004Z"
   },
   {
    "duration": 181,
    "start_time": "2022-06-16T06:02:52.467Z"
   },
   {
    "duration": 454,
    "start_time": "2022-06-16T06:02:52.650Z"
   },
   {
    "duration": 461,
    "start_time": "2022-06-16T06:02:53.106Z"
   },
   {
    "duration": 130,
    "start_time": "2022-06-16T06:02:53.569Z"
   },
   {
    "duration": 27,
    "start_time": "2022-06-16T06:05:53.259Z"
   },
   {
    "duration": 26,
    "start_time": "2022-06-16T06:06:23.774Z"
   },
   {
    "duration": 2324,
    "start_time": "2022-06-17T04:28:50.313Z"
   },
   {
    "duration": 2866,
    "start_time": "2022-06-17T04:28:52.640Z"
   },
   {
    "duration": 2,
    "start_time": "2022-06-17T04:28:55.508Z"
   },
   {
    "duration": 6211,
    "start_time": "2022-06-17T04:28:55.512Z"
   },
   {
    "duration": 123,
    "start_time": "2022-06-17T04:29:01.725Z"
   },
   {
    "duration": 28,
    "start_time": "2022-06-17T04:29:01.851Z"
   },
   {
    "duration": 30,
    "start_time": "2022-06-17T04:29:01.881Z"
   },
   {
    "duration": 6,
    "start_time": "2022-06-17T04:29:17.548Z"
   }
  ],
  "kernelspec": {
   "display_name": "Python 3",
   "language": "python",
   "name": "python3"
  },
  "language_info": {
   "codemirror_mode": {
    "name": "ipython",
    "version": 3
   },
   "file_extension": ".py",
   "mimetype": "text/x-python",
   "name": "python",
   "nbconvert_exporter": "python",
   "pygments_lexer": "ipython3",
   "version": "3.8.8"
  },
  "toc": {
   "base_numbering": 1,
   "nav_menu": {},
   "number_sections": true,
   "sideBar": true,
   "skip_h1_title": true,
   "title_cell": "Table of Contents",
   "title_sidebar": "Contents",
   "toc_cell": false,
   "toc_position": {},
   "toc_section_display": true,
   "toc_window_display": true
  }
 },
 "nbformat": 4,
 "nbformat_minor": 5
}
